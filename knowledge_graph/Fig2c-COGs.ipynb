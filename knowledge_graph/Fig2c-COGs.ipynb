{
 "cells": [
  {
   "cell_type": "markdown",
   "id": "dbaaa333",
   "metadata": {
    "toc": true
   },
   "source": [
    "<h1>Table of Contents<span class=\"tocSkip\"></span></h1>\n",
    "<div class=\"toc\"><ul class=\"toc-item\"></ul></div>"
   ]
  },
  {
   "cell_type": "code",
   "execution_count": 1,
   "id": "19e377d9",
   "metadata": {},
   "outputs": [
    {
     "name": "stderr",
     "output_type": "stream",
     "text": [
      "/home/ubuntu/anaconda3/lib/python3.9/site-packages/pandas/core/arrays/masked.py:60: UserWarning: Pandas requires version '1.3.6' or newer of 'bottleneck' (version '1.3.5' currently installed).\n",
      "  from pandas.core import (\n"
     ]
    }
   ],
   "source": [
    "import pandas as pd\n",
    "import numpy as np\n",
    "import os, re, sys, gzip\n",
    "import json\n",
    "\n",
    "import networkx as nx\n",
    "import ipycytoscape\n",
    "import ipywidgets as widgets\n",
    "\n",
    "import graph_wrapper"
   ]
  },
  {
   "cell_type": "code",
   "execution_count": 3,
   "id": "0796d28e",
   "metadata": {},
   "outputs": [],
   "source": [
    "# prepare graph object for ipycytoscape\n",
    "(graph_for_plotting, css_json) = graph_wrapper.prepare_obj_for_ipycytoscape(\n",
    "    'node-final.csv.gz',\n",
    "    'edge-final.csv.gz',\n",
    "    'selected_gene_sets_for_display.tsv',\n",
    "    'Fig2c-COGs_css.json',\n",
    "    'COGs'\n",
    ")"
   ]
  },
  {
   "cell_type": "code",
   "execution_count": 5,
   "id": "2eb9b216",
   "metadata": {},
   "outputs": [
    {
     "data": {
      "application/vnd.jupyter.widget-view+json": {
       "model_id": "8df59aa91bdc45e8ad8a1f9a8faca3b1",
       "version_major": 2,
       "version_minor": 0
      },
      "text/plain": [
       "CytoscapeWidget(cytoscape_layout={'name': 'cola'}, cytoscape_style=[{'selector': 'node', 'style': {'font-famil…"
      ]
     },
     "metadata": {},
     "output_type": "display_data"
    }
   ],
   "source": [
    "# plot the graph using ipycytoscape\n",
    "cyto = ipycytoscape.CytoscapeWidget()\n",
    "cyto.graph.add_graph_from_networkx(graph_for_plotting)\n",
    "cyto.set_style(css_json)\n",
    "\n",
    "display(cyto)"
   ]
  },
  {
   "cell_type": "code",
   "execution_count": null,
   "id": "1b481765",
   "metadata": {},
   "outputs": [],
   "source": []
  },
  {
   "cell_type": "code",
   "execution_count": null,
   "id": "3333a483",
   "metadata": {},
   "outputs": [],
   "source": []
  }
 ],
 "metadata": {
  "kernelspec": {
   "display_name": "Python 3 (ipykernel)",
   "language": "python",
   "name": "python3"
  },
  "language_info": {
   "codemirror_mode": {
    "name": "ipython",
    "version": 3
   },
   "file_extension": ".py",
   "mimetype": "text/x-python",
   "name": "python",
   "nbconvert_exporter": "python",
   "pygments_lexer": "ipython3",
   "version": "3.9.13"
  },
  "toc": {
   "base_numbering": 1,
   "nav_menu": {},
   "number_sections": true,
   "sideBar": true,
   "skip_h1_title": false,
   "title_cell": "Table of Contents",
   "title_sidebar": "Contents",
   "toc_cell": true,
   "toc_position": {
    "height": "calc(100% - 180px)",
    "left": "10px",
    "top": "150px",
    "width": "165px"
   },
   "toc_section_display": true,
   "toc_window_display": true
  },
  "widgets": {
   "application/vnd.jupyter.widget-state+json": {
    "state": {
     "0073c58ab3184ceda94902bb165cf488": {
      "model_module": "@jupyter-widgets/base",
      "model_module_version": "1.2.0",
      "model_name": "LayoutModel",
      "state": {}
     },
     "007afee89eed408d8b391533c7ee51aa": {
      "model_module": "jupyter-cytoscape",
      "model_module_version": "^1.3.3",
      "model_name": "EdgeModel",
      "state": {
       "_model_module_version": "^1.3.3",
       "_view_module_version": "^1.3.3",
       "classes": " multiple_edges ",
       "data": {
        "display_relation": "REACTOMEFI",
        "id": "1b54c6a0-c30b-49c0-953b-37c8adafc39a",
        "source": "RPN1",
        "source_name": "MAGT1",
        "target": "MAGT1",
        "target_name": "RPN1"
       },
       "selectable": false
      }
     },
     "00847501dcbb46d1a8969e3e25f5b2b9": {
      "model_module": "jupyter-cytoscape",
      "model_module_version": "^1.3.3",
      "model_name": "EdgeModel",
      "state": {
       "_model_module_version": "^1.3.3",
       "_view_module_version": "^1.3.3",
       "classes": " multiple_edges ",
       "data": {
        "display_relation": "REACTOMEFI",
        "id": "d7a48c3e-bd60-4cb2-a029-5182abb58c5f",
        "source": "RPN1",
        "source_name": "RPN1",
        "target": "STT3A",
        "target_name": "STT3A"
       },
       "selectable": false
      }
     },
     "013947bd8de04de7af99099536b8b5f1": {
      "model_module": "jupyter-cytoscape",
      "model_module_version": "^1.3.3",
      "model_name": "NodeModel",
      "state": {
       "_model_module_version": "^1.3.3",
       "_view_module_version": "^1.3.3",
       "data": {
        "id": "STT3A",
        "node_name": "STT3A",
        "type": "gene/protein"
       },
       "grabbable": true,
       "grabbed": false,
       "position": {
        "x": 495.14671931748745,
        "y": 257.59318508807337
       },
       "selectable": false
      }
     },
     "02e5a3f8e73247eba1f47040d07426a0": {
      "model_module": "jupyter-cytoscape",
      "model_module_version": "^1.3.3",
      "model_name": "NodeModel",
      "state": {
       "_model_module_version": "^1.3.3",
       "_view_module_version": "^1.3.3",
       "data": {
        "id": "DAD1",
        "node_name": "DAD1",
        "type": "gene/protein"
       },
       "grabbable": true,
       "grabbed": false,
       "position": {
        "x": 604.8727558763476,
        "y": 417.33987746470535
       },
       "selectable": false
      }
     },
     "02f533482fcf42a1b3bbb4e36f561726": {
      "model_module": "jupyter-cytoscape",
      "model_module_version": "^1.3.3",
      "model_name": "EdgeModel",
      "state": {
       "_model_module_version": "^1.3.3",
       "_view_module_version": "^1.3.3",
       "classes": " multiple_edges ",
       "data": {
        "display_relation": "REACTOMEFI",
        "id": "7f358f27-bbee-44f0-92d5-43c1e2c6ddc9",
        "source": "RPN2",
        "source_name": "DAD1",
        "target": "DAD1",
        "target_name": "RPN2"
       },
       "selectable": false
      }
     },
     "03119782971b4ca5bbc9b8da5b2099b4": {
      "model_module": "jupyter-cytoscape",
      "model_module_version": "^1.3.3",
      "model_name": "NodeModel",
      "state": {
       "_model_module_version": "^1.3.3",
       "_view_module_version": "^1.3.3",
       "data": {
        "id": "PIV3",
        "node_name": "PIV3",
        "type": "disease"
       },
       "grabbable": true,
       "grabbed": false,
       "position": {
        "x": 309.17662037159965,
        "y": 387.01236796973245
       },
       "selectable": false
      }
     },
     "034edd0f503b48a1a1f783510e8da990": {
      "model_module": "jupyter-cytoscape",
      "model_module_version": "^1.3.3",
      "model_name": "EdgeModel",
      "state": {
       "_model_module_version": "^1.3.3",
       "_view_module_version": "^1.3.3",
       "classes": " multiple_edges ",
       "data": {
        "display_relation": "BIOGRID",
        "id": "a546c56f-b1d1-4909-b64e-1dc207d0f3d8",
        "source": "RPN1",
        "source_name": "RPN1",
        "target": "RPN1",
        "target_name": "RPN1"
       },
       "selectable": false
      }
     },
     "039a3b5d0361482cbbcc19122b2cbeb4": {
      "model_module": "jupyter-cytoscape",
      "model_module_version": "^1.3.3",
      "model_name": "EdgeModel",
      "state": {
       "_model_module_version": "^1.3.3",
       "_view_module_version": "^1.3.3",
       "classes": " multiple_edges ",
       "data": {
        "display_relation": "REACTOMEFI",
        "id": "12652018-9e0d-474d-b54b-500724287389",
        "source": "DDOST",
        "source_name": "DDOST",
        "target": "MAGT1",
        "target_name": "MAGT1"
       },
       "selectable": false
      }
     },
     "04501167cb7d4f398b1e9d193d9efa28": {
      "model_module": "jupyter-cytoscape",
      "model_module_version": "^1.3.3",
      "model_name": "EdgeModel",
      "state": {
       "_model_module_version": "^1.3.3",
       "_view_module_version": "^1.3.3",
       "classes": " multiple_edges ",
       "data": {
        "display_relation": "REACTOMEFI",
        "id": "c56bf7a5-5e5d-4fc0-93ae-df10beb600d5",
        "source": "RPN1",
        "source_name": "DDOST",
        "target": "DDOST",
        "target_name": "RPN1"
       },
       "selectable": false
      }
     },
     "046ffd5f0bfc4aeab715246f912c37fc": {
      "model_module": "jupyter-cytoscape",
      "model_module_version": "^1.3.3",
      "model_name": "EdgeModel",
      "state": {
       "_model_module_version": "^1.3.3",
       "_view_module_version": "^1.3.3",
       "classes": " multiple_edges ",
       "data": {
        "display_relation": "CORUM",
        "id": "c06ff935-9b57-432f-b2bb-a3f73579fd49",
        "source": "RPN2",
        "source_name": "RPN2",
        "target": "STT3A",
        "target_name": "STT3A"
       },
       "selectable": false
      }
     },
     "04bf9fc41b6a4c809fb8f42767a2500e": {
      "model_module": "jupyter-cytoscape",
      "model_module_version": "^1.3.3",
      "model_name": "EdgeModel",
      "state": {
       "_model_module_version": "^1.3.3",
       "_view_module_version": "^1.3.3",
       "classes": " multiple_edges ",
       "data": {
        "display_relation": "KroganCovHuPPI",
        "id": "d2cd0c70-4bbe-49d7-a1c6-c88e7b05ee6b",
        "source": "DAD1",
        "source_name": "DAD1",
        "target": "SARS-CoV-2",
        "target_name": "SARS-CoV-2"
       },
       "selectable": false
      }
     },
     "065972942e93417e80c280ed4b520e3a": {
      "model_module": "jupyter-cytoscape",
      "model_module_version": "^1.3.3",
      "model_name": "EdgeModel",
      "state": {
       "_model_module_version": "^1.3.3",
       "_view_module_version": "^1.3.3",
       "classes": " multiple_edges ",
       "data": {
        "display_relation": "BIOGRID",
        "id": "bf3ea54c-19a6-46c4-b43e-17c7f49408c3",
        "source": "STT3B",
        "source_name": "TMEM258",
        "target": "TMEM258",
        "target_name": "STT3B"
       },
       "selectable": false
      }
     },
     "068c89784773430baf9b33d19c23e3e5": {
      "model_module": "jupyter-cytoscape",
      "model_module_version": "^1.3.3",
      "model_name": "EdgeModel",
      "state": {
       "_model_module_version": "^1.3.3",
       "_view_module_version": "^1.3.3",
       "classes": " multiple_edges ",
       "data": {
        "display_relation": "CORUM",
        "id": "5407211c-c647-41f0-8a33-2e7cc2a555b9",
        "source": "STT3A",
        "source_name": "STT3A",
        "target": "MAGT1",
        "target_name": "MAGT1"
       },
       "selectable": false
      }
     },
     "06cfe4c28f50477e994d1e35a45244a3": {
      "model_module": "jupyter-cytoscape",
      "model_module_version": "^1.3.3",
      "model_name": "NodeModel",
      "state": {
       "_model_module_version": "^1.3.3",
       "_view_module_version": "^1.3.3",
       "data": {
        "id": "MAGT1",
        "node_name": "MAGT1",
        "type": "gene/protein"
       },
       "grabbable": true,
       "grabbed": false,
       "position": {
        "x": 505.02147419762514,
        "y": 232.8319439577626
       },
       "selectable": false
      }
     },
     "073e66a1130c4b89be9f1b0b08f71c4a": {
      "model_module": "jupyter-cytoscape",
      "model_module_version": "^1.3.3",
      "model_name": "EdgeModel",
      "state": {
       "_model_module_version": "^1.3.3",
       "_view_module_version": "^1.3.3",
       "classes": " multiple_edges ",
       "data": {
        "display_relation": "BIOGRID",
        "id": "31fc16c4-1c7d-440a-841f-2fbb55e0937f",
        "source": "STT3A",
        "source_name": "TMEM258",
        "target": "TMEM258",
        "target_name": "STT3A"
       },
       "selectable": false
      }
     },
     "076f873b14e64364b9b1bb92c540aec0": {
      "model_module": "jupyter-cytoscape",
      "model_module_version": "^1.3.3",
      "model_name": "EdgeModel",
      "state": {
       "_model_module_version": "^1.3.3",
       "_view_module_version": "^1.3.3",
       "classes": " multiple_edges ",
       "data": {
        "display_relation": "KroganCovHuPPI",
        "id": "a845d739-04c0-4525-bece-8f20aecd07ee",
        "source": "TMEM258",
        "source_name": "TMEM258",
        "target": "SARS-CoV-2",
        "target_name": "SARS-CoV-2"
       },
       "selectable": false
      }
     },
     "07a16f4c3b6d437c841c18cfd96b56b3": {
      "model_module": "jupyter-cytoscape",
      "model_module_version": "^1.3.3",
      "model_name": "EdgeModel",
      "state": {
       "_model_module_version": "^1.3.3",
       "_view_module_version": "^1.3.3",
       "classes": " multiple_edges ",
       "data": {
        "display_relation": "BIOGRID",
        "id": "fedf651c-fc58-47ab-bc17-ed66fe3121dd",
        "source": "OST4",
        "source_name": "OST4",
        "target": "STT3B",
        "target_name": "STT3B"
       },
       "selectable": false
      }
     },
     "089bf2db2a0047ad87aae4f5207a6430": {
      "model_module": "jupyter-cytoscape",
      "model_module_version": "^1.3.3",
      "model_name": "EdgeModel",
      "state": {
       "_model_module_version": "^1.3.3",
       "_view_module_version": "^1.3.3",
       "classes": " multiple_edges ",
       "data": {
        "display_relation": "CORUM",
        "id": "fc0bcac8-4b09-47b8-a38a-50d519189fd2",
        "source": "DDOST",
        "source_name": "DDOST",
        "target": "MAGT1",
        "target_name": "MAGT1"
       },
       "selectable": false
      }
     },
     "08b38622e1c448fb91e8db40cda864b3": {
      "model_module": "jupyter-cytoscape",
      "model_module_version": "^1.3.3",
      "model_name": "EdgeModel",
      "state": {
       "_model_module_version": "^1.3.3",
       "_view_module_version": "^1.3.3",
       "classes": " multiple_edges ",
       "data": {
        "display_relation": "CORUM",
        "id": "20d399ac-5431-429f-b323-04e64e9c43b4",
        "source": "STT3A",
        "source_name": "STT3A",
        "target": "MAGT1",
        "target_name": "MAGT1"
       },
       "selectable": false
      }
     },
     "08cca60e86ce453687396ca3036da47f": {
      "model_module": "jupyter-cytoscape",
      "model_module_version": "^1.3.3",
      "model_name": "EdgeModel",
      "state": {
       "_model_module_version": "^1.3.3",
       "_view_module_version": "^1.3.3",
       "classes": " multiple_edges ",
       "data": {
        "display_relation": "KroganCovHuPPI",
        "id": "8335b423-a692-4c12-8037-0619d2cc7a03",
        "source": "STT3B",
        "source_name": "STT3B",
        "target": "SARS-CoV-2",
        "target_name": "SARS-CoV-2"
       },
       "selectable": false
      }
     },
     "0998294c3d404a54a8eac8e36cc2bd1c": {
      "model_module": "jupyter-cytoscape",
      "model_module_version": "^1.3.3",
      "model_name": "EdgeModel",
      "state": {
       "_model_module_version": "^1.3.3",
       "_view_module_version": "^1.3.3",
       "classes": " multiple_edges ",
       "data": {
        "display_relation": "CORUM",
        "id": "379ad527-88d1-4c93-a106-6cbc7308cf27",
        "source": "STT3A",
        "source_name": "STT3A",
        "target": "MAGT1",
        "target_name": "MAGT1"
       },
       "selectable": false
      }
     },
     "09a3033a08f34991821fb4cf39f609af": {
      "model_module": "jupyter-cytoscape",
      "model_module_version": "^1.3.3",
      "model_name": "EdgeModel",
      "state": {
       "_model_module_version": "^1.3.3",
       "_view_module_version": "^1.3.3",
       "classes": " multiple_edges ",
       "data": {
        "display_relation": "crispr",
        "id": "3bceaa1c-037f-4f3f-931f-f189b714a767",
        "source": "STT3B",
        "source_name": "STT3B",
        "target": "IAV",
        "target_name": "IAV"
       },
       "selectable": false
      }
     },
     "0aa87e22590a457c8f5f30d06655e080": {
      "model_module": "jupyter-cytoscape",
      "model_module_version": "^1.3.3",
      "model_name": "EdgeModel",
      "state": {
       "_model_module_version": "^1.3.3",
       "_view_module_version": "^1.3.3",
       "classes": " multiple_edges ",
       "data": {
        "display_relation": "CORUM",
        "id": "fa898501-34af-498b-b647-9bdd0ee92398",
        "source": "DAD1",
        "source_name": "DAD1",
        "target": "STT3B",
        "target_name": "STT3B"
       },
       "selectable": false
      }
     },
     "0aaf95773c104a4bab6b609ee3b05982": {
      "model_module": "jupyter-cytoscape",
      "model_module_version": "^1.3.3",
      "model_name": "NodeModel",
      "state": {
       "_model_module_version": "^1.3.3",
       "_view_module_version": "^1.3.3",
       "data": {
        "id": "STT3A",
        "node_name": "STT3A",
        "type": "gene/protein"
       },
       "grabbable": true,
       "grabbed": false,
       "position": {
        "x": 411.4162817024372,
        "y": 281.3319449577626
       },
       "selectable": false
      }
     },
     "0b232a620bbf492d8991667d5a83d001": {
      "model_module": "jupyter-cytoscape",
      "model_module_version": "^1.3.3",
      "model_name": "EdgeModel",
      "state": {
       "_model_module_version": "^1.3.3",
       "_view_module_version": "^1.3.3",
       "classes": " multiple_edges ",
       "data": {
        "display_relation": "REACTOMEFI",
        "id": "aa784ae1-b5da-45a4-8f16-3056d99b461e",
        "source": "DAD1",
        "source_name": "DAD1",
        "target": "STT3A",
        "target_name": "STT3A"
       },
       "selectable": false
      }
     },
     "0b347aea9aa3452c9c779c112696d55a": {
      "model_module": "jupyter-cytoscape",
      "model_module_version": "^1.3.3",
      "model_name": "EdgeModel",
      "state": {
       "_model_module_version": "^1.3.3",
       "_view_module_version": "^1.3.3",
       "classes": " multiple_edges ",
       "data": {
        "display_relation": "REACTOMEFI",
        "id": "61deaced-311f-4ef1-9288-c2b4ff41f92b",
        "source": "DAD1",
        "source_name": "DAD1",
        "target": "DDOST",
        "target_name": "DDOST"
       },
       "selectable": false
      }
     },
     "0b5c7fe0a2ba4587b18f3fd4c37b7c76": {
      "model_module": "jupyter-cytoscape",
      "model_module_version": "^1.3.3",
      "model_name": "EdgeModel",
      "state": {
       "_model_module_version": "^1.3.3",
       "_view_module_version": "^1.3.3",
       "classes": " multiple_edges ",
       "data": {
        "display_relation": "CORUM",
        "id": "b2486fce-29f1-48f4-8519-89a238d35fbc",
        "source": "RPN1",
        "source_name": "RPN1",
        "target": "STT3B",
        "target_name": "STT3B"
       },
       "selectable": false
      }
     },
     "0b832e40ac3b46c1a089e61dc016d1a3": {
      "model_module": "jupyter-cytoscape",
      "model_module_version": "^1.3.3",
      "model_name": "EdgeModel",
      "state": {
       "_model_module_version": "^1.3.3",
       "_view_module_version": "^1.3.3",
       "classes": " multiple_edges ",
       "data": {
        "display_relation": "REACTOMEFI",
        "id": "1729e503-a8f9-4387-a3c8-3a351f0be590",
        "source": "RPN1",
        "source_name": "DDOST",
        "target": "DDOST",
        "target_name": "RPN1"
       },
       "selectable": false
      }
     },
     "0bf3ddfdff1746fd810c50b8ff3a19f3": {
      "model_module": "jupyter-cytoscape",
      "model_module_version": "^1.3.3",
      "model_name": "EdgeModel",
      "state": {
       "_model_module_version": "^1.3.3",
       "_view_module_version": "^1.3.3",
       "classes": " multiple_edges ",
       "data": {
        "display_relation": "REACTOMEFI",
        "id": "881019d5-18ab-4983-b94f-b1f57294747e",
        "source": "DAD1",
        "source_name": "DAD1",
        "target": "STT3A",
        "target_name": "STT3A"
       },
       "selectable": false
      }
     },
     "0c53adc404aa45a0b94f7789a14b4167": {
      "model_module": "jupyter-cytoscape",
      "model_module_version": "^1.3.3",
      "model_name": "EdgeModel",
      "state": {
       "_model_module_version": "^1.3.3",
       "_view_module_version": "^1.3.3",
       "classes": " multiple_edges ",
       "data": {
        "display_relation": "crispr",
        "id": "422a6908-abaa-4f21-b339-567efd4efe0d",
        "source": "TMEM258",
        "source_name": "TMEM258",
        "target": "HCoV-NL63",
        "target_name": "HCoV-NL63"
       },
       "selectable": false
      }
     },
     "0c9336b04dea4aab96583398a354fa00": {
      "model_module": "jupyter-cytoscape",
      "model_module_version": "^1.3.3",
      "model_name": "EdgeModel",
      "state": {
       "_model_module_version": "^1.3.3",
       "_view_module_version": "^1.3.3",
       "classes": " multiple_edges ",
       "data": {
        "display_relation": "BIOGRID",
        "id": "96bbe543-e572-46c5-9413-6f1bd55774f3",
        "source": "RPN1",
        "source_name": "OST4",
        "target": "OST4",
        "target_name": "RPN1"
       },
       "selectable": false
      }
     },
     "0c9543915c9b4d4d9c84fd2dab064d48": {
      "model_module": "jupyter-cytoscape",
      "model_module_version": "^1.3.3",
      "model_name": "EdgeModel",
      "state": {
       "_model_module_version": "^1.3.3",
       "_view_module_version": "^1.3.3",
       "classes": " multiple_edges ",
       "data": {
        "display_relation": "KroganCovHuPPI",
        "id": "41356e92-a73b-4d1d-bf40-b113d43fa764",
        "source": "SARS-CoV-2",
        "source_name": "OSTC",
        "target": "OSTC",
        "target_name": "SARS-CoV-2"
       },
       "selectable": false
      }
     },
     "0d668d8e27234744860115731c214106": {
      "model_module": "jupyter-cytoscape",
      "model_module_version": "^1.3.3",
      "model_name": "EdgeModel",
      "state": {
       "_model_module_version": "^1.3.3",
       "_view_module_version": "^1.3.3",
       "classes": " multiple_edges ",
       "data": {
        "display_relation": "crispr",
        "id": "c9b86778-d74c-4d25-9e5b-37c949964783",
        "source": "STT3A",
        "source_name": "STT3A",
        "target": "SARS-CoV-2",
        "target_name": "SARS-CoV-2"
       },
       "selectable": false
      }
     },
     "0f143d8c055c4ceb991c3ec0c48af8a6": {
      "model_module": "jupyter-cytoscape",
      "model_module_version": "^1.3.3",
      "model_name": "EdgeModel",
      "state": {
       "_model_module_version": "^1.3.3",
       "_view_module_version": "^1.3.3",
       "classes": " multiple_edges ",
       "data": {
        "display_relation": "BIOGRID",
        "id": "cc436386-e526-44d9-9081-fd7fffdd3401",
        "source": "OST4",
        "source_name": "OST4",
        "target": "OST4",
        "target_name": "OST4"
       },
       "selectable": false
      }
     },
     "0f36b432a70f4eaeb0a2ba277dae1339": {
      "model_module": "jupyter-cytoscape",
      "model_module_version": "^1.3.3",
      "model_name": "EdgeModel",
      "state": {
       "_model_module_version": "^1.3.3",
       "_view_module_version": "^1.3.3",
       "classes": " multiple_edges ",
       "data": {
        "display_relation": "CORUM",
        "id": "ab20421b-76cd-476e-ad5b-158cfa4eabda",
        "source": "RPN1",
        "source_name": "RPN1",
        "target": "STT3A",
        "target_name": "STT3A"
       },
       "selectable": false
      }
     },
     "0f4d3b3fc9e94b01b1cfa3096a61ca1a": {
      "model_module": "jupyter-cytoscape",
      "model_module_version": "^1.3.3",
      "model_name": "NodeModel",
      "state": {
       "_model_module_version": "^1.3.3",
       "_view_module_version": "^1.3.3",
       "data": {
        "id": "MAGT1",
        "node_name": "MAGT1",
        "type": "gene/protein"
       },
       "grabbable": true,
       "grabbed": false,
       "position": {
        "x": 371.2971102214969,
        "y": 168.3271943920719
       },
       "selectable": false
      }
     },
     "104c6da04acc470890a982e2eab1fb9a": {
      "model_module": "jupyter-cytoscape",
      "model_module_version": "^1.3.3",
      "model_name": "EdgeModel",
      "state": {
       "_model_module_version": "^1.3.3",
       "_view_module_version": "^1.3.3",
       "classes": " multiple_edges ",
       "data": {
        "display_relation": "REACTOMEFI",
        "id": "8caaa8b9-f37e-4915-9113-f15f121835f9",
        "source": "RPN1",
        "source_name": "RPN1",
        "target": "STT3A",
        "target_name": "STT3A"
       },
       "selectable": false
      }
     },
     "10b1882ddd954a7aa3d57a44069ec792": {
      "model_module": "jupyter-cytoscape",
      "model_module_version": "^1.3.3",
      "model_name": "EdgeModel",
      "state": {
       "_model_module_version": "^1.3.3",
       "_view_module_version": "^1.3.3",
       "classes": " multiple_edges ",
       "data": {
        "display_relation": "BIOGRID",
        "id": "85f034c8-2ca3-4e5a-8acf-eebd9795ede9",
        "source": "TMEM258",
        "source_name": "TMEM258",
        "target": "DDOST",
        "target_name": "DDOST"
       },
       "selectable": false
      }
     },
     "1154b7ce7f484b699c025524a607ca78": {
      "model_module": "jupyter-cytoscape",
      "model_module_version": "^1.3.3",
      "model_name": "NodeModel",
      "state": {
       "_model_module_version": "^1.3.3",
       "_view_module_version": "^1.3.3",
       "data": {
        "id": "OSTC",
        "node_name": "OSTC",
        "type": "gene/protein"
       },
       "grabbable": true,
       "grabbed": false,
       "position": {
        "x": 407.1415641247921,
        "y": 141.88088423693029
       },
       "selectable": false
      }
     },
     "11a88608bc2e4d7ca28d0d52e115a0fb": {
      "model_module": "jupyter-cytoscape",
      "model_module_version": "^1.3.3",
      "model_name": "EdgeModel",
      "state": {
       "_model_module_version": "^1.3.3",
       "_view_module_version": "^1.3.3",
       "classes": " multiple_edges ",
       "data": {
        "display_relation": "BIOGRID",
        "id": "6260a817-24fc-462b-87b2-58cbb7539851",
        "source": "OST4",
        "source_name": "OST4",
        "target": "OST4",
        "target_name": "OST4"
       },
       "selectable": false
      }
     },
     "11d34bef0b3c4eab8b5b522f0ea18d2e": {
      "model_module": "jupyter-cytoscape",
      "model_module_version": "^1.3.3",
      "model_name": "GraphModel",
      "state": {
       "_adj": {
        "DAD1": {},
        "DDOST": {},
        "HRV": {},
        "IAV": {},
        "MAGT1": {},
        "MERS-CoV": {},
        "OST4": {},
        "OSTC": {},
        "PIV3": {},
        "RPN1": {},
        "RPN2": {},
        "SARS-CoV-2": {},
        "STT3A": {},
        "STT3B": {},
        "TMEM258": {}
       },
       "_model_module_version": "^1.3.3",
       "_view_module": "jupyter-cytoscape",
       "_view_module_version": "^1.3.3",
       "edges": [
        "IPY_MODEL_d849c1b3061f444986bd3826c33013e9",
        "IPY_MODEL_496ec343446747d7bcce2a1f7a5bf75c",
        "IPY_MODEL_cf0a8ec6d73647a3ac4556eb1ace7e78",
        "IPY_MODEL_8347f9b805204caa9b12f0113e591632",
        "IPY_MODEL_034edd0f503b48a1a1f783510e8da990",
        "IPY_MODEL_efec81ce82ec467aad27681e6cf3d01b",
        "IPY_MODEL_28e6ecd28f4441ed99f9c918dc6313c8",
        "IPY_MODEL_6e34e101eda44a2f82dbe6da07f85187",
        "IPY_MODEL_af7c000616434a6db8287b33a3e61fea",
        "IPY_MODEL_1fcd02b53a314adf98cb19b645619bfb",
        "IPY_MODEL_00847501dcbb46d1a8969e3e25f5b2b9",
        "IPY_MODEL_3efc77acb1554f47b8197b177ca63b59",
        "IPY_MODEL_43d23303b77c491aa90e3f065927fd38",
        "IPY_MODEL_e3d82a47c147453b93a33bdb09718856",
        "IPY_MODEL_2c0d12ed5ed549b7bb7aff6f62a134b0",
        "IPY_MODEL_2e3981e3b24a47f6b7052db97f7363c7",
        "IPY_MODEL_43277ce94c0a4026974a103caa6f2b45",
        "IPY_MODEL_9779ebd81a7e45e1990d7b410d6b6fcb",
        "IPY_MODEL_94d5be4358f94b2abf8ce578c20e2a98",
        "IPY_MODEL_73f119aea4254138a066116c22c3514c",
        "IPY_MODEL_bde8f7b4e70343a0b6bb7954fa5e670b",
        "IPY_MODEL_4bcce2adf1024326a723f0bdf1a2a206",
        "IPY_MODEL_e4fdf72788974a8b89dcc516b9459925",
        "IPY_MODEL_f4943749538e44e0af0a2774f9caf1b0",
        "IPY_MODEL_406d7b2f3910497d8332bc0e326695e3",
        "IPY_MODEL_e95c250ec071462c844d4f5fd2be2b3e",
        "IPY_MODEL_7aa3a808b65e43988d0fd6fb5fb32a23",
        "IPY_MODEL_efcb933998994b0f916370a81a6f63fd",
        "IPY_MODEL_4d86b91e1a944cb19060bb4d9cbe2eb3",
        "IPY_MODEL_7cdbd47546db4c1982d75c99b1c1f226",
        "IPY_MODEL_d60dfb09d8b74fb6b41c8bffac413c30",
        "IPY_MODEL_ad4a4adea8c64c0e9bde675d27fbd53b",
        "IPY_MODEL_11a88608bc2e4d7ca28d0d52e115a0fb",
        "IPY_MODEL_991ab9f189584b92b94c954f1a10d834",
        "IPY_MODEL_eb87483a096a4324af75c25fef0206a2",
        "IPY_MODEL_77fe2af507df4f6c8d99894a86e60bd4",
        "IPY_MODEL_81ba772114f8413ea10de5126aec6b9b",
        "IPY_MODEL_a8b7657b4f214d5dbff4ec4709affcdb",
        "IPY_MODEL_ae42a25621994c3dae1566a78299a8ee",
        "IPY_MODEL_f25fd158a41c417b832807441f4eb151",
        "IPY_MODEL_95d9ac29560a4462a3a55f52f33d8805",
        "IPY_MODEL_a8daabaa02224b1c92284508268c0f02",
        "IPY_MODEL_d0b9a2a41adb40b9aff459869e8a445d",
        "IPY_MODEL_0aa87e22590a457c8f5f30d06655e080",
        "IPY_MODEL_61a4a6c7b3cb4628a29bc4d8b6fc558a",
        "IPY_MODEL_073e66a1130c4b89be9f1b0b08f71c4a",
        "IPY_MODEL_9945bfb229184309b59ff684f3cc050c",
        "IPY_MODEL_baf9c14f11634c82a2dff3acdab5c930",
        "IPY_MODEL_068c89784773430baf9b33d19c23e3e5",
        "IPY_MODEL_72ac94229a7c48ba8d3cfc68106dfaac",
        "IPY_MODEL_97a48d17f0b54638bb4f0044c8b68106",
        "IPY_MODEL_2c0eb3a217bb49cbbbdc923bd0c47573",
        "IPY_MODEL_ec5002a057fa43abab874bfbc54c6664",
        "IPY_MODEL_500d1c495966494987c2592b19b731c8",
        "IPY_MODEL_d139a11a02db4369afab076b1104dd22",
        "IPY_MODEL_065972942e93417e80c280ed4b520e3a",
        "IPY_MODEL_942ce6c360194a7eb495aab97c4d98a6",
        "IPY_MODEL_15b5a6eef65f4d63ba1a7ed31fb0228f",
        "IPY_MODEL_5abd242671cd49f595b6e31ca5b73c23",
        "IPY_MODEL_ead160acaa2a4f70a1bcb1e47f018f88",
        "IPY_MODEL_8fb8d64e30ec4ec29bf21deb505879a1",
        "IPY_MODEL_9d9ae102554540a498dbf92a124f8f4e",
        "IPY_MODEL_3fd73e379182410a913b61c62f35715c",
        "IPY_MODEL_1936482105c246caa42ae54d07b72b02",
        "IPY_MODEL_fd19aadbac0346b5a5540077fa5982cf",
        "IPY_MODEL_843f69bc21de47398bd6f60e524cd3b1",
        "IPY_MODEL_039a3b5d0361482cbbcc19122b2cbeb4",
        "IPY_MODEL_2663f8ff49f14ed0b476b207b3e42a37",
        "IPY_MODEL_b5802c2d15bd4e039361108c7ac7a3dc",
        "IPY_MODEL_cbcf635cc7004d7ebbd3e05c4c13da56",
        "IPY_MODEL_64814ea7ce8d4ed483f7e9d51cadc61b",
        "IPY_MODEL_4f2cc9c1870a4136af44a8044487b742",
        "IPY_MODEL_33cb8fabb38c4048b77ef6b42dadac1f"
       ],
       "nodes": [
        "IPY_MODEL_be1d40a0d0c44b68aeb5d78c8c43fa7e",
        "IPY_MODEL_de6e050a66b4471a8d1c979a0f2bfe37",
        "IPY_MODEL_44b18935b1274ef9b9e8b508d9323a7c",
        "IPY_MODEL_857a2250bcf643009cae996e206cd5cd",
        "IPY_MODEL_013947bd8de04de7af99099536b8b5f1",
        "IPY_MODEL_a63701a82b3d401eadee3e27c955226b",
        "IPY_MODEL_fcfafaf709c448a9821d745b1cf77147",
        "IPY_MODEL_e9c16732dbee4b708bb38e87dd2e7d7f",
        "IPY_MODEL_5279a4bdf8444ca7bf00e09f6a085ba2",
        "IPY_MODEL_4a73fb7f73a5403e93c388c65856d798",
        "IPY_MODEL_f6e31a51944d4119a484fb249cdaa3b2",
        "IPY_MODEL_b2719c7d7e024bb0ae7a27b32afdc27a",
        "IPY_MODEL_a94e06e61be54a57b57f5b0d046c2b4d",
        "IPY_MODEL_8c0798b60f72416189ecd06be60610eb",
        "IPY_MODEL_a3599f822ef14c0e89df065b73357b38"
       ]
      }
     },
     "120abca6bd3e40738c1b5d3d753e3d35": {
      "model_module": "jupyter-cytoscape",
      "model_module_version": "^1.3.3",
      "model_name": "EdgeModel",
      "state": {
       "_model_module_version": "^1.3.3",
       "_view_module_version": "^1.3.3",
       "classes": " multiple_edges ",
       "data": {
        "display_relation": "BIOGRID",
        "id": "282e3cda-825d-4d4c-8d1a-aad87ee2643d",
        "source": "OST4",
        "source_name": "OST4",
        "target": "OST4",
        "target_name": "OST4"
       },
       "selectable": false
      }
     },
     "122164de74944ff9a2488c8d043a974f": {
      "model_module": "jupyter-cytoscape",
      "model_module_version": "^1.3.3",
      "model_name": "EdgeModel",
      "state": {
       "_model_module_version": "^1.3.3",
       "_view_module_version": "^1.3.3",
       "classes": " multiple_edges ",
       "data": {
        "display_relation": "BIOGRID",
        "id": "68c16c20-9a49-4b15-b08f-f11062652b2d",
        "source": "TMEM258",
        "source_name": "TMEM258",
        "target": "STT3B",
        "target_name": "STT3B"
       },
       "selectable": false
      }
     },
     "137b76a0e8084a7eba13c59278289cc4": {
      "model_module": "jupyter-cytoscape",
      "model_module_version": "^1.3.3",
      "model_name": "EdgeModel",
      "state": {
       "_model_module_version": "^1.3.3",
       "_view_module_version": "^1.3.3",
       "classes": " multiple_edges ",
       "data": {
        "display_relation": "REACTOMEFI",
        "id": "6a31bcbc-5e35-4f31-9714-2db9836e3916",
        "source": "DAD1",
        "source_name": "DAD1",
        "target": "MAGT1",
        "target_name": "MAGT1"
       },
       "selectable": false
      }
     },
     "144a552d8b9747bc8484f6fcaf172dd3": {
      "model_module": "jupyter-cytoscape",
      "model_module_version": "^1.3.3",
      "model_name": "NodeModel",
      "state": {
       "_model_module_version": "^1.3.3",
       "_view_module_version": "^1.3.3",
       "data": {
        "id": "PIV3",
        "node_name": "PIV3",
        "type": "disease"
       },
       "grabbable": true,
       "grabbed": false,
       "position": {
        "x": 255.5054737718325,
        "y": 29.715194408325708
       },
       "selectable": false
      }
     },
     "14bc0ee30b9547daaf3c90b876a3dae7": {
      "model_module": "jupyter-cytoscape",
      "model_module_version": "^1.3.3",
      "model_name": "EdgeModel",
      "state": {
       "_model_module_version": "^1.3.3",
       "_view_module_version": "^1.3.3",
       "classes": " multiple_edges ",
       "data": {
        "display_relation": "KroganCovHuPPI",
        "id": "b0893a5d-2a7b-423b-b669-555c84491b5e",
        "source": "MAGT1",
        "source_name": "MAGT1",
        "target": "SARS-CoV-2",
        "target_name": "SARS-CoV-2"
       },
       "selectable": false
      }
     },
     "157b9be41dce47c9a7473b23f742e8b5": {
      "model_module": "jupyter-cytoscape",
      "model_module_version": "^1.3.3",
      "model_name": "EdgeModel",
      "state": {
       "_model_module_version": "^1.3.3",
       "_view_module_version": "^1.3.3",
       "classes": " multiple_edges ",
       "data": {
        "display_relation": "CORUM",
        "id": "2352f17f-7b59-4912-a8f8-6cb264ebd4fe",
        "source": "STT3B",
        "source_name": "STT3B",
        "target": "MAGT1",
        "target_name": "MAGT1"
       },
       "selectable": false
      }
     },
     "15b5a6eef65f4d63ba1a7ed31fb0228f": {
      "model_module": "jupyter-cytoscape",
      "model_module_version": "^1.3.3",
      "model_name": "EdgeModel",
      "state": {
       "_model_module_version": "^1.3.3",
       "_view_module_version": "^1.3.3",
       "classes": " multiple_edges ",
       "data": {
        "display_relation": "CORUM",
        "id": "38e73481-8fe6-493f-a340-392d94010d99",
        "source": "STT3B",
        "source_name": "STT3B",
        "target": "MAGT1",
        "target_name": "MAGT1"
       },
       "selectable": false
      }
     },
     "1744e63852e14f68bdf0b4f4f49976e1": {
      "model_module": "jupyter-cytoscape",
      "model_module_version": "^1.3.3",
      "model_name": "EdgeModel",
      "state": {
       "_model_module_version": "^1.3.3",
       "_view_module_version": "^1.3.3",
       "classes": " multiple_edges ",
       "data": {
        "display_relation": "KroganIBV",
        "id": "602da5a3-5654-419f-8b2a-90abfb8bb0d2",
        "source": "RPN1",
        "source_name": "IAV",
        "target": "IAV",
        "target_name": "RPN1"
       },
       "selectable": false
      }
     },
     "18c34ed969a6484e901cb0bdd4603f88": {
      "model_module": "jupyter-cytoscape",
      "model_module_version": "^1.3.3",
      "model_name": "EdgeModel",
      "state": {
       "_model_module_version": "^1.3.3",
       "_view_module_version": "^1.3.3",
       "classes": " multiple_edges ",
       "data": {
        "display_relation": "CORUM",
        "id": "bd2a0e45-8ab6-4a66-8304-7c2f7b3d0e40",
        "source": "DAD1",
        "source_name": "STT3A",
        "target": "STT3A",
        "target_name": "DAD1"
       },
       "selectable": false
      }
     },
     "1936482105c246caa42ae54d07b72b02": {
      "model_module": "jupyter-cytoscape",
      "model_module_version": "^1.3.3",
      "model_name": "EdgeModel",
      "state": {
       "_model_module_version": "^1.3.3",
       "_view_module_version": "^1.3.3",
       "classes": " multiple_edges ",
       "data": {
        "display_relation": "KimPPI",
        "id": "ecfe729b-fa31-46f4-84ce-fda337e2b29f",
        "source": "TMEM258",
        "source_name": "TMEM258",
        "target": "SARS-CoV-2",
        "target_name": "SARS-CoV-2"
       },
       "selectable": false
      }
     },
     "19dfafde0d544c0787a91d463d0e7515": {
      "model_module": "jupyter-cytoscape",
      "model_module_version": "^1.3.3",
      "model_name": "EdgeModel",
      "state": {
       "_model_module_version": "^1.3.3",
       "_view_module_version": "^1.3.3",
       "classes": " multiple_edges ",
       "data": {
        "display_relation": "GEPanelAppCoV",
        "id": "f9577f96-de2b-4d8d-9e8d-473af5468973",
        "source": "MAGT1",
        "source_name": "MAGT1",
        "target": "SARS-CoV-2",
        "target_name": "SARS-CoV-2"
       },
       "selectable": false
      }
     },
     "1a16040030494f84b81f982107d2b20e": {
      "model_module": "jupyter-cytoscape",
      "model_module_version": "^1.3.3",
      "model_name": "EdgeModel",
      "state": {
       "_model_module_version": "^1.3.3",
       "_view_module_version": "^1.3.3",
       "classes": " multiple_edges ",
       "data": {
        "display_relation": "CORUM",
        "id": "f03de003-fbcb-404d-a27e-4171e6cf60b9",
        "source": "DDOST",
        "source_name": "DDOST",
        "target": "STT3B",
        "target_name": "STT3B"
       },
       "selectable": false
      }
     },
     "1aa476127c954842bf2668435db529e5": {
      "model_module": "jupyter-cytoscape",
      "model_module_version": "^1.3.3",
      "model_name": "EdgeModel",
      "state": {
       "_model_module_version": "^1.3.3",
       "_view_module_version": "^1.3.3",
       "classes": " multiple_edges ",
       "data": {
        "display_relation": "REACTOMEFI",
        "id": "5e5471e4-3e99-44e8-a1a6-e80dfa97e2cb",
        "source": "DAD1",
        "source_name": "DAD1",
        "target": "MAGT1",
        "target_name": "MAGT1"
       },
       "selectable": false
      }
     },
     "1b0ed6326cbc46c4b0a21fc23e6b7306": {
      "model_module": "jupyter-cytoscape",
      "model_module_version": "^1.3.3",
      "model_name": "EdgeModel",
      "state": {
       "_model_module_version": "^1.3.3",
       "_view_module_version": "^1.3.3",
       "classes": " multiple_edges ",
       "data": {
        "display_relation": "KroganIAV",
        "id": "259781f8-a34a-400d-af11-52fbc76c32a9",
        "source": "RPN1",
        "source_name": "RPN1",
        "target": "RPN2",
        "target_name": "RPN2"
       },
       "selectable": false
      }
     },
     "1b3c34d0c3504155bf25a0b2f23b3738": {
      "model_module": "jupyter-cytoscape",
      "model_module_version": "^1.3.3",
      "model_name": "EdgeModel",
      "state": {
       "_model_module_version": "^1.3.3",
       "_view_module_version": "^1.3.3",
       "classes": " multiple_edges ",
       "data": {
        "display_relation": "CORUM",
        "id": "d856e048-fa16-4583-aaa8-2f22ab5f323c",
        "source": "RPN1",
        "source_name": "RPN1",
        "target": "STT3B",
        "target_name": "STT3B"
       },
       "selectable": false
      }
     },
     "1beb099f7cee46d0bec64dadb46dc672": {
      "model_module": "jupyter-cytoscape",
      "model_module_version": "^1.3.3",
      "model_name": "EdgeModel",
      "state": {
       "_model_module_version": "^1.3.3",
       "_view_module_version": "^1.3.3",
       "classes": " multiple_edges ",
       "data": {
        "display_relation": "crispr",
        "id": "df3b9c66-a7ce-47ce-8617-24a9039c6e7b",
        "source": "STT3A",
        "source_name": "STT3A",
        "target": "SARS-CoV-2",
        "target_name": "SARS-CoV-2"
       },
       "selectable": false
      }
     },
     "1e10701ada4b45a783f72203cd3fe8a4": {
      "model_module": "jupyter-cytoscape",
      "model_module_version": "^1.3.3",
      "model_name": "EdgeModel",
      "state": {
       "_model_module_version": "^1.3.3",
       "_view_module_version": "^1.3.3",
       "classes": " multiple_edges ",
       "data": {
        "display_relation": "REACTOMEFI",
        "id": "10f12e9a-35e7-4fae-95de-fc6e07be1a7e",
        "source": "STT3A",
        "source_name": "MAGT1",
        "target": "MAGT1",
        "target_name": "STT3A"
       },
       "selectable": false
      }
     },
     "1e3d55c2542a4c15accaaa6ff3f3f70d": {
      "model_module": "jupyter-cytoscape",
      "model_module_version": "^1.3.3",
      "model_name": "EdgeModel",
      "state": {
       "_model_module_version": "^1.3.3",
       "_view_module_version": "^1.3.3",
       "classes": " multiple_edges ",
       "data": {
        "display_relation": "REACTOMEFI",
        "id": "1bef0eed-156b-4cc1-a2b0-4e9f7bbe26b5",
        "source": "RPN1",
        "source_name": "RPN1",
        "target": "RPN2",
        "target_name": "RPN2"
       },
       "selectable": false
      }
     },
     "1f18ca67108546f69a5a4d372cda40ab": {
      "model_module": "jupyter-cytoscape",
      "model_module_version": "^1.3.3",
      "model_name": "EdgeModel",
      "state": {
       "_model_module_version": "^1.3.3",
       "_view_module_version": "^1.3.3",
       "classes": " multiple_edges ",
       "data": {
        "display_relation": "CORUM",
        "id": "ca26c993-754b-404d-aca4-35b66f6f8237",
        "source": "RPN2",
        "source_name": "RPN2",
        "target": "MAGT1",
        "target_name": "MAGT1"
       },
       "selectable": false
      }
     },
     "1f31973537e844ccb18db2a9c1c60ad1": {
      "model_module": "jupyter-cytoscape",
      "model_module_version": "^1.3.3",
      "model_name": "EdgeModel",
      "state": {
       "_model_module_version": "^1.3.3",
       "_view_module_version": "^1.3.3",
       "classes": " multiple_edges ",
       "data": {
        "display_relation": "KroganCovHuPPI",
        "id": "c9d65510-951b-41a6-a06c-886742be55bc",
        "source": "RPN2",
        "source_name": "RPN2",
        "target": "SARS-CoV-2",
        "target_name": "SARS-CoV-2"
       },
       "selectable": false
      }
     },
     "1f5a24c007c3488bb1f4cda3e493e1e0": {
      "model_module": "jupyter-cytoscape",
      "model_module_version": "^1.3.3",
      "model_name": "EdgeModel",
      "state": {
       "_model_module_version": "^1.3.3",
       "_view_module_version": "^1.3.3",
       "classes": " multiple_edges ",
       "data": {
        "display_relation": "BIOGRID",
        "id": "3c88b9f3-7567-43d1-93ec-565b7db4042e",
        "source": "TMEM258",
        "source_name": "TMEM258",
        "target": "MAGT1",
        "target_name": "MAGT1"
       },
       "selectable": false
      }
     },
     "1fcd02b53a314adf98cb19b645619bfb": {
      "model_module": "jupyter-cytoscape",
      "model_module_version": "^1.3.3",
      "model_name": "EdgeModel",
      "state": {
       "_model_module_version": "^1.3.3",
       "_view_module_version": "^1.3.3",
       "classes": " multiple_edges ",
       "data": {
        "display_relation": "CORUM",
        "id": "4b681fb8-8e87-423a-a2d5-585a1d188e74",
        "source": "RPN1",
        "source_name": "RPN1",
        "target": "STT3A",
        "target_name": "STT3A"
       },
       "selectable": false
      }
     },
     "21ffd95d65e44fba90fd0c557bbad921": {
      "model_module": "jupyter-cytoscape",
      "model_module_version": "^1.3.3",
      "model_name": "GraphModel",
      "state": {
       "_adj": {
        "DAD1": {},
        "DDOST": {},
        "HRV": {},
        "IAV": {},
        "MAGT1": {},
        "MERS-CoV": {},
        "OSTC": {},
        "PIV3": {},
        "RPN1": {},
        "RPN2": {},
        "SARS-CoV-2": {},
        "STT3A": {},
        "STT3B": {},
        "TMEM258": {}
       },
       "_model_module_version": "^1.3.3",
       "_view_module": "jupyter-cytoscape",
       "_view_module_version": "^1.3.3",
       "edges": [
        "IPY_MODEL_9e10b706c2dc443abc8f814eb600df94",
        "IPY_MODEL_31d3e9bee7cf4e359f0aeb993efe9677",
        "IPY_MODEL_99b9656a0a32469bbce9ad58ed55f93a",
        "IPY_MODEL_726e65c2118241d48d1172bb86e7cd0f",
        "IPY_MODEL_603e671e4c164991bcacebc6de7ebbc0",
        "IPY_MODEL_c246d9ea2e014972be8fff45cf126ada",
        "IPY_MODEL_b2f9b9d9a3184128b0e85cf9bfca1c1b",
        "IPY_MODEL_449a0fedf77f4174b6ce8364cd58161e",
        "IPY_MODEL_c126aede582f430e9d1bf2314f25b180",
        "IPY_MODEL_104c6da04acc470890a982e2eab1fb9a",
        "IPY_MODEL_8b8769b712e04f1caa5add439e35c3a8",
        "IPY_MODEL_be1cbde2b27343c0815ad22ac254f926",
        "IPY_MODEL_54a88dedc8ad4b429a3a5b6558f5795d",
        "IPY_MODEL_36911a1e81e6412cb93effef74610bee",
        "IPY_MODEL_a9a331193f71427894970e431d6b764c",
        "IPY_MODEL_3399c91100c94ffa875ba61a827b84d6",
        "IPY_MODEL_8531dac9b0d844888e9f65931ae5046f",
        "IPY_MODEL_3e05e2ab91af4c34914dd4bb73188194",
        "IPY_MODEL_b818d34f7c73485d996c4516ad5da865",
        "IPY_MODEL_8caaa0ea2f464afea35b4d7c8beb7a24",
        "IPY_MODEL_a9fb67dfe2c842acab9023e591d7e952",
        "IPY_MODEL_e4d216e7500d499a8ba3b08aa844ee3c",
        "IPY_MODEL_c57407bd71524288a81cf5a682ccac34",
        "IPY_MODEL_db2f29acdf5147b0be1e4b1a549a016d",
        "IPY_MODEL_6caa5e25de90419b872b665b581fe77a",
        "IPY_MODEL_7ce1da6d5af944369f241a559ccebd84",
        "IPY_MODEL_7ea7feb8a5544b94aacc879e634f82ce",
        "IPY_MODEL_79505a3e015648969f211f9674031f6b",
        "IPY_MODEL_3864c197b8c5479cba11476a53856c48",
        "IPY_MODEL_49708875ad4146c194c114beb93c4509",
        "IPY_MODEL_afb164de8abb4d0ebaf6b26ee596fd73",
        "IPY_MODEL_e549474882df4b3db81d4c2a589153a3",
        "IPY_MODEL_b38b8373d67c4432ac8a48d485bbb771",
        "IPY_MODEL_b18d545e6d5b4e479ce7b904db556461",
        "IPY_MODEL_0b347aea9aa3452c9c779c112696d55a",
        "IPY_MODEL_f49d7b7289f14db8957ce1c762dc6c24",
        "IPY_MODEL_f9f1a23bc85341fd8406d6f71374b61d",
        "IPY_MODEL_f1b81d1a26a8443aba0ff48825292843",
        "IPY_MODEL_698c20148b734ce1b56213dee82f7207",
        "IPY_MODEL_9607caf4cba84b8b818b41c30c5dbe97",
        "IPY_MODEL_04bf9fc41b6a4c809fb8f42767a2500e",
        "IPY_MODEL_7a76ad1fc43748418ee774c3bf074af6",
        "IPY_MODEL_10b1882ddd954a7aa3d57a44069ec792",
        "IPY_MODEL_122164de74944ff9a2488c8d043a974f",
        "IPY_MODEL_ae99d3d2019541c2adae624c7ad60e78",
        "IPY_MODEL_95f0b65875ff40c4a74d62dd69cd7893",
        "IPY_MODEL_6ee53798a6dc42ff904593c913c00194",
        "IPY_MODEL_8ace54ddb28148a0914163b443b7d58a",
        "IPY_MODEL_4c85e37393204ba7b2e329687f85dcbc",
        "IPY_MODEL_fbf80e90430548d2b71732f82f2e4cc8",
        "IPY_MODEL_08b38622e1c448fb91e8db40cda864b3",
        "IPY_MODEL_92de17e884af40f3a145cb7da1eb95c2",
        "IPY_MODEL_7cae8677e63949a7985c9b5316287cbf",
        "IPY_MODEL_eafdd2b90cb6469193ae0f49fc339468",
        "IPY_MODEL_1beb099f7cee46d0bec64dadb46dc672",
        "IPY_MODEL_a9ffed96d5a84a5393615ad32b5fec94",
        "IPY_MODEL_634438c8531640b8a323a67f11a0d7d6",
        "IPY_MODEL_089bf2db2a0047ad87aae4f5207a6430",
        "IPY_MODEL_3c65334e873b45638aeb73dad5e98259",
        "IPY_MODEL_1a16040030494f84b81f982107d2b20e",
        "IPY_MODEL_c383a1b8ed8a4a1a96e98ca68f3b28e3",
        "IPY_MODEL_6e208aec4f8e46e49594e7a03e73f4b6",
        "IPY_MODEL_45177de923ff42449e5b840f4a822a21",
        "IPY_MODEL_c725971ea74044faae3ba897a9d74b02",
        "IPY_MODEL_bdf03682492b43f8b1e9870d8a9300a9",
        "IPY_MODEL_ab3f5383e749401b9269b83a01c4993d",
        "IPY_MODEL_db64d12475204cfe9a861ab76e2f0587",
        "IPY_MODEL_b1c9a7f82982481c88c33ac4fb74d08e",
        "IPY_MODEL_7e14f168a4494fe692311e086370280c"
       ],
       "nodes": [
        "IPY_MODEL_f6f1eda5d89149a5a70a5b024ae679b8",
        "IPY_MODEL_bb56194a965745778db6e5a85145b5e5",
        "IPY_MODEL_9ce07483402f45d2bf1e7669abc17669",
        "IPY_MODEL_a6ad492b12114877b138a6f809aa40ab",
        "IPY_MODEL_87b38710210d40b9a9072c4fcffe29bf",
        "IPY_MODEL_2e05dca6b5734e89b3cf3b60181f720a",
        "IPY_MODEL_2f39409a2e384770bbb223080640f3a1",
        "IPY_MODEL_288349705e26454bba518688f1e0c374",
        "IPY_MODEL_f7ddba487b4f42de9609240cfb64e1f5",
        "IPY_MODEL_455b44067a174363b16ff6768e70c86d",
        "IPY_MODEL_8c3e5173b92f4b1fb25373663de0ccdd",
        "IPY_MODEL_4a51c57d53394963abbef9360ef6937c",
        "IPY_MODEL_680dfdffed054612b06026e21d181efc",
        "IPY_MODEL_144a552d8b9747bc8484f6fcaf172dd3"
       ]
      }
     },
     "23244922bbff43e98db6b0e965f95dbf": {
      "model_module": "jupyter-cytoscape",
      "model_module_version": "^1.3.3",
      "model_name": "EdgeModel",
      "state": {
       "_model_module_version": "^1.3.3",
       "_view_module_version": "^1.3.3",
       "classes": " multiple_edges ",
       "data": {
        "display_relation": "REACTOMEFI",
        "id": "0c906d6b-fb44-400b-897e-3cd6f17baef7",
        "source": "STT3A",
        "source_name": "MAGT1",
        "target": "MAGT1",
        "target_name": "STT3A"
       },
       "selectable": false
      }
     },
     "2391381de3ae4bc0928a2c52fc19de91": {
      "model_module": "jupyter-cytoscape",
      "model_module_version": "^1.3.3",
      "model_name": "EdgeModel",
      "state": {
       "_model_module_version": "^1.3.3",
       "_view_module_version": "^1.3.3",
       "classes": " multiple_edges ",
       "data": {
        "display_relation": "CORUM",
        "id": "82c1d57e-4be9-49eb-a7ce-98121d672362",
        "source": "RPN1",
        "source_name": "RPN1",
        "target": "DAD1",
        "target_name": "DAD1"
       },
       "selectable": false
      }
     },
     "2447de87d4064a71b95bbe5a7104b403": {
      "model_module": "jupyter-cytoscape",
      "model_module_version": "^1.3.3",
      "model_name": "EdgeModel",
      "state": {
       "_model_module_version": "^1.3.3",
       "_view_module_version": "^1.3.3",
       "classes": " multiple_edges ",
       "data": {
        "display_relation": "CORUM",
        "id": "6f38a985-f9b3-4abd-915f-e1bcfe3488d4",
        "source": "RPN1",
        "source_name": "RPN1",
        "target": "DAD1",
        "target_name": "DAD1"
       },
       "selectable": false
      }
     },
     "24899ad8bd7d47c0863f8ff92d8f7d55": {
      "model_module": "jupyter-cytoscape",
      "model_module_version": "^1.3.3",
      "model_name": "EdgeModel",
      "state": {
       "_model_module_version": "^1.3.3",
       "_view_module_version": "^1.3.3",
       "classes": " multiple_edges ",
       "data": {
        "display_relation": "CORUM",
        "id": "4e0ce979-79ba-4a42-8d1d-2f324bcf7043",
        "source": "DAD1",
        "source_name": "DDOST",
        "target": "DDOST",
        "target_name": "DAD1"
       },
       "selectable": false
      }
     },
     "25d35daefbaa47deb25dca8e41d7a025": {
      "model_module": "jupyter-cytoscape",
      "model_module_version": "^1.3.3",
      "model_name": "EdgeModel",
      "state": {
       "_model_module_version": "^1.3.3",
       "_view_module_version": "^1.3.3",
       "classes": " multiple_edges ",
       "data": {
        "display_relation": "REACTOMEFI",
        "id": "805dfe13-0e75-4e23-b663-0e52df24be9b",
        "source": "RPN1",
        "source_name": "RPN1",
        "target": "STT3A",
        "target_name": "STT3A"
       },
       "selectable": false
      }
     },
     "2622f1515d724e05a42184a33d9fa689": {
      "model_module": "jupyter-cytoscape",
      "model_module_version": "^1.3.3",
      "model_name": "EdgeModel",
      "state": {
       "_model_module_version": "^1.3.3",
       "_view_module_version": "^1.3.3",
       "classes": " multiple_edges ",
       "data": {
        "display_relation": "crispr",
        "id": "4d517998-f50e-4d6f-b203-50b4b9bd261d",
        "source": "DDOST",
        "source_name": "DDOST",
        "target": "MERS-CoV",
        "target_name": "MERS-CoV"
       },
       "selectable": false
      }
     },
     "2663f8ff49f14ed0b476b207b3e42a37": {
      "model_module": "jupyter-cytoscape",
      "model_module_version": "^1.3.3",
      "model_name": "EdgeModel",
      "state": {
       "_model_module_version": "^1.3.3",
       "_view_module_version": "^1.3.3",
       "classes": " multiple_edges ",
       "data": {
        "display_relation": "KroganCovHuPPI",
        "id": "c090dee2-8ece-42ac-bf8e-c68379a239ed",
        "source": "DDOST",
        "source_name": "DDOST",
        "target": "SARS-CoV-2",
        "target_name": "SARS-CoV-2"
       },
       "selectable": false
      }
     },
     "278e56707f3d4c9298684ed4edb0f5de": {
      "model_module": "jupyter-cytoscape",
      "model_module_version": "^1.3.3",
      "model_name": "EdgeModel",
      "state": {
       "_model_module_version": "^1.3.3",
       "_view_module_version": "^1.3.3",
       "classes": " multiple_edges ",
       "data": {
        "display_relation": "CORUM",
        "id": "c3918244-e0ca-4c2c-b8a9-f13e66578a43",
        "source": "RPN2",
        "source_name": "RPN2",
        "target": "MAGT1",
        "target_name": "MAGT1"
       },
       "selectable": false
      }
     },
     "27ab8f91648649e8948c8dc1a33bb39b": {
      "model_module": "jupyter-cytoscape",
      "model_module_version": "^1.3.3",
      "model_name": "EdgeModel",
      "state": {
       "_model_module_version": "^1.3.3",
       "_view_module_version": "^1.3.3",
       "classes": " multiple_edges ",
       "data": {
        "display_relation": "CORUM",
        "id": "0263c463-46bb-4b20-80cb-5576c5441bf5",
        "source": "DDOST",
        "source_name": "DDOST",
        "target": "MAGT1",
        "target_name": "MAGT1"
       },
       "selectable": false
      }
     },
     "288349705e26454bba518688f1e0c374": {
      "model_module": "jupyter-cytoscape",
      "model_module_version": "^1.3.3",
      "model_name": "NodeModel",
      "state": {
       "_model_module_version": "^1.3.3",
       "_view_module_version": "^1.3.3",
       "data": {
        "id": "MAGT1",
        "node_name": "MAGT1",
        "type": "gene/protein"
       },
       "grabbable": true,
       "grabbed": false,
       "position": {
        "x": 380.98069371476043,
        "y": 150.71266986835977
       },
       "selectable": false
      }
     },
     "28e6ecd28f4441ed99f9c918dc6313c8": {
      "model_module": "jupyter-cytoscape",
      "model_module_version": "^1.3.3",
      "model_name": "EdgeModel",
      "state": {
       "_model_module_version": "^1.3.3",
       "_view_module_version": "^1.3.3",
       "classes": " multiple_edges ",
       "data": {
        "display_relation": "BIOGRID",
        "id": "db209ea0-4007-4334-aa97-fc3b797920b3",
        "source": "RPN1",
        "source_name": "TMEM258",
        "target": "TMEM258",
        "target_name": "RPN1"
       },
       "selectable": false
      }
     },
     "296aec7d482a437798e7449e44a7270e": {
      "model_module": "jupyter-cytoscape",
      "model_module_version": "^1.3.3",
      "model_name": "NodeModel",
      "state": {
       "_model_module_version": "^1.3.3",
       "_view_module_version": "^1.3.3",
       "data": {
        "id": "STT3B",
        "node_name": "STT3B",
        "type": "gene/protein"
       },
       "grabbable": true,
       "grabbed": false,
       "position": {
        "x": 213.247412953135,
        "y": 328.77367214207754
       },
       "selectable": false
      }
     },
     "2c0d12ed5ed549b7bb7aff6f62a134b0": {
      "model_module": "jupyter-cytoscape",
      "model_module_version": "^1.3.3",
      "model_name": "EdgeModel",
      "state": {
       "_model_module_version": "^1.3.3",
       "_view_module_version": "^1.3.3",
       "classes": " multiple_edges ",
       "data": {
        "display_relation": "REACTOMEFI",
        "id": "0fc95bb0-dcb6-4faa-9cf4-d92d6ab60daa",
        "source": "RPN1",
        "source_name": "MAGT1",
        "target": "MAGT1",
        "target_name": "RPN1"
       },
       "selectable": false
      }
     },
     "2c0eb3a217bb49cbbbdc923bd0c47573": {
      "model_module": "jupyter-cytoscape",
      "model_module_version": "^1.3.3",
      "model_name": "EdgeModel",
      "state": {
       "_model_module_version": "^1.3.3",
       "_view_module_version": "^1.3.3",
       "classes": " multiple_edges ",
       "data": {
        "display_relation": "KroganCovHuPPI",
        "id": "86a15c5b-7794-4a3f-88f5-ec2e5fb008bf",
        "source": "STT3A",
        "source_name": "STT3A",
        "target": "SARS-CoV-2",
        "target_name": "SARS-CoV-2"
       },
       "selectable": false
      }
     },
     "2c3fbb2ae76e4388871a6a2b7110d781": {
      "model_module": "jupyter-cytoscape",
      "model_module_version": "^1.3.3",
      "model_name": "GraphModel",
      "state": {
       "_adj": {},
       "_model_module_version": "^1.3.3",
       "_view_module": "jupyter-cytoscape",
       "_view_module_version": "^1.3.3"
      }
     },
     "2d353b260346416dabc5c0e998751858": {
      "model_module": "jupyter-cytoscape",
      "model_module_version": "^1.3.3",
      "model_name": "EdgeModel",
      "state": {
       "_model_module_version": "^1.3.3",
       "_view_module_version": "^1.3.3",
       "classes": " multiple_edges ",
       "data": {
        "display_relation": "BIOGRID",
        "id": "6fbeda57-4883-4864-bfe4-cd6c2f670f47",
        "source": "TMEM258",
        "source_name": "TMEM258",
        "target": "DDOST",
        "target_name": "DDOST"
       },
       "selectable": false
      }
     },
     "2e05dca6b5734e89b3cf3b60181f720a": {
      "model_module": "jupyter-cytoscape",
      "model_module_version": "^1.3.3",
      "model_name": "NodeModel",
      "state": {
       "_model_module_version": "^1.3.3",
       "_view_module_version": "^1.3.3",
       "data": {
        "id": "DDOST",
        "node_name": "DDOST",
        "type": "gene/protein"
       },
       "grabbable": true,
       "grabbed": false,
       "position": {
        "x": 363.13516319343114,
        "y": 309.5678224329159
       },
       "selectable": false
      }
     },
     "2e3981e3b24a47f6b7052db97f7363c7": {
      "model_module": "jupyter-cytoscape",
      "model_module_version": "^1.3.3",
      "model_name": "EdgeModel",
      "state": {
       "_model_module_version": "^1.3.3",
       "_view_module_version": "^1.3.3",
       "classes": " multiple_edges ",
       "data": {
        "display_relation": "CORUM",
        "id": "34a77016-993f-447e-92bf-14358d5f1769",
        "source": "RPN1",
        "source_name": "RPN1",
        "target": "STT3B",
        "target_name": "STT3B"
       },
       "selectable": false
      }
     },
     "2f39409a2e384770bbb223080640f3a1": {
      "model_module": "jupyter-cytoscape",
      "model_module_version": "^1.3.3",
      "model_name": "NodeModel",
      "state": {
       "_model_module_version": "^1.3.3",
       "_view_module_version": "^1.3.3",
       "data": {
        "id": "STT3B",
        "node_name": "STT3B",
        "type": "gene/protein"
       },
       "grabbable": true,
       "grabbed": false,
       "position": {
        "x": 167.90750858678462,
        "y": 301.30199987849795
       },
       "selectable": false
      }
     },
     "3023f1911bf1483784e668f2b272e679": {
      "model_module": "jupyter-cytoscape",
      "model_module_version": "^1.3.3",
      "model_name": "NodeModel",
      "state": {
       "_model_module_version": "^1.3.3",
       "_view_module_version": "^1.3.3",
       "data": {
        "id": "IAV",
        "node_name": "IAV",
        "type": "disease"
       },
       "grabbable": true,
       "grabbed": false,
       "position": {
        "x": 338.0435014312722,
        "y": 56.32289222179373
       },
       "selectable": false
      }
     },
     "31d3e9bee7cf4e359f0aeb993efe9677": {
      "model_module": "jupyter-cytoscape",
      "model_module_version": "^1.3.3",
      "model_name": "EdgeModel",
      "state": {
       "_model_module_version": "^1.3.3",
       "_view_module_version": "^1.3.3",
       "classes": " multiple_edges ",
       "data": {
        "display_relation": "BIOGRID",
        "id": "9d0017f8-84c4-4124-bfaf-32155ff6675a",
        "source": "RPN1",
        "source_name": "RPN1",
        "target": "RPN2",
        "target_name": "RPN2"
       },
       "selectable": false
      }
     },
     "3284182bc35b470e8ff8a838d87a663b": {
      "model_module": "jupyter-cytoscape",
      "model_module_version": "^1.3.3",
      "model_name": "EdgeModel",
      "state": {
       "_model_module_version": "^1.3.3",
       "_view_module_version": "^1.3.3",
       "classes": " multiple_edges ",
       "data": {
        "display_relation": "crispr",
        "id": "9b93018b-eb35-4f18-a35b-9cd81e7bb2c0",
        "source": "TMEM258",
        "source_name": "TMEM258",
        "target": "SARS-CoV-2",
        "target_name": "SARS-CoV-2"
       },
       "selectable": false
      }
     },
     "3298604f617e45a9b8b926fc4cf103be": {
      "model_module": "jupyter-cytoscape",
      "model_module_version": "^1.3.3",
      "model_name": "EdgeModel",
      "state": {
       "_model_module_version": "^1.3.3",
       "_view_module_version": "^1.3.3",
       "classes": " multiple_edges ",
       "data": {
        "display_relation": "BIOGRID",
        "id": "1691c9d9-1b99-48b8-be6d-dbc44d924caf",
        "source": "RPN1",
        "source_name": "RPN1",
        "target": "RPN1",
        "target_name": "RPN1"
       },
       "selectable": false
      }
     },
     "3399c91100c94ffa875ba61a827b84d6": {
      "model_module": "jupyter-cytoscape",
      "model_module_version": "^1.3.3",
      "model_name": "EdgeModel",
      "state": {
       "_model_module_version": "^1.3.3",
       "_view_module_version": "^1.3.3",
       "classes": " multiple_edges ",
       "data": {
        "display_relation": "KroganIAV",
        "id": "ee5d0a7d-fb3f-449c-a52c-7f1206a93c51",
        "source": "RPN1",
        "source_name": "IAV",
        "target": "IAV",
        "target_name": "RPN1"
       },
       "selectable": false
      }
     },
     "33cb8fabb38c4048b77ef6b42dadac1f": {
      "model_module": "jupyter-cytoscape",
      "model_module_version": "^1.3.3",
      "model_name": "EdgeModel",
      "state": {
       "_model_module_version": "^1.3.3",
       "_view_module_version": "^1.3.3",
       "classes": " multiple_edges ",
       "data": {
        "display_relation": "crispr",
        "id": "0673ddda-47d5-4391-a136-1b93d161828d",
        "source": "OSTC",
        "source_name": "OSTC",
        "target": "HRV",
        "target_name": "HRV"
       },
       "selectable": false
      }
     },
     "34a9dd2a12ee4518a2669470af88178c": {
      "model_module": "jupyter-cytoscape",
      "model_module_version": "^1.3.3",
      "model_name": "GraphModel",
      "state": {
       "_adj": {
        "DAD1": {},
        "DDOST": {},
        "HCoV-NL63": {},
        "IAV": {},
        "MAGT1": {},
        "MERS-CoV": {},
        "OST4": {},
        "OSTC": {},
        "PIV3": {},
        "RPN1": {},
        "RPN2": {},
        "SARS-CoV-2": {},
        "STT3A": {},
        "STT3B": {},
        "TMEM258": {}
       },
       "_model_module_version": "^1.3.3",
       "_view_module": "jupyter-cytoscape",
       "_view_module_version": "^1.3.3",
       "edges": [
        "IPY_MODEL_5d8b6020627a45dbb8a19c6c4109a9a8",
        "IPY_MODEL_8d975469639f40b3b8a96a6034223695",
        "IPY_MODEL_d400a49c2cf04b289ee43edb6c7a542a",
        "IPY_MODEL_6960e9bff39b4980a35b9494aa0ce205",
        "IPY_MODEL_fc83adf0fa004d40aea53ed0a0789456",
        "IPY_MODEL_0c9336b04dea4aab96583398a354fa00",
        "IPY_MODEL_3e0d7a6c10f147afbe65281459470367",
        "IPY_MODEL_5a57388d1aaf45229f837f1b33c21c9a",
        "IPY_MODEL_386c9f21b9f3402991ba1c487a8648e9",
        "IPY_MODEL_0f36b432a70f4eaeb0a2ba277dae1339",
        "IPY_MODEL_25d35daefbaa47deb25dca8e41d7a025",
        "IPY_MODEL_2391381de3ae4bc0928a2c52fc19de91",
        "IPY_MODEL_c91738d8e4804785ac373aec6db93562",
        "IPY_MODEL_f47ef65b61dd4382bcc4890a2fbd92b2",
        "IPY_MODEL_007afee89eed408d8b391533c7ee51aa",
        "IPY_MODEL_1b3c34d0c3504155bf25a0b2f23b3738",
        "IPY_MODEL_f64648ad2bfd4dfd8c45870932ab8837",
        "IPY_MODEL_1744e63852e14f68bdf0b4f4f49976e1",
        "IPY_MODEL_42a616663ca04066a11ec6b6e454358a",
        "IPY_MODEL_9e69ab7ca41a45f5a609d14c6ce68a87",
        "IPY_MODEL_cd591216e71f4b678865ab1a533972c8",
        "IPY_MODEL_f9c7778af00940eda130ee7db36cfd98",
        "IPY_MODEL_4de4673d5f9d44ae88b3a6bbe71bef0c",
        "IPY_MODEL_a71d6cfc0a684516a0de852a75e5606e",
        "IPY_MODEL_5e1bb6d352b04886926e9c2b74b3c942",
        "IPY_MODEL_e1b78f7bc3f948538961a243a922dbbc",
        "IPY_MODEL_02f533482fcf42a1b3bbb4e36f561726",
        "IPY_MODEL_1f18ca67108546f69a5a4d372cda40ab",
        "IPY_MODEL_ff3a29fa4b164328aba54df3cfcacfaf",
        "IPY_MODEL_e9cf91bff9054e429c736e30f5f1ab45",
        "IPY_MODEL_79e68f27ec974b21add4ad98a5bc6ab2",
        "IPY_MODEL_c91976332c6d43368aaf99dfdcd5c5d3",
        "IPY_MODEL_1f31973537e844ccb18db2a9c1c60ad1",
        "IPY_MODEL_da79beae962e450fbacdb33949a9fdba",
        "IPY_MODEL_0f143d8c055c4ceb991c3ec0c48af8a6",
        "IPY_MODEL_e74e0c37e28b48ae92878d7163cfa227",
        "IPY_MODEL_406cfc15839e46c5bac7decc028cc234",
        "IPY_MODEL_61b5a33d16574a419353120dcee22396",
        "IPY_MODEL_c1ae9c4ef5d14203a2e2a446d50ec2ad",
        "IPY_MODEL_b44a2ac3a65e4d8c80abd8db32c98d7e",
        "IPY_MODEL_64af509e32cb4036baa23ec19e1f73c8",
        "IPY_MODEL_9aaf1baadbed4d1f8373a6bfdd806b7c",
        "IPY_MODEL_908d3373ddfa4c1085d487acde45f82e",
        "IPY_MODEL_0b232a620bbf492d8991667d5a83d001",
        "IPY_MODEL_7e9ad268779a4d499271aa14974dbeb6",
        "IPY_MODEL_3542b58c0e7e4a50a2339d8b87a7ec42",
        "IPY_MODEL_aaf3b9a3daac4de28fa4faa4ca96bbe7",
        "IPY_MODEL_a9d00fb9f6a94eabb922567ae83e3d2d",
        "IPY_MODEL_81680b67991a46dea757a1243fc8f1e5",
        "IPY_MODEL_3705f456ebfb409f8dc756eb44297cbb",
        "IPY_MODEL_dd393de58057415d9a6eea86c5dea8b3",
        "IPY_MODEL_e913018c0e484261bdd7b33c1847dfb2",
        "IPY_MODEL_1e10701ada4b45a783f72203cd3fe8a4",
        "IPY_MODEL_e50c2968f91b46fa87702f344dc533dd",
        "IPY_MODEL_80480688ab95476e82868d362e7247c4",
        "IPY_MODEL_433a437029d242238b04736e47f4d1d7",
        "IPY_MODEL_553cf5a67d9c467d80b7e602ecc5a771",
        "IPY_MODEL_e8a2a7105cb944928eadd2a0a02c57a9",
        "IPY_MODEL_e000e99d29bb48ffb2dcbb38cdc781e2",
        "IPY_MODEL_157b9be41dce47c9a7473b23f742e8b5",
        "IPY_MODEL_d9f47112ea1e4e94b650c0325ddfc380",
        "IPY_MODEL_bf0f9ceb79f9489a92b5707435e19c7d",
        "IPY_MODEL_09a3033a08f34991821fb4cf39f609af",
        "IPY_MODEL_9d75d8222b9246bd9231aea23a89add1",
        "IPY_MODEL_43d88b4c070444ca913695b92fd782f5",
        "IPY_MODEL_40ac6b28049e44099aebc38cb9a7f691",
        "IPY_MODEL_076f873b14e64364b9b1bb92c540aec0",
        "IPY_MODEL_87a3ef65a4df4076b2b74d7e5fabbcbc",
        "IPY_MODEL_0c53adc404aa45a0b94f7789a14b4167",
        "IPY_MODEL_5bcae7f697a844df8c9adc4b6633b0ff",
        "IPY_MODEL_76febe7c72bb452f9ad9556d264f0f41",
        "IPY_MODEL_a7c83ecaf53d4a5c9a20a4ad9b2ae2c5",
        "IPY_MODEL_73481f88df7c40dbae3a168321e88253",
        "IPY_MODEL_2622f1515d724e05a42184a33d9fa689",
        "IPY_MODEL_98f387880d7342fdabccc66054a24f7b",
        "IPY_MODEL_19dfafde0d544c0787a91d463d0e7515",
        "IPY_MODEL_c27a149bdd0b4ff1accc015d22c9ae9a"
       ],
       "nodes": [
        "IPY_MODEL_f1351ed37e5041429f79521c13982df5",
        "IPY_MODEL_c70ec4bddd0f4670beacd2504cf6246c",
        "IPY_MODEL_b392d3b78b484629ae84783a4f06b560",
        "IPY_MODEL_02e5a3f8e73247eba1f47040d07426a0",
        "IPY_MODEL_0aaf95773c104a4bab6b609ee3b05982",
        "IPY_MODEL_412fe745ce134f88b507a5ecf31f18b5",
        "IPY_MODEL_b7f20af50db14f86a0c10a1c995474fb",
        "IPY_MODEL_8ceb6a73fea84428b7309b9b2e744735",
        "IPY_MODEL_06cfe4c28f50477e994d1e35a45244a3",
        "IPY_MODEL_f8528f5ef05f4642a5afe20f11fed3a2",
        "IPY_MODEL_a5073b4bf4ff487086163dc13ea7c48e",
        "IPY_MODEL_70b7111f94834dbaa713c93755fc2d90",
        "IPY_MODEL_8635da1a75f14235813b5df1cfcc5ac8",
        "IPY_MODEL_4cddbfab12384e698b57dd571f921ac7",
        "IPY_MODEL_c3fa7cf3e2b94e8c97120d55f65b1413"
       ]
      }
     },
     "3524e427a8b34c919af76898b51befb2": {
      "model_module": "jupyter-cytoscape",
      "model_module_version": "^1.3.3",
      "model_name": "EdgeModel",
      "state": {
       "_model_module_version": "^1.3.3",
       "_view_module_version": "^1.3.3",
       "classes": " multiple_edges ",
       "data": {
        "display_relation": "KroganIAV",
        "id": "62db36da-d7cc-4975-ba6f-9928e5c0971c",
        "source": "RPN1",
        "source_name": "RPN1",
        "target": "RPN2",
        "target_name": "RPN2"
       },
       "selectable": false
      }
     },
     "3542b58c0e7e4a50a2339d8b87a7ec42": {
      "model_module": "jupyter-cytoscape",
      "model_module_version": "^1.3.3",
      "model_name": "EdgeModel",
      "state": {
       "_model_module_version": "^1.3.3",
       "_view_module_version": "^1.3.3",
       "classes": " multiple_edges ",
       "data": {
        "display_relation": "REACTOMEFI",
        "id": "619a06df-92e1-45d7-8e00-132bd2cf90cc",
        "source": "DAD1",
        "source_name": "DAD1",
        "target": "MAGT1",
        "target_name": "MAGT1"
       },
       "selectable": false
      }
     },
     "356e92c5126045b4ae4c2af38a13555c": {
      "model_module": "jupyter-cytoscape",
      "model_module_version": "^1.3.3",
      "model_name": "EdgeModel",
      "state": {
       "_model_module_version": "^1.3.3",
       "_view_module_version": "^1.3.3",
       "classes": " multiple_edges ",
       "data": {
        "display_relation": "paralogue",
        "id": "02f82301-990e-4c04-bb07-205a96558a92",
        "source": "STT3A",
        "source_name": "STT3B",
        "target": "STT3B",
        "target_name": "STT3A"
       },
       "selectable": false
      }
     },
     "36459872a07a4e509c2d2de4f6ee6205": {
      "model_module": "jupyter-cytoscape",
      "model_module_version": "^1.3.3",
      "model_name": "EdgeModel",
      "state": {
       "_model_module_version": "^1.3.3",
       "_view_module_version": "^1.3.3",
       "classes": " multiple_edges ",
       "data": {
        "display_relation": "CORUM",
        "id": "fe9dde8e-131d-4643-ae11-94e9e2907a12",
        "source": "RPN1",
        "source_name": "RPN1",
        "target": "STT3A",
        "target_name": "STT3A"
       },
       "selectable": false
      }
     },
     "36911a1e81e6412cb93effef74610bee": {
      "model_module": "jupyter-cytoscape",
      "model_module_version": "^1.3.3",
      "model_name": "EdgeModel",
      "state": {
       "_model_module_version": "^1.3.3",
       "_view_module_version": "^1.3.3",
       "classes": " multiple_edges ",
       "data": {
        "display_relation": "REACTOMEFI",
        "id": "eb76b10e-f02b-4e7d-8326-9b4987d80f77",
        "source": "RPN1",
        "source_name": "MAGT1",
        "target": "MAGT1",
        "target_name": "RPN1"
       },
       "selectable": false
      }
     },
     "3705f456ebfb409f8dc756eb44297cbb": {
      "model_module": "jupyter-cytoscape",
      "model_module_version": "^1.3.3",
      "model_name": "EdgeModel",
      "state": {
       "_model_module_version": "^1.3.3",
       "_view_module_version": "^1.3.3",
       "classes": " multiple_edges ",
       "data": {
        "display_relation": "CORUM",
        "id": "6678fede-e2fe-486e-a613-19d5a5aaf3ea",
        "source": "STT3A",
        "source_name": "DDOST",
        "target": "DDOST",
        "target_name": "STT3A"
       },
       "selectable": false
      }
     },
     "370c969d41a44824a5331e155ab555d6": {
      "model_module": "ipysigma",
      "model_module_version": "^0.24.2",
      "model_name": "SigmaModel",
      "state": {
       "_model_module_version": "^0.24.2",
       "_view_module_version": "^0.24.2",
       "background_color": "white",
       "camera_state": {
        "angle": 0,
        "ratio": 1,
        "x": 0.5,
        "y": 0.5
       },
       "clickable_edges": false,
       "data": {
        "edges": [
         {
          "attributes": {
           "display_relation": "BIOGRID",
           "source_name": "ATP6AP2",
           "target_name": "ATP6AP2"
          },
          "source": "ATP6AP2",
          "target": "ATP6AP2"
         },
         {
          "attributes": {
           "display_relation": "BIOGRID",
           "source_name": "ATP6AP2",
           "target_name": "ATP6AP1"
          },
          "source": "ATP6AP2",
          "target": "ATP6AP1"
         },
         {
          "attributes": {
           "display_relation": "KroganCovHuDEP",
           "source_name": "ATP6AP2",
           "target_name": "SARS-CoV-2"
          },
          "source": "ATP6AP2",
          "target": "SARS-CoV-2"
         },
         {
          "attributes": {
           "display_relation": "KroganCovHuPPI",
           "source_name": "ATP6AP2",
           "target_name": "SARS-CoV-2"
          },
          "source": "ATP6AP2",
          "target": "SARS-CoV-2"
         },
         {
          "attributes": {
           "display_relation": "crispr",
           "source_name": "ATP6AP2",
           "target_name": "SARS-CoV-2"
          },
          "source": "ATP6AP2",
          "target": "SARS-CoV-2"
         },
         {
          "attributes": {
           "display_relation": "crispr",
           "source_name": "ATP6AP2",
           "target_name": "HRV"
          },
          "source": "ATP6AP2",
          "target": "HRV"
         },
         {
          "attributes": {
           "display_relation": "crispr",
           "source_name": "ATP6AP2",
           "target_name": "IAV"
          },
          "source": "ATP6AP2",
          "target": "IAV"
         },
         {
          "attributes": {
           "display_relation": "crispr",
           "source_name": "ATP6AP2",
           "target_name": "RSV"
          },
          "source": "ATP6AP2",
          "target": "RSV"
         },
         {
          "attributes": {
           "display_relation": "REACTOMEFI",
           "source_name": "ATP6AP1",
           "target_name": "ATP6V0A1"
          },
          "source": "ATP6AP1",
          "target": "ATP6V0A1"
         },
         {
          "attributes": {
           "display_relation": "REACTOMEFI",
           "source_name": "ATP6AP1",
           "target_name": "ATP6V0C"
          },
          "source": "ATP6AP1",
          "target": "ATP6V0C"
         },
         {
          "attributes": {
           "display_relation": "REACTOMEFI",
           "source_name": "ATP6AP1",
           "target_name": "ATP6V0D1"
          },
          "source": "ATP6AP1",
          "target": "ATP6V0D1"
         },
         {
          "attributes": {
           "display_relation": "REACTOMEFI",
           "source_name": "ATP6AP1",
           "target_name": "ATP6V0E1"
          },
          "source": "ATP6AP1",
          "target": "ATP6V0E1"
         },
         {
          "attributes": {
           "display_relation": "REACTOMEFI",
           "source_name": "ATP6AP1",
           "target_name": "ATP6V1A"
          },
          "source": "ATP6AP1",
          "target": "ATP6V1A"
         },
         {
          "attributes": {
           "display_relation": "REACTOMEFI",
           "source_name": "ATP6AP1",
           "target_name": "ATP6V1B2"
          },
          "source": "ATP6AP1",
          "target": "ATP6V1B2"
         },
         {
          "attributes": {
           "display_relation": "REACTOMEFI",
           "source_name": "ATP6AP1",
           "target_name": "ATP6V1C1"
          },
          "source": "ATP6AP1",
          "target": "ATP6V1C1"
         },
         {
          "attributes": {
           "display_relation": "REACTOMEFI",
           "source_name": "ATP6AP1",
           "target_name": "ATP6V1D"
          },
          "source": "ATP6AP1",
          "target": "ATP6V1D"
         },
         {
          "attributes": {
           "display_relation": "REACTOMEFI",
           "source_name": "ATP6AP1",
           "target_name": "ATP6V1E1"
          },
          "source": "ATP6AP1",
          "target": "ATP6V1E1"
         },
         {
          "attributes": {
           "display_relation": "REACTOMEFI",
           "source_name": "ATP6AP1",
           "target_name": "ATP6V1F"
          },
          "source": "ATP6AP1",
          "target": "ATP6V1F"
         },
         {
          "attributes": {
           "display_relation": "REACTOMEFI",
           "source_name": "ATP6AP1",
           "target_name": "ATP6V1G1"
          },
          "source": "ATP6AP1",
          "target": "ATP6V1G1"
         },
         {
          "attributes": {
           "display_relation": "KroganCovHuDEP",
           "source_name": "ATP6AP1",
           "target_name": "SARS-CoV-2"
          },
          "source": "ATP6AP1",
          "target": "SARS-CoV-2"
         },
         {
          "attributes": {
           "display_relation": "KroganCovHuPPI",
           "source_name": "ATP6AP1",
           "target_name": "SARS-CoV-2"
          },
          "source": "ATP6AP1",
          "target": "SARS-CoV-2"
         },
         {
          "attributes": {
           "display_relation": "GEPanelAppCoV",
           "source_name": "ATP6AP1",
           "target_name": "SARS-CoV-2"
          },
          "source": "ATP6AP1",
          "target": "SARS-CoV-2"
         },
         {
          "attributes": {
           "display_relation": "crispr",
           "source_name": "ATP6AP1",
           "target_name": "SARS-CoV-2"
          },
          "source": "ATP6AP1",
          "target": "SARS-CoV-2"
         },
         {
          "attributes": {
           "display_relation": "crispr",
           "source_name": "ATP6AP1",
           "target_name": "HRV"
          },
          "source": "ATP6AP1",
          "target": "HRV"
         },
         {
          "attributes": {
           "display_relation": "crispr",
           "source_name": "ATP6AP1",
           "target_name": "IAV"
          },
          "source": "ATP6AP1",
          "target": "IAV"
         },
         {
          "attributes": {
           "display_relation": "crispr",
           "source_name": "ATP6AP1",
           "target_name": "RSV"
          },
          "source": "ATP6AP1",
          "target": "RSV"
         },
         {
          "attributes": {
           "display_relation": "CORUM",
           "source_name": "ATP6V1B2",
           "target_name": "ATP6V0C"
          },
          "source": "ATP6V1B2",
          "target": "ATP6V0C"
         },
         {
          "attributes": {
           "display_relation": "REACTOMEFI",
           "source_name": "ATP6V0C",
           "target_name": "ATP6V1B2"
          },
          "source": "ATP6V1B2",
          "target": "ATP6V0C"
         },
         {
          "attributes": {
           "display_relation": "CORUM",
           "source_name": "ATP6V1B2",
           "target_name": "ATP6V1A"
          },
          "source": "ATP6V1B2",
          "target": "ATP6V1A"
         },
         {
          "attributes": {
           "display_relation": "REACTOMEFI",
           "source_name": "ATP6V1A",
           "target_name": "ATP6V1B2"
          },
          "source": "ATP6V1B2",
          "target": "ATP6V1A"
         },
         {
          "attributes": {
           "display_relation": "CORUM",
           "source_name": "ATP6V1B2",
           "target_name": "ATP6V0D1"
          },
          "source": "ATP6V1B2",
          "target": "ATP6V0D1"
         },
         {
          "attributes": {
           "display_relation": "REACTOMEFI",
           "source_name": "ATP6V0D1",
           "target_name": "ATP6V1B2"
          },
          "source": "ATP6V1B2",
          "target": "ATP6V0D1"
         },
         {
          "attributes": {
           "display_relation": "REACTOMEFI",
           "source_name": "ATP6V0A1",
           "target_name": "ATP6V1B2"
          },
          "source": "ATP6V1B2",
          "target": "ATP6V0A1"
         },
         {
          "attributes": {
           "display_relation": "REACTOMEFI",
           "source_name": "ATP6V0E1",
           "target_name": "ATP6V1B2"
          },
          "source": "ATP6V1B2",
          "target": "ATP6V0E1"
         },
         {
          "attributes": {
           "display_relation": "REACTOMEFI",
           "source_name": "ATP6V1B2",
           "target_name": "ATP6V1C1"
          },
          "source": "ATP6V1B2",
          "target": "ATP6V1C1"
         },
         {
          "attributes": {
           "display_relation": "REACTOMEFI",
           "source_name": "ATP6V1B2",
           "target_name": "ATP6V1D"
          },
          "source": "ATP6V1B2",
          "target": "ATP6V1D"
         },
         {
          "attributes": {
           "display_relation": "REACTOMEFI",
           "source_name": "ATP6V1B2",
           "target_name": "ATP6V1E1"
          },
          "source": "ATP6V1B2",
          "target": "ATP6V1E1"
         },
         {
          "attributes": {
           "display_relation": "REACTOMEFI",
           "source_name": "ATP6V1B2",
           "target_name": "ATP6V1F"
          },
          "source": "ATP6V1B2",
          "target": "ATP6V1F"
         },
         {
          "attributes": {
           "display_relation": "REACTOMEFI",
           "source_name": "ATP6V1B2",
           "target_name": "ATP6V1G1"
          },
          "source": "ATP6V1B2",
          "target": "ATP6V1G1"
         },
         {
          "attributes": {
           "display_relation": "Flu_candidate_genes",
           "source_name": "ATP6V1B2",
           "target_name": "IAV"
          },
          "source": "ATP6V1B2",
          "target": "IAV"
         },
         {
          "attributes": {
           "display_relation": "crispr",
           "source_name": "ATP6V1B2",
           "target_name": "SARS-CoV-2"
          },
          "source": "ATP6V1B2",
          "target": "SARS-CoV-2"
         },
         {
          "attributes": {
           "display_relation": "CORUM",
           "source_name": "ATP6V0C",
           "target_name": "ATP6V1A"
          },
          "source": "ATP6V0C",
          "target": "ATP6V1A"
         },
         {
          "attributes": {
           "display_relation": "REACTOMEFI",
           "source_name": "ATP6V0C",
           "target_name": "ATP6V1A"
          },
          "source": "ATP6V0C",
          "target": "ATP6V1A"
         },
         {
          "attributes": {
           "display_relation": "CORUM",
           "source_name": "ATP6V0C",
           "target_name": "ATP6V0D1"
          },
          "source": "ATP6V0C",
          "target": "ATP6V0D1"
         },
         {
          "attributes": {
           "display_relation": "REACTOMEFI",
           "source_name": "ATP6V0C",
           "target_name": "ATP6V0D1"
          },
          "source": "ATP6V0C",
          "target": "ATP6V0D1"
         },
         {
          "attributes": {
           "display_relation": "REACTOMEFI",
           "source_name": "ATP6V0A1",
           "target_name": "ATP6V0C"
          },
          "source": "ATP6V0C",
          "target": "ATP6V0A1"
         },
         {
          "attributes": {
           "display_relation": "REACTOMEFI",
           "source_name": "ATP6V0C",
           "target_name": "ATP6V0E1"
          },
          "source": "ATP6V0C",
          "target": "ATP6V0E1"
         },
         {
          "attributes": {
           "display_relation": "REACTOMEFI",
           "source_name": "ATP6V0C",
           "target_name": "ATP6V1C1"
          },
          "source": "ATP6V0C",
          "target": "ATP6V1C1"
         },
         {
          "attributes": {
           "display_relation": "REACTOMEFI",
           "source_name": "ATP6V0C",
           "target_name": "ATP6V1D"
          },
          "source": "ATP6V0C",
          "target": "ATP6V1D"
         },
         {
          "attributes": {
           "display_relation": "REACTOMEFI",
           "source_name": "ATP6V0C",
           "target_name": "ATP6V1E1"
          },
          "source": "ATP6V0C",
          "target": "ATP6V1E1"
         },
         {
          "attributes": {
           "display_relation": "REACTOMEFI",
           "source_name": "ATP6V0C",
           "target_name": "ATP6V1F"
          },
          "source": "ATP6V0C",
          "target": "ATP6V1F"
         },
         {
          "attributes": {
           "display_relation": "REACTOMEFI",
           "source_name": "ATP6V0C",
           "target_name": "ATP6V1G1"
          },
          "source": "ATP6V0C",
          "target": "ATP6V1G1"
         },
         {
          "attributes": {
           "display_relation": "Flu_candidate_genes",
           "source_name": "ATP6V0C",
           "target_name": "IAV"
          },
          "source": "ATP6V0C",
          "target": "IAV"
         },
         {
          "attributes": {
           "display_relation": "crispr",
           "source_name": "ATP6V0C",
           "target_name": "IAV"
          },
          "source": "ATP6V0C",
          "target": "IAV"
         },
         {
          "attributes": {
           "display_relation": "crispr",
           "source_name": "ATP6V0C",
           "target_name": "HRV"
          },
          "source": "ATP6V0C",
          "target": "HRV"
         },
         {
          "attributes": {
           "display_relation": "crispr",
           "source_name": "ATP6V0C",
           "target_name": "RSV"
          },
          "source": "ATP6V0C",
          "target": "RSV"
         },
         {
          "attributes": {
           "display_relation": "crispr",
           "source_name": "ATP6V0C",
           "target_name": "SARS-CoV-2"
          },
          "source": "ATP6V0C",
          "target": "SARS-CoV-2"
         },
         {
          "attributes": {
           "display_relation": "CORUM",
           "source_name": "ATP6V1A",
           "target_name": "ATP6V0D1"
          },
          "source": "ATP6V1A",
          "target": "ATP6V0D1"
         },
         {
          "attributes": {
           "display_relation": "REACTOMEFI",
           "source_name": "ATP6V0D1",
           "target_name": "ATP6V1A"
          },
          "source": "ATP6V1A",
          "target": "ATP6V0D1"
         },
         {
          "attributes": {
           "display_relation": "REACTOMEFI",
           "source_name": "ATP6V0A1",
           "target_name": "ATP6V1A"
          },
          "source": "ATP6V1A",
          "target": "ATP6V0A1"
         },
         {
          "attributes": {
           "display_relation": "REACTOMEFI",
           "source_name": "ATP6V0E1",
           "target_name": "ATP6V1A"
          },
          "source": "ATP6V1A",
          "target": "ATP6V0E1"
         },
         {
          "attributes": {
           "display_relation": "REACTOMEFI",
           "source_name": "ATP6V1A",
           "target_name": "ATP6V1C1"
          },
          "source": "ATP6V1A",
          "target": "ATP6V1C1"
         },
         {
          "attributes": {
           "display_relation": "REACTOMEFI",
           "source_name": "ATP6V1A",
           "target_name": "ATP6V1D"
          },
          "source": "ATP6V1A",
          "target": "ATP6V1D"
         },
         {
          "attributes": {
           "display_relation": "REACTOMEFI",
           "source_name": "ATP6V1A",
           "target_name": "ATP6V1E1"
          },
          "source": "ATP6V1A",
          "target": "ATP6V1E1"
         },
         {
          "attributes": {
           "display_relation": "REACTOMEFI",
           "source_name": "ATP6V1A",
           "target_name": "ATP6V1F"
          },
          "source": "ATP6V1A",
          "target": "ATP6V1F"
         },
         {
          "attributes": {
           "display_relation": "REACTOMEFI",
           "source_name": "ATP6V1A",
           "target_name": "ATP6V1G1"
          },
          "source": "ATP6V1A",
          "target": "ATP6V1G1"
         },
         {
          "attributes": {
           "display_relation": "Flu_candidate_genes",
           "source_name": "ATP6V1A",
           "target_name": "IAV"
          },
          "source": "ATP6V1A",
          "target": "IAV"
         },
         {
          "attributes": {
           "display_relation": "KroganIAV",
           "source_name": "IAV",
           "target_name": "ATP6V1A"
          },
          "source": "ATP6V1A",
          "target": "IAV"
         },
         {
          "attributes": {
           "display_relation": "crispr",
           "source_name": "ATP6V1A",
           "target_name": "IAV"
          },
          "source": "ATP6V1A",
          "target": "IAV"
         },
         {
          "attributes": {
           "display_relation": "KroganCovHuPPI",
           "source_name": "ATP6V1A",
           "target_name": "SARS-CoV-2"
          },
          "source": "ATP6V1A",
          "target": "SARS-CoV-2"
         },
         {
          "attributes": {
           "display_relation": "crispr",
           "source_name": "ATP6V1A",
           "target_name": "SARS-CoV-2"
          },
          "source": "ATP6V1A",
          "target": "SARS-CoV-2"
         },
         {
          "attributes": {
           "display_relation": "crispr",
           "source_name": "ATP6V1A",
           "target_name": "HRV"
          },
          "source": "ATP6V1A",
          "target": "HRV"
         },
         {
          "attributes": {
           "display_relation": "crispr",
           "source_name": "ATP6V1A",
           "target_name": "RSV"
          },
          "source": "ATP6V1A",
          "target": "RSV"
         },
         {
          "attributes": {
           "display_relation": "REACTOMEFI",
           "source_name": "ATP6V0A1",
           "target_name": "ATP6V0D1"
          },
          "source": "ATP6V0D1",
          "target": "ATP6V0A1"
         },
         {
          "attributes": {
           "display_relation": "REACTOMEFI",
           "source_name": "ATP6V0D1",
           "target_name": "ATP6V0E1"
          },
          "source": "ATP6V0D1",
          "target": "ATP6V0E1"
         },
         {
          "attributes": {
           "display_relation": "REACTOMEFI",
           "source_name": "ATP6V0D1",
           "target_name": "ATP6V1C1"
          },
          "source": "ATP6V0D1",
          "target": "ATP6V1C1"
         },
         {
          "attributes": {
           "display_relation": "REACTOMEFI",
           "source_name": "ATP6V0D1",
           "target_name": "ATP6V1D"
          },
          "source": "ATP6V0D1",
          "target": "ATP6V1D"
         },
         {
          "attributes": {
           "display_relation": "REACTOMEFI",
           "source_name": "ATP6V0D1",
           "target_name": "ATP6V1E1"
          },
          "source": "ATP6V0D1",
          "target": "ATP6V1E1"
         },
         {
          "attributes": {
           "display_relation": "REACTOMEFI",
           "source_name": "ATP6V0D1",
           "target_name": "ATP6V1F"
          },
          "source": "ATP6V0D1",
          "target": "ATP6V1F"
         },
         {
          "attributes": {
           "display_relation": "REACTOMEFI",
           "source_name": "ATP6V0D1",
           "target_name": "ATP6V1G1"
          },
          "source": "ATP6V0D1",
          "target": "ATP6V1G1"
         },
         {
          "attributes": {
           "display_relation": "Flu_candidate_genes",
           "source_name": "ATP6V0D1",
           "target_name": "IAV"
          },
          "source": "ATP6V0D1",
          "target": "IAV"
         },
         {
          "attributes": {
           "display_relation": "crispr",
           "source_name": "ATP6V0D1",
           "target_name": "IAV"
          },
          "source": "ATP6V0D1",
          "target": "IAV"
         },
         {
          "attributes": {
           "display_relation": "crispr",
           "source_name": "ATP6V0D1",
           "target_name": "HRV"
          },
          "source": "ATP6V0D1",
          "target": "HRV"
         },
         {
          "attributes": {
           "display_relation": "REACTOMEFI",
           "source_name": "ATP6V0A1",
           "target_name": "ATP6V0E1"
          },
          "source": "ATP6V0A1",
          "target": "ATP6V0E1"
         },
         {
          "attributes": {
           "display_relation": "REACTOMEFI",
           "source_name": "ATP6V0A1",
           "target_name": "ATP6V1C1"
          },
          "source": "ATP6V0A1",
          "target": "ATP6V1C1"
         },
         {
          "attributes": {
           "display_relation": "REACTOMEFI",
           "source_name": "ATP6V0A1",
           "target_name": "ATP6V1D"
          },
          "source": "ATP6V0A1",
          "target": "ATP6V1D"
         },
         {
          "attributes": {
           "display_relation": "REACTOMEFI",
           "source_name": "ATP6V0A1",
           "target_name": "ATP6V1E1"
          },
          "source": "ATP6V0A1",
          "target": "ATP6V1E1"
         },
         {
          "attributes": {
           "display_relation": "REACTOMEFI",
           "source_name": "ATP6V0A1",
           "target_name": "ATP6V1F"
          },
          "source": "ATP6V0A1",
          "target": "ATP6V1F"
         },
         {
          "attributes": {
           "display_relation": "REACTOMEFI",
           "source_name": "ATP6V0A1",
           "target_name": "ATP6V1G1"
          },
          "source": "ATP6V0A1",
          "target": "ATP6V1G1"
         },
         {
          "attributes": {
           "display_relation": "Flu_candidate_genes",
           "source_name": "ATP6V0A1",
           "target_name": "IAV"
          },
          "source": "ATP6V0A1",
          "target": "IAV"
         },
         {
          "attributes": {
           "display_relation": "REACTOMEFI",
           "source_name": "ATP6V0E1",
           "target_name": "ATP6V1C1"
          },
          "source": "ATP6V0E1",
          "target": "ATP6V1C1"
         },
         {
          "attributes": {
           "display_relation": "REACTOMEFI",
           "source_name": "ATP6V0E1",
           "target_name": "ATP6V1D"
          },
          "source": "ATP6V0E1",
          "target": "ATP6V1D"
         },
         {
          "attributes": {
           "display_relation": "REACTOMEFI",
           "source_name": "ATP6V0E1",
           "target_name": "ATP6V1E1"
          },
          "source": "ATP6V0E1",
          "target": "ATP6V1E1"
         },
         {
          "attributes": {
           "display_relation": "REACTOMEFI",
           "source_name": "ATP6V0E1",
           "target_name": "ATP6V1F"
          },
          "source": "ATP6V0E1",
          "target": "ATP6V1F"
         },
         {
          "attributes": {
           "display_relation": "REACTOMEFI",
           "source_name": "ATP6V0E1",
           "target_name": "ATP6V1G1"
          },
          "source": "ATP6V0E1",
          "target": "ATP6V1G1"
         },
         {
          "attributes": {
           "display_relation": "Flu_candidate_genes",
           "source_name": "ATP6V0E1",
           "target_name": "IAV"
          },
          "source": "ATP6V0E1",
          "target": "IAV"
         },
         {
          "attributes": {
           "display_relation": "REACTOMEFI",
           "source_name": "ATP6V1C1",
           "target_name": "ATP6V1D"
          },
          "source": "ATP6V1C1",
          "target": "ATP6V1D"
         },
         {
          "attributes": {
           "display_relation": "REACTOMEFI",
           "source_name": "ATP6V1C1",
           "target_name": "ATP6V1E1"
          },
          "source": "ATP6V1C1",
          "target": "ATP6V1E1"
         },
         {
          "attributes": {
           "display_relation": "REACTOMEFI",
           "source_name": "ATP6V1C1",
           "target_name": "ATP6V1F"
          },
          "source": "ATP6V1C1",
          "target": "ATP6V1F"
         },
         {
          "attributes": {
           "display_relation": "REACTOMEFI",
           "source_name": "ATP6V1C1",
           "target_name": "ATP6V1G1"
          },
          "source": "ATP6V1C1",
          "target": "ATP6V1G1"
         },
         {
          "attributes": {
           "display_relation": "Flu_candidate_genes",
           "source_name": "ATP6V1C1",
           "target_name": "IAV"
          },
          "source": "ATP6V1C1",
          "target": "IAV"
         },
         {
          "attributes": {
           "display_relation": "crispr",
           "source_name": "ATP6V1C1",
           "target_name": "HRV"
          },
          "source": "ATP6V1C1",
          "target": "HRV"
         },
         {
          "attributes": {
           "display_relation": "crispr",
           "source_name": "ATP6V1C1",
           "target_name": "RSV"
          },
          "source": "ATP6V1C1",
          "target": "RSV"
         },
         {
          "attributes": {
           "display_relation": "crispr",
           "source_name": "ATP6V1C1",
           "target_name": "SARS-CoV-2"
          },
          "source": "ATP6V1C1",
          "target": "SARS-CoV-2"
         },
         {
          "attributes": {
           "display_relation": "REACTOMEFI",
           "source_name": "ATP6V1D",
           "target_name": "ATP6V1E1"
          },
          "source": "ATP6V1D",
          "target": "ATP6V1E1"
         },
         {
          "attributes": {
           "display_relation": "REACTOMEFI",
           "source_name": "ATP6V1D",
           "target_name": "ATP6V1F"
          },
          "source": "ATP6V1D",
          "target": "ATP6V1F"
         },
         {
          "attributes": {
           "display_relation": "REACTOMEFI",
           "source_name": "ATP6V1D",
           "target_name": "ATP6V1G1"
          },
          "source": "ATP6V1D",
          "target": "ATP6V1G1"
         },
         {
          "attributes": {
           "display_relation": "Flu_candidate_genes",
           "source_name": "ATP6V1D",
           "target_name": "IAV"
          },
          "source": "ATP6V1D",
          "target": "IAV"
         },
         {
          "attributes": {
           "display_relation": "crispr",
           "source_name": "ATP6V1D",
           "target_name": "IAV"
          },
          "source": "ATP6V1D",
          "target": "IAV"
         },
         {
          "attributes": {
           "display_relation": "KroganCovHuDEP",
           "source_name": "ATP6V1D",
           "target_name": "SARS-CoV-2"
          },
          "source": "ATP6V1D",
          "target": "SARS-CoV-2"
         },
         {
          "attributes": {
           "display_relation": "crispr",
           "source_name": "ATP6V1D",
           "target_name": "SARS-CoV-2"
          },
          "source": "ATP6V1D",
          "target": "SARS-CoV-2"
         },
         {
          "attributes": {
           "display_relation": "crispr",
           "source_name": "ATP6V1D",
           "target_name": "HRV"
          },
          "source": "ATP6V1D",
          "target": "HRV"
         },
         {
          "attributes": {
           "display_relation": "crispr",
           "source_name": "ATP6V1D",
           "target_name": "RSV"
          },
          "source": "ATP6V1D",
          "target": "RSV"
         },
         {
          "attributes": {
           "display_relation": "REACTOMEFI",
           "source_name": "ATP6V1E1",
           "target_name": "ATP6V1F"
          },
          "source": "ATP6V1E1",
          "target": "ATP6V1F"
         },
         {
          "attributes": {
           "display_relation": "REACTOMEFI",
           "source_name": "ATP6V1E1",
           "target_name": "ATP6V1G1"
          },
          "source": "ATP6V1E1",
          "target": "ATP6V1G1"
         },
         {
          "attributes": {
           "display_relation": "Flu_candidate_genes",
           "source_name": "ATP6V1E1",
           "target_name": "IAV"
          },
          "source": "ATP6V1E1",
          "target": "IAV"
         },
         {
          "attributes": {
           "display_relation": "crispr",
           "source_name": "ATP6V1E1",
           "target_name": "IAV"
          },
          "source": "ATP6V1E1",
          "target": "IAV"
         },
         {
          "attributes": {
           "display_relation": "crispr",
           "source_name": "ATP6V1E1",
           "target_name": "HRV"
          },
          "source": "ATP6V1E1",
          "target": "HRV"
         },
         {
          "attributes": {
           "display_relation": "crispr",
           "source_name": "ATP6V1E1",
           "target_name": "RSV"
          },
          "source": "ATP6V1E1",
          "target": "RSV"
         },
         {
          "attributes": {
           "display_relation": "crispr",
           "source_name": "ATP6V1E1",
           "target_name": "SARS-CoV-2"
          },
          "source": "ATP6V1E1",
          "target": "SARS-CoV-2"
         },
         {
          "attributes": {
           "display_relation": "REACTOMEFI",
           "source_name": "ATP6V1F",
           "target_name": "ATP6V1G1"
          },
          "source": "ATP6V1F",
          "target": "ATP6V1G1"
         },
         {
          "attributes": {
           "display_relation": "Flu_candidate_genes",
           "source_name": "ATP6V1F",
           "target_name": "IAV"
          },
          "source": "ATP6V1F",
          "target": "IAV"
         },
         {
          "attributes": {
           "display_relation": "KroganCovHuDEP",
           "source_name": "ATP6V1F",
           "target_name": "SARS-CoV-2"
          },
          "source": "ATP6V1F",
          "target": "SARS-CoV-2"
         },
         {
          "attributes": {
           "display_relation": "crispr",
           "source_name": "ATP6V1F",
           "target_name": "SARS-CoV-2"
          },
          "source": "ATP6V1F",
          "target": "SARS-CoV-2"
         },
         {
          "attributes": {
           "display_relation": "crispr",
           "source_name": "ATP6V1F",
           "target_name": "HRV"
          },
          "source": "ATP6V1F",
          "target": "HRV"
         },
         {
          "attributes": {
           "display_relation": "crispr",
           "source_name": "ATP6V1F",
           "target_name": "RSV"
          },
          "source": "ATP6V1F",
          "target": "RSV"
         },
         {
          "attributes": {
           "display_relation": "Flu_candidate_genes",
           "source_name": "ATP6V1G1",
           "target_name": "IAV"
          },
          "source": "ATP6V1G1",
          "target": "IAV"
         },
         {
          "attributes": {
           "display_relation": "KroganCovHuPPI",
           "source_name": "ATP6V1G1",
           "target_name": "SARS-CoV-2"
          },
          "source": "ATP6V1G1",
          "target": "SARS-CoV-2"
         },
         {
          "attributes": {
           "display_relation": "crispr",
           "source_name": "ATP6V1G1",
           "target_name": "SARS-CoV-2"
          },
          "source": "ATP6V1G1",
          "target": "SARS-CoV-2"
         },
         {
          "attributes": {
           "display_relation": "crispr",
           "source_name": "ATP6V1G1",
           "target_name": "RSV"
          },
          "source": "ATP6V1G1",
          "target": "RSV"
         }
        ],
        "nodes": [
         {
          "attributes": {
           "ipysigma_kwarg_node_size": 9,
           "node_name": "ATP6AP2",
           "type": "gene/protein",
           "x": 0.15428948876230283,
           "y": 0.25273986629959766
          },
          "key": "ATP6AP2"
         },
         {
          "attributes": {
           "ipysigma_kwarg_node_size": 19,
           "node_name": "ATP6AP1",
           "type": "gene/protein",
           "x": 0.5762050567157171,
           "y": 0.8675055755423209
          },
          "key": "ATP6AP1"
         },
         {
          "attributes": {
           "ipysigma_kwarg_node_size": 16,
           "node_name": "ATP6V1B2",
           "type": "gene/protein",
           "x": 0.4923045147706771,
           "y": 0.7549328770522359
          },
          "key": "ATP6V1B2"
         },
         {
          "attributes": {
           "ipysigma_kwarg_node_size": 19,
           "node_name": "ATP6V0C",
           "type": "gene/protein",
           "x": 0.536310160588477,
           "y": 0.6607164922702594
          },
          "key": "ATP6V0C"
         },
         {
          "attributes": {
           "ipysigma_kwarg_node_size": 21,
           "node_name": "ATP6V1A",
           "type": "gene/protein",
           "x": 0.17898877761019927,
           "y": 0.7423470400617883
          },
          "key": "ATP6V1A"
         },
         {
          "attributes": {
           "ipysigma_kwarg_node_size": 17,
           "node_name": "ATP6V0D1",
           "type": "gene/protein",
           "x": 0.7654569574501733,
           "y": 0.2409002179776765
          },
          "key": "ATP6V0D1"
         },
         {
          "attributes": {
           "ipysigma_kwarg_node_size": 12,
           "node_name": "ATP6V0A1",
           "type": "gene/protein",
           "x": 0.8666364121438902,
           "y": 0.3612731622048909
          },
          "key": "ATP6V0A1"
         },
         {
          "attributes": {
           "ipysigma_kwarg_node_size": 12,
           "node_name": "ATP6V0E1",
           "type": "gene/protein",
           "x": 0.3750092524652347,
           "y": 0.43898357292952234
          },
          "key": "ATP6V0E1"
         },
         {
          "attributes": {
           "ipysigma_kwarg_node_size": 15,
           "node_name": "ATP6V1C1",
           "type": "gene/protein",
           "x": 0.686974614630136,
           "y": 0.44860358368004677
          },
          "key": "ATP6V1C1"
         },
         {
          "attributes": {
           "ipysigma_kwarg_node_size": 17,
           "node_name": "ATP6V1D",
           "type": "gene/protein",
           "x": 0.40559004582969205,
           "y": 0.8051142792853555
          },
          "key": "ATP6V1D"
         },
         {
          "attributes": {
           "ipysigma_kwarg_node_size": 16,
           "node_name": "ATP6V1E1",
           "type": "gene/protein",
           "x": 0.2755987667745767,
           "y": 0.4476774839346224
          },
          "key": "ATP6V1E1"
         },
         {
          "attributes": {
           "ipysigma_kwarg_node_size": 16,
           "node_name": "ATP6V1F",
           "type": "gene/protein",
           "x": 0.692315680725632,
           "y": 0.22264914856719326
          },
          "key": "ATP6V1F"
         },
         {
          "attributes": {
           "ipysigma_kwarg_node_size": 15,
           "node_name": "ATP6V1G1",
           "type": "gene/protein",
           "x": 0.6517501069627378,
           "y": 0.3711104926111498
          },
          "key": "ATP6V1G1"
         },
         {
          "attributes": {
           "ipysigma_kwarg_node_size": 19,
           "node_name": "IAV",
           "type": "disease",
           "x": 0.2111467647774474,
           "y": 0.09947058602301147
          },
          "key": "IAV"
         },
         {
          "attributes": {
           "ipysigma_kwarg_node_size": 19,
           "node_name": "SARS-CoV-2",
           "type": "disease",
           "x": 0.599929496786351,
           "y": 0.0787483076490472
          },
          "key": "SARS-CoV-2"
         },
         {
          "attributes": {
           "ipysigma_kwarg_node_size": 9,
           "node_name": "HRV",
           "type": "disease",
           "x": 0.5204078971266999,
           "y": 0.5260697341972731
          },
          "key": "HRV"
         },
         {
          "attributes": {
           "ipysigma_kwarg_node_size": 9,
           "node_name": "RSV",
           "type": "disease",
           "x": 0.25573721555965384,
           "y": 0.4088724813190393
          },
          "key": "RSV"
         }
        ],
        "options": {
         "multi": true,
         "type": "undirected"
        }
       },
       "edge_weight": "weight",
       "height": "500px",
       "layout": {
        "ATP6AP1": {
         "x": 0.5762050567157171,
         "y": 0.8675055755423209
        },
        "ATP6AP2": {
         "x": 0.15428948876230283,
         "y": 0.25273986629959766
        },
        "ATP6V0A1": {
         "x": 0.8666364121438902,
         "y": 0.3612731622048909
        },
        "ATP6V0C": {
         "x": 0.536310160588477,
         "y": 0.6607164922702594
        },
        "ATP6V0D1": {
         "x": 0.7654569574501733,
         "y": 0.2409002179776765
        },
        "ATP6V0E1": {
         "x": 0.3750092524652347,
         "y": 0.43898357292952234
        },
        "ATP6V1A": {
         "x": 0.17898877761019927,
         "y": 0.7423470400617883
        },
        "ATP6V1B2": {
         "x": 0.4923045147706771,
         "y": 0.7549328770522359
        },
        "ATP6V1C1": {
         "x": 0.686974614630136,
         "y": 0.44860358368004677
        },
        "ATP6V1D": {
         "x": 0.40559004582969205,
         "y": 0.8051142792853555
        },
        "ATP6V1E1": {
         "x": 0.2755987667745767,
         "y": 0.4476774839346224
        },
        "ATP6V1F": {
         "x": 0.692315680725632,
         "y": 0.22264914856719326
        },
        "ATP6V1G1": {
         "x": 0.6517501069627378,
         "y": 0.3711104926111498
        },
        "HRV": {
         "x": 0.5204078971266999,
         "y": 0.5260697341972731
        },
        "IAV": {
         "x": 0.2111467647774474,
         "y": 0.09947058602301147
        },
        "RSV": {
         "x": 0.25573721555965384,
         "y": 0.4088724813190393
        },
        "SARS-CoV-2": {
         "x": 0.599929496786351,
         "y": 0.0787483076490472
        }
       },
       "layout_settings": null,
       "max_categorical_colors": 10,
       "name": null,
       "node_metrics": {},
       "program_settings": {},
       "renderer_settings": {
        "defaultEdgeType": "rectangle",
        "defaultNodeType": "point",
        "enableEdgeClickEvents": false,
        "enableEdgeHoverEvents": false,
        "hideEdgesOnMove": false,
        "labelDensity": 1,
        "labelFont": "sans-serif",
        "labelGridCellSize": 250,
        "renderEdgeLabels": true,
        "zIndex": true
       },
       "selected_edge": null,
       "selected_edge_category_values": null,
       "selected_node": null,
       "selected_node_category_values": null,
       "start_layout_for_seconds": null,
       "sync_key": null,
       "sync_targets": [
        "layout",
        "hover",
        "camera",
        "selection"
       ],
       "ui_settings": {
        "hideInfoPanel": false,
        "hideSearch": false
       },
       "visual_variables": {
        "edgeColor": {
         "attribute": "color",
         "default": "#ccc",
         "type": "raw"
        },
        "edgeCurveness": {
         "default": 0.25,
         "type": "constant"
        },
        "edgeLabel": {
         "attribute": "label",
         "default": null,
         "type": "raw"
        },
        "edgeSize": {
         "attribute": "size",
         "default": 0.5,
         "range": [
          0.5,
          10
         ],
         "type": "continuous"
        },
        "nodeBorderColor": {
         "default": null,
         "type": "disabled"
        },
        "nodeBorderRatio": {
         "default": null,
         "type": "disabled"
        },
        "nodeBorderSize": {
         "default": 1,
         "type": "constant"
        },
        "nodeColor": {
         "attribute": "type",
         "default": "#999",
         "type": "category"
        },
        "nodeColorSaturation": {
         "default": null,
         "type": "disabled"
        },
        "nodeHaloColor": {
         "default": "red",
         "type": "constant"
        },
        "nodeHaloSize": {
         "default": null,
         "type": "disabled"
        },
        "nodeLabel": {
         "attribute": "label",
         "default": null,
         "type": "raw"
        },
        "nodeLabelColor": {
         "default": "#000",
         "type": "constant"
        },
        "nodeLabelSize": {
         "default": 12,
         "type": "constant"
        },
        "nodePictogram": {
         "default": null,
         "type": "disabled"
        },
        "nodePictogramColor": {
         "default": "#000",
         "type": "constant"
        },
        "nodeShape": {
         "default": null,
         "type": "disabled"
        },
        "nodeSize": {
         "attribute": "ipysigma_kwarg_node_size",
         "default": 3,
         "range": [
          3,
          15
         ],
         "type": "continuous"
        }
       }
      }
     },
     "3864c197b8c5479cba11476a53856c48": {
      "model_module": "jupyter-cytoscape",
      "model_module_version": "^1.3.3",
      "model_name": "EdgeModel",
      "state": {
       "_model_module_version": "^1.3.3",
       "_view_module_version": "^1.3.3",
       "classes": " multiple_edges ",
       "data": {
        "display_relation": "CORUM",
        "id": "aef86371-1ef5-4fc7-8860-eeb9d782e558",
        "source": "RPN2",
        "source_name": "RPN2",
        "target": "STT3B",
        "target_name": "STT3B"
       },
       "selectable": false
      }
     },
     "386c9f21b9f3402991ba1c487a8648e9": {
      "model_module": "jupyter-cytoscape",
      "model_module_version": "^1.3.3",
      "model_name": "EdgeModel",
      "state": {
       "_model_module_version": "^1.3.3",
       "_view_module_version": "^1.3.3",
       "classes": " multiple_edges ",
       "data": {
        "display_relation": "REACTOMEFI",
        "id": "56505856-cefd-4caf-8a0b-d803430193d5",
        "source": "RPN1",
        "source_name": "DDOST",
        "target": "DDOST",
        "target_name": "RPN1"
       },
       "selectable": false
      }
     },
     "38774f7f631648e9bec8ed4eff451233": {
      "model_module": "jupyter-cytoscape",
      "model_module_version": "^1.3.3",
      "model_name": "NodeModel",
      "state": {
       "_model_module_version": "^1.3.3",
       "_view_module_version": "^1.3.3",
       "data": {
        "id": "TMEM258",
        "node_name": "TMEM258",
        "type": "gene/protein"
       },
       "grabbable": true,
       "grabbed": false,
       "position": {
        "x": 305.94305015464954,
        "y": 131.0033488430565
       },
       "selectable": false
      }
     },
     "3b179561e2534210bf98fa89b6cc043d": {
      "model_module": "jupyter-cytoscape",
      "model_module_version": "^1.3.3",
      "model_name": "EdgeModel",
      "state": {
       "_model_module_version": "^1.3.3",
       "_view_module_version": "^1.3.3",
       "classes": " multiple_edges ",
       "data": {
        "display_relation": "CORUM",
        "id": "c903acc3-da11-493e-9f84-73a51d53c5fc",
        "source": "DAD1",
        "source_name": "DAD1",
        "target": "STT3B",
        "target_name": "STT3B"
       },
       "selectable": false
      }
     },
     "3c65334e873b45638aeb73dad5e98259": {
      "model_module": "jupyter-cytoscape",
      "model_module_version": "^1.3.3",
      "model_name": "EdgeModel",
      "state": {
       "_model_module_version": "^1.3.3",
       "_view_module_version": "^1.3.3",
       "classes": " multiple_edges ",
       "data": {
        "display_relation": "REACTOMEFI",
        "id": "1eeb1639-0103-42c8-a5f3-5debe8895e39",
        "source": "DDOST",
        "source_name": "DDOST",
        "target": "MAGT1",
        "target_name": "MAGT1"
       },
       "selectable": false
      }
     },
     "3d000c99a38441e19e7ca72a8c59fa21": {
      "model_module": "jupyter-cytoscape",
      "model_module_version": "^1.3.3",
      "model_name": "NodeModel",
      "state": {
       "_model_module_version": "^1.3.3",
       "_view_module_version": "^1.3.3",
       "data": {
        "id": "HRV",
        "node_name": "HRV",
        "type": "disease"
       },
       "grabbable": true,
       "grabbed": false,
       "position": {
        "x": 149.86787257516139,
        "y": 273.7636927497837
       },
       "selectable": false
      }
     },
     "3d2c2bee5a3f4eeb88fb7412c5157fa4": {
      "model_module": "jupyter-cytoscape",
      "model_module_version": "^1.3.3",
      "model_name": "EdgeModel",
      "state": {
       "_model_module_version": "^1.3.3",
       "_view_module_version": "^1.3.3",
       "classes": " multiple_edges ",
       "data": {
        "display_relation": "BIOGRID",
        "id": "26a3ed0b-dd7a-4f36-9328-4dc3490808bb",
        "source": "RPN2",
        "source_name": "TMEM258",
        "target": "TMEM258",
        "target_name": "RPN2"
       },
       "selectable": false
      }
     },
     "3e05e2ab91af4c34914dd4bb73188194": {
      "model_module": "jupyter-cytoscape",
      "model_module_version": "^1.3.3",
      "model_name": "EdgeModel",
      "state": {
       "_model_module_version": "^1.3.3",
       "_view_module_version": "^1.3.3",
       "classes": " multiple_edges ",
       "data": {
        "display_relation": "KroganCovHuPPI",
        "id": "441d28b9-0ee3-4f4a-a6f0-5111e599334e",
        "source": "RPN1",
        "source_name": "RPN1",
        "target": "SARS-CoV-2",
        "target_name": "SARS-CoV-2"
       },
       "selectable": false
      }
     },
     "3e0d7a6c10f147afbe65281459470367": {
      "model_module": "jupyter-cytoscape",
      "model_module_version": "^1.3.3",
      "model_name": "EdgeModel",
      "state": {
       "_model_module_version": "^1.3.3",
       "_view_module_version": "^1.3.3",
       "classes": " multiple_edges ",
       "data": {
        "display_relation": "BIOGRID",
        "id": "53f0c80b-7c4a-479f-b8dc-e1834597402e",
        "source": "RPN1",
        "source_name": "TMEM258",
        "target": "TMEM258",
        "target_name": "RPN1"
       },
       "selectable": false
      }
     },
     "3e40a48a74144529a77a7ea4f5996f8d": {
      "model_module": "jupyter-cytoscape",
      "model_module_version": "^1.3.3",
      "model_name": "EdgeModel",
      "state": {
       "_model_module_version": "^1.3.3",
       "_view_module_version": "^1.3.3",
       "classes": " multiple_edges ",
       "data": {
        "display_relation": "REACTOMEFI",
        "id": "a9e48184-2198-4188-bea2-f691e8164d07",
        "source": "RPN1",
        "source_name": "RPN1",
        "target": "RPN2",
        "target_name": "RPN2"
       },
       "selectable": false
      }
     },
     "3ed3322bdbf74b0db5adf4b58b20d935": {
      "model_module": "jupyter-cytoscape",
      "model_module_version": "^1.3.3",
      "model_name": "EdgeModel",
      "state": {
       "_model_module_version": "^1.3.3",
       "_view_module_version": "^1.3.3",
       "classes": " multiple_edges ",
       "data": {
        "display_relation": "CORUM",
        "id": "8d276c85-a881-4c54-8e97-1e9021ce93b9",
        "source": "STT3B",
        "source_name": "STT3B",
        "target": "MAGT1",
        "target_name": "MAGT1"
       },
       "selectable": false
      }
     },
     "3efc77acb1554f47b8197b177ca63b59": {
      "model_module": "jupyter-cytoscape",
      "model_module_version": "^1.3.3",
      "model_name": "EdgeModel",
      "state": {
       "_model_module_version": "^1.3.3",
       "_view_module_version": "^1.3.3",
       "classes": " multiple_edges ",
       "data": {
        "display_relation": "CORUM",
        "id": "2d0c24a7-ec5b-4b50-92e4-069d11c1d363",
        "source": "RPN1",
        "source_name": "RPN1",
        "target": "DAD1",
        "target_name": "DAD1"
       },
       "selectable": false
      }
     },
     "3f47b93c5dcf4c32b45bd493474905d0": {
      "model_module": "jupyter-cytoscape",
      "model_module_version": "^1.3.3",
      "model_name": "EdgeModel",
      "state": {
       "_model_module_version": "^1.3.3",
       "_view_module_version": "^1.3.3",
       "classes": " multiple_edges ",
       "data": {
        "display_relation": "KroganIAV",
        "id": "4bc5f170-994c-4ba3-94dd-7f6a895019cc",
        "source": "RPN2",
        "source_name": "IAV",
        "target": "IAV",
        "target_name": "RPN2"
       },
       "selectable": false
      }
     },
     "3fc7c411db614f5cb7276bf74bef1265": {
      "model_module": "jupyter-cytoscape",
      "model_module_version": "^1.3.3",
      "model_name": "EdgeModel",
      "state": {
       "_model_module_version": "^1.3.3",
       "_view_module_version": "^1.3.3",
       "classes": " multiple_edges ",
       "data": {
        "display_relation": "CORUM",
        "id": "79d50343-85c6-4653-818e-7ecb4016b709",
        "source": "DAD1",
        "source_name": "DDOST",
        "target": "DDOST",
        "target_name": "DAD1"
       },
       "selectable": false
      }
     },
     "3fd73e379182410a913b61c62f35715c": {
      "model_module": "jupyter-cytoscape",
      "model_module_version": "^1.3.3",
      "model_name": "EdgeModel",
      "state": {
       "_model_module_version": "^1.3.3",
       "_view_module_version": "^1.3.3",
       "classes": " multiple_edges ",
       "data": {
        "display_relation": "KroganCovHuPPI",
        "id": "cfbd6b5d-07d0-48e8-b58c-f206ac761f6a",
        "source": "TMEM258",
        "source_name": "TMEM258",
        "target": "SARS-CoV-2",
        "target_name": "SARS-CoV-2"
       },
       "selectable": false
      }
     },
     "406cfc15839e46c5bac7decc028cc234": {
      "model_module": "jupyter-cytoscape",
      "model_module_version": "^1.3.3",
      "model_name": "EdgeModel",
      "state": {
       "_model_module_version": "^1.3.3",
       "_view_module_version": "^1.3.3",
       "classes": " multiple_edges ",
       "data": {
        "display_relation": "BIOGRID",
        "id": "c3065269-8b1d-4965-a367-f2bc8b6656e2",
        "source": "OST4",
        "source_name": "OST4",
        "target": "STT3B",
        "target_name": "STT3B"
       },
       "selectable": false
      }
     },
     "406d7b2f3910497d8332bc0e326695e3": {
      "model_module": "jupyter-cytoscape",
      "model_module_version": "^1.3.3",
      "model_name": "EdgeModel",
      "state": {
       "_model_module_version": "^1.3.3",
       "_view_module_version": "^1.3.3",
       "classes": " multiple_edges ",
       "data": {
        "display_relation": "REACTOMEFI",
        "id": "d7553cac-85fb-4e81-a146-cd7af22f2b1b",
        "source": "RPN2",
        "source_name": "RPN2",
        "target": "STT3A",
        "target_name": "STT3A"
       },
       "selectable": false
      }
     },
     "40ac6b28049e44099aebc38cb9a7f691": {
      "model_module": "jupyter-cytoscape",
      "model_module_version": "^1.3.3",
      "model_name": "EdgeModel",
      "state": {
       "_model_module_version": "^1.3.3",
       "_view_module_version": "^1.3.3",
       "classes": " multiple_edges ",
       "data": {
        "display_relation": "BIOGRID",
        "id": "4118540c-e97f-4e27-825f-1df55a6f8d22",
        "source": "TMEM258",
        "source_name": "TMEM258",
        "target": "MAGT1",
        "target_name": "MAGT1"
       },
       "selectable": false
      }
     },
     "412fe745ce134f88b507a5ecf31f18b5": {
      "model_module": "jupyter-cytoscape",
      "model_module_version": "^1.3.3",
      "model_name": "NodeModel",
      "state": {
       "_model_module_version": "^1.3.3",
       "_view_module_version": "^1.3.3",
       "data": {
        "id": "STT3B",
        "node_name": "STT3B",
        "type": "gene/protein"
       },
       "grabbable": true,
       "grabbed": false,
       "position": {
        "x": 433.18006638805724,
        "y": 231.3319439577626
       },
       "selectable": false
      }
     },
     "418df9347c5d4195acaf5191a1d6e531": {
      "model_module": "jupyter-cytoscape",
      "model_module_version": "^1.3.3",
      "model_name": "EdgeModel",
      "state": {
       "_model_module_version": "^1.3.3",
       "_view_module_version": "^1.3.3",
       "classes": " multiple_edges ",
       "data": {
        "display_relation": "crispr",
        "id": "8776a4a5-14af-46fc-ab40-5e0c10b9db80",
        "source": "DDOST",
        "source_name": "DDOST",
        "target": "MERS-CoV",
        "target_name": "MERS-CoV"
       },
       "selectable": false
      }
     },
     "429fc108f80d457dbe96783b3787a0a8": {
      "model_module": "jupyter-cytoscape",
      "model_module_version": "^1.3.3",
      "model_name": "EdgeModel",
      "state": {
       "_model_module_version": "^1.3.3",
       "_view_module_version": "^1.3.3",
       "classes": " multiple_edges ",
       "data": {
        "display_relation": "KroganCovHuPPI",
        "id": "8834c6c5-0cf2-42cd-9bfe-0f7f400cb159",
        "source": "TMEM258",
        "source_name": "TMEM258",
        "target": "SARS-CoV-2",
        "target_name": "SARS-CoV-2"
       },
       "selectable": false
      }
     },
     "42a616663ca04066a11ec6b6e454358a": {
      "model_module": "jupyter-cytoscape",
      "model_module_version": "^1.3.3",
      "model_name": "EdgeModel",
      "state": {
       "_model_module_version": "^1.3.3",
       "_view_module_version": "^1.3.3",
       "classes": " multiple_edges ",
       "data": {
        "display_relation": "KroganCovHuPPI",
        "id": "968db99b-921a-44c7-8eb9-df7297436dd6",
        "source": "RPN1",
        "source_name": "RPN1",
        "target": "SARS-CoV-2",
        "target_name": "SARS-CoV-2"
       },
       "selectable": false
      }
     },
     "43277ce94c0a4026974a103caa6f2b45": {
      "model_module": "jupyter-cytoscape",
      "model_module_version": "^1.3.3",
      "model_name": "EdgeModel",
      "state": {
       "_model_module_version": "^1.3.3",
       "_view_module_version": "^1.3.3",
       "classes": " multiple_edges ",
       "data": {
        "display_relation": "KroganIAV",
        "id": "4254d5f6-fb6d-42bc-bf57-9dced1c6529a",
        "source": "RPN1",
        "source_name": "IAV",
        "target": "IAV",
        "target_name": "RPN1"
       },
       "selectable": false
      }
     },
     "433a437029d242238b04736e47f4d1d7": {
      "model_module": "jupyter-cytoscape",
      "model_module_version": "^1.3.3",
      "model_name": "EdgeModel",
      "state": {
       "_model_module_version": "^1.3.3",
       "_view_module_version": "^1.3.3",
       "classes": " multiple_edges ",
       "data": {
        "display_relation": "crispr",
        "id": "8a2b7995-5291-4514-88e4-3aff5b6b0444",
        "source": "STT3A",
        "source_name": "STT3A",
        "target": "PIV3",
        "target_name": "PIV3"
       },
       "selectable": false
      }
     },
     "43d23303b77c491aa90e3f065927fd38": {
      "model_module": "jupyter-cytoscape",
      "model_module_version": "^1.3.3",
      "model_name": "EdgeModel",
      "state": {
       "_model_module_version": "^1.3.3",
       "_view_module_version": "^1.3.3",
       "classes": " multiple_edges ",
       "data": {
        "display_relation": "REACTOMEFI",
        "id": "5c29c33a-ad4e-4377-b13e-bed65cf5c1e5",
        "source": "RPN1",
        "source_name": "DAD1",
        "target": "DAD1",
        "target_name": "RPN1"
       },
       "selectable": false
      }
     },
     "43d88b4c070444ca913695b92fd782f5": {
      "model_module": "jupyter-cytoscape",
      "model_module_version": "^1.3.3",
      "model_name": "EdgeModel",
      "state": {
       "_model_module_version": "^1.3.3",
       "_view_module_version": "^1.3.3",
       "classes": " multiple_edges ",
       "data": {
        "display_relation": "BIOGRID",
        "id": "dffa2241-9a36-4392-b126-4968edda320a",
        "source": "TMEM258",
        "source_name": "TMEM258",
        "target": "DDOST",
        "target_name": "DDOST"
       },
       "selectable": false
      }
     },
     "449a0fedf77f4174b6ce8364cd58161e": {
      "model_module": "jupyter-cytoscape",
      "model_module_version": "^1.3.3",
      "model_name": "EdgeModel",
      "state": {
       "_model_module_version": "^1.3.3",
       "_view_module_version": "^1.3.3",
       "classes": " multiple_edges ",
       "data": {
        "display_relation": "REACTOMEFI",
        "id": "07d4328c-a7d7-4c72-8079-729623b20847",
        "source": "RPN1",
        "source_name": "DDOST",
        "target": "DDOST",
        "target_name": "RPN1"
       },
       "selectable": false
      }
     },
     "44b18935b1274ef9b9e8b508d9323a7c": {
      "model_module": "jupyter-cytoscape",
      "model_module_version": "^1.3.3",
      "model_name": "NodeModel",
      "state": {
       "_model_module_version": "^1.3.3",
       "_view_module_version": "^1.3.3",
       "data": {
        "id": "OST4",
        "node_name": "OST4",
        "type": "gene/protein"
       },
       "grabbable": true,
       "grabbed": false,
       "position": {
        "x": 596.6095101108737,
        "y": 280.429935379248
       },
       "selectable": false
      }
     },
     "45177de923ff42449e5b840f4a822a21": {
      "model_module": "jupyter-cytoscape",
      "model_module_version": "^1.3.3",
      "model_name": "EdgeModel",
      "state": {
       "_model_module_version": "^1.3.3",
       "_view_module_version": "^1.3.3",
       "classes": " multiple_edges ",
       "data": {
        "display_relation": "BIOGRID",
        "id": "ce08b0ce-0a95-4280-976a-4db56e1a311f",
        "source": "STT3B",
        "source_name": "MAGT1",
        "target": "MAGT1",
        "target_name": "STT3B"
       },
       "selectable": false
      }
     },
     "455b44067a174363b16ff6768e70c86d": {
      "model_module": "jupyter-cytoscape",
      "model_module_version": "^1.3.3",
      "model_name": "NodeModel",
      "state": {
       "_model_module_version": "^1.3.3",
       "_view_module_version": "^1.3.3",
       "data": {
        "id": "SARS-CoV-2",
        "node_name": "SARS-CoV-2",
        "type": "disease"
       },
       "grabbable": true,
       "grabbed": false,
       "position": {
        "x": 111.47163455482853,
        "y": 160.91896010510885
       },
       "selectable": false
      }
     },
     "47d5d1c914684c1f9a60c4a5b7379a0d": {
      "model_module": "ipysigma",
      "model_module_version": "^0.24.2",
      "model_name": "SigmaModel",
      "state": {
       "_model_module_version": "^0.24.2",
       "_view_module_version": "^0.24.2",
       "background_color": "white",
       "camera_state": {
        "angle": 0,
        "ratio": 1,
        "x": 0.5,
        "y": 0.5
       },
       "clickable_edges": false,
       "data": {
        "edges": [
         {
          "attributes": {
           "display_relation": "KroganIAV",
           "source_name": "RPN1",
           "target_name": "RPN2"
          },
          "source": "RPN1",
          "target": "RPN2"
         },
         {
          "attributes": {
           "display_relation": "BIOGRID",
           "source_name": "RPN1",
           "target_name": "RPN2"
          },
          "source": "RPN1",
          "target": "RPN2"
         },
         {
          "attributes": {
           "display_relation": "CORUM",
           "source_name": "RPN1",
           "target_name": "RPN2"
          },
          "source": "RPN1",
          "target": "RPN2"
         },
         {
          "attributes": {
           "display_relation": "REACTOMEFI",
           "source_name": "RPN1",
           "target_name": "RPN2"
          },
          "source": "RPN1",
          "target": "RPN2"
         },
         {
          "attributes": {
           "display_relation": "BIOGRID",
           "source_name": "RPN1",
           "target_name": "RPN1"
          },
          "source": "RPN1",
          "target": "RPN1"
         },
         {
          "attributes": {
           "display_relation": "BIOGRID",
           "source_name": "TMEM258",
           "target_name": "RPN1"
          },
          "source": "RPN1",
          "target": "TMEM258"
         },
         {
          "attributes": {
           "display_relation": "CORUM",
           "source_name": "RPN1",
           "target_name": "DDOST"
          },
          "source": "RPN1",
          "target": "DDOST"
         },
         {
          "attributes": {
           "display_relation": "REACTOMEFI",
           "source_name": "DDOST",
           "target_name": "RPN1"
          },
          "source": "RPN1",
          "target": "DDOST"
         },
         {
          "attributes": {
           "display_relation": "CORUM",
           "source_name": "RPN1",
           "target_name": "STT3A"
          },
          "source": "RPN1",
          "target": "STT3A"
         },
         {
          "attributes": {
           "display_relation": "REACTOMEFI",
           "source_name": "RPN1",
           "target_name": "STT3A"
          },
          "source": "RPN1",
          "target": "STT3A"
         },
         {
          "attributes": {
           "display_relation": "CORUM",
           "source_name": "RPN1",
           "target_name": "DAD1"
          },
          "source": "RPN1",
          "target": "DAD1"
         },
         {
          "attributes": {
           "display_relation": "REACTOMEFI",
           "source_name": "DAD1",
           "target_name": "RPN1"
          },
          "source": "RPN1",
          "target": "DAD1"
         },
         {
          "attributes": {
           "display_relation": "CORUM",
           "source_name": "RPN1",
           "target_name": "MAGT1"
          },
          "source": "RPN1",
          "target": "MAGT1"
         },
         {
          "attributes": {
           "display_relation": "REACTOMEFI",
           "source_name": "MAGT1",
           "target_name": "RPN1"
          },
          "source": "RPN1",
          "target": "MAGT1"
         },
         {
          "attributes": {
           "display_relation": "CORUM",
           "source_name": "RPN1",
           "target_name": "STT3B"
          },
          "source": "RPN1",
          "target": "STT3B"
         },
         {
          "attributes": {
           "display_relation": "KroganIAV",
           "source_name": "IAV",
           "target_name": "RPN1"
          },
          "source": "RPN1",
          "target": "IAV"
         },
         {
          "attributes": {
           "display_relation": "KroganIBV",
           "source_name": "IAV",
           "target_name": "RPN1"
          },
          "source": "RPN1",
          "target": "IAV"
         },
         {
          "attributes": {
           "display_relation": "KroganCovHuPPI",
           "source_name": "RPN1",
           "target_name": "SARS-CoV-2"
          },
          "source": "RPN1",
          "target": "SARS-CoV-2"
         },
         {
          "attributes": {
           "display_relation": "crispr",
           "source_name": "RPN1",
           "target_name": "MERS-CoV"
          },
          "source": "RPN1",
          "target": "MERS-CoV"
         },
         {
          "attributes": {
           "display_relation": "BIOGRID",
           "source_name": "TMEM258",
           "target_name": "RPN2"
          },
          "source": "RPN2",
          "target": "TMEM258"
         },
         {
          "attributes": {
           "display_relation": "CORUM",
           "source_name": "RPN2",
           "target_name": "DDOST"
          },
          "source": "RPN2",
          "target": "DDOST"
         },
         {
          "attributes": {
           "display_relation": "REACTOMEFI",
           "source_name": "DDOST",
           "target_name": "RPN2"
          },
          "source": "RPN2",
          "target": "DDOST"
         },
         {
          "attributes": {
           "display_relation": "CORUM",
           "source_name": "RPN2",
           "target_name": "STT3A"
          },
          "source": "RPN2",
          "target": "STT3A"
         },
         {
          "attributes": {
           "display_relation": "REACTOMEFI",
           "source_name": "RPN2",
           "target_name": "STT3A"
          },
          "source": "RPN2",
          "target": "STT3A"
         },
         {
          "attributes": {
           "display_relation": "CORUM",
           "source_name": "RPN2",
           "target_name": "DAD1"
          },
          "source": "RPN2",
          "target": "DAD1"
         },
         {
          "attributes": {
           "display_relation": "REACTOMEFI",
           "source_name": "DAD1",
           "target_name": "RPN2"
          },
          "source": "RPN2",
          "target": "DAD1"
         },
         {
          "attributes": {
           "display_relation": "CORUM",
           "source_name": "RPN2",
           "target_name": "MAGT1"
          },
          "source": "RPN2",
          "target": "MAGT1"
         },
         {
          "attributes": {
           "display_relation": "REACTOMEFI",
           "source_name": "MAGT1",
           "target_name": "RPN2"
          },
          "source": "RPN2",
          "target": "MAGT1"
         },
         {
          "attributes": {
           "display_relation": "CORUM",
           "source_name": "RPN2",
           "target_name": "STT3B"
          },
          "source": "RPN2",
          "target": "STT3B"
         },
         {
          "attributes": {
           "display_relation": "KroganIAV",
           "source_name": "IAV",
           "target_name": "RPN2"
          },
          "source": "RPN2",
          "target": "IAV"
         },
         {
          "attributes": {
           "display_relation": "KroganCovHuPPI",
           "source_name": "RPN2",
           "target_name": "SARS-CoV-2"
          },
          "source": "RPN2",
          "target": "SARS-CoV-2"
         },
         {
          "attributes": {
           "display_relation": "BIOGRID",
           "source_name": "DAD1",
           "target_name": "DAD1"
          },
          "source": "DAD1",
          "target": "DAD1"
         },
         {
          "attributes": {
           "display_relation": "BIOGRID",
           "source_name": "TMEM258",
           "target_name": "DAD1"
          },
          "source": "DAD1",
          "target": "TMEM258"
         },
         {
          "attributes": {
           "display_relation": "CORUM",
           "source_name": "DDOST",
           "target_name": "DAD1"
          },
          "source": "DAD1",
          "target": "DDOST"
         },
         {
          "attributes": {
           "display_relation": "REACTOMEFI",
           "source_name": "DAD1",
           "target_name": "DDOST"
          },
          "source": "DAD1",
          "target": "DDOST"
         },
         {
          "attributes": {
           "display_relation": "CORUM",
           "source_name": "STT3A",
           "target_name": "DAD1"
          },
          "source": "DAD1",
          "target": "STT3A"
         },
         {
          "attributes": {
           "display_relation": "REACTOMEFI",
           "source_name": "DAD1",
           "target_name": "STT3A"
          },
          "source": "DAD1",
          "target": "STT3A"
         },
         {
          "attributes": {
           "display_relation": "CORUM",
           "source_name": "DAD1",
           "target_name": "MAGT1"
          },
          "source": "DAD1",
          "target": "MAGT1"
         },
         {
          "attributes": {
           "display_relation": "REACTOMEFI",
           "source_name": "DAD1",
           "target_name": "MAGT1"
          },
          "source": "DAD1",
          "target": "MAGT1"
         },
         {
          "attributes": {
           "display_relation": "CORUM",
           "source_name": "DAD1",
           "target_name": "STT3B"
          },
          "source": "DAD1",
          "target": "STT3B"
         },
         {
          "attributes": {
           "display_relation": "KroganCovHuPPI",
           "source_name": "DAD1",
           "target_name": "SARS-CoV-2"
          },
          "source": "DAD1",
          "target": "SARS-CoV-2"
         },
         {
          "attributes": {
           "display_relation": "BIOGRID",
           "source_name": "TMEM258",
           "target_name": "STT3A"
          },
          "source": "TMEM258",
          "target": "STT3A"
         },
         {
          "attributes": {
           "display_relation": "BIOGRID",
           "source_name": "TMEM258",
           "target_name": "DDOST"
          },
          "source": "TMEM258",
          "target": "DDOST"
         },
         {
          "attributes": {
           "display_relation": "BIOGRID",
           "source_name": "TMEM258",
           "target_name": "STT3B"
          },
          "source": "TMEM258",
          "target": "STT3B"
         },
         {
          "attributes": {
           "display_relation": "BIOGRID",
           "source_name": "TMEM258",
           "target_name": "MAGT1"
          },
          "source": "TMEM258",
          "target": "MAGT1"
         },
         {
          "attributes": {
           "display_relation": "KroganCovHuPPI",
           "source_name": "TMEM258",
           "target_name": "SARS-CoV-2"
          },
          "source": "TMEM258",
          "target": "SARS-CoV-2"
         },
         {
          "attributes": {
           "display_relation": "KimPPI",
           "source_name": "TMEM258",
           "target_name": "SARS-CoV-2"
          },
          "source": "TMEM258",
          "target": "SARS-CoV-2"
         },
         {
          "attributes": {
           "display_relation": "crispr",
           "source_name": "TMEM258",
           "target_name": "SARS-CoV-2"
          },
          "source": "TMEM258",
          "target": "SARS-CoV-2"
         },
         {
          "attributes": {
           "display_relation": "CORUM",
           "source_name": "DDOST",
           "target_name": "STT3A"
          },
          "source": "STT3A",
          "target": "DDOST"
         },
         {
          "attributes": {
           "display_relation": "REACTOMEFI",
           "source_name": "DDOST",
           "target_name": "STT3A"
          },
          "source": "STT3A",
          "target": "DDOST"
         },
         {
          "attributes": {
           "display_relation": "CORUM",
           "source_name": "STT3A",
           "target_name": "MAGT1"
          },
          "source": "STT3A",
          "target": "MAGT1"
         },
         {
          "attributes": {
           "display_relation": "REACTOMEFI",
           "source_name": "MAGT1",
           "target_name": "STT3A"
          },
          "source": "STT3A",
          "target": "MAGT1"
         },
         {
          "attributes": {
           "display_relation": "paralogue",
           "source_name": "STT3B",
           "target_name": "STT3A"
          },
          "source": "STT3A",
          "target": "STT3B"
         },
         {
          "attributes": {
           "display_relation": "KroganCovHuPPI",
           "source_name": "STT3A",
           "target_name": "SARS-CoV-2"
          },
          "source": "STT3A",
          "target": "SARS-CoV-2"
         },
         {
          "attributes": {
           "display_relation": "crispr",
           "source_name": "STT3A",
           "target_name": "SARS-CoV-2"
          },
          "source": "STT3A",
          "target": "SARS-CoV-2"
         },
         {
          "attributes": {
           "display_relation": "crispr",
           "source_name": "STT3A",
           "target_name": "HRV"
          },
          "source": "STT3A",
          "target": "HRV"
         },
         {
          "attributes": {
           "display_relation": "crispr",
           "source_name": "STT3A",
           "target_name": "PIV3"
          },
          "source": "STT3A",
          "target": "PIV3"
         },
         {
          "attributes": {
           "display_relation": "CORUM",
           "source_name": "DDOST",
           "target_name": "MAGT1"
          },
          "source": "DDOST",
          "target": "MAGT1"
         },
         {
          "attributes": {
           "display_relation": "REACTOMEFI",
           "source_name": "DDOST",
           "target_name": "MAGT1"
          },
          "source": "DDOST",
          "target": "MAGT1"
         },
         {
          "attributes": {
           "display_relation": "CORUM",
           "source_name": "DDOST",
           "target_name": "STT3B"
          },
          "source": "DDOST",
          "target": "STT3B"
         },
         {
          "attributes": {
           "display_relation": "KroganCovHuPPI",
           "source_name": "DDOST",
           "target_name": "SARS-CoV-2"
          },
          "source": "DDOST",
          "target": "SARS-CoV-2"
         },
         {
          "attributes": {
           "display_relation": "crispr",
           "source_name": "DDOST",
           "target_name": "MERS-CoV"
          },
          "source": "DDOST",
          "target": "MERS-CoV"
         },
         {
          "attributes": {
           "display_relation": "BIOGRID",
           "source_name": "MAGT1",
           "target_name": "STT3B"
          },
          "source": "STT3B",
          "target": "MAGT1"
         },
         {
          "attributes": {
           "display_relation": "CORUM",
           "source_name": "STT3B",
           "target_name": "MAGT1"
          },
          "source": "STT3B",
          "target": "MAGT1"
         },
         {
          "attributes": {
           "display_relation": "KroganCovHuPPI",
           "source_name": "STT3B",
           "target_name": "SARS-CoV-2"
          },
          "source": "STT3B",
          "target": "SARS-CoV-2"
         },
         {
          "attributes": {
           "display_relation": "KroganCovHuPPI",
           "source_name": "MAGT1",
           "target_name": "SARS-CoV-2"
          },
          "source": "MAGT1",
          "target": "SARS-CoV-2"
         },
         {
          "attributes": {
           "display_relation": "GEPanelAppCoV",
           "source_name": "MAGT1",
           "target_name": "SARS-CoV-2"
          },
          "source": "MAGT1",
          "target": "SARS-CoV-2"
         },
         {
          "attributes": {
           "display_relation": "KroganCovHuPPI",
           "source_name": "OSTC",
           "target_name": "SARS-CoV-2"
          },
          "source": "SARS-CoV-2",
          "target": "OSTC"
         },
         {
          "attributes": {
           "display_relation": "crispr",
           "source_name": "OSTC",
           "target_name": "HRV"
          },
          "source": "OSTC",
          "target": "HRV"
         }
        ],
        "nodes": [
         {
          "attributes": {
           "ipysigma_kwarg_node_size": 20,
           "node_name": "RPN1",
           "type": "gene/protein",
           "x": 0.15428948876230283,
           "y": 0.25273986629959766
          },
          "key": "RPN1"
         },
         {
          "attributes": {
           "ipysigma_kwarg_node_size": 16,
           "node_name": "RPN2",
           "type": "gene/protein",
           "x": 0.5762050567157171,
           "y": 0.8675055755423209
          },
          "key": "RPN2"
         },
         {
          "attributes": {
           "ipysigma_kwarg_node_size": 15,
           "node_name": "DAD1",
           "type": "gene/protein",
           "x": 0.4923045147706771,
           "y": 0.7549328770522359
          },
          "key": "DAD1"
         },
         {
          "attributes": {
           "ipysigma_kwarg_node_size": 10,
           "node_name": "TMEM258",
           "type": "gene/protein",
           "x": 0.536310160588477,
           "y": 0.6607164922702594
          },
          "key": "TMEM258"
         },
         {
          "attributes": {
           "ipysigma_kwarg_node_size": 16,
           "node_name": "STT3A",
           "type": "gene/protein",
           "x": 0.17898877761019927,
           "y": 0.7423470400617883
          },
          "key": "STT3A"
         },
         {
          "attributes": {
           "ipysigma_kwarg_node_size": 14,
           "node_name": "DDOST",
           "type": "gene/protein",
           "x": 0.7654569574501733,
           "y": 0.2409002179776765
          },
          "key": "DDOST"
         },
         {
          "attributes": {
           "ipysigma_kwarg_node_size": 9,
           "node_name": "STT3B",
           "type": "gene/protein",
           "x": 0.8666364121438902,
           "y": 0.3612731622048909
          },
          "key": "STT3B"
         },
         {
          "attributes": {
           "ipysigma_kwarg_node_size": 15,
           "node_name": "MAGT1",
           "type": "gene/protein",
           "x": 0.3750092524652347,
           "y": 0.43898357292952234
          },
          "key": "MAGT1"
         },
         {
          "attributes": {
           "ipysigma_kwarg_node_size": 3,
           "node_name": "IAV",
           "type": "disease",
           "x": 0.686974614630136,
           "y": 0.44860358368004677
          },
          "key": "IAV"
         },
         {
          "attributes": {
           "ipysigma_kwarg_node_size": 13,
           "node_name": "SARS-CoV-2",
           "type": "disease",
           "x": 0.40559004582969205,
           "y": 0.8051142792853555
          },
          "key": "SARS-CoV-2"
         },
         {
          "attributes": {
           "ipysigma_kwarg_node_size": 2,
           "node_name": "OSTC",
           "type": "gene/protein",
           "x": 0.2755987667745767,
           "y": 0.4476774839346224
          },
          "key": "OSTC"
         },
         {
          "attributes": {
           "ipysigma_kwarg_node_size": 2,
           "node_name": "MERS-CoV",
           "type": "disease",
           "x": 0.692315680725632,
           "y": 0.22264914856719326
          },
          "key": "MERS-CoV"
         },
         {
          "attributes": {
           "ipysigma_kwarg_node_size": 2,
           "node_name": "HRV",
           "type": "disease",
           "x": 0.6517501069627378,
           "y": 0.3711104926111498
          },
          "key": "HRV"
         },
         {
          "attributes": {
           "ipysigma_kwarg_node_size": 1,
           "node_name": "PIV3",
           "type": "disease",
           "x": 0.2111467647774474,
           "y": 0.09947058602301147
          },
          "key": "PIV3"
         }
        ],
        "options": {
         "multi": true,
         "type": "undirected"
        }
       },
       "edge_weight": "weight",
       "height": "500px",
       "layout": {
        "DAD1": {
         "x": 0.4923045147706771,
         "y": 0.7549328770522359
        },
        "DDOST": {
         "x": 0.7654569574501733,
         "y": 0.2409002179776765
        },
        "HRV": {
         "x": 0.6517501069627378,
         "y": 0.3711104926111498
        },
        "IAV": {
         "x": 0.686974614630136,
         "y": 0.44860358368004677
        },
        "MAGT1": {
         "x": 0.3750092524652347,
         "y": 0.43898357292952234
        },
        "MERS-CoV": {
         "x": 0.692315680725632,
         "y": 0.22264914856719326
        },
        "OSTC": {
         "x": 0.2755987667745767,
         "y": 0.4476774839346224
        },
        "PIV3": {
         "x": 0.2111467647774474,
         "y": 0.09947058602301147
        },
        "RPN1": {
         "x": 0.15428948876230283,
         "y": 0.25273986629959766
        },
        "RPN2": {
         "x": 0.5762050567157171,
         "y": 0.8675055755423209
        },
        "SARS-CoV-2": {
         "x": 0.40559004582969205,
         "y": 0.8051142792853555
        },
        "STT3A": {
         "x": 0.17898877761019927,
         "y": 0.7423470400617883
        },
        "STT3B": {
         "x": 0.8666364121438902,
         "y": 0.3612731622048909
        },
        "TMEM258": {
         "x": 0.536310160588477,
         "y": 0.6607164922702594
        }
       },
       "layout_settings": null,
       "max_categorical_colors": 10,
       "name": null,
       "node_metrics": {},
       "program_settings": {},
       "renderer_settings": {
        "defaultEdgeType": "rectangle",
        "defaultNodeType": "point",
        "enableEdgeClickEvents": false,
        "enableEdgeHoverEvents": false,
        "hideEdgesOnMove": false,
        "labelDensity": 1,
        "labelFont": "sans-serif",
        "labelGridCellSize": 250,
        "renderEdgeLabels": true,
        "zIndex": true
       },
       "selected_edge": null,
       "selected_edge_category_values": null,
       "selected_node": null,
       "selected_node_category_values": null,
       "start_layout_for_seconds": null,
       "sync_key": null,
       "sync_targets": [
        "layout",
        "hover",
        "camera",
        "selection"
       ],
       "ui_settings": {
        "hideInfoPanel": false,
        "hideSearch": false
       },
       "visual_variables": {
        "edgeColor": {
         "attribute": "color",
         "default": "#ccc",
         "type": "raw"
        },
        "edgeCurveness": {
         "default": 0.25,
         "type": "constant"
        },
        "edgeLabel": {
         "attribute": "label",
         "default": null,
         "type": "raw"
        },
        "edgeSize": {
         "attribute": "size",
         "default": 0.5,
         "range": [
          0.5,
          10
         ],
         "type": "continuous"
        },
        "nodeBorderColor": {
         "default": null,
         "type": "disabled"
        },
        "nodeBorderRatio": {
         "default": null,
         "type": "disabled"
        },
        "nodeBorderSize": {
         "default": 1,
         "type": "constant"
        },
        "nodeColor": {
         "attribute": "type",
         "default": "#999",
         "type": "category"
        },
        "nodeColorSaturation": {
         "default": null,
         "type": "disabled"
        },
        "nodeHaloColor": {
         "default": "red",
         "type": "constant"
        },
        "nodeHaloSize": {
         "default": null,
         "type": "disabled"
        },
        "nodeLabel": {
         "attribute": "label",
         "default": null,
         "type": "raw"
        },
        "nodeLabelColor": {
         "default": "#000",
         "type": "constant"
        },
        "nodeLabelSize": {
         "default": 12,
         "type": "constant"
        },
        "nodePictogram": {
         "default": null,
         "type": "disabled"
        },
        "nodePictogramColor": {
         "default": "#000",
         "type": "constant"
        },
        "nodeShape": {
         "default": null,
         "type": "disabled"
        },
        "nodeSize": {
         "attribute": "ipysigma_kwarg_node_size",
         "default": 3,
         "range": [
          3,
          15
         ],
         "type": "continuous"
        }
       }
      }
     },
     "480d7b60b6d84dae93aa4cf6428e8f4f": {
      "model_module": "jupyter-cytoscape",
      "model_module_version": "^1.3.3",
      "model_name": "EdgeModel",
      "state": {
       "_model_module_version": "^1.3.3",
       "_view_module_version": "^1.3.3",
       "classes": " multiple_edges ",
       "data": {
        "display_relation": "REACTOMEFI",
        "id": "8669e5b2-68df-450f-979e-95c93ecd8a03",
        "source": "DDOST",
        "source_name": "DDOST",
        "target": "MAGT1",
        "target_name": "MAGT1"
       },
       "selectable": false
      }
     },
     "4835a2f3b5144f6394ff2e14f1225114": {
      "model_module": "jupyter-cytoscape",
      "model_module_version": "^1.3.3",
      "model_name": "EdgeModel",
      "state": {
       "_model_module_version": "^1.3.3",
       "_view_module_version": "^1.3.3",
       "classes": " multiple_edges ",
       "data": {
        "display_relation": "CORUM",
        "id": "db3d26e0-f5a5-4faf-8743-f1ba7728902c",
        "source": "DAD1",
        "source_name": "DAD1",
        "target": "MAGT1",
        "target_name": "MAGT1"
       },
       "selectable": false
      }
     },
     "496ec343446747d7bcce2a1f7a5bf75c": {
      "model_module": "jupyter-cytoscape",
      "model_module_version": "^1.3.3",
      "model_name": "EdgeModel",
      "state": {
       "_model_module_version": "^1.3.3",
       "_view_module_version": "^1.3.3",
       "classes": " multiple_edges ",
       "data": {
        "display_relation": "BIOGRID",
        "id": "191a7271-1ba0-4b4c-bc97-26f0a910b559",
        "source": "RPN1",
        "source_name": "RPN1",
        "target": "RPN2",
        "target_name": "RPN2"
       },
       "selectable": false
      }
     },
     "49708875ad4146c194c114beb93c4509": {
      "model_module": "jupyter-cytoscape",
      "model_module_version": "^1.3.3",
      "model_name": "EdgeModel",
      "state": {
       "_model_module_version": "^1.3.3",
       "_view_module_version": "^1.3.3",
       "classes": " multiple_edges ",
       "data": {
        "display_relation": "KroganIAV",
        "id": "3a453e5c-a760-4f97-a5b3-44f869d2333b",
        "source": "RPN2",
        "source_name": "IAV",
        "target": "IAV",
        "target_name": "RPN2"
       },
       "selectable": false
      }
     },
     "4a51c57d53394963abbef9360ef6937c": {
      "model_module": "jupyter-cytoscape",
      "model_module_version": "^1.3.3",
      "model_name": "NodeModel",
      "state": {
       "_model_module_version": "^1.3.3",
       "_view_module_version": "^1.3.3",
       "data": {
        "id": "MERS-CoV",
        "node_name": "MERS-CoV",
        "type": "disease"
       },
       "grabbable": true,
       "grabbed": false,
       "position": {
        "x": 440.7972210010734,
        "y": 294.74830455241045
       },
       "selectable": false
      }
     },
     "4a60e8b9d57a4629b9b76940d68bb558": {
      "model_module": "jupyter-cytoscape",
      "model_module_version": "^1.3.3",
      "model_name": "NodeModel",
      "state": {
       "_model_module_version": "^1.3.3",
       "_view_module_version": "^1.3.3",
       "data": {
        "id": "DDOST",
        "node_name": "DDOST",
        "type": "gene/protein"
       },
       "grabbable": true,
       "grabbed": false,
       "position": {
        "x": 371.2971102214969,
        "y": 222.47251492166336
       },
       "selectable": false
      }
     },
     "4a73fb7f73a5403e93c388c65856d798": {
      "model_module": "jupyter-cytoscape",
      "model_module_version": "^1.3.3",
      "model_name": "NodeModel",
      "state": {
       "_model_module_version": "^1.3.3",
       "_view_module_version": "^1.3.3",
       "data": {
        "id": "IAV",
        "node_name": "IAV",
        "type": "disease"
       },
       "grabbable": true,
       "grabbed": false,
       "position": {
        "x": 391.30051921515496,
        "y": 43.07543997399396
       },
       "selectable": false
      }
     },
     "4ac731a7874a446ea933692cde7af6ed": {
      "model_module": "jupyter-cytoscape",
      "model_module_version": "^1.3.3",
      "model_name": "EdgeModel",
      "state": {
       "_model_module_version": "^1.3.3",
       "_view_module_version": "^1.3.3",
       "classes": " multiple_edges ",
       "data": {
        "display_relation": "BIOGRID",
        "id": "47420539-879f-4f0d-81a3-550e0581dcc8",
        "source": "RPN1",
        "source_name": "RPN1",
        "target": "RPN2",
        "target_name": "RPN2"
       },
       "selectable": false
      }
     },
     "4bbb25b4c8884a019065d5fed3d515e7": {
      "model_module": "jupyter-cytoscape",
      "model_module_version": "^1.3.3",
      "model_name": "NodeModel",
      "state": {
       "_model_module_version": "^1.3.3",
       "_view_module_version": "^1.3.3",
       "data": {
        "id": "STT3B",
        "node_name": "STT3B",
        "type": "gene/protein"
       },
       "grabbable": true,
       "grabbed": false,
       "position": {
        "x": 265.29710822149696,
        "y": 244.16720830186276
       },
       "selectable": false
      }
     },
     "4bcce2adf1024326a723f0bdf1a2a206": {
      "model_module": "jupyter-cytoscape",
      "model_module_version": "^1.3.3",
      "model_name": "EdgeModel",
      "state": {
       "_model_module_version": "^1.3.3",
       "_view_module_version": "^1.3.3",
       "classes": " multiple_edges ",
       "data": {
        "display_relation": "CORUM",
        "id": "95f35a8a-30b8-43a6-b5ed-1f46f6a0d794",
        "source": "RPN2",
        "source_name": "RPN2",
        "target": "DDOST",
        "target_name": "DDOST"
       },
       "selectable": false
      }
     },
     "4c85e37393204ba7b2e329687f85dcbc": {
      "model_module": "jupyter-cytoscape",
      "model_module_version": "^1.3.3",
      "model_name": "EdgeModel",
      "state": {
       "_model_module_version": "^1.3.3",
       "_view_module_version": "^1.3.3",
       "classes": " multiple_edges ",
       "data": {
        "display_relation": "CORUM",
        "id": "7075d85d-424c-4b38-b4c8-eb9e87ec4021",
        "source": "STT3A",
        "source_name": "DDOST",
        "target": "DDOST",
        "target_name": "STT3A"
       },
       "selectable": false
      }
     },
     "4cddbfab12384e698b57dd571f921ac7": {
      "model_module": "jupyter-cytoscape",
      "model_module_version": "^1.3.3",
      "model_name": "NodeModel",
      "state": {
       "_model_module_version": "^1.3.3",
       "_view_module_version": "^1.3.3",
       "data": {
        "id": "HCoV-NL63",
        "node_name": "HCoV-NL63",
        "type": "disease"
       },
       "grabbable": true,
       "grabbed": false,
       "position": {
        "x": 366.5513476492916,
        "y": 372.97662711468956
       },
       "selectable": false
      }
     },
     "4d86b91e1a944cb19060bb4d9cbe2eb3": {
      "model_module": "jupyter-cytoscape",
      "model_module_version": "^1.3.3",
      "model_name": "EdgeModel",
      "state": {
       "_model_module_version": "^1.3.3",
       "_view_module_version": "^1.3.3",
       "classes": " multiple_edges ",
       "data": {
        "display_relation": "REACTOMEFI",
        "id": "b1a3d3a2-1fa5-4103-bd4d-5b691409e316",
        "source": "RPN2",
        "source_name": "MAGT1",
        "target": "MAGT1",
        "target_name": "RPN2"
       },
       "selectable": false
      }
     },
     "4de4673d5f9d44ae88b3a6bbe71bef0c": {
      "model_module": "jupyter-cytoscape",
      "model_module_version": "^1.3.3",
      "model_name": "EdgeModel",
      "state": {
       "_model_module_version": "^1.3.3",
       "_view_module_version": "^1.3.3",
       "classes": " multiple_edges ",
       "data": {
        "display_relation": "REACTOMEFI",
        "id": "c2a3117d-cf8a-4b18-9d46-d09aa13f6133",
        "source": "RPN2",
        "source_name": "DDOST",
        "target": "DDOST",
        "target_name": "RPN2"
       },
       "selectable": false
      }
     },
     "4f2cc9c1870a4136af44a8044487b742": {
      "model_module": "jupyter-cytoscape",
      "model_module_version": "^1.3.3",
      "model_name": "EdgeModel",
      "state": {
       "_model_module_version": "^1.3.3",
       "_view_module_version": "^1.3.3",
       "classes": " multiple_edges ",
       "data": {
        "display_relation": "KroganCovHuPPI",
        "id": "922b3949-521f-4c98-81f9-852112bd34ca",
        "source": "SARS-CoV-2",
        "source_name": "OSTC",
        "target": "OSTC",
        "target_name": "SARS-CoV-2"
       },
       "selectable": false
      }
     },
     "500d1c495966494987c2592b19b731c8": {
      "model_module": "jupyter-cytoscape",
      "model_module_version": "^1.3.3",
      "model_name": "EdgeModel",
      "state": {
       "_model_module_version": "^1.3.3",
       "_view_module_version": "^1.3.3",
       "classes": " multiple_edges ",
       "data": {
        "display_relation": "crispr",
        "id": "1043c622-9e12-4938-8b2f-55374f128775",
        "source": "STT3A",
        "source_name": "STT3A",
        "target": "HRV",
        "target_name": "HRV"
       },
       "selectable": false
      }
     },
     "510d48cb9c8c4ccebabdf3d53b5173dd": {
      "model_module": "jupyter-cytoscape",
      "model_module_version": "^1.3.3",
      "model_name": "EdgeModel",
      "state": {
       "_model_module_version": "^1.3.3",
       "_view_module_version": "^1.3.3",
       "classes": " multiple_edges ",
       "data": {
        "display_relation": "CORUM",
        "id": "de029df7-fb4e-4a7a-bf6a-b99957f8c06b",
        "source": "RPN1",
        "source_name": "RPN1",
        "target": "RPN2",
        "target_name": "RPN2"
       },
       "selectable": false
      }
     },
     "5279a4bdf8444ca7bf00e09f6a085ba2": {
      "model_module": "jupyter-cytoscape",
      "model_module_version": "^1.3.3",
      "model_name": "NodeModel",
      "state": {
       "_model_module_version": "^1.3.3",
       "_view_module_version": "^1.3.3",
       "data": {
        "id": "MAGT1",
        "node_name": "MAGT1",
        "type": "gene/protein"
       },
       "grabbable": true,
       "grabbed": false,
       "position": {
        "x": 583.7292890149592,
        "y": 174.429933379248
       },
       "selectable": false
      }
     },
     "53f3e7f19a7143df94508862d5a8cfcd": {
      "model_module": "jupyter-cytoscape",
      "model_module_version": "^1.3.3",
      "model_name": "EdgeModel",
      "state": {
       "_model_module_version": "^1.3.3",
       "_view_module_version": "^1.3.3",
       "classes": " multiple_edges ",
       "data": {
        "display_relation": "BIOGRID",
        "id": "6166c660-c402-4bde-ac09-8b154e886172",
        "source": "OST4",
        "source_name": "OST4",
        "target": "STT3A",
        "target_name": "STT3A"
       },
       "selectable": false
      }
     },
     "54a88dedc8ad4b429a3a5b6558f5795d": {
      "model_module": "jupyter-cytoscape",
      "model_module_version": "^1.3.3",
      "model_name": "EdgeModel",
      "state": {
       "_model_module_version": "^1.3.3",
       "_view_module_version": "^1.3.3",
       "classes": " multiple_edges ",
       "data": {
        "display_relation": "CORUM",
        "id": "167aa883-0e09-4158-b60b-080320210915",
        "source": "RPN1",
        "source_name": "RPN1",
        "target": "MAGT1",
        "target_name": "MAGT1"
       },
       "selectable": false
      }
     },
     "553cf5a67d9c467d80b7e602ecc5a771": {
      "model_module": "jupyter-cytoscape",
      "model_module_version": "^1.3.3",
      "model_name": "EdgeModel",
      "state": {
       "_model_module_version": "^1.3.3",
       "_view_module_version": "^1.3.3",
       "classes": " multiple_edges ",
       "data": {
        "display_relation": "crispr",
        "id": "8fc5ec3e-3f17-420d-b4b1-a404d35e82c7",
        "source": "STT3A",
        "source_name": "STT3A",
        "target": "HCoV-NL63",
        "target_name": "HCoV-NL63"
       },
       "selectable": false
      }
     },
     "558086cd41d94275954d6fdff621904d": {
      "model_module": "jupyter-cytoscape",
      "model_module_version": "^1.3.3",
      "model_name": "EdgeModel",
      "state": {
       "_model_module_version": "^1.3.3",
       "_view_module_version": "^1.3.3",
       "classes": " multiple_edges ",
       "data": {
        "display_relation": "REACTOMEFI",
        "id": "2cb22315-81c7-4872-a666-7294ba2f4ff1",
        "source": "RPN2",
        "source_name": "DDOST",
        "target": "DDOST",
        "target_name": "RPN2"
       },
       "selectable": false
      }
     },
     "56780f36ee8b4afb82f5b2f0b02b9587": {
      "model_module": "jupyter-cytoscape",
      "model_module_version": "^1.3.3",
      "model_name": "NodeModel",
      "state": {
       "_model_module_version": "^1.3.3",
       "_view_module_version": "^1.3.3",
       "data": {
        "id": "SARS-CoV-2",
        "node_name": "SARS-CoV-2",
        "type": "disease"
       },
       "grabbable": true,
       "grabbed": false,
       "position": {
        "x": 436.02545608243145,
        "y": 203.56583060225205
       },
       "selectable": false
      }
     },
     "587e96683bf04edf8d0c25781786659f": {
      "model_module": "jupyter-cytoscape",
      "model_module_version": "^1.3.3",
      "model_name": "NodeModel",
      "state": {
       "_model_module_version": "^1.3.3",
       "_view_module_version": "^1.3.3",
       "data": {
        "id": "STT3A",
        "node_name": "STT3A",
        "type": "gene/protein"
       },
       "grabbable": true,
       "grabbed": false,
       "position": {
        "x": 318.2971092214969,
        "y": 263.447855453842
       },
       "selectable": false
      }
     },
     "59119325bfd34840ab1dbffc7808e4d4": {
      "model_module": "jupyter-cytoscape",
      "model_module_version": "^1.3.3",
      "model_name": "CytoscapeModel",
      "state": {
       "_interaction_handlers": {},
       "_model_module_version": "^1.3.3",
       "_view_module_version": "^1.3.3",
       "auto_ungrabify": false,
       "autolock": false,
       "cytoscape_layout": {
        "name": "cola"
       },
       "cytoscape_style": [
        {
         "selector": "node",
         "style": {
          "border-color": "black",
          "border-width": "3px",
          "font-family": "helvetica",
          "font-size": "15px",
          "label": "data(node_name)",
          "text-halign": "center",
          "text-valign": "top"
         }
        },
        {
         "css": {
          "background-color": "rgba(0, 0, 0, 0.25)"
         },
         "selector": "node[type = \"disease\"]"
        },
        {
         "css": {
          "background-color": "rgba(255, 255, 255, 0.5)"
         },
         "selector": "node[type = \"gene/protein\"]"
        },
        {
         "css": {
          "background-color": "orangered",
          "font-size": "10px"
         },
         "selector": "node[type = \"biological_process\"]"
        },
        {
         "css": {
          "background-color": "limegreen",
          "font-size": "10px"
         },
         "selector": "node[type = \"cellular/component\"]"
        },
        {
         "css": {
          "background-color": "tan",
          "font-size": "10px"
         },
         "selector": "node[type = \"molecular_function\"]"
        },
        {
         "css": {
          "background-color": "rgba(255, 165, 0, 0.25)",
          "font-size": "10px"
         },
         "selector": "node[type = \"drug\"]"
        },
        {
         "selector": "edge[display_relation = \"crispr\"]",
         "style": {
          "background-color": "rgba(0, 37, 47, 0.5)",
          "line-color": "rgba(0, 37, 47, 0.5)"
         }
        },
        {
         "css": {
          "background-color": "rgba(85, 128, 170, 0.5)",
          "line-color": "rgba(85, 128, 170, 0.5)"
         },
         "selector": "edge[display_relation = \"KroganCovHuPPI\"]"
        },
        {
         "css": {
          "background-color": "rgba(85, 128, 170, 0.5)",
          "line-color": "rgba(85, 128, 170, 0.5)"
         },
         "selector": "edge[display_relation = \"KroganIAV\"]"
        },
        {
         "css": {
          "background-color": "rgba(85, 128, 170, 0.5)",
          "line-color": "rgba(85, 128, 170, 0.5)"
         },
         "selector": "edge[display_relation = \"KroganIBV\"]"
        },
        {
         "css": {
          "background-color": "rgba(85, 85, 170, 0.5)",
          "line-color": "rgba(85, 85, 170, 0.5)"
         },
         "selector": "edge[display_relation = \"REACTOMEFI\"]"
        },
        {
         "css": {
          "background-color": "rgba(170, 170, 85, 0.5)",
          "line-color": "rgba(170, 170, 85, 0.5)"
         },
         "selector": "edge[display_relation = \"CORUM\"]"
        },
        {
         "css": {
          "background-color": "rgba(85, 170, 170, 0.5)",
          "line-color": "rgba(85, 170, 170, 0.5)"
         },
         "selector": "edge[display_relation = \"GEPanelAppCoV\"]"
        },
        {
         "css": {
          "background-color": "rgba(170, 106, 85, 0.5)",
          "line-color": "rgba(170, 106, 85, 0.5)"
         },
         "selector": "edge[display_relation = \"BIOGRID\"]"
        }
       ],
       "desktop_tap_threshold": 4,
       "graph": "IPY_MODEL_11d34bef0b3c4eab8b5b522f0ea18d2e",
       "headless": false,
       "hide_edges_on_viewport": false,
       "layout": "IPY_MODEL_c8faeac87e7449c4aa148073723add9a",
       "max_zoom": 1e+50,
       "min_zoom": 1e-50,
       "motion_blur": false,
       "motion_blur_opacity": 0.2,
       "panning_enabled": true,
       "pixel_ratio": "auto",
       "rendered_position": {
        "renderedPosition": {
         "x": 100,
         "y": 100
        }
       },
       "selection_type": "single",
       "style_enabled": true,
       "texture_on_viewport": false,
       "tooltip_source": "tooltip",
       "touch_tap_threshold": 8,
       "user_panning_enabled": true,
       "user_zooming_enabled": true,
       "wheel_sensitivity": 1,
       "zoom": 2,
       "zooming_enabled": true
      }
     },
     "5948c0c5259b4feda19d4b7c99965af0": {
      "model_module": "jupyter-cytoscape",
      "model_module_version": "^1.3.3",
      "model_name": "EdgeModel",
      "state": {
       "_model_module_version": "^1.3.3",
       "_view_module_version": "^1.3.3",
       "classes": " multiple_edges ",
       "data": {
        "display_relation": "crispr",
        "id": "a3d9c799-c6c2-4aa0-81ed-eee4bb2ccbb3",
        "source": "TMEM258",
        "source_name": "TMEM258",
        "target": "SARS-CoV-2",
        "target_name": "SARS-CoV-2"
       },
       "selectable": false
      }
     },
     "59f33f70a0cd4965b290e860d2d41d79": {
      "model_module": "@jupyter-widgets/base",
      "model_module_version": "1.2.0",
      "model_name": "LayoutModel",
      "state": {}
     },
     "5a57388d1aaf45229f837f1b33c21c9a": {
      "model_module": "jupyter-cytoscape",
      "model_module_version": "^1.3.3",
      "model_name": "EdgeModel",
      "state": {
       "_model_module_version": "^1.3.3",
       "_view_module_version": "^1.3.3",
       "classes": " multiple_edges ",
       "data": {
        "display_relation": "CORUM",
        "id": "92e4208a-e5bd-4c1f-903d-181885a74448",
        "source": "RPN1",
        "source_name": "RPN1",
        "target": "DDOST",
        "target_name": "DDOST"
       },
       "selectable": false
      }
     },
     "5a94d04eb3bb4a13a90012533107e084": {
      "model_module": "jupyter-cytoscape",
      "model_module_version": "^1.3.3",
      "model_name": "EdgeModel",
      "state": {
       "_model_module_version": "^1.3.3",
       "_view_module_version": "^1.3.3",
       "classes": " multiple_edges ",
       "data": {
        "display_relation": "REACTOMEFI",
        "id": "26a590da-df8b-49a8-80f8-17c363c710a7",
        "source": "RPN1",
        "source_name": "DAD1",
        "target": "DAD1",
        "target_name": "RPN1"
       },
       "selectable": false
      }
     },
     "5abd242671cd49f595b6e31ca5b73c23": {
      "model_module": "jupyter-cytoscape",
      "model_module_version": "^1.3.3",
      "model_name": "EdgeModel",
      "state": {
       "_model_module_version": "^1.3.3",
       "_view_module_version": "^1.3.3",
       "classes": " multiple_edges ",
       "data": {
        "display_relation": "CORUM",
        "id": "a35dd3ee-26fd-42db-98a0-f1801ef22c67",
        "source": "STT3B",
        "source_name": "DDOST",
        "target": "DDOST",
        "target_name": "STT3B"
       },
       "selectable": false
      }
     },
     "5bcae7f697a844df8c9adc4b6633b0ff": {
      "model_module": "jupyter-cytoscape",
      "model_module_version": "^1.3.3",
      "model_name": "EdgeModel",
      "state": {
       "_model_module_version": "^1.3.3",
       "_view_module_version": "^1.3.3",
       "classes": " multiple_edges ",
       "data": {
        "display_relation": "CORUM",
        "id": "6655ccb5-147a-49f6-a5e0-d67d6cf39a52",
        "source": "DDOST",
        "source_name": "DDOST",
        "target": "MAGT1",
        "target_name": "MAGT1"
       },
       "selectable": false
      }
     },
     "5ca98311c98e4432a185cab37e2c804c": {
      "model_module": "jupyter-cytoscape",
      "model_module_version": "^1.3.3",
      "model_name": "EdgeModel",
      "state": {
       "_model_module_version": "^1.3.3",
       "_view_module_version": "^1.3.3",
       "classes": " multiple_edges ",
       "data": {
        "display_relation": "BIOGRID",
        "id": "23de90a8-a7f7-4c71-9beb-fc63d32f4b83",
        "source": "RPN1",
        "source_name": "TMEM258",
        "target": "TMEM258",
        "target_name": "RPN1"
       },
       "selectable": false
      }
     },
     "5d8b6020627a45dbb8a19c6c4109a9a8": {
      "model_module": "jupyter-cytoscape",
      "model_module_version": "^1.3.3",
      "model_name": "EdgeModel",
      "state": {
       "_model_module_version": "^1.3.3",
       "_view_module_version": "^1.3.3",
       "classes": " multiple_edges ",
       "data": {
        "display_relation": "KroganIAV",
        "id": "cc04483f-a191-41be-a3d0-4f3054c99076",
        "source": "RPN1",
        "source_name": "RPN1",
        "target": "RPN2",
        "target_name": "RPN2"
       },
       "selectable": false
      }
     },
     "5e1bb6d352b04886926e9c2b74b3c942": {
      "model_module": "jupyter-cytoscape",
      "model_module_version": "^1.3.3",
      "model_name": "EdgeModel",
      "state": {
       "_model_module_version": "^1.3.3",
       "_view_module_version": "^1.3.3",
       "classes": " multiple_edges ",
       "data": {
        "display_relation": "REACTOMEFI",
        "id": "7b2b2eea-5900-49f2-b0a8-e8e7149c07f9",
        "source": "RPN2",
        "source_name": "RPN2",
        "target": "STT3A",
        "target_name": "STT3A"
       },
       "selectable": false
      }
     },
     "5f21de8a89f440bcb7b94a9a9819307a": {
      "model_module": "jupyter-cytoscape",
      "model_module_version": "^1.3.3",
      "model_name": "EdgeModel",
      "state": {
       "_model_module_version": "^1.3.3",
       "_view_module_version": "^1.3.3",
       "classes": " multiple_edges ",
       "data": {
        "display_relation": "REACTOMEFI",
        "id": "0c53ac97-0862-44f6-8736-cf512b96dde1",
        "source": "DDOST",
        "source_name": "DDOST",
        "target": "MAGT1",
        "target_name": "MAGT1"
       },
       "selectable": false
      }
     },
     "60229a815aed42c2ab6a51729778b26f": {
      "model_module": "jupyter-cytoscape",
      "model_module_version": "^1.3.3",
      "model_name": "EdgeModel",
      "state": {
       "_model_module_version": "^1.3.3",
       "_view_module_version": "^1.3.3",
       "classes": " multiple_edges ",
       "data": {
        "display_relation": "CORUM",
        "id": "8507066e-395d-4679-9da7-0ea072e6d485",
        "source": "RPN1",
        "source_name": "RPN1",
        "target": "MAGT1",
        "target_name": "MAGT1"
       },
       "selectable": false
      }
     },
     "603e671e4c164991bcacebc6de7ebbc0": {
      "model_module": "jupyter-cytoscape",
      "model_module_version": "^1.3.3",
      "model_name": "EdgeModel",
      "state": {
       "_model_module_version": "^1.3.3",
       "_view_module_version": "^1.3.3",
       "classes": " multiple_edges ",
       "data": {
        "display_relation": "BIOGRID",
        "id": "581bce3a-6132-46b7-9c82-cffbc348c3d7",
        "source": "RPN1",
        "source_name": "RPN1",
        "target": "RPN1",
        "target_name": "RPN1"
       },
       "selectable": false
      }
     },
     "616a36af08814e82a29fbaf4beb7436b": {
      "model_module": "jupyter-cytoscape",
      "model_module_version": "^1.3.3",
      "model_name": "EdgeModel",
      "state": {
       "_model_module_version": "^1.3.3",
       "_view_module_version": "^1.3.3",
       "classes": " multiple_edges ",
       "data": {
        "display_relation": "CORUM",
        "id": "5d79b0bb-9732-47d5-80e5-e118d6a82a90",
        "source": "RPN1",
        "source_name": "RPN1",
        "target": "MAGT1",
        "target_name": "MAGT1"
       },
       "selectable": false
      }
     },
     "61a4a6c7b3cb4628a29bc4d8b6fc558a": {
      "model_module": "jupyter-cytoscape",
      "model_module_version": "^1.3.3",
      "model_name": "EdgeModel",
      "state": {
       "_model_module_version": "^1.3.3",
       "_view_module_version": "^1.3.3",
       "classes": " multiple_edges ",
       "data": {
        "display_relation": "KroganCovHuPPI",
        "id": "9bce11a9-3ac7-419a-89bf-532de8100b97",
        "source": "DAD1",
        "source_name": "DAD1",
        "target": "SARS-CoV-2",
        "target_name": "SARS-CoV-2"
       },
       "selectable": false
      }
     },
     "61b5a33d16574a419353120dcee22396": {
      "model_module": "jupyter-cytoscape",
      "model_module_version": "^1.3.3",
      "model_name": "EdgeModel",
      "state": {
       "_model_module_version": "^1.3.3",
       "_view_module_version": "^1.3.3",
       "classes": " multiple_edges ",
       "data": {
        "display_relation": "crispr",
        "id": "b9a8a4ec-55cc-4da4-9b47-8f7336f538e7",
        "source": "OST4",
        "source_name": "OST4",
        "target": "PIV3",
        "target_name": "PIV3"
       },
       "selectable": false
      }
     },
     "625ac91c568d47bc84957886084736ac": {
      "model_module": "jupyter-cytoscape",
      "model_module_version": "^1.3.3",
      "model_name": "EdgeModel",
      "state": {
       "_model_module_version": "^1.3.3",
       "_view_module_version": "^1.3.3",
       "classes": " multiple_edges ",
       "data": {
        "display_relation": "BIOGRID",
        "id": "aaf2be1c-f8e5-4138-8cf0-779081ed1ed6",
        "source": "DAD1",
        "source_name": "TMEM258",
        "target": "TMEM258",
        "target_name": "DAD1"
       },
       "selectable": false
      }
     },
     "6289067ac67241f7977f7e2da32304d7": {
      "model_module": "jupyter-cytoscape",
      "model_module_version": "^1.3.3",
      "model_name": "EdgeModel",
      "state": {
       "_model_module_version": "^1.3.3",
       "_view_module_version": "^1.3.3",
       "classes": " multiple_edges ",
       "data": {
        "display_relation": "REACTOMEFI",
        "id": "bba97be2-2c75-4780-9ed5-ca50f1f3418e",
        "source": "STT3A",
        "source_name": "DDOST",
        "target": "DDOST",
        "target_name": "STT3A"
       },
       "selectable": false
      }
     },
     "634438c8531640b8a323a67f11a0d7d6": {
      "model_module": "jupyter-cytoscape",
      "model_module_version": "^1.3.3",
      "model_name": "EdgeModel",
      "state": {
       "_model_module_version": "^1.3.3",
       "_view_module_version": "^1.3.3",
       "classes": " multiple_edges ",
       "data": {
        "display_relation": "crispr",
        "id": "e0cffe9c-c85a-4902-bf7a-b60719f09ec2",
        "source": "STT3A",
        "source_name": "STT3A",
        "target": "PIV3",
        "target_name": "PIV3"
       },
       "selectable": false
      }
     },
     "63a3bcf7ad9f4b098e90e0769e3d2df2": {
      "model_module": "jupyter-cytoscape",
      "model_module_version": "^1.3.3",
      "model_name": "GraphModel",
      "state": {
       "_adj": {},
       "_model_module_version": "^1.3.3",
       "_view_module": "jupyter-cytoscape",
       "_view_module_version": "^1.3.3"
      }
     },
     "63eaa735813a4c26bf2a2c8b8b1aabc7": {
      "model_module": "jupyter-cytoscape",
      "model_module_version": "^1.3.3",
      "model_name": "NodeModel",
      "state": {
       "_model_module_version": "^1.3.3",
       "_view_module_version": "^1.3.3",
       "data": {
        "id": "OST4",
        "node_name": "OST4",
        "type": "gene/protein"
       },
       "grabbable": true,
       "grabbed": false,
       "position": {
        "x": 296.1904722550846,
        "y": 353.4124991940361
       },
       "selectable": false
      }
     },
     "64814ea7ce8d4ed483f7e9d51cadc61b": {
      "model_module": "jupyter-cytoscape",
      "model_module_version": "^1.3.3",
      "model_name": "EdgeModel",
      "state": {
       "_model_module_version": "^1.3.3",
       "_view_module_version": "^1.3.3",
       "classes": " multiple_edges ",
       "data": {
        "display_relation": "GEPanelAppCoV",
        "id": "6ba8d4ad-91e5-4a7a-aad6-f922914b63b6",
        "source": "MAGT1",
        "source_name": "MAGT1",
        "target": "SARS-CoV-2",
        "target_name": "SARS-CoV-2"
       },
       "selectable": false
      }
     },
     "64af509e32cb4036baa23ec19e1f73c8": {
      "model_module": "jupyter-cytoscape",
      "model_module_version": "^1.3.3",
      "model_name": "EdgeModel",
      "state": {
       "_model_module_version": "^1.3.3",
       "_view_module_version": "^1.3.3",
       "classes": " multiple_edges ",
       "data": {
        "display_relation": "CORUM",
        "id": "6d3fc272-631e-4084-b7c8-b25cf1073929",
        "source": "DAD1",
        "source_name": "DDOST",
        "target": "DDOST",
        "target_name": "DAD1"
       },
       "selectable": false
      }
     },
     "64b205d9c3474f75a91381a084522223": {
      "model_module": "jupyter-cytoscape",
      "model_module_version": "^1.3.3",
      "model_name": "EdgeModel",
      "state": {
       "_model_module_version": "^1.3.3",
       "_view_module_version": "^1.3.3",
       "classes": " multiple_edges ",
       "data": {
        "display_relation": "BIOGRID",
        "id": "e8de90b2-20bd-45b4-be97-ccf2b2d54165",
        "source": "RPN1",
        "source_name": "RPN1",
        "target": "RPN2",
        "target_name": "RPN2"
       },
       "selectable": false
      }
     },
     "680dfdffed054612b06026e21d181efc": {
      "model_module": "jupyter-cytoscape",
      "model_module_version": "^1.3.3",
      "model_name": "NodeModel",
      "state": {
       "_model_module_version": "^1.3.3",
       "_view_module_version": "^1.3.3",
       "data": {
        "id": "HRV",
        "node_name": "HRV",
        "type": "disease"
       },
       "grabbable": true,
       "grabbed": false,
       "position": {
        "x": 195.51442949354336,
        "y": 28.889715665170726
       },
       "selectable": false
      }
     },
     "685d403d069a44ff80a91719f0e9d516": {
      "model_module": "jupyter-cytoscape",
      "model_module_version": "^1.3.3",
      "model_name": "EdgeModel",
      "state": {
       "_model_module_version": "^1.3.3",
       "_view_module_version": "^1.3.3",
       "classes": " multiple_edges ",
       "data": {
        "display_relation": "KroganCovHuPPI",
        "id": "aa5ee034-49ea-40a5-b50c-57a7d2131b66",
        "source": "DAD1",
        "source_name": "DAD1",
        "target": "SARS-CoV-2",
        "target_name": "SARS-CoV-2"
       },
       "selectable": false
      }
     },
     "68eb6302e46a443c9f747437a139a8a8": {
      "model_module": "jupyter-cytoscape",
      "model_module_version": "^1.3.3",
      "model_name": "EdgeModel",
      "state": {
       "_model_module_version": "^1.3.3",
       "_view_module_version": "^1.3.3",
       "classes": " multiple_edges ",
       "data": {
        "display_relation": "BIOGRID",
        "id": "bc54cd5e-0332-457e-ba2a-dc67bb3d8f6a",
        "source": "TMEM258",
        "source_name": "TMEM258",
        "target": "STT3A",
        "target_name": "STT3A"
       },
       "selectable": false
      }
     },
     "6960e9bff39b4980a35b9494aa0ce205": {
      "model_module": "jupyter-cytoscape",
      "model_module_version": "^1.3.3",
      "model_name": "EdgeModel",
      "state": {
       "_model_module_version": "^1.3.3",
       "_view_module_version": "^1.3.3",
       "classes": " multiple_edges ",
       "data": {
        "display_relation": "REACTOMEFI",
        "id": "66367d82-ea81-42d8-b7cd-d38d6e2656ec",
        "source": "RPN1",
        "source_name": "RPN1",
        "target": "RPN2",
        "target_name": "RPN2"
       },
       "selectable": false
      }
     },
     "698c20148b734ce1b56213dee82f7207": {
      "model_module": "jupyter-cytoscape",
      "model_module_version": "^1.3.3",
      "model_name": "EdgeModel",
      "state": {
       "_model_module_version": "^1.3.3",
       "_view_module_version": "^1.3.3",
       "classes": " multiple_edges ",
       "data": {
        "display_relation": "REACTOMEFI",
        "id": "37d7fc96-ced9-4709-801b-a5b7b02eddb3",
        "source": "DAD1",
        "source_name": "DAD1",
        "target": "MAGT1",
        "target_name": "MAGT1"
       },
       "selectable": false
      }
     },
     "69aca34da7fd404f93a0685b9c92612c": {
      "model_module": "jupyter-cytoscape",
      "model_module_version": "^1.3.3",
      "model_name": "EdgeModel",
      "state": {
       "_model_module_version": "^1.3.3",
       "_view_module_version": "^1.3.3",
       "classes": " multiple_edges ",
       "data": {
        "display_relation": "KimPPI",
        "id": "6d19e723-2294-4bb0-a2ae-b4637dc4e8f9",
        "source": "TMEM258",
        "source_name": "TMEM258",
        "target": "SARS-CoV-2",
        "target_name": "SARS-CoV-2"
       },
       "selectable": false
      }
     },
     "6b3c67344b1b40ceb76cea65d53f5b5d": {
      "model_module": "jupyter-cytoscape",
      "model_module_version": "^1.3.3",
      "model_name": "EdgeModel",
      "state": {
       "_model_module_version": "^1.3.3",
       "_view_module_version": "^1.3.3",
       "classes": " multiple_edges ",
       "data": {
        "display_relation": "CORUM",
        "id": "5e2768e6-b098-4313-8cba-1e4f31fb6488",
        "source": "RPN2",
        "source_name": "RPN2",
        "target": "DDOST",
        "target_name": "DDOST"
       },
       "selectable": false
      }
     },
     "6b6b9063715b4627bf9869321f0a6e95": {
      "model_module": "jupyter-cytoscape",
      "model_module_version": "^1.3.3",
      "model_name": "EdgeModel",
      "state": {
       "_model_module_version": "^1.3.3",
       "_view_module_version": "^1.3.3",
       "classes": " multiple_edges ",
       "data": {
        "display_relation": "KroganCovHuPPI",
        "id": "40c73381-7eea-44eb-898d-c9a65c42e959",
        "source": "MAGT1",
        "source_name": "MAGT1",
        "target": "SARS-CoV-2",
        "target_name": "SARS-CoV-2"
       },
       "selectable": false
      }
     },
     "6caa5e25de90419b872b665b581fe77a": {
      "model_module": "jupyter-cytoscape",
      "model_module_version": "^1.3.3",
      "model_name": "EdgeModel",
      "state": {
       "_model_module_version": "^1.3.3",
       "_view_module_version": "^1.3.3",
       "classes": " multiple_edges ",
       "data": {
        "display_relation": "CORUM",
        "id": "4f459023-63c9-4513-952a-c71af338e333",
        "source": "RPN2",
        "source_name": "RPN2",
        "target": "DAD1",
        "target_name": "DAD1"
       },
       "selectable": false
      }
     },
     "6cc050fcb2e34a018be26265f45f9c2e": {
      "model_module": "jupyter-cytoscape",
      "model_module_version": "^1.3.3",
      "model_name": "EdgeModel",
      "state": {
       "_model_module_version": "^1.3.3",
       "_view_module_version": "^1.3.3",
       "classes": " multiple_edges ",
       "data": {
        "display_relation": "REACTOMEFI",
        "id": "d24a0b48-0566-40b3-921c-0182482e7854",
        "source": "STT3A",
        "source_name": "DDOST",
        "target": "DDOST",
        "target_name": "STT3A"
       },
       "selectable": false
      }
     },
     "6cf37a77f95d4201b2c28d6e92d601d6": {
      "model_module": "jupyter-cytoscape",
      "model_module_version": "^1.3.3",
      "model_name": "EdgeModel",
      "state": {
       "_model_module_version": "^1.3.3",
       "_view_module_version": "^1.3.3",
       "classes": " multiple_edges ",
       "data": {
        "display_relation": "KroganCovHuPPI",
        "id": "8e7178b7-92e7-4615-8d68-d3add740d612",
        "source": "RPN1",
        "source_name": "RPN1",
        "target": "SARS-CoV-2",
        "target_name": "SARS-CoV-2"
       },
       "selectable": false
      }
     },
     "6dbb2cb915a4455d99534e5ddf916abe": {
      "model_module": "jupyter-cytoscape",
      "model_module_version": "^1.3.3",
      "model_name": "GraphModel",
      "state": {
       "_adj": {},
       "_model_module_version": "^1.3.3",
       "_view_module": "jupyter-cytoscape",
       "_view_module_version": "^1.3.3"
      }
     },
     "6e208aec4f8e46e49594e7a03e73f4b6": {
      "model_module": "jupyter-cytoscape",
      "model_module_version": "^1.3.3",
      "model_name": "EdgeModel",
      "state": {
       "_model_module_version": "^1.3.3",
       "_view_module_version": "^1.3.3",
       "classes": " multiple_edges ",
       "data": {
        "display_relation": "crispr",
        "id": "4173f35a-eb85-48f7-aed9-acde330d5f81",
        "source": "DDOST",
        "source_name": "DDOST",
        "target": "MERS-CoV",
        "target_name": "MERS-CoV"
       },
       "selectable": false
      }
     },
     "6e34e101eda44a2f82dbe6da07f85187": {
      "model_module": "jupyter-cytoscape",
      "model_module_version": "^1.3.3",
      "model_name": "EdgeModel",
      "state": {
       "_model_module_version": "^1.3.3",
       "_view_module_version": "^1.3.3",
       "classes": " multiple_edges ",
       "data": {
        "display_relation": "CORUM",
        "id": "7ee34888-b201-4f6c-8b86-99841b386e0c",
        "source": "RPN1",
        "source_name": "RPN1",
        "target": "DDOST",
        "target_name": "DDOST"
       },
       "selectable": false
      }
     },
     "6ee53798a6dc42ff904593c913c00194": {
      "model_module": "jupyter-cytoscape",
      "model_module_version": "^1.3.3",
      "model_name": "EdgeModel",
      "state": {
       "_model_module_version": "^1.3.3",
       "_view_module_version": "^1.3.3",
       "classes": " multiple_edges ",
       "data": {
        "display_relation": "KimPPI",
        "id": "4a9872c4-c352-46d2-b792-c66085e04ad7",
        "source": "TMEM258",
        "source_name": "TMEM258",
        "target": "SARS-CoV-2",
        "target_name": "SARS-CoV-2"
       },
       "selectable": false
      }
     },
     "6f723116eabe42b197067647e99ab02b": {
      "model_module": "jupyter-cytoscape",
      "model_module_version": "^1.3.3",
      "model_name": "EdgeModel",
      "state": {
       "_model_module_version": "^1.3.3",
       "_view_module_version": "^1.3.3",
       "classes": " multiple_edges ",
       "data": {
        "display_relation": "CORUM",
        "id": "38bbe484-c773-4423-be10-4cfa27268154",
        "source": "DAD1",
        "source_name": "DAD1",
        "target": "MAGT1",
        "target_name": "MAGT1"
       },
       "selectable": false
      }
     },
     "70b7111f94834dbaa713c93755fc2d90": {
      "model_module": "jupyter-cytoscape",
      "model_module_version": "^1.3.3",
      "model_name": "NodeModel",
      "state": {
       "_model_module_version": "^1.3.3",
       "_view_module_version": "^1.3.3",
       "data": {
        "id": "OSTC",
        "node_name": "OSTC",
        "type": "gene/protein"
       },
       "grabbable": true,
       "grabbed": false,
       "position": {
        "x": 264.4782236616418,
        "y": 19.343476803456262
       },
       "selectable": false
      }
     },
     "720601bbc5a747f6babe370c3268477a": {
      "model_module": "jupyter-cytoscape",
      "model_module_version": "^1.3.3",
      "model_name": "EdgeModel",
      "state": {
       "_model_module_version": "^1.3.3",
       "_view_module_version": "^1.3.3",
       "classes": " multiple_edges ",
       "data": {
        "display_relation": "REACTOMEFI",
        "id": "f6b6d106-7033-4aad-9a59-6bf2f2936ece",
        "source": "RPN1",
        "source_name": "MAGT1",
        "target": "MAGT1",
        "target_name": "RPN1"
       },
       "selectable": false
      }
     },
     "726e65c2118241d48d1172bb86e7cd0f": {
      "model_module": "jupyter-cytoscape",
      "model_module_version": "^1.3.3",
      "model_name": "EdgeModel",
      "state": {
       "_model_module_version": "^1.3.3",
       "_view_module_version": "^1.3.3",
       "classes": " multiple_edges ",
       "data": {
        "display_relation": "REACTOMEFI",
        "id": "6c0e1f29-2849-4b64-9dac-beef3626a9b4",
        "source": "RPN1",
        "source_name": "RPN1",
        "target": "RPN2",
        "target_name": "RPN2"
       },
       "selectable": false
      }
     },
     "72ac94229a7c48ba8d3cfc68106dfaac": {
      "model_module": "jupyter-cytoscape",
      "model_module_version": "^1.3.3",
      "model_name": "EdgeModel",
      "state": {
       "_model_module_version": "^1.3.3",
       "_view_module_version": "^1.3.3",
       "classes": " multiple_edges ",
       "data": {
        "display_relation": "REACTOMEFI",
        "id": "361fb974-fcf5-4bac-b5bd-f9de5c62e6e3",
        "source": "STT3A",
        "source_name": "MAGT1",
        "target": "MAGT1",
        "target_name": "STT3A"
       },
       "selectable": false
      }
     },
     "72ad1793ae774550b1a52c6f975b6b9c": {
      "model_module": "jupyter-cytoscape",
      "model_module_version": "^1.3.3",
      "model_name": "NodeModel",
      "state": {
       "_model_module_version": "^1.3.3",
       "_view_module_version": "^1.3.3",
       "data": {
        "id": "HRV",
        "node_name": "HRV",
        "type": "disease"
       },
       "grabbable": true,
       "grabbed": false,
       "position": {
        "x": 159.4467829279272,
        "y": 264.2354200311125
       },
       "selectable": false
      }
     },
     "72ae72294e5a4124947f052eb002cd90": {
      "model_module": "ipysigma",
      "model_module_version": "^0.24.2",
      "model_name": "SigmaModel",
      "state": {
       "_model_module_version": "^0.24.2",
       "_view_module_version": "^0.24.2",
       "background_color": "white",
       "camera_state": {
        "angle": 0,
        "ratio": 1,
        "x": 0.5,
        "y": 0.5
       },
       "clickable_edges": false,
       "data": {
        "edges": [
         {
          "attributes": {
           "display_relation": "KroganIAV",
           "source_name": "RPN1",
           "target_name": "RPN2"
          },
          "source": "RPN1",
          "target": "RPN2"
         },
         {
          "attributes": {
           "display_relation": "BIOGRID",
           "source_name": "RPN1",
           "target_name": "RPN2"
          },
          "source": "RPN1",
          "target": "RPN2"
         },
         {
          "attributes": {
           "display_relation": "CORUM",
           "source_name": "RPN1",
           "target_name": "RPN2"
          },
          "source": "RPN1",
          "target": "RPN2"
         },
         {
          "attributes": {
           "display_relation": "REACTOMEFI",
           "source_name": "RPN1",
           "target_name": "RPN2"
          },
          "source": "RPN1",
          "target": "RPN2"
         },
         {
          "attributes": {
           "display_relation": "BIOGRID",
           "source_name": "RPN1",
           "target_name": "RPN1"
          },
          "source": "RPN1",
          "target": "RPN1"
         },
         {
          "attributes": {
           "display_relation": "BIOGRID",
           "source_name": "OST4",
           "target_name": "RPN1"
          },
          "source": "RPN1",
          "target": "OST4"
         },
         {
          "attributes": {
           "display_relation": "BIOGRID",
           "source_name": "TMEM258",
           "target_name": "RPN1"
          },
          "source": "RPN1",
          "target": "TMEM258"
         },
         {
          "attributes": {
           "display_relation": "CORUM",
           "source_name": "RPN1",
           "target_name": "DDOST"
          },
          "source": "RPN1",
          "target": "DDOST"
         },
         {
          "attributes": {
           "display_relation": "REACTOMEFI",
           "source_name": "DDOST",
           "target_name": "RPN1"
          },
          "source": "RPN1",
          "target": "DDOST"
         },
         {
          "attributes": {
           "display_relation": "CORUM",
           "source_name": "RPN1",
           "target_name": "STT3A"
          },
          "source": "RPN1",
          "target": "STT3A"
         },
         {
          "attributes": {
           "display_relation": "REACTOMEFI",
           "source_name": "RPN1",
           "target_name": "STT3A"
          },
          "source": "RPN1",
          "target": "STT3A"
         },
         {
          "attributes": {
           "display_relation": "CORUM",
           "source_name": "RPN1",
           "target_name": "DAD1"
          },
          "source": "RPN1",
          "target": "DAD1"
         },
         {
          "attributes": {
           "display_relation": "REACTOMEFI",
           "source_name": "DAD1",
           "target_name": "RPN1"
          },
          "source": "RPN1",
          "target": "DAD1"
         },
         {
          "attributes": {
           "display_relation": "CORUM",
           "source_name": "RPN1",
           "target_name": "MAGT1"
          },
          "source": "RPN1",
          "target": "MAGT1"
         },
         {
          "attributes": {
           "display_relation": "REACTOMEFI",
           "source_name": "MAGT1",
           "target_name": "RPN1"
          },
          "source": "RPN1",
          "target": "MAGT1"
         },
         {
          "attributes": {
           "display_relation": "CORUM",
           "source_name": "RPN1",
           "target_name": "STT3B"
          },
          "source": "RPN1",
          "target": "STT3B"
         },
         {
          "attributes": {
           "display_relation": "KroganIAV",
           "source_name": "IAV",
           "target_name": "RPN1"
          },
          "source": "RPN1",
          "target": "IAV"
         },
         {
          "attributes": {
           "display_relation": "KroganIBV",
           "source_name": "IAV",
           "target_name": "RPN1"
          },
          "source": "RPN1",
          "target": "IAV"
         },
         {
          "attributes": {
           "display_relation": "KroganCovHuPPI",
           "source_name": "RPN1",
           "target_name": "SARS-CoV-2"
          },
          "source": "RPN1",
          "target": "SARS-CoV-2"
         },
         {
          "attributes": {
           "display_relation": "crispr",
           "source_name": "RPN1",
           "target_name": "MERS-CoV"
          },
          "source": "RPN1",
          "target": "MERS-CoV"
         },
         {
          "attributes": {
           "display_relation": "BIOGRID",
           "source_name": "TMEM258",
           "target_name": "RPN2"
          },
          "source": "RPN2",
          "target": "TMEM258"
         },
         {
          "attributes": {
           "display_relation": "CORUM",
           "source_name": "RPN2",
           "target_name": "DDOST"
          },
          "source": "RPN2",
          "target": "DDOST"
         },
         {
          "attributes": {
           "display_relation": "REACTOMEFI",
           "source_name": "DDOST",
           "target_name": "RPN2"
          },
          "source": "RPN2",
          "target": "DDOST"
         },
         {
          "attributes": {
           "display_relation": "CORUM",
           "source_name": "RPN2",
           "target_name": "STT3A"
          },
          "source": "RPN2",
          "target": "STT3A"
         },
         {
          "attributes": {
           "display_relation": "REACTOMEFI",
           "source_name": "RPN2",
           "target_name": "STT3A"
          },
          "source": "RPN2",
          "target": "STT3A"
         },
         {
          "attributes": {
           "display_relation": "CORUM",
           "source_name": "RPN2",
           "target_name": "DAD1"
          },
          "source": "RPN2",
          "target": "DAD1"
         },
         {
          "attributes": {
           "display_relation": "REACTOMEFI",
           "source_name": "DAD1",
           "target_name": "RPN2"
          },
          "source": "RPN2",
          "target": "DAD1"
         },
         {
          "attributes": {
           "display_relation": "CORUM",
           "source_name": "RPN2",
           "target_name": "MAGT1"
          },
          "source": "RPN2",
          "target": "MAGT1"
         },
         {
          "attributes": {
           "display_relation": "REACTOMEFI",
           "source_name": "MAGT1",
           "target_name": "RPN2"
          },
          "source": "RPN2",
          "target": "MAGT1"
         },
         {
          "attributes": {
           "display_relation": "CORUM",
           "source_name": "RPN2",
           "target_name": "STT3B"
          },
          "source": "RPN2",
          "target": "STT3B"
         },
         {
          "attributes": {
           "display_relation": "KroganIAV",
           "source_name": "IAV",
           "target_name": "RPN2"
          },
          "source": "RPN2",
          "target": "IAV"
         },
         {
          "attributes": {
           "display_relation": "KroganCovHuPPI",
           "source_name": "RPN2",
           "target_name": "SARS-CoV-2"
          },
          "source": "RPN2",
          "target": "SARS-CoV-2"
         },
         {
          "attributes": {
           "display_relation": "BIOGRID",
           "source_name": "OST4",
           "target_name": "OST4"
          },
          "source": "OST4",
          "target": "OST4"
         },
         {
          "attributes": {
           "display_relation": "BIOGRID",
           "source_name": "OST4",
           "target_name": "STT3A"
          },
          "source": "OST4",
          "target": "STT3A"
         },
         {
          "attributes": {
           "display_relation": "BIOGRID",
           "source_name": "OST4",
           "target_name": "STT3B"
          },
          "source": "OST4",
          "target": "STT3B"
         },
         {
          "attributes": {
           "display_relation": "BIOGRID",
           "source_name": "DAD1",
           "target_name": "DAD1"
          },
          "source": "DAD1",
          "target": "DAD1"
         },
         {
          "attributes": {
           "display_relation": "BIOGRID",
           "source_name": "TMEM258",
           "target_name": "DAD1"
          },
          "source": "DAD1",
          "target": "TMEM258"
         },
         {
          "attributes": {
           "display_relation": "CORUM",
           "source_name": "DDOST",
           "target_name": "DAD1"
          },
          "source": "DAD1",
          "target": "DDOST"
         },
         {
          "attributes": {
           "display_relation": "REACTOMEFI",
           "source_name": "DAD1",
           "target_name": "DDOST"
          },
          "source": "DAD1",
          "target": "DDOST"
         },
         {
          "attributes": {
           "display_relation": "CORUM",
           "source_name": "STT3A",
           "target_name": "DAD1"
          },
          "source": "DAD1",
          "target": "STT3A"
         },
         {
          "attributes": {
           "display_relation": "REACTOMEFI",
           "source_name": "DAD1",
           "target_name": "STT3A"
          },
          "source": "DAD1",
          "target": "STT3A"
         },
         {
          "attributes": {
           "display_relation": "CORUM",
           "source_name": "DAD1",
           "target_name": "MAGT1"
          },
          "source": "DAD1",
          "target": "MAGT1"
         },
         {
          "attributes": {
           "display_relation": "REACTOMEFI",
           "source_name": "DAD1",
           "target_name": "MAGT1"
          },
          "source": "DAD1",
          "target": "MAGT1"
         },
         {
          "attributes": {
           "display_relation": "CORUM",
           "source_name": "DAD1",
           "target_name": "STT3B"
          },
          "source": "DAD1",
          "target": "STT3B"
         },
         {
          "attributes": {
           "display_relation": "KroganCovHuPPI",
           "source_name": "DAD1",
           "target_name": "SARS-CoV-2"
          },
          "source": "DAD1",
          "target": "SARS-CoV-2"
         },
         {
          "attributes": {
           "display_relation": "BIOGRID",
           "source_name": "TMEM258",
           "target_name": "STT3A"
          },
          "source": "STT3A",
          "target": "TMEM258"
         },
         {
          "attributes": {
           "display_relation": "CORUM",
           "source_name": "DDOST",
           "target_name": "STT3A"
          },
          "source": "STT3A",
          "target": "DDOST"
         },
         {
          "attributes": {
           "display_relation": "REACTOMEFI",
           "source_name": "DDOST",
           "target_name": "STT3A"
          },
          "source": "STT3A",
          "target": "DDOST"
         },
         {
          "attributes": {
           "display_relation": "CORUM",
           "source_name": "STT3A",
           "target_name": "MAGT1"
          },
          "source": "STT3A",
          "target": "MAGT1"
         },
         {
          "attributes": {
           "display_relation": "REACTOMEFI",
           "source_name": "MAGT1",
           "target_name": "STT3A"
          },
          "source": "STT3A",
          "target": "MAGT1"
         },
         {
          "attributes": {
           "display_relation": "paralogue",
           "source_name": "STT3B",
           "target_name": "STT3A"
          },
          "source": "STT3A",
          "target": "STT3B"
         },
         {
          "attributes": {
           "display_relation": "KroganCovHuPPI",
           "source_name": "STT3A",
           "target_name": "SARS-CoV-2"
          },
          "source": "STT3A",
          "target": "SARS-CoV-2"
         },
         {
          "attributes": {
           "display_relation": "crispr",
           "source_name": "STT3A",
           "target_name": "SARS-CoV-2"
          },
          "source": "STT3A",
          "target": "SARS-CoV-2"
         },
         {
          "attributes": {
           "display_relation": "crispr",
           "source_name": "STT3A",
           "target_name": "HRV"
          },
          "source": "STT3A",
          "target": "HRV"
         },
         {
          "attributes": {
           "display_relation": "crispr",
           "source_name": "STT3A",
           "target_name": "PIV3"
          },
          "source": "STT3A",
          "target": "PIV3"
         },
         {
          "attributes": {
           "display_relation": "BIOGRID",
           "source_name": "TMEM258",
           "target_name": "STT3B"
          },
          "source": "STT3B",
          "target": "TMEM258"
         },
         {
          "attributes": {
           "display_relation": "BIOGRID",
           "source_name": "MAGT1",
           "target_name": "STT3B"
          },
          "source": "STT3B",
          "target": "MAGT1"
         },
         {
          "attributes": {
           "display_relation": "CORUM",
           "source_name": "STT3B",
           "target_name": "MAGT1"
          },
          "source": "STT3B",
          "target": "MAGT1"
         },
         {
          "attributes": {
           "display_relation": "CORUM",
           "source_name": "DDOST",
           "target_name": "STT3B"
          },
          "source": "STT3B",
          "target": "DDOST"
         },
         {
          "attributes": {
           "display_relation": "KroganCovHuPPI",
           "source_name": "STT3B",
           "target_name": "SARS-CoV-2"
          },
          "source": "STT3B",
          "target": "SARS-CoV-2"
         },
         {
          "attributes": {
           "display_relation": "BIOGRID",
           "source_name": "TMEM258",
           "target_name": "DDOST"
          },
          "source": "TMEM258",
          "target": "DDOST"
         },
         {
          "attributes": {
           "display_relation": "BIOGRID",
           "source_name": "TMEM258",
           "target_name": "MAGT1"
          },
          "source": "TMEM258",
          "target": "MAGT1"
         },
         {
          "attributes": {
           "display_relation": "KroganCovHuPPI",
           "source_name": "TMEM258",
           "target_name": "SARS-CoV-2"
          },
          "source": "TMEM258",
          "target": "SARS-CoV-2"
         },
         {
          "attributes": {
           "display_relation": "KimPPI",
           "source_name": "TMEM258",
           "target_name": "SARS-CoV-2"
          },
          "source": "TMEM258",
          "target": "SARS-CoV-2"
         },
         {
          "attributes": {
           "display_relation": "crispr",
           "source_name": "TMEM258",
           "target_name": "SARS-CoV-2"
          },
          "source": "TMEM258",
          "target": "SARS-CoV-2"
         },
         {
          "attributes": {
           "display_relation": "CORUM",
           "source_name": "DDOST",
           "target_name": "MAGT1"
          },
          "source": "DDOST",
          "target": "MAGT1"
         },
         {
          "attributes": {
           "display_relation": "REACTOMEFI",
           "source_name": "DDOST",
           "target_name": "MAGT1"
          },
          "source": "DDOST",
          "target": "MAGT1"
         },
         {
          "attributes": {
           "display_relation": "KroganCovHuPPI",
           "source_name": "DDOST",
           "target_name": "SARS-CoV-2"
          },
          "source": "DDOST",
          "target": "SARS-CoV-2"
         },
         {
          "attributes": {
           "display_relation": "crispr",
           "source_name": "DDOST",
           "target_name": "MERS-CoV"
          },
          "source": "DDOST",
          "target": "MERS-CoV"
         },
         {
          "attributes": {
           "display_relation": "KroganCovHuPPI",
           "source_name": "MAGT1",
           "target_name": "SARS-CoV-2"
          },
          "source": "MAGT1",
          "target": "SARS-CoV-2"
         },
         {
          "attributes": {
           "display_relation": "GEPanelAppCoV",
           "source_name": "MAGT1",
           "target_name": "SARS-CoV-2"
          },
          "source": "MAGT1",
          "target": "SARS-CoV-2"
         },
         {
          "attributes": {
           "display_relation": "KroganCovHuPPI",
           "source_name": "OSTC",
           "target_name": "SARS-CoV-2"
          },
          "source": "SARS-CoV-2",
          "target": "OSTC"
         },
         {
          "attributes": {
           "display_relation": "crispr",
           "source_name": "OSTC",
           "target_name": "HRV"
          },
          "source": "OSTC",
          "target": "HRV"
         }
        ],
        "nodes": [
         {
          "attributes": {
           "ipysigma_kwarg_node_size": 21,
           "node_name": "RPN1",
           "type": "gene/protein",
           "x": 0.15428948876230283,
           "y": 0.25273986629959766
          },
          "key": "RPN1"
         },
         {
          "attributes": {
           "ipysigma_kwarg_node_size": 16,
           "node_name": "RPN2",
           "type": "gene/protein",
           "x": 0.5762050567157171,
           "y": 0.8675055755423209
          },
          "key": "RPN2"
         },
         {
          "attributes": {
           "ipysigma_kwarg_node_size": 5,
           "node_name": "OST4",
           "type": "gene/protein",
           "x": 0.4923045147706771,
           "y": 0.7549328770522359
          },
          "key": "OST4"
         },
         {
          "attributes": {
           "ipysigma_kwarg_node_size": 15,
           "node_name": "DAD1",
           "type": "gene/protein",
           "x": 0.536310160588477,
           "y": 0.6607164922702594
          },
          "key": "DAD1"
         },
         {
          "attributes": {
           "ipysigma_kwarg_node_size": 17,
           "node_name": "STT3A",
           "type": "gene/protein",
           "x": 0.17898877761019927,
           "y": 0.7423470400617883
          },
          "key": "STT3A"
         },
         {
          "attributes": {
           "ipysigma_kwarg_node_size": 10,
           "node_name": "STT3B",
           "type": "gene/protein",
           "x": 0.7654569574501733,
           "y": 0.2409002179776765
          },
          "key": "STT3B"
         },
         {
          "attributes": {
           "ipysigma_kwarg_node_size": 10,
           "node_name": "TMEM258",
           "type": "gene/protein",
           "x": 0.8666364121438902,
           "y": 0.3612731622048909
          },
          "key": "TMEM258"
         },
         {
          "attributes": {
           "ipysigma_kwarg_node_size": 14,
           "node_name": "DDOST",
           "type": "gene/protein",
           "x": 0.3750092524652347,
           "y": 0.43898357292952234
          },
          "key": "DDOST"
         },
         {
          "attributes": {
           "ipysigma_kwarg_node_size": 15,
           "node_name": "MAGT1",
           "type": "gene/protein",
           "x": 0.686974614630136,
           "y": 0.44860358368004677
          },
          "key": "MAGT1"
         },
         {
          "attributes": {
           "ipysigma_kwarg_node_size": 3,
           "node_name": "IAV",
           "type": "disease",
           "x": 0.40559004582969205,
           "y": 0.8051142792853555
          },
          "key": "IAV"
         },
         {
          "attributes": {
           "ipysigma_kwarg_node_size": 13,
           "node_name": "SARS-CoV-2",
           "type": "disease",
           "x": 0.2755987667745767,
           "y": 0.4476774839346224
          },
          "key": "SARS-CoV-2"
         },
         {
          "attributes": {
           "ipysigma_kwarg_node_size": 2,
           "node_name": "OSTC",
           "type": "gene/protein",
           "x": 0.692315680725632,
           "y": 0.22264914856719326
          },
          "key": "OSTC"
         },
         {
          "attributes": {
           "ipysigma_kwarg_node_size": 2,
           "node_name": "MERS-CoV",
           "type": "disease",
           "x": 0.6517501069627378,
           "y": 0.3711104926111498
          },
          "key": "MERS-CoV"
         },
         {
          "attributes": {
           "ipysigma_kwarg_node_size": 2,
           "node_name": "HRV",
           "type": "disease",
           "x": 0.2111467647774474,
           "y": 0.09947058602301147
          },
          "key": "HRV"
         },
         {
          "attributes": {
           "ipysigma_kwarg_node_size": 1,
           "node_name": "PIV3",
           "type": "disease",
           "x": 0.599929496786351,
           "y": 0.0787483076490472
          },
          "key": "PIV3"
         }
        ],
        "options": {
         "multi": true,
         "type": "undirected"
        }
       },
       "edge_weight": "weight",
       "height": "500px",
       "layout": {
        "DAD1": {
         "x": 0.536310160588477,
         "y": 0.6607164922702594
        },
        "DDOST": {
         "x": 0.3750092524652347,
         "y": 0.43898357292952234
        },
        "HRV": {
         "x": 0.2111467647774474,
         "y": 0.09947058602301147
        },
        "IAV": {
         "x": 0.40559004582969205,
         "y": 0.8051142792853555
        },
        "MAGT1": {
         "x": 0.686974614630136,
         "y": 0.44860358368004677
        },
        "MERS-CoV": {
         "x": 0.6517501069627378,
         "y": 0.3711104926111498
        },
        "OST4": {
         "x": 0.4923045147706771,
         "y": 0.7549328770522359
        },
        "OSTC": {
         "x": 0.692315680725632,
         "y": 0.22264914856719326
        },
        "PIV3": {
         "x": 0.599929496786351,
         "y": 0.0787483076490472
        },
        "RPN1": {
         "x": 0.15428948876230283,
         "y": 0.25273986629959766
        },
        "RPN2": {
         "x": 0.5762050567157171,
         "y": 0.8675055755423209
        },
        "SARS-CoV-2": {
         "x": 0.2755987667745767,
         "y": 0.4476774839346224
        },
        "STT3A": {
         "x": 0.17898877761019927,
         "y": 0.7423470400617883
        },
        "STT3B": {
         "x": 0.7654569574501733,
         "y": 0.2409002179776765
        },
        "TMEM258": {
         "x": 0.8666364121438902,
         "y": 0.3612731622048909
        }
       },
       "layout_settings": null,
       "max_categorical_colors": 10,
       "name": null,
       "node_metrics": {},
       "program_settings": {},
       "renderer_settings": {
        "defaultEdgeType": "rectangle",
        "defaultNodeType": "point",
        "enableEdgeClickEvents": false,
        "enableEdgeHoverEvents": false,
        "hideEdgesOnMove": false,
        "labelDensity": 1,
        "labelFont": "sans-serif",
        "labelGridCellSize": 250,
        "renderEdgeLabels": true,
        "zIndex": true
       },
       "selected_edge": null,
       "selected_edge_category_values": null,
       "selected_node": null,
       "selected_node_category_values": null,
       "start_layout_for_seconds": null,
       "sync_key": null,
       "sync_targets": [
        "layout",
        "hover",
        "camera",
        "selection"
       ],
       "ui_settings": {
        "hideInfoPanel": false,
        "hideSearch": false
       },
       "visual_variables": {
        "edgeColor": {
         "attribute": "color",
         "default": "#ccc",
         "type": "raw"
        },
        "edgeCurveness": {
         "default": 0.25,
         "type": "constant"
        },
        "edgeLabel": {
         "attribute": "label",
         "default": null,
         "type": "raw"
        },
        "edgeSize": {
         "attribute": "size",
         "default": 0.5,
         "range": [
          0.5,
          10
         ],
         "type": "continuous"
        },
        "nodeBorderColor": {
         "default": null,
         "type": "disabled"
        },
        "nodeBorderRatio": {
         "default": null,
         "type": "disabled"
        },
        "nodeBorderSize": {
         "default": 1,
         "type": "constant"
        },
        "nodeColor": {
         "attribute": "type",
         "default": "#999",
         "type": "category"
        },
        "nodeColorSaturation": {
         "default": null,
         "type": "disabled"
        },
        "nodeHaloColor": {
         "default": "red",
         "type": "constant"
        },
        "nodeHaloSize": {
         "default": null,
         "type": "disabled"
        },
        "nodeLabel": {
         "attribute": "label",
         "default": null,
         "type": "raw"
        },
        "nodeLabelColor": {
         "default": "#000",
         "type": "constant"
        },
        "nodeLabelSize": {
         "default": 12,
         "type": "constant"
        },
        "nodePictogram": {
         "default": null,
         "type": "disabled"
        },
        "nodePictogramColor": {
         "default": "#000",
         "type": "constant"
        },
        "nodeShape": {
         "default": null,
         "type": "disabled"
        },
        "nodeSize": {
         "attribute": "ipysigma_kwarg_node_size",
         "default": 3,
         "range": [
          3,
          15
         ],
         "type": "continuous"
        }
       }
      }
     },
     "73481f88df7c40dbae3a168321e88253": {
      "model_module": "jupyter-cytoscape",
      "model_module_version": "^1.3.3",
      "model_name": "EdgeModel",
      "state": {
       "_model_module_version": "^1.3.3",
       "_view_module_version": "^1.3.3",
       "classes": " multiple_edges ",
       "data": {
        "display_relation": "crispr",
        "id": "e49dc371-6e22-488f-98a9-714ca245a0c3",
        "source": "DDOST",
        "source_name": "DDOST",
        "target": "IAV",
        "target_name": "IAV"
       },
       "selectable": false
      }
     },
     "73f119aea4254138a066116c22c3514c": {
      "model_module": "jupyter-cytoscape",
      "model_module_version": "^1.3.3",
      "model_name": "EdgeModel",
      "state": {
       "_model_module_version": "^1.3.3",
       "_view_module_version": "^1.3.3",
       "classes": " multiple_edges ",
       "data": {
        "display_relation": "crispr",
        "id": "b36fbd33-0b39-4424-a2ff-63c78fad919e",
        "source": "RPN1",
        "source_name": "RPN1",
        "target": "MERS-CoV",
        "target_name": "MERS-CoV"
       },
       "selectable": false
      }
     },
     "74bff9c098ee4193872659e24e51349e": {
      "model_module": "jupyter-cytoscape",
      "model_module_version": "^1.3.3",
      "model_name": "EdgeModel",
      "state": {
       "_model_module_version": "^1.3.3",
       "_view_module_version": "^1.3.3",
       "classes": " multiple_edges ",
       "data": {
        "display_relation": "CORUM",
        "id": "8814778d-b8d7-4613-a452-c7f00a3b94e6",
        "source": "RPN2",
        "source_name": "RPN2",
        "target": "STT3A",
        "target_name": "STT3A"
       },
       "selectable": false
      }
     },
     "763304ac81644e26af7b66e199af8890": {
      "model_module": "jupyter-cytoscape",
      "model_module_version": "^1.3.3",
      "model_name": "EdgeModel",
      "state": {
       "_model_module_version": "^1.3.3",
       "_view_module_version": "^1.3.3",
       "classes": " multiple_edges ",
       "data": {
        "display_relation": "KroganCovHuPPI",
        "id": "a15ecb97-234b-461b-a32c-a4b39d82e310",
        "source": "DDOST",
        "source_name": "DDOST",
        "target": "SARS-CoV-2",
        "target_name": "SARS-CoV-2"
       },
       "selectable": false
      }
     },
     "76a00dda309c4b748faeed661752a1f6": {
      "model_module": "jupyter-cytoscape",
      "model_module_version": "^1.3.3",
      "model_name": "EdgeModel",
      "state": {
       "_model_module_version": "^1.3.3",
       "_view_module_version": "^1.3.3",
       "classes": " multiple_edges ",
       "data": {
        "display_relation": "REACTOMEFI",
        "id": "5c6ae34c-46b4-45a4-9ef4-322131a60554",
        "source": "RPN1",
        "source_name": "MAGT1",
        "target": "MAGT1",
        "target_name": "RPN1"
       },
       "selectable": false
      }
     },
     "76febe7c72bb452f9ad9556d264f0f41": {
      "model_module": "jupyter-cytoscape",
      "model_module_version": "^1.3.3",
      "model_name": "EdgeModel",
      "state": {
       "_model_module_version": "^1.3.3",
       "_view_module_version": "^1.3.3",
       "classes": " multiple_edges ",
       "data": {
        "display_relation": "REACTOMEFI",
        "id": "f97bc2d6-aeee-4bbd-a961-e0f8494a54bb",
        "source": "DDOST",
        "source_name": "DDOST",
        "target": "MAGT1",
        "target_name": "MAGT1"
       },
       "selectable": false
      }
     },
     "776d665522174566ab0294b2d30bd2d5": {
      "model_module": "jupyter-cytoscape",
      "model_module_version": "^1.3.3",
      "model_name": "EdgeModel",
      "state": {
       "_model_module_version": "^1.3.3",
       "_view_module_version": "^1.3.3",
       "classes": " multiple_edges ",
       "data": {
        "display_relation": "KroganCovHuPPI",
        "id": "d2fc068a-d330-4ee5-b5c6-b51de0c6775e",
        "source": "RPN1",
        "source_name": "RPN1",
        "target": "SARS-CoV-2",
        "target_name": "SARS-CoV-2"
       },
       "selectable": false
      }
     },
     "77fe2af507df4f6c8d99894a86e60bd4": {
      "model_module": "jupyter-cytoscape",
      "model_module_version": "^1.3.3",
      "model_name": "EdgeModel",
      "state": {
       "_model_module_version": "^1.3.3",
       "_view_module_version": "^1.3.3",
       "classes": " multiple_edges ",
       "data": {
        "display_relation": "BIOGRID",
        "id": "bb25ceef-6a62-48d9-9392-289a0d009dc0",
        "source": "DAD1",
        "source_name": "DAD1",
        "target": "DAD1",
        "target_name": "DAD1"
       },
       "selectable": false
      }
     },
     "79505a3e015648969f211f9674031f6b": {
      "model_module": "jupyter-cytoscape",
      "model_module_version": "^1.3.3",
      "model_name": "EdgeModel",
      "state": {
       "_model_module_version": "^1.3.3",
       "_view_module_version": "^1.3.3",
       "classes": " multiple_edges ",
       "data": {
        "display_relation": "REACTOMEFI",
        "id": "1c9dd17b-862c-49d8-afa0-7b00e04abb19",
        "source": "RPN2",
        "source_name": "MAGT1",
        "target": "MAGT1",
        "target_name": "RPN2"
       },
       "selectable": false
      }
     },
     "79a2fd775dcf4c40afb0eca17c966a83": {
      "model_module": "jupyter-cytoscape",
      "model_module_version": "^1.3.3",
      "model_name": "EdgeModel",
      "state": {
       "_model_module_version": "^1.3.3",
       "_view_module_version": "^1.3.3",
       "classes": " multiple_edges ",
       "data": {
        "display_relation": "CORUM",
        "id": "2f70d4ac-b558-411a-b64f-884f84eff732",
        "source": "RPN1",
        "source_name": "RPN1",
        "target": "DDOST",
        "target_name": "DDOST"
       },
       "selectable": false
      }
     },
     "79e68f27ec974b21add4ad98a5bc6ab2": {
      "model_module": "jupyter-cytoscape",
      "model_module_version": "^1.3.3",
      "model_name": "EdgeModel",
      "state": {
       "_model_module_version": "^1.3.3",
       "_view_module_version": "^1.3.3",
       "classes": " multiple_edges ",
       "data": {
        "display_relation": "KroganIAV",
        "id": "4c0d0287-dd81-4ad1-bbc0-f86a99a01646",
        "source": "RPN2",
        "source_name": "IAV",
        "target": "IAV",
        "target_name": "RPN2"
       },
       "selectable": false
      }
     },
     "7a76ad1fc43748418ee774c3bf074af6": {
      "model_module": "jupyter-cytoscape",
      "model_module_version": "^1.3.3",
      "model_name": "EdgeModel",
      "state": {
       "_model_module_version": "^1.3.3",
       "_view_module_version": "^1.3.3",
       "classes": " multiple_edges ",
       "data": {
        "display_relation": "BIOGRID",
        "id": "9b09228f-7896-43ce-a14a-35475b425838",
        "source": "TMEM258",
        "source_name": "TMEM258",
        "target": "STT3A",
        "target_name": "STT3A"
       },
       "selectable": false
      }
     },
     "7a9408cb7ee949c8a0c2598d0a3f3304": {
      "model_module": "jupyter-cytoscape",
      "model_module_version": "^1.3.3",
      "model_name": "EdgeModel",
      "state": {
       "_model_module_version": "^1.3.3",
       "_view_module_version": "^1.3.3",
       "classes": " multiple_edges ",
       "data": {
        "display_relation": "KroganCovHuPPI",
        "id": "8db76cff-8116-41ca-a6d9-5915d0399b73",
        "source": "STT3A",
        "source_name": "STT3A",
        "target": "SARS-CoV-2",
        "target_name": "SARS-CoV-2"
       },
       "selectable": false
      }
     },
     "7aa3a808b65e43988d0fd6fb5fb32a23": {
      "model_module": "jupyter-cytoscape",
      "model_module_version": "^1.3.3",
      "model_name": "EdgeModel",
      "state": {
       "_model_module_version": "^1.3.3",
       "_view_module_version": "^1.3.3",
       "classes": " multiple_edges ",
       "data": {
        "display_relation": "REACTOMEFI",
        "id": "faa43521-668f-4147-9694-7ab4d2df5dcb",
        "source": "RPN2",
        "source_name": "DAD1",
        "target": "DAD1",
        "target_name": "RPN2"
       },
       "selectable": false
      }
     },
     "7b9a3a47e0b34dcaa65d7907856c1978": {
      "model_module": "jupyter-cytoscape",
      "model_module_version": "^1.3.3",
      "model_name": "EdgeModel",
      "state": {
       "_model_module_version": "^1.3.3",
       "_view_module_version": "^1.3.3",
       "classes": " multiple_edges ",
       "data": {
        "display_relation": "REACTOMEFI",
        "id": "ee50a24c-b439-46b6-a92e-769d1765bc35",
        "source": "RPN2",
        "source_name": "RPN2",
        "target": "STT3A",
        "target_name": "STT3A"
       },
       "selectable": false
      }
     },
     "7cae8677e63949a7985c9b5316287cbf": {
      "model_module": "jupyter-cytoscape",
      "model_module_version": "^1.3.3",
      "model_name": "EdgeModel",
      "state": {
       "_model_module_version": "^1.3.3",
       "_view_module_version": "^1.3.3",
       "classes": " multiple_edges ",
       "data": {
        "display_relation": "paralogue",
        "id": "1b23fb0e-b1eb-45bb-831a-46bbc5167d11",
        "source": "STT3A",
        "source_name": "STT3B",
        "target": "STT3B",
        "target_name": "STT3A"
       },
       "selectable": false
      }
     },
     "7cdbd47546db4c1982d75c99b1c1f226": {
      "model_module": "jupyter-cytoscape",
      "model_module_version": "^1.3.3",
      "model_name": "EdgeModel",
      "state": {
       "_model_module_version": "^1.3.3",
       "_view_module_version": "^1.3.3",
       "classes": " multiple_edges ",
       "data": {
        "display_relation": "CORUM",
        "id": "9aafe984-6edd-4946-88c1-40e5777e37f3",
        "source": "RPN2",
        "source_name": "RPN2",
        "target": "STT3B",
        "target_name": "STT3B"
       },
       "selectable": false
      }
     },
     "7ce1da6d5af944369f241a559ccebd84": {
      "model_module": "jupyter-cytoscape",
      "model_module_version": "^1.3.3",
      "model_name": "EdgeModel",
      "state": {
       "_model_module_version": "^1.3.3",
       "_view_module_version": "^1.3.3",
       "classes": " multiple_edges ",
       "data": {
        "display_relation": "REACTOMEFI",
        "id": "4434189a-96bc-41bd-8731-e5f3ddc42d5d",
        "source": "RPN2",
        "source_name": "DAD1",
        "target": "DAD1",
        "target_name": "RPN2"
       },
       "selectable": false
      }
     },
     "7d1a8ec1bd5e4f75a8aff1748ec92019": {
      "model_module": "jupyter-cytoscape",
      "model_module_version": "^1.3.3",
      "model_name": "EdgeModel",
      "state": {
       "_model_module_version": "^1.3.3",
       "_view_module_version": "^1.3.3",
       "classes": " multiple_edges ",
       "data": {
        "display_relation": "CORUM",
        "id": "efe95e6c-e85d-4c28-9606-e641b780de6b",
        "source": "STT3A",
        "source_name": "DDOST",
        "target": "DDOST",
        "target_name": "STT3A"
       },
       "selectable": false
      }
     },
     "7dc63c72f53e44f4b1d43e480f278f74": {
      "model_module": "jupyter-cytoscape",
      "model_module_version": "^1.3.3",
      "model_name": "EdgeModel",
      "state": {
       "_model_module_version": "^1.3.3",
       "_view_module_version": "^1.3.3",
       "classes": " multiple_edges ",
       "data": {
        "display_relation": "crispr",
        "id": "0edf7379-aa63-4760-91d0-f2dd672dc02f",
        "source": "STT3A",
        "source_name": "STT3A",
        "target": "PIV3",
        "target_name": "PIV3"
       },
       "selectable": false
      }
     },
     "7de0528b244341e1994489d7aa4c4c09": {
      "model_module": "jupyter-cytoscape",
      "model_module_version": "^1.3.3",
      "model_name": "EdgeModel",
      "state": {
       "_model_module_version": "^1.3.3",
       "_view_module_version": "^1.3.3",
       "classes": " multiple_edges ",
       "data": {
        "display_relation": "crispr",
        "id": "81d865dc-164c-4f15-bdb8-014eea16b08b",
        "source": "OSTC",
        "source_name": "OSTC",
        "target": "HRV",
        "target_name": "HRV"
       },
       "selectable": false
      }
     },
     "7e14f168a4494fe692311e086370280c": {
      "model_module": "jupyter-cytoscape",
      "model_module_version": "^1.3.3",
      "model_name": "EdgeModel",
      "state": {
       "_model_module_version": "^1.3.3",
       "_view_module_version": "^1.3.3",
       "classes": " multiple_edges ",
       "data": {
        "display_relation": "crispr",
        "id": "91dc4afe-981e-40e3-a12f-7bc07f1ef19c",
        "source": "OSTC",
        "source_name": "OSTC",
        "target": "HRV",
        "target_name": "HRV"
       },
       "selectable": false
      }
     },
     "7e6adf24fe8e46e183e21bf940ecac06": {
      "model_module": "jupyter-cytoscape",
      "model_module_version": "^1.3.3",
      "model_name": "NodeModel",
      "state": {
       "_model_module_version": "^1.3.3",
       "_view_module_version": "^1.3.3",
       "data": {
        "id": "DDOST",
        "node_name": "DDOST",
        "type": "gene/protein"
       },
       "grabbable": true,
       "grabbed": false,
       "position": {
        "x": 446.6419895032088,
        "y": 280.2677148034746
       },
       "selectable": false
      }
     },
     "7e9ad268779a4d499271aa14974dbeb6": {
      "model_module": "jupyter-cytoscape",
      "model_module_version": "^1.3.3",
      "model_name": "EdgeModel",
      "state": {
       "_model_module_version": "^1.3.3",
       "_view_module_version": "^1.3.3",
       "classes": " multiple_edges ",
       "data": {
        "display_relation": "CORUM",
        "id": "70eca380-4c47-4622-82fd-f0e2831d40da",
        "source": "DAD1",
        "source_name": "DAD1",
        "target": "MAGT1",
        "target_name": "MAGT1"
       },
       "selectable": false
      }
     },
     "7e9ecd4c47e349cf8f725035f6c50a8b": {
      "model_module": "jupyter-cytoscape",
      "model_module_version": "^1.3.3",
      "model_name": "EdgeModel",
      "state": {
       "_model_module_version": "^1.3.3",
       "_view_module_version": "^1.3.3",
       "classes": " multiple_edges ",
       "data": {
        "display_relation": "CORUM",
        "id": "ffa19a29-d5c2-4560-be28-3a78db730398",
        "source": "RPN1",
        "source_name": "RPN1",
        "target": "DAD1",
        "target_name": "DAD1"
       },
       "selectable": false
      }
     },
     "7ea7feb8a5544b94aacc879e634f82ce": {
      "model_module": "jupyter-cytoscape",
      "model_module_version": "^1.3.3",
      "model_name": "EdgeModel",
      "state": {
       "_model_module_version": "^1.3.3",
       "_view_module_version": "^1.3.3",
       "classes": " multiple_edges ",
       "data": {
        "display_relation": "CORUM",
        "id": "ab06c6ec-cde7-49e0-aac5-469a859e9662",
        "source": "RPN2",
        "source_name": "RPN2",
        "target": "MAGT1",
        "target_name": "MAGT1"
       },
       "selectable": false
      }
     },
     "80480688ab95476e82868d362e7247c4": {
      "model_module": "jupyter-cytoscape",
      "model_module_version": "^1.3.3",
      "model_name": "EdgeModel",
      "state": {
       "_model_module_version": "^1.3.3",
       "_view_module_version": "^1.3.3",
       "classes": " multiple_edges ",
       "data": {
        "display_relation": "KroganCovHuPPI",
        "id": "dedff3dd-6700-40d8-b751-fd6117cc9f5b",
        "source": "STT3A",
        "source_name": "STT3A",
        "target": "SARS-CoV-2",
        "target_name": "SARS-CoV-2"
       },
       "selectable": false
      }
     },
     "81680b67991a46dea757a1243fc8f1e5": {
      "model_module": "jupyter-cytoscape",
      "model_module_version": "^1.3.3",
      "model_name": "EdgeModel",
      "state": {
       "_model_module_version": "^1.3.3",
       "_view_module_version": "^1.3.3",
       "classes": " multiple_edges ",
       "data": {
        "display_relation": "BIOGRID",
        "id": "84eaec54-dde8-4482-b66f-e5846eb397f6",
        "source": "STT3A",
        "source_name": "TMEM258",
        "target": "TMEM258",
        "target_name": "STT3A"
       },
       "selectable": false
      }
     },
     "8171fd992fae4baeb17308185cebb8f0": {
      "model_module": "jupyter-cytoscape",
      "model_module_version": "^1.3.3",
      "model_name": "EdgeModel",
      "state": {
       "_model_module_version": "^1.3.3",
       "_view_module_version": "^1.3.3",
       "classes": " multiple_edges ",
       "data": {
        "display_relation": "BIOGRID",
        "id": "46c03c3e-6fe3-4cc4-acef-584d0cd41636",
        "source": "TMEM258",
        "source_name": "TMEM258",
        "target": "DDOST",
        "target_name": "DDOST"
       },
       "selectable": false
      }
     },
     "81ba772114f8413ea10de5126aec6b9b": {
      "model_module": "jupyter-cytoscape",
      "model_module_version": "^1.3.3",
      "model_name": "EdgeModel",
      "state": {
       "_model_module_version": "^1.3.3",
       "_view_module_version": "^1.3.3",
       "classes": " multiple_edges ",
       "data": {
        "display_relation": "BIOGRID",
        "id": "c845dbd6-38ef-4de1-978e-d8867476c6c6",
        "source": "DAD1",
        "source_name": "TMEM258",
        "target": "TMEM258",
        "target_name": "DAD1"
       },
       "selectable": false
      }
     },
     "8347f9b805204caa9b12f0113e591632": {
      "model_module": "jupyter-cytoscape",
      "model_module_version": "^1.3.3",
      "model_name": "EdgeModel",
      "state": {
       "_model_module_version": "^1.3.3",
       "_view_module_version": "^1.3.3",
       "classes": " multiple_edges ",
       "data": {
        "display_relation": "REACTOMEFI",
        "id": "a4e39797-b2d7-4f54-ac15-b20d34b36997",
        "source": "RPN1",
        "source_name": "RPN1",
        "target": "RPN2",
        "target_name": "RPN2"
       },
       "selectable": false
      }
     },
     "843d725cc123446daf4eea222b4a4a07": {
      "model_module": "jupyter-cytoscape",
      "model_module_version": "^1.3.3",
      "model_name": "EdgeModel",
      "state": {
       "_model_module_version": "^1.3.3",
       "_view_module_version": "^1.3.3",
       "classes": " multiple_edges ",
       "data": {
        "display_relation": "crispr",
        "id": "b6693ecc-4f1a-4889-a72a-386b26bb8658",
        "source": "STT3A",
        "source_name": "STT3A",
        "target": "SARS-CoV-2",
        "target_name": "SARS-CoV-2"
       },
       "selectable": false
      }
     },
     "843f69bc21de47398bd6f60e524cd3b1": {
      "model_module": "jupyter-cytoscape",
      "model_module_version": "^1.3.3",
      "model_name": "EdgeModel",
      "state": {
       "_model_module_version": "^1.3.3",
       "_view_module_version": "^1.3.3",
       "classes": " multiple_edges ",
       "data": {
        "display_relation": "CORUM",
        "id": "7771be71-b164-4e05-ae2d-a85d59c0701d",
        "source": "DDOST",
        "source_name": "DDOST",
        "target": "MAGT1",
        "target_name": "MAGT1"
       },
       "selectable": false
      }
     },
     "8531dac9b0d844888e9f65931ae5046f": {
      "model_module": "jupyter-cytoscape",
      "model_module_version": "^1.3.3",
      "model_name": "EdgeModel",
      "state": {
       "_model_module_version": "^1.3.3",
       "_view_module_version": "^1.3.3",
       "classes": " multiple_edges ",
       "data": {
        "display_relation": "KroganIBV",
        "id": "33dbd9b9-2950-476b-b074-666c503bdc3d",
        "source": "RPN1",
        "source_name": "IAV",
        "target": "IAV",
        "target_name": "RPN1"
       },
       "selectable": false
      }
     },
     "85546946c0d1444489bb35e8d1f83d6b": {
      "model_module": "jupyter-cytoscape",
      "model_module_version": "^1.3.3",
      "model_name": "EdgeModel",
      "state": {
       "_model_module_version": "^1.3.3",
       "_view_module_version": "^1.3.3",
       "classes": " multiple_edges ",
       "data": {
        "display_relation": "KroganCovHuPPI",
        "id": "fec3ed5e-fa22-4dad-8d9d-e78315dfaf43",
        "source": "TMEM258",
        "source_name": "TMEM258",
        "target": "SARS-CoV-2",
        "target_name": "SARS-CoV-2"
       },
       "selectable": false
      }
     },
     "857a2250bcf643009cae996e206cd5cd": {
      "model_module": "jupyter-cytoscape",
      "model_module_version": "^1.3.3",
      "model_name": "NodeModel",
      "state": {
       "_model_module_version": "^1.3.3",
       "_view_module_version": "^1.3.3",
       "data": {
        "id": "DAD1",
        "node_name": "DAD1",
        "type": "gene/protein"
       },
       "grabbable": true,
       "grabbed": false,
       "position": {
        "x": 530.7292880149591,
        "y": 174.429933379248
       },
       "selectable": false
      }
     },
     "8635da1a75f14235813b5df1cfcc5ac8": {
      "model_module": "jupyter-cytoscape",
      "model_module_version": "^1.3.3",
      "model_name": "NodeModel",
      "state": {
       "_model_module_version": "^1.3.3",
       "_view_module_version": "^1.3.3",
       "data": {
        "id": "PIV3",
        "node_name": "PIV3",
        "type": "disease"
       },
       "grabbable": true,
       "grabbed": false,
       "position": {
        "x": 318.0974932776746,
        "y": 276.0670299130753
       },
       "selectable": false
      }
     },
     "87a3ef65a4df4076b2b74d7e5fabbcbc": {
      "model_module": "jupyter-cytoscape",
      "model_module_version": "^1.3.3",
      "model_name": "EdgeModel",
      "state": {
       "_model_module_version": "^1.3.3",
       "_view_module_version": "^1.3.3",
       "classes": " multiple_edges ",
       "data": {
        "display_relation": "KimPPI",
        "id": "fff7946d-88ce-487f-9ba2-611e25b90b9e",
        "source": "TMEM258",
        "source_name": "TMEM258",
        "target": "SARS-CoV-2",
        "target_name": "SARS-CoV-2"
       },
       "selectable": false
      }
     },
     "87b38710210d40b9a9072c4fcffe29bf": {
      "model_module": "jupyter-cytoscape",
      "model_module_version": "^1.3.3",
      "model_name": "NodeModel",
      "state": {
       "_model_module_version": "^1.3.3",
       "_view_module_version": "^1.3.3",
       "data": {
        "id": "STT3A",
        "node_name": "STT3A",
        "type": "gene/protein"
       },
       "grabbable": true,
       "grabbed": false,
       "position": {
        "x": 251.0218423415279,
        "y": 105.07353103534228
       },
       "selectable": false
      }
     },
     "88af0ab649c44a3987fff82f9b6b9a57": {
      "model_module": "jupyter-cytoscape",
      "model_module_version": "^1.3.3",
      "model_name": "EdgeModel",
      "state": {
       "_model_module_version": "^1.3.3",
       "_view_module_version": "^1.3.3",
       "classes": " multiple_edges ",
       "data": {
        "display_relation": "REACTOMEFI",
        "id": "0ab5cd73-6974-4975-92b5-6bb70549fce4",
        "source": "DAD1",
        "source_name": "DAD1",
        "target": "STT3A",
        "target_name": "STT3A"
       },
       "selectable": false
      }
     },
     "89ee5fec74904deeabf19e73ea3b3846": {
      "model_module": "jupyter-cytoscape",
      "model_module_version": "^1.3.3",
      "model_name": "EdgeModel",
      "state": {
       "_model_module_version": "^1.3.3",
       "_view_module_version": "^1.3.3",
       "classes": " multiple_edges ",
       "data": {
        "display_relation": "crispr",
        "id": "4d3a8923-b634-44a4-80db-70cbe96ded41",
        "source": "DDOST",
        "source_name": "DDOST",
        "target": "MERS-CoV",
        "target_name": "MERS-CoV"
       },
       "selectable": false
      }
     },
     "8ace54ddb28148a0914163b443b7d58a": {
      "model_module": "jupyter-cytoscape",
      "model_module_version": "^1.3.3",
      "model_name": "EdgeModel",
      "state": {
       "_model_module_version": "^1.3.3",
       "_view_module_version": "^1.3.3",
       "classes": " multiple_edges ",
       "data": {
        "display_relation": "crispr",
        "id": "1404e413-ceaa-46d1-aad0-675bd62d1f4a",
        "source": "TMEM258",
        "source_name": "TMEM258",
        "target": "SARS-CoV-2",
        "target_name": "SARS-CoV-2"
       },
       "selectable": false
      }
     },
     "8b8769b712e04f1caa5add439e35c3a8": {
      "model_module": "jupyter-cytoscape",
      "model_module_version": "^1.3.3",
      "model_name": "EdgeModel",
      "state": {
       "_model_module_version": "^1.3.3",
       "_view_module_version": "^1.3.3",
       "classes": " multiple_edges ",
       "data": {
        "display_relation": "CORUM",
        "id": "94a33260-d4d2-4541-8c20-a79940bef424",
        "source": "RPN1",
        "source_name": "RPN1",
        "target": "DAD1",
        "target_name": "DAD1"
       },
       "selectable": false
      }
     },
     "8c0798b60f72416189ecd06be60610eb": {
      "model_module": "jupyter-cytoscape",
      "model_module_version": "^1.3.3",
      "model_name": "NodeModel",
      "state": {
       "_model_module_version": "^1.3.3",
       "_view_module_version": "^1.3.3",
       "data": {
        "id": "HRV",
        "node_name": "HRV",
        "type": "disease"
       },
       "grabbable": true,
       "grabbed": false,
       "position": {
        "x": 382.90451331317473,
        "y": 336.36242714030885
       },
       "selectable": false
      }
     },
     "8c3e5173b92f4b1fb25373663de0ccdd": {
      "model_module": "jupyter-cytoscape",
      "model_module_version": "^1.3.3",
      "model_name": "NodeModel",
      "state": {
       "_model_module_version": "^1.3.3",
       "_view_module_version": "^1.3.3",
       "data": {
        "id": "OSTC",
        "node_name": "OSTC",
        "type": "gene/protein"
       },
       "grabbable": true,
       "grabbed": false,
       "position": {
        "x": 183.8469680923654,
        "y": 109.47861729387434
       },
       "selectable": false
      }
     },
     "8caaa0ea2f464afea35b4d7c8beb7a24": {
      "model_module": "jupyter-cytoscape",
      "model_module_version": "^1.3.3",
      "model_name": "EdgeModel",
      "state": {
       "_model_module_version": "^1.3.3",
       "_view_module_version": "^1.3.3",
       "classes": " multiple_edges ",
       "data": {
        "display_relation": "BIOGRID",
        "id": "ec67343d-bce7-4788-83b1-a8c24ef85376",
        "source": "RPN2",
        "source_name": "TMEM258",
        "target": "TMEM258",
        "target_name": "RPN2"
       },
       "selectable": false
      }
     },
     "8ceb6a73fea84428b7309b9b2e744735": {
      "model_module": "jupyter-cytoscape",
      "model_module_version": "^1.3.3",
      "model_name": "NodeModel",
      "state": {
       "_model_module_version": "^1.3.3",
       "_view_module_version": "^1.3.3",
       "data": {
        "id": "DDOST",
        "node_name": "DDOST",
        "type": "gene/protein"
       },
       "grabbable": true,
       "grabbed": false,
       "position": {
        "x": 498.36624891830706,
        "y": 181.3319429577626
       },
       "selectable": false
      }
     },
     "8ceb9dfdb38e4d718ba085064587780e": {
      "model_module": "jupyter-cytoscape",
      "model_module_version": "^1.3.3",
      "model_name": "EdgeModel",
      "state": {
       "_model_module_version": "^1.3.3",
       "_view_module_version": "^1.3.3",
       "classes": " multiple_edges ",
       "data": {
        "display_relation": "GEPanelAppCoV",
        "id": "c710f5e5-b473-4679-9970-c51baaa7f215",
        "source": "MAGT1",
        "source_name": "MAGT1",
        "target": "SARS-CoV-2",
        "target_name": "SARS-CoV-2"
       },
       "selectable": false
      }
     },
     "8d975469639f40b3b8a96a6034223695": {
      "model_module": "jupyter-cytoscape",
      "model_module_version": "^1.3.3",
      "model_name": "EdgeModel",
      "state": {
       "_model_module_version": "^1.3.3",
       "_view_module_version": "^1.3.3",
       "classes": " multiple_edges ",
       "data": {
        "display_relation": "BIOGRID",
        "id": "d6357735-a869-490a-9f6a-945b4f64478a",
        "source": "RPN1",
        "source_name": "RPN1",
        "target": "RPN2",
        "target_name": "RPN2"
       },
       "selectable": false
      }
     },
     "8e028403191c45ceabf1839d79c24827": {
      "model_module": "jupyter-cytoscape",
      "model_module_version": "^1.3.3",
      "model_name": "EdgeModel",
      "state": {
       "_model_module_version": "^1.3.3",
       "_view_module_version": "^1.3.3",
       "classes": " multiple_edges ",
       "data": {
        "display_relation": "CORUM",
        "id": "eff1fe73-c51e-4c23-96a0-80d3ce1289c5",
        "source": "DAD1",
        "source_name": "STT3A",
        "target": "STT3A",
        "target_name": "DAD1"
       },
       "selectable": false
      }
     },
     "8fb8d64e30ec4ec29bf21deb505879a1": {
      "model_module": "jupyter-cytoscape",
      "model_module_version": "^1.3.3",
      "model_name": "EdgeModel",
      "state": {
       "_model_module_version": "^1.3.3",
       "_view_module_version": "^1.3.3",
       "classes": " multiple_edges ",
       "data": {
        "display_relation": "BIOGRID",
        "id": "047b64be-6b68-4b60-a7ce-708c048bcb75",
        "source": "TMEM258",
        "source_name": "TMEM258",
        "target": "DDOST",
        "target_name": "DDOST"
       },
       "selectable": false
      }
     },
     "8fe490d0f2e74d29a5f012b34327d458": {
      "model_module": "jupyter-cytoscape",
      "model_module_version": "^1.3.3",
      "model_name": "EdgeModel",
      "state": {
       "_model_module_version": "^1.3.3",
       "_view_module_version": "^1.3.3",
       "classes": " multiple_edges ",
       "data": {
        "display_relation": "BIOGRID",
        "id": "1489f9b3-5bb7-4780-96f4-23e5b59cba21",
        "source": "DAD1",
        "source_name": "DAD1",
        "target": "DAD1",
        "target_name": "DAD1"
       },
       "selectable": false
      }
     },
     "9066be2c0a2c4e028d56d9141d228ff5": {
      "model_module": "jupyter-cytoscape",
      "model_module_version": "^1.3.3",
      "model_name": "EdgeModel",
      "state": {
       "_model_module_version": "^1.3.3",
       "_view_module_version": "^1.3.3",
       "classes": " multiple_edges ",
       "data": {
        "display_relation": "KroganCovHuPPI",
        "id": "d08323f1-8131-4e01-9386-abe2563540cb",
        "source": "RPN2",
        "source_name": "RPN2",
        "target": "SARS-CoV-2",
        "target_name": "SARS-CoV-2"
       },
       "selectable": false
      }
     },
     "908d3373ddfa4c1085d487acde45f82e": {
      "model_module": "jupyter-cytoscape",
      "model_module_version": "^1.3.3",
      "model_name": "EdgeModel",
      "state": {
       "_model_module_version": "^1.3.3",
       "_view_module_version": "^1.3.3",
       "classes": " multiple_edges ",
       "data": {
        "display_relation": "CORUM",
        "id": "45b957f7-2a31-4329-b3da-d541344dd609",
        "source": "DAD1",
        "source_name": "STT3A",
        "target": "STT3A",
        "target_name": "DAD1"
       },
       "selectable": false
      }
     },
     "91db256f785b428796e216dd2e962087": {
      "model_module": "jupyter-cytoscape",
      "model_module_version": "^1.3.3",
      "model_name": "EdgeModel",
      "state": {
       "_model_module_version": "^1.3.3",
       "_view_module_version": "^1.3.3",
       "classes": " multiple_edges ",
       "data": {
        "display_relation": "KroganIBV",
        "id": "b6d348ff-c9b3-496a-9d46-5bd78cd02e99",
        "source": "RPN1",
        "source_name": "IAV",
        "target": "IAV",
        "target_name": "RPN1"
       },
       "selectable": false
      }
     },
     "92de17e884af40f3a145cb7da1eb95c2": {
      "model_module": "jupyter-cytoscape",
      "model_module_version": "^1.3.3",
      "model_name": "EdgeModel",
      "state": {
       "_model_module_version": "^1.3.3",
       "_view_module_version": "^1.3.3",
       "classes": " multiple_edges ",
       "data": {
        "display_relation": "REACTOMEFI",
        "id": "ffa03041-fdb9-4ec6-b604-077559f0a27a",
        "source": "STT3A",
        "source_name": "MAGT1",
        "target": "MAGT1",
        "target_name": "STT3A"
       },
       "selectable": false
      }
     },
     "942ce6c360194a7eb495aab97c4d98a6": {
      "model_module": "jupyter-cytoscape",
      "model_module_version": "^1.3.3",
      "model_name": "EdgeModel",
      "state": {
       "_model_module_version": "^1.3.3",
       "_view_module_version": "^1.3.3",
       "classes": " multiple_edges ",
       "data": {
        "display_relation": "BIOGRID",
        "id": "30b551cf-8eda-4bc9-a202-51875818a888",
        "source": "STT3B",
        "source_name": "MAGT1",
        "target": "MAGT1",
        "target_name": "STT3B"
       },
       "selectable": false
      }
     },
     "94d5be4358f94b2abf8ce578c20e2a98": {
      "model_module": "jupyter-cytoscape",
      "model_module_version": "^1.3.3",
      "model_name": "EdgeModel",
      "state": {
       "_model_module_version": "^1.3.3",
       "_view_module_version": "^1.3.3",
       "classes": " multiple_edges ",
       "data": {
        "display_relation": "KroganCovHuPPI",
        "id": "dfc9d042-b8e6-41b1-80fa-5432c8dd09cc",
        "source": "RPN1",
        "source_name": "RPN1",
        "target": "SARS-CoV-2",
        "target_name": "SARS-CoV-2"
       },
       "selectable": false
      }
     },
     "95384e2c9adb421fa0c1eaca99d89516": {
      "model_module": "jupyter-cytoscape",
      "model_module_version": "^1.3.3",
      "model_name": "CytoscapeModel",
      "state": {
       "_interaction_handlers": {},
       "_model_module_version": "^1.3.3",
       "_view_module_version": "^1.3.3",
       "auto_ungrabify": false,
       "autolock": false,
       "cytoscape_layout": {
        "name": "cola"
       },
       "cytoscape_style": [
        {
         "selector": "node",
         "style": {
          "border-color": "black",
          "border-width": "3px",
          "font-family": "helvetica",
          "font-size": "15px",
          "label": "data(node_name)",
          "text-halign": "center",
          "text-valign": "top"
         }
        },
        {
         "css": {
          "background-color": "rgba(0, 0, 0, 0.25)"
         },
         "selector": "node[type = \"disease\"]"
        },
        {
         "css": {
          "background-color": "rgba(255, 255, 255, 0.5)"
         },
         "selector": "node[type = \"gene/protein\"]"
        },
        {
         "css": {
          "background-color": "orangered",
          "font-size": "10px"
         },
         "selector": "node[type = \"biological_process\"]"
        },
        {
         "css": {
          "background-color": "limegreen",
          "font-size": "10px"
         },
         "selector": "node[type = \"cellular/component\"]"
        },
        {
         "css": {
          "background-color": "tan",
          "font-size": "10px"
         },
         "selector": "node[type = \"molecular_function\"]"
        },
        {
         "css": {
          "background-color": "rgba(255, 165, 0, 0.25)",
          "font-size": "10px"
         },
         "selector": "node[type = \"drug\"]"
        },
        {
         "selector": "edge[display_relation = \"crispr\"]",
         "style": {
          "background-color": "rgba(0, 37, 47, 0.5)",
          "line-color": "rgba(0, 37, 47, 0.5)"
         }
        },
        {
         "css": {
          "background-color": "rgba(85, 128, 170, 0.5)",
          "line-color": "rgba(85, 128, 170, 0.5)"
         },
         "selector": "edge[display_relation = \"KroganCovHuPPI\"]"
        },
        {
         "css": {
          "background-color": "rgba(85, 128, 170, 0.5)",
          "line-color": "rgba(85, 128, 170, 0.5)"
         },
         "selector": "edge[display_relation = \"KroganIAV\"]"
        },
        {
         "css": {
          "background-color": "rgba(85, 128, 170, 0.5)",
          "line-color": "rgba(85, 128, 170, 0.5)"
         },
         "selector": "edge[display_relation = \"KroganIBV\"]"
        },
        {
         "css": {
          "background-color": "rgba(85, 85, 170, 0.5)",
          "line-color": "rgba(85, 85, 170, 0.5)"
         },
         "selector": "edge[display_relation = \"REACTOMEFI\"]"
        },
        {
         "css": {
          "background-color": "rgba(170, 170, 85, 0.5)",
          "line-color": "rgba(170, 170, 85, 0.5)"
         },
         "selector": "edge[display_relation = \"CORUM\"]"
        },
        {
         "css": {
          "background-color": "rgba(85, 170, 170, 0.5)",
          "line-color": "rgba(85, 170, 170, 0.5)"
         },
         "selector": "edge[display_relation = \"GEPanelAppCoV\"]"
        },
        {
         "css": {
          "background-color": "rgba(170, 106, 85, 0.5)",
          "line-color": "rgba(170, 106, 85, 0.5)"
         },
         "selector": "edge[display_relation = \"BIOGRID\"]"
        }
       ],
       "desktop_tap_threshold": 4,
       "graph": "IPY_MODEL_21ffd95d65e44fba90fd0c557bbad921",
       "headless": false,
       "hide_edges_on_viewport": false,
       "layout": "IPY_MODEL_bab0349b2bee45f9b8b00e58d0dcdb93",
       "max_zoom": 1e+50,
       "min_zoom": 1e-50,
       "motion_blur": false,
       "motion_blur_opacity": 0.2,
       "panning_enabled": true,
       "pixel_ratio": "auto",
       "rendered_position": {
        "renderedPosition": {
         "x": 100,
         "y": 100
        }
       },
       "selection_type": "single",
       "style_enabled": true,
       "texture_on_viewport": false,
       "tooltip_source": "tooltip",
       "touch_tap_threshold": 8,
       "user_panning_enabled": true,
       "user_zooming_enabled": true,
       "wheel_sensitivity": 1,
       "zoom": 2,
       "zooming_enabled": true
      }
     },
     "95d9ac29560a4462a3a55f52f33d8805": {
      "model_module": "jupyter-cytoscape",
      "model_module_version": "^1.3.3",
      "model_name": "EdgeModel",
      "state": {
       "_model_module_version": "^1.3.3",
       "_view_module_version": "^1.3.3",
       "classes": " multiple_edges ",
       "data": {
        "display_relation": "REACTOMEFI",
        "id": "a93933ed-074f-4585-8d6c-2bc3df71d59d",
        "source": "DAD1",
        "source_name": "DAD1",
        "target": "STT3A",
        "target_name": "STT3A"
       },
       "selectable": false
      }
     },
     "95f0b65875ff40c4a74d62dd69cd7893": {
      "model_module": "jupyter-cytoscape",
      "model_module_version": "^1.3.3",
      "model_name": "EdgeModel",
      "state": {
       "_model_module_version": "^1.3.3",
       "_view_module_version": "^1.3.3",
       "classes": " multiple_edges ",
       "data": {
        "display_relation": "KroganCovHuPPI",
        "id": "07c5c25a-9161-451c-a5e9-6e8a44e9143d",
        "source": "TMEM258",
        "source_name": "TMEM258",
        "target": "SARS-CoV-2",
        "target_name": "SARS-CoV-2"
       },
       "selectable": false
      }
     },
     "9607caf4cba84b8b818b41c30c5dbe97": {
      "model_module": "jupyter-cytoscape",
      "model_module_version": "^1.3.3",
      "model_name": "EdgeModel",
      "state": {
       "_model_module_version": "^1.3.3",
       "_view_module_version": "^1.3.3",
       "classes": " multiple_edges ",
       "data": {
        "display_relation": "CORUM",
        "id": "855a109f-0d1e-48a5-a0dd-4c1b0b6ba0ea",
        "source": "DAD1",
        "source_name": "DAD1",
        "target": "STT3B",
        "target_name": "STT3B"
       },
       "selectable": false
      }
     },
     "9622911a155d45c69d7e6e7c70049f2b": {
      "model_module": "jupyter-cytoscape",
      "model_module_version": "^1.3.3",
      "model_name": "EdgeModel",
      "state": {
       "_model_module_version": "^1.3.3",
       "_view_module_version": "^1.3.3",
       "classes": " multiple_edges ",
       "data": {
        "display_relation": "KroganCovHuPPI",
        "id": "c43bcad4-f25b-4bc8-bb6d-397b49b64ff3",
        "source": "DDOST",
        "source_name": "DDOST",
        "target": "SARS-CoV-2",
        "target_name": "SARS-CoV-2"
       },
       "selectable": false
      }
     },
     "975ba6bc06744090a1dfb5ae6d8e1aee": {
      "model_module": "jupyter-cytoscape",
      "model_module_version": "^1.3.3",
      "model_name": "NodeModel",
      "state": {
       "_model_module_version": "^1.3.3",
       "_view_module_version": "^1.3.3",
       "data": {
        "id": "MERS-CoV",
        "node_name": "MERS-CoV",
        "type": "disease"
       },
       "grabbable": true,
       "grabbed": false,
       "position": {
        "x": 296.57238860246366,
        "y": 57.22758962856636
       },
       "selectable": false
      }
     },
     "9779ebd81a7e45e1990d7b410d6b6fcb": {
      "model_module": "jupyter-cytoscape",
      "model_module_version": "^1.3.3",
      "model_name": "EdgeModel",
      "state": {
       "_model_module_version": "^1.3.3",
       "_view_module_version": "^1.3.3",
       "classes": " multiple_edges ",
       "data": {
        "display_relation": "KroganIBV",
        "id": "9b9e12bc-cf7c-4261-a715-c63d0e89c729",
        "source": "RPN1",
        "source_name": "IAV",
        "target": "IAV",
        "target_name": "RPN1"
       },
       "selectable": false
      }
     },
     "97a48d17f0b54638bb4f0044c8b68106": {
      "model_module": "jupyter-cytoscape",
      "model_module_version": "^1.3.3",
      "model_name": "EdgeModel",
      "state": {
       "_model_module_version": "^1.3.3",
       "_view_module_version": "^1.3.3",
       "classes": " multiple_edges ",
       "data": {
        "display_relation": "paralogue",
        "id": "483b9712-1fe1-4f03-a92d-6009aa63b155",
        "source": "STT3A",
        "source_name": "STT3B",
        "target": "STT3B",
        "target_name": "STT3A"
       },
       "selectable": false
      }
     },
     "98f387880d7342fdabccc66054a24f7b": {
      "model_module": "jupyter-cytoscape",
      "model_module_version": "^1.3.3",
      "model_name": "EdgeModel",
      "state": {
       "_model_module_version": "^1.3.3",
       "_view_module_version": "^1.3.3",
       "classes": " multiple_edges ",
       "data": {
        "display_relation": "KroganCovHuPPI",
        "id": "458b18ba-f541-45ba-9938-1b6a5ea3e3a5",
        "source": "MAGT1",
        "source_name": "MAGT1",
        "target": "SARS-CoV-2",
        "target_name": "SARS-CoV-2"
       },
       "selectable": false
      }
     },
     "991ab9f189584b92b94c954f1a10d834": {
      "model_module": "jupyter-cytoscape",
      "model_module_version": "^1.3.3",
      "model_name": "EdgeModel",
      "state": {
       "_model_module_version": "^1.3.3",
       "_view_module_version": "^1.3.3",
       "classes": " multiple_edges ",
       "data": {
        "display_relation": "BIOGRID",
        "id": "2d4e68cb-d150-4a1f-beda-931b825c21e7",
        "source": "OST4",
        "source_name": "OST4",
        "target": "STT3A",
        "target_name": "STT3A"
       },
       "selectable": false
      }
     },
     "9945bfb229184309b59ff684f3cc050c": {
      "model_module": "jupyter-cytoscape",
      "model_module_version": "^1.3.3",
      "model_name": "EdgeModel",
      "state": {
       "_model_module_version": "^1.3.3",
       "_view_module_version": "^1.3.3",
       "classes": " multiple_edges ",
       "data": {
        "display_relation": "CORUM",
        "id": "fd972822-202e-484b-a96a-12ed28117d0b",
        "source": "STT3A",
        "source_name": "DDOST",
        "target": "DDOST",
        "target_name": "STT3A"
       },
       "selectable": false
      }
     },
     "99b9656a0a32469bbce9ad58ed55f93a": {
      "model_module": "jupyter-cytoscape",
      "model_module_version": "^1.3.3",
      "model_name": "EdgeModel",
      "state": {
       "_model_module_version": "^1.3.3",
       "_view_module_version": "^1.3.3",
       "classes": " multiple_edges ",
       "data": {
        "display_relation": "CORUM",
        "id": "f394b16b-7acc-482a-95d4-96e49e1c9308",
        "source": "RPN1",
        "source_name": "RPN1",
        "target": "RPN2",
        "target_name": "RPN2"
       },
       "selectable": false
      }
     },
     "9a886a8738284e28ae9eb9e988313aa9": {
      "model_module": "jupyter-cytoscape",
      "model_module_version": "^1.3.3",
      "model_name": "NodeModel",
      "state": {
       "_model_module_version": "^1.3.3",
       "_view_module_version": "^1.3.3",
       "data": {
        "id": "IAV",
        "node_name": "IAV",
        "type": "disease"
       },
       "grabbable": true,
       "grabbed": false,
       "position": {
        "x": 194.10851711551865,
        "y": 124.72507854921886
       },
       "selectable": false
      }
     },
     "9aaf1baadbed4d1f8373a6bfdd806b7c": {
      "model_module": "jupyter-cytoscape",
      "model_module_version": "^1.3.3",
      "model_name": "EdgeModel",
      "state": {
       "_model_module_version": "^1.3.3",
       "_view_module_version": "^1.3.3",
       "classes": " multiple_edges ",
       "data": {
        "display_relation": "REACTOMEFI",
        "id": "9e1c1fb1-d4f5-495b-a66c-112b8eb25c23",
        "source": "DAD1",
        "source_name": "DAD1",
        "target": "DDOST",
        "target_name": "DDOST"
       },
       "selectable": false
      }
     },
     "9c72cd8d612e4088a009fbd76523a02a": {
      "model_module": "jupyter-cytoscape",
      "model_module_version": "^1.3.3",
      "model_name": "EdgeModel",
      "state": {
       "_model_module_version": "^1.3.3",
       "_view_module_version": "^1.3.3",
       "classes": " multiple_edges ",
       "data": {
        "display_relation": "KroganIAV",
        "id": "aa1f6d1d-6528-4ec1-a8c8-e3d12feacf46",
        "source": "RPN1",
        "source_name": "IAV",
        "target": "IAV",
        "target_name": "RPN1"
       },
       "selectable": false
      }
     },
     "9c90ae1119e743ef9eaf1bfc09753c7c": {
      "model_module": "jupyter-cytoscape",
      "model_module_version": "^1.3.3",
      "model_name": "CytoscapeModel",
      "state": {
       "_interaction_handlers": {},
       "_model_module_version": "^1.3.3",
       "_view_module_version": "^1.3.3",
       "auto_ungrabify": false,
       "autolock": false,
       "cytoscape_layout": {
        "name": "cola"
       },
       "cytoscape_style": [
        {
         "selector": "node",
         "style": {
          "border-color": "black",
          "border-width": "3px",
          "font-family": "helvetica",
          "font-size": "15px",
          "label": "data(node_name)",
          "text-halign": "center",
          "text-valign": "top"
         }
        },
        {
         "css": {
          "background-color": "rgba(0, 0, 0, 0.25)"
         },
         "selector": "node[type = \"disease\"]"
        },
        {
         "css": {
          "background-color": "rgba(255, 255, 255, 0.5)"
         },
         "selector": "node[type = \"gene/protein\"]"
        },
        {
         "css": {
          "background-color": "orangered",
          "font-size": "10px"
         },
         "selector": "node[type = \"biological_process\"]"
        },
        {
         "css": {
          "background-color": "limegreen",
          "font-size": "10px"
         },
         "selector": "node[type = \"cellular/component\"]"
        },
        {
         "css": {
          "background-color": "tan",
          "font-size": "10px"
         },
         "selector": "node[type = \"molecular_function\"]"
        },
        {
         "css": {
          "background-color": "rgba(255, 165, 0, 0.25)",
          "font-size": "10px"
         },
         "selector": "node[type = \"drug\"]"
        },
        {
         "selector": "edge[display_relation = \"crispr\"]",
         "style": {
          "background-color": "rgba(0, 37, 47, 0.5)",
          "line-color": "rgba(0, 37, 47, 0.5)"
         }
        },
        {
         "css": {
          "background-color": "rgba(85, 128, 170, 0.5)",
          "line-color": "rgba(85, 128, 170, 0.5)"
         },
         "selector": "edge[display_relation = \"KroganCovHuPPI\"]"
        },
        {
         "css": {
          "background-color": "rgba(85, 128, 170, 0.5)",
          "line-color": "rgba(85, 128, 170, 0.5)"
         },
         "selector": "edge[display_relation = \"KroganIAV\"]"
        },
        {
         "css": {
          "background-color": "rgba(85, 128, 170, 0.5)",
          "line-color": "rgba(85, 128, 170, 0.5)"
         },
         "selector": "edge[display_relation = \"KroganIBV\"]"
        },
        {
         "css": {
          "background-color": "rgba(85, 85, 170, 0.5)",
          "line-color": "rgba(85, 85, 170, 0.5)"
         },
         "selector": "edge[display_relation = \"REACTOMEFI\"]"
        },
        {
         "css": {
          "background-color": "rgba(170, 170, 85, 0.5)",
          "line-color": "rgba(170, 170, 85, 0.5)"
         },
         "selector": "edge[display_relation = \"CORUM\"]"
        },
        {
         "css": {
          "background-color": "rgba(85, 170, 170, 0.5)",
          "line-color": "rgba(85, 170, 170, 0.5)"
         },
         "selector": "edge[display_relation = \"GEPanelAppCoV\"]"
        },
        {
         "css": {
          "background-color": "rgba(170, 106, 85, 0.5)",
          "line-color": "rgba(170, 106, 85, 0.5)"
         },
         "selector": "edge[display_relation = \"BIOGRID\"]"
        }
       ],
       "desktop_tap_threshold": 4,
       "graph": "IPY_MODEL_e1b72a24be8a48c0bd16435c6f2f50d9",
       "headless": false,
       "hide_edges_on_viewport": false,
       "layout": "IPY_MODEL_0073c58ab3184ceda94902bb165cf488",
       "max_zoom": 1e+50,
       "min_zoom": 1e-50,
       "motion_blur": false,
       "motion_blur_opacity": 0.2,
       "panning_enabled": true,
       "pixel_ratio": "auto",
       "rendered_position": {
        "renderedPosition": {
         "x": 100,
         "y": 100
        }
       },
       "selection_type": "single",
       "style_enabled": true,
       "texture_on_viewport": false,
       "tooltip_source": "tooltip",
       "touch_tap_threshold": 8,
       "user_panning_enabled": true,
       "user_zooming_enabled": true,
       "wheel_sensitivity": 1,
       "zoom": 2,
       "zooming_enabled": true
      }
     },
     "9ce07483402f45d2bf1e7669abc17669": {
      "model_module": "jupyter-cytoscape",
      "model_module_version": "^1.3.3",
      "model_name": "NodeModel",
      "state": {
       "_model_module_version": "^1.3.3",
       "_view_module_version": "^1.3.3",
       "data": {
        "id": "DAD1",
        "node_name": "DAD1",
        "type": "gene/protein"
       },
       "grabbable": true,
       "grabbed": false,
       "position": {
        "x": 109.33077929886916,
        "y": 248.60608439542997
       },
       "selectable": false
      }
     },
     "9d3e01a51ab64abbad2c6d6f92125e24": {
      "model_module": "jupyter-cytoscape",
      "model_module_version": "^1.3.3",
      "model_name": "NodeModel",
      "state": {
       "_model_module_version": "^1.3.3",
       "_view_module_version": "^1.3.3",
       "data": {
        "id": "RPN2",
        "node_name": "RPN2",
        "type": "gene/protein"
       },
       "grabbable": true,
       "grabbed": false,
       "position": {
        "x": 265.29710822149696,
        "y": 186.63349345380348
       },
       "selectable": false
      }
     },
     "9d75d8222b9246bd9231aea23a89add1": {
      "model_module": "jupyter-cytoscape",
      "model_module_version": "^1.3.3",
      "model_name": "EdgeModel",
      "state": {
       "_model_module_version": "^1.3.3",
       "_view_module_version": "^1.3.3",
       "classes": " multiple_edges ",
       "data": {
        "display_relation": "crispr",
        "id": "0be04c2f-c2b9-4b65-bde3-a0dc4057a39f",
        "source": "STT3B",
        "source_name": "STT3B",
        "target": "PIV3",
        "target_name": "PIV3"
       },
       "selectable": false
      }
     },
     "9d9ae102554540a498dbf92a124f8f4e": {
      "model_module": "jupyter-cytoscape",
      "model_module_version": "^1.3.3",
      "model_name": "EdgeModel",
      "state": {
       "_model_module_version": "^1.3.3",
       "_view_module_version": "^1.3.3",
       "classes": " multiple_edges ",
       "data": {
        "display_relation": "BIOGRID",
        "id": "aab7a724-79d4-4ee9-9063-2f5f1f7deb8c",
        "source": "TMEM258",
        "source_name": "TMEM258",
        "target": "MAGT1",
        "target_name": "MAGT1"
       },
       "selectable": false
      }
     },
     "9dcf9461b94543fd8c752c5dd6dc5f60": {
      "model_module": "jupyter-cytoscape",
      "model_module_version": "^1.3.3",
      "model_name": "EdgeModel",
      "state": {
       "_model_module_version": "^1.3.3",
       "_view_module_version": "^1.3.3",
       "classes": " multiple_edges ",
       "data": {
        "display_relation": "BIOGRID",
        "id": "654458e9-0bda-4a11-abc2-0b21dd89b660",
        "source": "RPN2",
        "source_name": "TMEM258",
        "target": "TMEM258",
        "target_name": "RPN2"
       },
       "selectable": false
      }
     },
     "9e10b706c2dc443abc8f814eb600df94": {
      "model_module": "jupyter-cytoscape",
      "model_module_version": "^1.3.3",
      "model_name": "EdgeModel",
      "state": {
       "_model_module_version": "^1.3.3",
       "_view_module_version": "^1.3.3",
       "classes": " multiple_edges ",
       "data": {
        "display_relation": "KroganIAV",
        "id": "06bb1c9d-f99b-44ca-8033-d75313259df3",
        "source": "RPN1",
        "source_name": "RPN1",
        "target": "RPN2",
        "target_name": "RPN2"
       },
       "selectable": false
      }
     },
     "9e69ab7ca41a45f5a609d14c6ce68a87": {
      "model_module": "jupyter-cytoscape",
      "model_module_version": "^1.3.3",
      "model_name": "EdgeModel",
      "state": {
       "_model_module_version": "^1.3.3",
       "_view_module_version": "^1.3.3",
       "classes": " multiple_edges ",
       "data": {
        "display_relation": "crispr",
        "id": "21a2fe49-634f-4701-bf49-747763cc0608",
        "source": "RPN1",
        "source_name": "RPN1",
        "target": "MERS-CoV",
        "target_name": "MERS-CoV"
       },
       "selectable": false
      }
     },
     "9e8ae1a309bc458baaaa62cecfe7e098": {
      "model_module": "jupyter-cytoscape",
      "model_module_version": "^1.3.3",
      "model_name": "EdgeModel",
      "state": {
       "_model_module_version": "^1.3.3",
       "_view_module_version": "^1.3.3",
       "classes": " multiple_edges ",
       "data": {
        "display_relation": "REACTOMEFI",
        "id": "b52e6e68-bf4e-41db-abe5-c9f816be563e",
        "source": "RPN2",
        "source_name": "DAD1",
        "target": "DAD1",
        "target_name": "RPN2"
       },
       "selectable": false
      }
     },
     "9eb4194e28e4430fb1db653b9d29d935": {
      "model_module": "jupyter-cytoscape",
      "model_module_version": "^1.3.3",
      "model_name": "EdgeModel",
      "state": {
       "_model_module_version": "^1.3.3",
       "_view_module_version": "^1.3.3",
       "classes": " multiple_edges ",
       "data": {
        "display_relation": "REACTOMEFI",
        "id": "29bb75ce-570b-4913-9484-d99efe6ca786",
        "source": "RPN2",
        "source_name": "MAGT1",
        "target": "MAGT1",
        "target_name": "RPN2"
       },
       "selectable": false
      }
     },
     "a0fa178abbcd4a75aa79eb58ecb39548": {
      "model_module": "jupyter-cytoscape",
      "model_module_version": "^1.3.3",
      "model_name": "EdgeModel",
      "state": {
       "_model_module_version": "^1.3.3",
       "_view_module_version": "^1.3.3",
       "classes": " multiple_edges ",
       "data": {
        "display_relation": "KroganIBV",
        "id": "d18f7854-e75e-4fa5-ad58-3b29449a8553",
        "source": "RPN1",
        "source_name": "IAV",
        "target": "IAV",
        "target_name": "RPN1"
       },
       "selectable": false
      }
     },
     "a15057a62c9f4789882bcfbbb6405d76": {
      "model_module": "jupyter-cytoscape",
      "model_module_version": "^1.3.3",
      "model_name": "NodeModel",
      "state": {
       "_model_module_version": "^1.3.3",
       "_view_module_version": "^1.3.3",
       "data": {
        "id": "MERS-CoV",
        "node_name": "MERS-CoV",
        "type": "disease"
       },
       "grabbable": true,
       "grabbed": false,
       "position": {
        "x": 465.37315194111807,
        "y": 198.9326409387713
       },
       "selectable": false
      }
     },
     "a3599f822ef14c0e89df065b73357b38": {
      "model_module": "jupyter-cytoscape",
      "model_module_version": "^1.3.3",
      "model_name": "NodeModel",
      "state": {
       "_model_module_version": "^1.3.3",
       "_view_module_version": "^1.3.3",
       "data": {
        "id": "PIV3",
        "node_name": "PIV3",
        "type": "disease"
       },
       "grabbable": true,
       "grabbed": false,
       "position": {
        "x": 527.1599705636635,
        "y": 390.77653943213767
       },
       "selectable": false
      }
     },
     "a3a235bb364a428cad40a62e73cc8705": {
      "model_module": "jupyter-cytoscape",
      "model_module_version": "^1.3.3",
      "model_name": "EdgeModel",
      "state": {
       "_model_module_version": "^1.3.3",
       "_view_module_version": "^1.3.3",
       "classes": " multiple_edges ",
       "data": {
        "display_relation": "CORUM",
        "id": "c0c244cc-0f1e-471a-8530-5c1a2fe32176",
        "source": "RPN2",
        "source_name": "RPN2",
        "target": "STT3B",
        "target_name": "STT3B"
       },
       "selectable": false
      }
     },
     "a4d54084a2c14fe1bcef2c5f6aeb8d91": {
      "model_module": "jupyter-cytoscape",
      "model_module_version": "^1.3.3",
      "model_name": "EdgeModel",
      "state": {
       "_model_module_version": "^1.3.3",
       "_view_module_version": "^1.3.3",
       "classes": " multiple_edges ",
       "data": {
        "display_relation": "crispr",
        "id": "4165f591-d529-4b2c-82e4-28772b320885",
        "source": "RPN1",
        "source_name": "RPN1",
        "target": "MERS-CoV",
        "target_name": "MERS-CoV"
       },
       "selectable": false
      }
     },
     "a5073b4bf4ff487086163dc13ea7c48e": {
      "model_module": "jupyter-cytoscape",
      "model_module_version": "^1.3.3",
      "model_name": "NodeModel",
      "state": {
       "_model_module_version": "^1.3.3",
       "_view_module_version": "^1.3.3",
       "data": {
        "id": "SARS-CoV-2",
        "node_name": "SARS-CoV-2",
        "type": "disease"
       },
       "grabbable": true,
       "grabbed": false,
       "position": {
        "x": 384.43023400378206,
        "y": 162.07669791397402
       },
       "selectable": false
      }
     },
     "a5f6d748aeef48d595655fbb05a8d6ab": {
      "model_module": "jupyter-cytoscape",
      "model_module_version": "^1.3.3",
      "model_name": "CytoscapeModel",
      "state": {
       "_interaction_handlers": {},
       "_model_module_version": "^1.3.3",
       "_view_module_version": "^1.3.3",
       "auto_ungrabify": false,
       "autolock": false,
       "cytoscape_layout": {
        "name": "cola"
       },
       "cytoscape_style": [
        {
         "selector": "node",
         "style": {
          "font-family": "helvetica",
          "font-size": "15px",
          "label": "data(node_name)",
          "text-halign": "center",
          "text-valign": "top"
         }
        },
        {
         "css": {
          "background-color": "rgba(0, 0, 0, 0.25)"
         },
         "selector": "node[type = \"disease\"]"
        },
        {
         "selector": "node[node_name = \"STT3A\"]",
         "style": {
          "background-color": "rgba(0, 158, 115, 0.25)",
          "text-halign": "right",
          "text-valign": "bottom"
         }
        },
        {
         "selector": "node[node_name = \"STT3B\"]",
         "style": {
          "background-color": "rgba(0, 158, 115, 0.25)",
          "text-halign": "right",
          "text-valign": "bottom"
         }
        },
        {
         "selector": "node[node_name = \"DAD1\"]",
         "style": {
          "background-color": "rgba(255, 255, 255, 0.25)",
          "border-color": "black",
          "border-width": "3px",
          "text-halign": "right",
          "text-valign": "top"
         }
        },
        {
         "selector": "node[node_name = \"OST4\"]",
         "style": {
          "background-color": "rgba(128, 128, 128, 0.25)",
          "text-halign": "left",
          "text-valign": "bottom"
         }
        },
        {
         "selector": "node[node_name = \"TMEM258\"]",
         "style": {
          "background-color": "rgba(128, 128, 128, 0.25)",
          "text-halign": "left",
          "text-valign": "bottom"
         }
        },
        {
         "selector": "node[node_name = \"RPN2\"]",
         "style": {
          "background-color": "rgba(0, 158, 115, 0.25)",
          "text-halign": "left",
          "text-valign": "top"
         }
        },
        {
         "selector": "node[node_name = \"RPN1\"]",
         "style": {
          "background-color": "rgba(128, 128, 128, 0.25)",
          "text-halign": "right",
          "text-valign": "top"
         }
        },
        {
         "selector": "node[node_name = \"DDOST\"]",
         "style": {
          "background-color": "rgba(0, 158, 115, 0.25)",
          "text-halign": "right",
          "text-valign": "top"
         }
        },
        {
         "selector": "node[node_name = \"MAGT1\"]",
         "style": {
          "background-color": "rgba(255, 255, 255, 0.25)",
          "border-color": "black",
          "border-width": "3px",
          "text-halign": "right",
          "text-valign": "top"
         }
        },
        {
         "selector": "node[node_name = \"OSTC\"]",
         "style": {
          "background-color": "rgba(255, 255, 255, 0.25)",
          "border-color": "black",
          "border-width": "3px",
          "text-halign": "left",
          "text-valign": "top"
         }
        },
        {
         "selector": "node[node_name = \"HCoV-NL63\"]",
         "style": {
          "text-halign": "left",
          "text-valign": "bottom"
         }
        },
        {
         "selector": "node[node_name = \"HRV\"]",
         "style": {
          "text-halign": "left",
          "text-valign": "bottom"
         }
        },
        {
         "selector": "node[node_name = \"PIV3\"]",
         "style": {
          "text-halign": "left",
          "text-valign": "bottom"
         }
        },
        {
         "selector": "node[node_name = \"SARS-CoV-2\"]",
         "style": {
          "text-halign": "left",
          "text-valign": "top"
         }
        },
        {
         "selector": "edge[display_relation = \"crispr\"]",
         "style": {
          "background-color": "rgba(0, 37, 47, 0.5)",
          "line-color": "rgba(0, 37, 47, 0.5)"
         }
        },
        {
         "css": {
          "background-color": "rgba(85, 128, 170, 0.5)",
          "line-color": "rgba(85, 128, 170, 0.5)"
         },
         "selector": "edge[display_relation = \"KroganCovHuPPI\"]"
        },
        {
         "css": {
          "background-color": "rgba(85, 128, 170, 0.5)",
          "line-color": "rgba(85, 128, 170, 0.5)"
         },
         "selector": "edge[display_relation = \"KroganIAV\"]"
        },
        {
         "css": {
          "background-color": "rgba(85, 128, 170, 0.5)",
          "line-color": "rgba(85, 128, 170, 0.5)"
         },
         "selector": "edge[display_relation = \"KroganIBV\"]"
        },
        {
         "css": {
          "background-color": "rgba(85, 128, 170, 0.5)",
          "line-color": "rgba(85, 128, 170, 0.5)"
         },
         "selector": "edge[display_relation = \"KimPPI\"]"
        },
        {
         "css": {
          "background-color": "rgba(85, 85, 170, 0.5)",
          "line-color": "rgba(85, 85, 170, 0.5)"
         },
         "selector": "edge[display_relation = \"REACTOMEFI\"]"
        },
        {
         "css": {
          "background-color": "rgba(170, 170, 85, 0.5)",
          "line-color": "rgba(170, 170, 85, 0.5)"
         },
         "selector": "edge[display_relation = \"CORUM\"]"
        },
        {
         "css": {
          "background-color": "rgba(85, 170, 170, 0.5)",
          "line-color": "rgba(85, 170, 170, 0.5)"
         },
         "selector": "edge[display_relation = \"GEPanelAppCoV\"]"
        },
        {
         "css": {
          "background-color": "rgba(170, 106, 85, 0.5)",
          "line-color": "rgba(170, 106, 85, 0.5)"
         },
         "selector": "edge[display_relation = \"BIOGRID\"]"
        }
       ],
       "desktop_tap_threshold": 4,
       "graph": "IPY_MODEL_34a9dd2a12ee4518a2669470af88178c",
       "headless": false,
       "hide_edges_on_viewport": false,
       "layout": "IPY_MODEL_df97ab5672ad446f93d7ec5a58b4317b",
       "max_zoom": 1e+50,
       "min_zoom": 1e-50,
       "motion_blur": false,
       "motion_blur_opacity": 0.2,
       "panning_enabled": true,
       "pixel_ratio": "auto",
       "rendered_position": {
        "renderedPosition": {
         "x": 100,
         "y": 100
        }
       },
       "selection_type": "single",
       "style_enabled": true,
       "texture_on_viewport": false,
       "tooltip_source": "tooltip",
       "touch_tap_threshold": 8,
       "user_panning_enabled": true,
       "user_zooming_enabled": true,
       "wheel_sensitivity": 1,
       "zoom": 2,
       "zooming_enabled": true
      }
     },
     "a63701a82b3d401eadee3e27c955226b": {
      "model_module": "jupyter-cytoscape",
      "model_module_version": "^1.3.3",
      "model_name": "NodeModel",
      "state": {
       "_model_module_version": "^1.3.3",
       "_view_module_version": "^1.3.3",
       "data": {
        "id": "STT3B",
        "node_name": "STT3B",
        "type": "gene/protein"
       },
       "grabbable": true,
       "grabbed": false,
       "position": {
        "x": 548.1467203174874,
        "y": 227.429934379248
       },
       "selectable": false
      }
     },
     "a6a86cfdd27041d0851e713bd3ea67b2": {
      "model_module": "jupyter-cytoscape",
      "model_module_version": "^1.3.3",
      "model_name": "NodeModel",
      "state": {
       "_model_module_version": "^1.3.3",
       "_view_module_version": "^1.3.3",
       "data": {
        "id": "DAD1",
        "node_name": "DAD1",
        "type": "gene/protein"
       },
       "grabbable": true,
       "grabbed": false,
       "position": {
        "x": 356.64615704980224,
        "y": 122.58621069740832
       },
       "selectable": false
      }
     },
     "a6ad492b12114877b138a6f809aa40ab": {
      "model_module": "jupyter-cytoscape",
      "model_module_version": "^1.3.3",
      "model_name": "NodeModel",
      "state": {
       "_model_module_version": "^1.3.3",
       "_view_module_version": "^1.3.3",
       "data": {
        "id": "TMEM258",
        "node_name": "TMEM258",
        "type": "gene/protein"
       },
       "grabbable": true,
       "grabbed": false,
       "position": {
        "x": 326.2782784194321,
        "y": 112.92456423742465
       },
       "selectable": false
      }
     },
     "a6c26d9598ff42a0ac9f4e57f4222a8f": {
      "model_module": "jupyter-cytoscape",
      "model_module_version": "^1.3.3",
      "model_name": "EdgeModel",
      "state": {
       "_model_module_version": "^1.3.3",
       "_view_module_version": "^1.3.3",
       "classes": " multiple_edges ",
       "data": {
        "display_relation": "REACTOMEFI",
        "id": "732f5592-a05e-458d-b37a-e20906318436",
        "source": "RPN1",
        "source_name": "DAD1",
        "target": "DAD1",
        "target_name": "RPN1"
       },
       "selectable": false
      }
     },
     "a71d6cfc0a684516a0de852a75e5606e": {
      "model_module": "jupyter-cytoscape",
      "model_module_version": "^1.3.3",
      "model_name": "EdgeModel",
      "state": {
       "_model_module_version": "^1.3.3",
       "_view_module_version": "^1.3.3",
       "classes": " multiple_edges ",
       "data": {
        "display_relation": "CORUM",
        "id": "a6ebafbf-1219-471d-938e-2d92fac1a3c8",
        "source": "RPN2",
        "source_name": "RPN2",
        "target": "STT3A",
        "target_name": "STT3A"
       },
       "selectable": false
      }
     },
     "a77ceea7c51645548fbb2eb62284f1d1": {
      "model_module": "jupyter-cytoscape",
      "model_module_version": "^1.3.3",
      "model_name": "EdgeModel",
      "state": {
       "_model_module_version": "^1.3.3",
       "_view_module_version": "^1.3.3",
       "classes": " multiple_edges ",
       "data": {
        "display_relation": "BIOGRID",
        "id": "c46388ff-582a-42ce-9777-95687661d554",
        "source": "STT3A",
        "source_name": "TMEM258",
        "target": "TMEM258",
        "target_name": "STT3A"
       },
       "selectable": false
      }
     },
     "a7c83ecaf53d4a5c9a20a4ad9b2ae2c5": {
      "model_module": "jupyter-cytoscape",
      "model_module_version": "^1.3.3",
      "model_name": "EdgeModel",
      "state": {
       "_model_module_version": "^1.3.3",
       "_view_module_version": "^1.3.3",
       "classes": " multiple_edges ",
       "data": {
        "display_relation": "KroganCovHuPPI",
        "id": "e746b2e6-f070-40a5-90cc-007dcda2ca51",
        "source": "DDOST",
        "source_name": "DDOST",
        "target": "SARS-CoV-2",
        "target_name": "SARS-CoV-2"
       },
       "selectable": false
      }
     },
     "a8b7657b4f214d5dbff4ec4709affcdb": {
      "model_module": "jupyter-cytoscape",
      "model_module_version": "^1.3.3",
      "model_name": "EdgeModel",
      "state": {
       "_model_module_version": "^1.3.3",
       "_view_module_version": "^1.3.3",
       "classes": " multiple_edges ",
       "data": {
        "display_relation": "CORUM",
        "id": "329084a9-a9d8-4ad0-8867-38c5f7420bf2",
        "source": "DAD1",
        "source_name": "DDOST",
        "target": "DDOST",
        "target_name": "DAD1"
       },
       "selectable": false
      }
     },
     "a8daabaa02224b1c92284508268c0f02": {
      "model_module": "jupyter-cytoscape",
      "model_module_version": "^1.3.3",
      "model_name": "EdgeModel",
      "state": {
       "_model_module_version": "^1.3.3",
       "_view_module_version": "^1.3.3",
       "classes": " multiple_edges ",
       "data": {
        "display_relation": "CORUM",
        "id": "96890f37-1bc4-439d-8490-42e5205ce39e",
        "source": "DAD1",
        "source_name": "DAD1",
        "target": "MAGT1",
        "target_name": "MAGT1"
       },
       "selectable": false
      }
     },
     "a94e06e61be54a57b57f5b0d046c2b4d": {
      "model_module": "jupyter-cytoscape",
      "model_module_version": "^1.3.3",
      "model_name": "NodeModel",
      "state": {
       "_model_module_version": "^1.3.3",
       "_view_module_version": "^1.3.3",
       "data": {
        "id": "MERS-CoV",
        "node_name": "MERS-CoV",
        "type": "disease"
       },
       "grabbable": true,
       "grabbed": false,
       "position": {
        "x": 541.5577329152758,
        "y": 25.331239108453275
       },
       "selectable": false
      }
     },
     "a9a331193f71427894970e431d6b764c": {
      "model_module": "jupyter-cytoscape",
      "model_module_version": "^1.3.3",
      "model_name": "EdgeModel",
      "state": {
       "_model_module_version": "^1.3.3",
       "_view_module_version": "^1.3.3",
       "classes": " multiple_edges ",
       "data": {
        "display_relation": "CORUM",
        "id": "0eab8d69-078d-4641-a7a1-7bed392ab774",
        "source": "RPN1",
        "source_name": "RPN1",
        "target": "STT3B",
        "target_name": "STT3B"
       },
       "selectable": false
      }
     },
     "a9d00fb9f6a94eabb922567ae83e3d2d": {
      "model_module": "jupyter-cytoscape",
      "model_module_version": "^1.3.3",
      "model_name": "EdgeModel",
      "state": {
       "_model_module_version": "^1.3.3",
       "_view_module_version": "^1.3.3",
       "classes": " multiple_edges ",
       "data": {
        "display_relation": "KroganCovHuPPI",
        "id": "651841e4-14b6-4726-a838-c2611c0dbe44",
        "source": "DAD1",
        "source_name": "DAD1",
        "target": "SARS-CoV-2",
        "target_name": "SARS-CoV-2"
       },
       "selectable": false
      }
     },
     "a9fb67dfe2c842acab9023e591d7e952": {
      "model_module": "jupyter-cytoscape",
      "model_module_version": "^1.3.3",
      "model_name": "EdgeModel",
      "state": {
       "_model_module_version": "^1.3.3",
       "_view_module_version": "^1.3.3",
       "classes": " multiple_edges ",
       "data": {
        "display_relation": "CORUM",
        "id": "e13e06df-02ea-4bf1-ac59-8bc8c922dc6f",
        "source": "RPN2",
        "source_name": "RPN2",
        "target": "DDOST",
        "target_name": "DDOST"
       },
       "selectable": false
      }
     },
     "a9ffed96d5a84a5393615ad32b5fec94": {
      "model_module": "jupyter-cytoscape",
      "model_module_version": "^1.3.3",
      "model_name": "EdgeModel",
      "state": {
       "_model_module_version": "^1.3.3",
       "_view_module_version": "^1.3.3",
       "classes": " multiple_edges ",
       "data": {
        "display_relation": "crispr",
        "id": "d53235b7-e4ba-41f8-ab06-660d094c7992",
        "source": "STT3A",
        "source_name": "STT3A",
        "target": "HRV",
        "target_name": "HRV"
       },
       "selectable": false
      }
     },
     "aa36bdf6166e484289e98ad24a9a140d": {
      "model_module": "jupyter-cytoscape",
      "model_module_version": "^1.3.3",
      "model_name": "EdgeModel",
      "state": {
       "_model_module_version": "^1.3.3",
       "_view_module_version": "^1.3.3",
       "classes": " multiple_edges ",
       "data": {
        "display_relation": "CORUM",
        "id": "7a2a3694-7976-46dc-95e1-e5a2c31d7166",
        "source": "DDOST",
        "source_name": "DDOST",
        "target": "STT3B",
        "target_name": "STT3B"
       },
       "selectable": false
      }
     },
     "aa7316535c59413fbcbdba65093c741a": {
      "model_module": "jupyter-cytoscape",
      "model_module_version": "^1.3.3",
      "model_name": "EdgeModel",
      "state": {
       "_model_module_version": "^1.3.3",
       "_view_module_version": "^1.3.3",
       "classes": " multiple_edges ",
       "data": {
        "display_relation": "KroganCovHuPPI",
        "id": "e05503e2-0775-4769-9ffc-6f839d971215",
        "source": "SARS-CoV-2",
        "source_name": "OSTC",
        "target": "OSTC",
        "target_name": "SARS-CoV-2"
       },
       "selectable": false
      }
     },
     "aaf3b9a3daac4de28fa4faa4ca96bbe7": {
      "model_module": "jupyter-cytoscape",
      "model_module_version": "^1.3.3",
      "model_name": "EdgeModel",
      "state": {
       "_model_module_version": "^1.3.3",
       "_view_module_version": "^1.3.3",
       "classes": " multiple_edges ",
       "data": {
        "display_relation": "CORUM",
        "id": "6792cb62-227c-4bd9-bdb7-e6f67d4ad2ae",
        "source": "DAD1",
        "source_name": "DAD1",
        "target": "STT3B",
        "target_name": "STT3B"
       },
       "selectable": false
      }
     },
     "ab3f5383e749401b9269b83a01c4993d": {
      "model_module": "jupyter-cytoscape",
      "model_module_version": "^1.3.3",
      "model_name": "EdgeModel",
      "state": {
       "_model_module_version": "^1.3.3",
       "_view_module_version": "^1.3.3",
       "classes": " multiple_edges ",
       "data": {
        "display_relation": "KroganCovHuPPI",
        "id": "1d57cd4b-e568-49a7-ae10-7b906fecc6fe",
        "source": "MAGT1",
        "source_name": "MAGT1",
        "target": "SARS-CoV-2",
        "target_name": "SARS-CoV-2"
       },
       "selectable": false
      }
     },
     "ab90ac29ef134a2a90a6a54112e0e767": {
      "model_module": "jupyter-cytoscape",
      "model_module_version": "^1.3.3",
      "model_name": "EdgeModel",
      "state": {
       "_model_module_version": "^1.3.3",
       "_view_module_version": "^1.3.3",
       "classes": " multiple_edges ",
       "data": {
        "display_relation": "REACTOMEFI",
        "id": "1907e29e-b33a-42ab-8ddf-6e356fae7ccb",
        "source": "RPN2",
        "source_name": "DDOST",
        "target": "DDOST",
        "target_name": "RPN2"
       },
       "selectable": false
      }
     },
     "accaf6a099834331a22e3ee2f8a503ef": {
      "model_module": "jupyter-cytoscape",
      "model_module_version": "^1.3.3",
      "model_name": "EdgeModel",
      "state": {
       "_model_module_version": "^1.3.3",
       "_view_module_version": "^1.3.3",
       "classes": " multiple_edges ",
       "data": {
        "display_relation": "REACTOMEFI",
        "id": "9f08a929-6833-4d51-ab8b-7e00f583e12c",
        "source": "RPN2",
        "source_name": "MAGT1",
        "target": "MAGT1",
        "target_name": "RPN2"
       },
       "selectable": false
      }
     },
     "ad4a4adea8c64c0e9bde675d27fbd53b": {
      "model_module": "jupyter-cytoscape",
      "model_module_version": "^1.3.3",
      "model_name": "EdgeModel",
      "state": {
       "_model_module_version": "^1.3.3",
       "_view_module_version": "^1.3.3",
       "classes": " multiple_edges ",
       "data": {
        "display_relation": "KroganCovHuPPI",
        "id": "54b2c2b8-346c-462f-8b30-c8835950fb51",
        "source": "RPN2",
        "source_name": "RPN2",
        "target": "SARS-CoV-2",
        "target_name": "SARS-CoV-2"
       },
       "selectable": false
      }
     },
     "adf96f42ae56424aa8f8ad6f299cbe9d": {
      "model_module": "jupyter-cytoscape",
      "model_module_version": "^1.3.3",
      "model_name": "EdgeModel",
      "state": {
       "_model_module_version": "^1.3.3",
       "_view_module_version": "^1.3.3",
       "classes": " multiple_edges ",
       "data": {
        "display_relation": "REACTOMEFI",
        "id": "69a5e222-5f34-4207-8888-943bc4d7a849",
        "source": "RPN2",
        "source_name": "RPN2",
        "target": "STT3A",
        "target_name": "STT3A"
       },
       "selectable": false
      }
     },
     "ae42a25621994c3dae1566a78299a8ee": {
      "model_module": "jupyter-cytoscape",
      "model_module_version": "^1.3.3",
      "model_name": "EdgeModel",
      "state": {
       "_model_module_version": "^1.3.3",
       "_view_module_version": "^1.3.3",
       "classes": " multiple_edges ",
       "data": {
        "display_relation": "REACTOMEFI",
        "id": "f76f590e-a1f2-4b1c-a59a-d9cf8af206bb",
        "source": "DAD1",
        "source_name": "DAD1",
        "target": "DDOST",
        "target_name": "DDOST"
       },
       "selectable": false
      }
     },
     "ae99d3d2019541c2adae624c7ad60e78": {
      "model_module": "jupyter-cytoscape",
      "model_module_version": "^1.3.3",
      "model_name": "EdgeModel",
      "state": {
       "_model_module_version": "^1.3.3",
       "_view_module_version": "^1.3.3",
       "classes": " multiple_edges ",
       "data": {
        "display_relation": "BIOGRID",
        "id": "2b33f499-b965-4590-8532-a82e9986ca9c",
        "source": "TMEM258",
        "source_name": "TMEM258",
        "target": "MAGT1",
        "target_name": "MAGT1"
       },
       "selectable": false
      }
     },
     "af7c000616434a6db8287b33a3e61fea": {
      "model_module": "jupyter-cytoscape",
      "model_module_version": "^1.3.3",
      "model_name": "EdgeModel",
      "state": {
       "_model_module_version": "^1.3.3",
       "_view_module_version": "^1.3.3",
       "classes": " multiple_edges ",
       "data": {
        "display_relation": "REACTOMEFI",
        "id": "fd684b54-0042-49af-b904-62d277520537",
        "source": "RPN1",
        "source_name": "DDOST",
        "target": "DDOST",
        "target_name": "RPN1"
       },
       "selectable": false
      }
     },
     "afb164de8abb4d0ebaf6b26ee596fd73": {
      "model_module": "jupyter-cytoscape",
      "model_module_version": "^1.3.3",
      "model_name": "EdgeModel",
      "state": {
       "_model_module_version": "^1.3.3",
       "_view_module_version": "^1.3.3",
       "classes": " multiple_edges ",
       "data": {
        "display_relation": "KroganCovHuPPI",
        "id": "5db09e8a-410e-48dc-9215-a7f847a5a96c",
        "source": "RPN2",
        "source_name": "RPN2",
        "target": "SARS-CoV-2",
        "target_name": "SARS-CoV-2"
       },
       "selectable": false
      }
     },
     "b03f83f706d147269c1231913e3a3cfa": {
      "model_module": "jupyter-cytoscape",
      "model_module_version": "^1.3.3",
      "model_name": "EdgeModel",
      "state": {
       "_model_module_version": "^1.3.3",
       "_view_module_version": "^1.3.3",
       "classes": " multiple_edges ",
       "data": {
        "display_relation": "BIOGRID",
        "id": "c45dae95-0243-4002-8989-fae51a97eb17",
        "source": "DAD1",
        "source_name": "DAD1",
        "target": "DAD1",
        "target_name": "DAD1"
       },
       "selectable": false
      }
     },
     "b18d545e6d5b4e479ce7b904db556461": {
      "model_module": "jupyter-cytoscape",
      "model_module_version": "^1.3.3",
      "model_name": "EdgeModel",
      "state": {
       "_model_module_version": "^1.3.3",
       "_view_module_version": "^1.3.3",
       "classes": " multiple_edges ",
       "data": {
        "display_relation": "CORUM",
        "id": "009d2e1d-5316-462a-add2-00106efa377e",
        "source": "DAD1",
        "source_name": "DDOST",
        "target": "DDOST",
        "target_name": "DAD1"
       },
       "selectable": false
      }
     },
     "b1931ce8c7024498be142141f06f2fc3": {
      "model_module": "jupyter-cytoscape",
      "model_module_version": "^1.3.3",
      "model_name": "EdgeModel",
      "state": {
       "_model_module_version": "^1.3.3",
       "_view_module_version": "^1.3.3",
       "classes": " multiple_edges ",
       "data": {
        "display_relation": "CORUM",
        "id": "f1e404c4-6b07-4a21-9ee0-7dbbfc10e1df",
        "source": "RPN1",
        "source_name": "RPN1",
        "target": "DDOST",
        "target_name": "DDOST"
       },
       "selectable": false
      }
     },
     "b1c9a7f82982481c88c33ac4fb74d08e": {
      "model_module": "jupyter-cytoscape",
      "model_module_version": "^1.3.3",
      "model_name": "EdgeModel",
      "state": {
       "_model_module_version": "^1.3.3",
       "_view_module_version": "^1.3.3",
       "classes": " multiple_edges ",
       "data": {
        "display_relation": "KroganCovHuPPI",
        "id": "2fd80939-2eb0-413d-bd64-50f272a2dade",
        "source": "SARS-CoV-2",
        "source_name": "OSTC",
        "target": "OSTC",
        "target_name": "SARS-CoV-2"
       },
       "selectable": false
      }
     },
     "b20f8a0bddb14b81a4db5e87b27ceb6d": {
      "model_module": "jupyter-cytoscape",
      "model_module_version": "^1.3.3",
      "model_name": "EdgeModel",
      "state": {
       "_model_module_version": "^1.3.3",
       "_view_module_version": "^1.3.3",
       "classes": " multiple_edges ",
       "data": {
        "display_relation": "REACTOMEFI",
        "id": "0994f7ff-1557-4b37-9ccb-e1e5e0efaca5",
        "source": "STT3A",
        "source_name": "MAGT1",
        "target": "MAGT1",
        "target_name": "STT3A"
       },
       "selectable": false
      }
     },
     "b2719c7d7e024bb0ae7a27b32afdc27a": {
      "model_module": "jupyter-cytoscape",
      "model_module_version": "^1.3.3",
      "model_name": "NodeModel",
      "state": {
       "_model_module_version": "^1.3.3",
       "_view_module_version": "^1.3.3",
       "data": {
        "id": "OSTC",
        "node_name": "OSTC",
        "type": "gene/protein"
       },
       "grabbable": true,
       "grabbed": false,
       "position": {
        "x": 310.15187183962706,
        "y": 257.6935226808878
       },
       "selectable": false
      }
     },
     "b2f9b9d9a3184128b0e85cf9bfca1c1b": {
      "model_module": "jupyter-cytoscape",
      "model_module_version": "^1.3.3",
      "model_name": "EdgeModel",
      "state": {
       "_model_module_version": "^1.3.3",
       "_view_module_version": "^1.3.3",
       "classes": " multiple_edges ",
       "data": {
        "display_relation": "CORUM",
        "id": "f133a67c-d978-4587-8ca7-91bbc8a7a541",
        "source": "RPN1",
        "source_name": "RPN1",
        "target": "DDOST",
        "target_name": "DDOST"
       },
       "selectable": false
      }
     },
     "b38018f6615647239826da88d690713a": {
      "model_module": "jupyter-cytoscape",
      "model_module_version": "^1.3.3",
      "model_name": "EdgeModel",
      "state": {
       "_model_module_version": "^1.3.3",
       "_view_module_version": "^1.3.3",
       "classes": " multiple_edges ",
       "data": {
        "display_relation": "CORUM",
        "id": "680b64f2-3abb-4269-9448-0a709e2ec6f0",
        "source": "STT3B",
        "source_name": "DDOST",
        "target": "DDOST",
        "target_name": "STT3B"
       },
       "selectable": false
      }
     },
     "b38b8373d67c4432ac8a48d485bbb771": {
      "model_module": "jupyter-cytoscape",
      "model_module_version": "^1.3.3",
      "model_name": "EdgeModel",
      "state": {
       "_model_module_version": "^1.3.3",
       "_view_module_version": "^1.3.3",
       "classes": " multiple_edges ",
       "data": {
        "display_relation": "BIOGRID",
        "id": "ceb04b16-2fe9-4aad-b9a9-d4e28a2b961d",
        "source": "DAD1",
        "source_name": "TMEM258",
        "target": "TMEM258",
        "target_name": "DAD1"
       },
       "selectable": false
      }
     },
     "b392d3b78b484629ae84783a4f06b560": {
      "model_module": "jupyter-cytoscape",
      "model_module_version": "^1.3.3",
      "model_name": "NodeModel",
      "state": {
       "_model_module_version": "^1.3.3",
       "_view_module_version": "^1.3.3",
       "data": {
        "id": "OST4",
        "node_name": "OST4",
        "type": "gene/protein"
       },
       "grabbable": true,
       "grabbed": false,
       "position": {
        "x": 318.2705158072941,
        "y": 197.13646007061598
       },
       "selectable": false
      }
     },
     "b44a2ac3a65e4d8c80abd8db32c98d7e": {
      "model_module": "jupyter-cytoscape",
      "model_module_version": "^1.3.3",
      "model_name": "EdgeModel",
      "state": {
       "_model_module_version": "^1.3.3",
       "_view_module_version": "^1.3.3",
       "classes": " multiple_edges ",
       "data": {
        "display_relation": "BIOGRID",
        "id": "b58409c4-062e-477b-8f82-0b6ab74195f5",
        "source": "DAD1",
        "source_name": "TMEM258",
        "target": "TMEM258",
        "target_name": "DAD1"
       },
       "selectable": false
      }
     },
     "b5802c2d15bd4e039361108c7ac7a3dc": {
      "model_module": "jupyter-cytoscape",
      "model_module_version": "^1.3.3",
      "model_name": "EdgeModel",
      "state": {
       "_model_module_version": "^1.3.3",
       "_view_module_version": "^1.3.3",
       "classes": " multiple_edges ",
       "data": {
        "display_relation": "crispr",
        "id": "cb207163-e469-4eed-b534-2f7d4004259e",
        "source": "DDOST",
        "source_name": "DDOST",
        "target": "MERS-CoV",
        "target_name": "MERS-CoV"
       },
       "selectable": false
      }
     },
     "b6bdb3a5826c44439e3b99620cf66392": {
      "model_module": "jupyter-cytoscape",
      "model_module_version": "^1.3.3",
      "model_name": "EdgeModel",
      "state": {
       "_model_module_version": "^1.3.3",
       "_view_module_version": "^1.3.3",
       "classes": " multiple_edges ",
       "data": {
        "display_relation": "paralogue",
        "id": "d1d74a4b-77be-43fc-8385-8468bb3f0202",
        "source": "STT3A",
        "source_name": "STT3B",
        "target": "STT3B",
        "target_name": "STT3A"
       },
       "selectable": false
      }
     },
     "b7031b10141d431eb2129820e299edac": {
      "model_module": "jupyter-cytoscape",
      "model_module_version": "^1.3.3",
      "model_name": "EdgeModel",
      "state": {
       "_model_module_version": "^1.3.3",
       "_view_module_version": "^1.3.3",
       "classes": " multiple_edges ",
       "data": {
        "display_relation": "crispr",
        "id": "52d8b99c-0803-4312-b32a-0e520609451b",
        "source": "STT3A",
        "source_name": "STT3A",
        "target": "PIV3",
        "target_name": "PIV3"
       },
       "selectable": false
      }
     },
     "b7f20af50db14f86a0c10a1c995474fb": {
      "model_module": "jupyter-cytoscape",
      "model_module_version": "^1.3.3",
      "model_name": "NodeModel",
      "state": {
       "_model_module_version": "^1.3.3",
       "_view_module_version": "^1.3.3",
       "data": {
        "id": "TMEM258",
        "node_name": "TMEM258",
        "type": "gene/protein"
       },
       "grabbable": true,
       "grabbed": false,
       "position": {
        "x": 383.1800653880573,
        "y": 231.3319439577626
       },
       "selectable": false
      }
     },
     "b80d206b5e3749819b2d12ada5105eb9": {
      "model_module": "jupyter-cytoscape",
      "model_module_version": "^1.3.3",
      "model_name": "EdgeModel",
      "state": {
       "_model_module_version": "^1.3.3",
       "_view_module_version": "^1.3.3",
       "classes": " multiple_edges ",
       "data": {
        "display_relation": "BIOGRID",
        "id": "12666270-b41d-4ba6-abca-8da08bcbf615",
        "source": "STT3B",
        "source_name": "MAGT1",
        "target": "MAGT1",
        "target_name": "STT3B"
       },
       "selectable": false
      }
     },
     "b818d34f7c73485d996c4516ad5da865": {
      "model_module": "jupyter-cytoscape",
      "model_module_version": "^1.3.3",
      "model_name": "EdgeModel",
      "state": {
       "_model_module_version": "^1.3.3",
       "_view_module_version": "^1.3.3",
       "classes": " multiple_edges ",
       "data": {
        "display_relation": "crispr",
        "id": "45b696df-755d-4321-b34d-af08ab88a828",
        "source": "RPN1",
        "source_name": "RPN1",
        "target": "MERS-CoV",
        "target_name": "MERS-CoV"
       },
       "selectable": false
      }
     },
     "b9a2a43dd50349178d7374f485f2fa86": {
      "model_module": "jupyter-cytoscape",
      "model_module_version": "^1.3.3",
      "model_name": "EdgeModel",
      "state": {
       "_model_module_version": "^1.3.3",
       "_view_module_version": "^1.3.3",
       "classes": " multiple_edges ",
       "data": {
        "display_relation": "BIOGRID",
        "id": "eb23ac09-709f-4129-8771-e00e19c36e1a",
        "source": "TMEM258",
        "source_name": "TMEM258",
        "target": "MAGT1",
        "target_name": "MAGT1"
       },
       "selectable": false
      }
     },
     "bab0349b2bee45f9b8b00e58d0dcdb93": {
      "model_module": "@jupyter-widgets/base",
      "model_module_version": "1.2.0",
      "model_name": "LayoutModel",
      "state": {}
     },
     "baf9c14f11634c82a2dff3acdab5c930": {
      "model_module": "jupyter-cytoscape",
      "model_module_version": "^1.3.3",
      "model_name": "EdgeModel",
      "state": {
       "_model_module_version": "^1.3.3",
       "_view_module_version": "^1.3.3",
       "classes": " multiple_edges ",
       "data": {
        "display_relation": "REACTOMEFI",
        "id": "195ac9de-5517-4770-befe-e1175e0c4da7",
        "source": "STT3A",
        "source_name": "DDOST",
        "target": "DDOST",
        "target_name": "STT3A"
       },
       "selectable": false
      }
     },
     "bb181bab9b3e49029493aab1bcf7bfe4": {
      "model_module": "jupyter-cytoscape",
      "model_module_version": "^1.3.3",
      "model_name": "EdgeModel",
      "state": {
       "_model_module_version": "^1.3.3",
       "_view_module_version": "^1.3.3",
       "classes": " multiple_edges ",
       "data": {
        "display_relation": "REACTOMEFI",
        "id": "adbd998e-7fca-4c65-a3d9-32c682fa1cba",
        "source": "DAD1",
        "source_name": "DAD1",
        "target": "DDOST",
        "target_name": "DDOST"
       },
       "selectable": false
      }
     },
     "bb56194a965745778db6e5a85145b5e5": {
      "model_module": "jupyter-cytoscape",
      "model_module_version": "^1.3.3",
      "model_name": "NodeModel",
      "state": {
       "_model_module_version": "^1.3.3",
       "_view_module_version": "^1.3.3",
       "data": {
        "id": "RPN2",
        "node_name": "RPN2",
        "type": "gene/protein"
       },
       "grabbable": true,
       "grabbed": false,
       "position": {
        "x": 257.1351611934312,
        "y": 316.5307616027526
       },
       "selectable": false
      }
     },
     "bbfc6c0207964d8bb3f32e44eb901af5": {
      "model_module": "jupyter-cytoscape",
      "model_module_version": "^1.3.3",
      "model_name": "NodeModel",
      "state": {
       "_model_module_version": "^1.3.3",
       "_view_module_version": "^1.3.3",
       "data": {
        "id": "OSTC",
        "node_name": "OSTC",
        "type": "gene/protein"
       },
       "grabbable": true,
       "grabbed": false,
       "position": {
        "x": 114.18826584700112,
        "y": 149.79075700665405
       },
       "selectable": false
      }
     },
     "bc7bba2b2ee245a18db72de54b23665c": {
      "model_module": "jupyter-cytoscape",
      "model_module_version": "^1.3.3",
      "model_name": "EdgeModel",
      "state": {
       "_model_module_version": "^1.3.3",
       "_view_module_version": "^1.3.3",
       "classes": " multiple_edges ",
       "data": {
        "display_relation": "crispr",
        "id": "2d040f96-ca4a-41f2-b995-167a13aef2a7",
        "source": "RPN1",
        "source_name": "RPN1",
        "target": "MERS-CoV",
        "target_name": "MERS-CoV"
       },
       "selectable": false
      }
     },
     "bcb173d1812b4ada9a77d7a3f5593abd": {
      "model_module": "jupyter-cytoscape",
      "model_module_version": "^1.3.3",
      "model_name": "EdgeModel",
      "state": {
       "_model_module_version": "^1.3.3",
       "_view_module_version": "^1.3.3",
       "classes": " multiple_edges ",
       "data": {
        "display_relation": "CORUM",
        "id": "4ff80dd3-015d-4a8d-b182-9c9c906be77e",
        "source": "RPN2",
        "source_name": "RPN2",
        "target": "STT3B",
        "target_name": "STT3B"
       },
       "selectable": false
      }
     },
     "bcd33de08f694e23af2386068f3f3da5": {
      "model_module": "jupyter-cytoscape",
      "model_module_version": "^1.3.3",
      "model_name": "NodeModel",
      "state": {
       "_model_module_version": "^1.3.3",
       "_view_module_version": "^1.3.3",
       "data": {
        "id": "RPN1",
        "node_name": "RPN1",
        "type": "gene/protein"
       },
       "grabbable": true,
       "grabbed": false,
       "position": {
        "x": 140.6478144057309,
        "y": 164.91199448599252
       },
       "selectable": false
      }
     },
     "bcd57911c67845648f924daa050579e2": {
      "model_module": "jupyter-cytoscape",
      "model_module_version": "^1.3.3",
      "model_name": "GraphModel",
      "state": {
       "_adj": {},
       "_model_module_version": "^1.3.3",
       "_view_module": "jupyter-cytoscape",
       "_view_module_version": "^1.3.3"
      }
     },
     "bde8f7b4e70343a0b6bb7954fa5e670b": {
      "model_module": "jupyter-cytoscape",
      "model_module_version": "^1.3.3",
      "model_name": "EdgeModel",
      "state": {
       "_model_module_version": "^1.3.3",
       "_view_module_version": "^1.3.3",
       "classes": " multiple_edges ",
       "data": {
        "display_relation": "BIOGRID",
        "id": "8849df86-91b1-4228-84ac-3c75dcaf0fec",
        "source": "RPN2",
        "source_name": "TMEM258",
        "target": "TMEM258",
        "target_name": "RPN2"
       },
       "selectable": false
      }
     },
     "bdf03682492b43f8b1e9870d8a9300a9": {
      "model_module": "jupyter-cytoscape",
      "model_module_version": "^1.3.3",
      "model_name": "EdgeModel",
      "state": {
       "_model_module_version": "^1.3.3",
       "_view_module_version": "^1.3.3",
       "classes": " multiple_edges ",
       "data": {
        "display_relation": "KroganCovHuPPI",
        "id": "d4689fe9-ce57-4eda-bdc9-10508f888f9b",
        "source": "STT3B",
        "source_name": "STT3B",
        "target": "SARS-CoV-2",
        "target_name": "SARS-CoV-2"
       },
       "selectable": false
      }
     },
     "be1cbde2b27343c0815ad22ac254f926": {
      "model_module": "jupyter-cytoscape",
      "model_module_version": "^1.3.3",
      "model_name": "EdgeModel",
      "state": {
       "_model_module_version": "^1.3.3",
       "_view_module_version": "^1.3.3",
       "classes": " multiple_edges ",
       "data": {
        "display_relation": "REACTOMEFI",
        "id": "89d1f6ad-103f-46c8-a4dd-e2dee46dd415",
        "source": "RPN1",
        "source_name": "DAD1",
        "target": "DAD1",
        "target_name": "RPN1"
       },
       "selectable": false
      }
     },
     "be1d40a0d0c44b68aeb5d78c8c43fa7e": {
      "model_module": "jupyter-cytoscape",
      "model_module_version": "^1.3.3",
      "model_name": "NodeModel",
      "state": {
       "_model_module_version": "^1.3.3",
       "_view_module_version": "^1.3.3",
       "data": {
        "id": "RPN1",
        "node_name": "RPN1",
        "type": "gene/protein"
       },
       "grabbable": true,
       "grabbed": false,
       "position": {
        "x": 477.72928701495925,
        "y": 149.15602974180362
       },
       "selectable": false
      }
     },
     "bebaaa3a1a2b43229fc6c3f2fc161d72": {
      "model_module": "jupyter-cytoscape",
      "model_module_version": "^1.3.3",
      "model_name": "EdgeModel",
      "state": {
       "_model_module_version": "^1.3.3",
       "_view_module_version": "^1.3.3",
       "classes": " multiple_edges ",
       "data": {
        "display_relation": "CORUM",
        "id": "7341dc9f-ef14-410c-84df-b0a7cc2d6df9",
        "source": "RPN1",
        "source_name": "RPN1",
        "target": "RPN2",
        "target_name": "RPN2"
       },
       "selectable": false
      }
     },
     "bf0f9ceb79f9489a92b5707435e19c7d": {
      "model_module": "jupyter-cytoscape",
      "model_module_version": "^1.3.3",
      "model_name": "EdgeModel",
      "state": {
       "_model_module_version": "^1.3.3",
       "_view_module_version": "^1.3.3",
       "classes": " multiple_edges ",
       "data": {
        "display_relation": "KroganCovHuPPI",
        "id": "088a182e-a56a-46e1-9e18-e3ad74b40855",
        "source": "STT3B",
        "source_name": "STT3B",
        "target": "SARS-CoV-2",
        "target_name": "SARS-CoV-2"
       },
       "selectable": false
      }
     },
     "bf9467a1f42f430c8c955e10208a0ba8": {
      "model_module": "jupyter-cytoscape",
      "model_module_version": "^1.3.3",
      "model_name": "EdgeModel",
      "state": {
       "_model_module_version": "^1.3.3",
       "_view_module_version": "^1.3.3",
       "classes": " multiple_edges ",
       "data": {
        "display_relation": "GEPanelAppCoV",
        "id": "3b2dfce6-4885-4283-8d11-b78494ed6e36",
        "source": "MAGT1",
        "source_name": "MAGT1",
        "target": "SARS-CoV-2",
        "target_name": "SARS-CoV-2"
       },
       "selectable": false
      }
     },
     "c0517376b8064afab53a850bf80149a5": {
      "model_module": "jupyter-cytoscape",
      "model_module_version": "^1.3.3",
      "model_name": "EdgeModel",
      "state": {
       "_model_module_version": "^1.3.3",
       "_view_module_version": "^1.3.3",
       "classes": " multiple_edges ",
       "data": {
        "display_relation": "BIOGRID",
        "id": "9140dfcf-9574-4afc-a94d-4976132d5933",
        "source": "STT3B",
        "source_name": "TMEM258",
        "target": "TMEM258",
        "target_name": "STT3B"
       },
       "selectable": false
      }
     },
     "c0b5b87ad59d4d5d96e32a75b410d5b8": {
      "model_module": "jupyter-cytoscape",
      "model_module_version": "^1.3.3",
      "model_name": "EdgeModel",
      "state": {
       "_model_module_version": "^1.3.3",
       "_view_module_version": "^1.3.3",
       "classes": " multiple_edges ",
       "data": {
        "display_relation": "CORUM",
        "id": "cf5c680a-a448-434c-9bc1-abc88b32c1a7",
        "source": "DDOST",
        "source_name": "DDOST",
        "target": "MAGT1",
        "target_name": "MAGT1"
       },
       "selectable": false
      }
     },
     "c126aede582f430e9d1bf2314f25b180": {
      "model_module": "jupyter-cytoscape",
      "model_module_version": "^1.3.3",
      "model_name": "EdgeModel",
      "state": {
       "_model_module_version": "^1.3.3",
       "_view_module_version": "^1.3.3",
       "classes": " multiple_edges ",
       "data": {
        "display_relation": "CORUM",
        "id": "42a9d93e-6b28-45a4-9c77-354a08a777a5",
        "source": "RPN1",
        "source_name": "RPN1",
        "target": "STT3A",
        "target_name": "STT3A"
       },
       "selectable": false
      }
     },
     "c1ae9c4ef5d14203a2e2a446d50ec2ad": {
      "model_module": "jupyter-cytoscape",
      "model_module_version": "^1.3.3",
      "model_name": "EdgeModel",
      "state": {
       "_model_module_version": "^1.3.3",
       "_view_module_version": "^1.3.3",
       "classes": " multiple_edges ",
       "data": {
        "display_relation": "BIOGRID",
        "id": "5b13feed-6bf4-4278-914d-52836e8da17b",
        "source": "DAD1",
        "source_name": "DAD1",
        "target": "DAD1",
        "target_name": "DAD1"
       },
       "selectable": false
      }
     },
     "c246d9ea2e014972be8fff45cf126ada": {
      "model_module": "jupyter-cytoscape",
      "model_module_version": "^1.3.3",
      "model_name": "EdgeModel",
      "state": {
       "_model_module_version": "^1.3.3",
       "_view_module_version": "^1.3.3",
       "classes": " multiple_edges ",
       "data": {
        "display_relation": "BIOGRID",
        "id": "f205023e-1f4a-4a07-873f-9733905c7c7a",
        "source": "RPN1",
        "source_name": "TMEM258",
        "target": "TMEM258",
        "target_name": "RPN1"
       },
       "selectable": false
      }
     },
     "c2781cddbac24c93bb01f840644364f5": {
      "model_module": "ipysigma",
      "model_module_version": "^0.24.2",
      "model_name": "SigmaModel",
      "state": {
       "_model_module_version": "^0.24.2",
       "_view_module_version": "^0.24.2",
       "background_color": "white",
       "camera_state": {
        "angle": 0,
        "ratio": 1,
        "x": 0.5,
        "y": 0.5
       },
       "clickable_edges": false,
       "data": {
        "edges": [
         {
          "attributes": {
           "display_relation": "BIOGRID",
           "source_name": "COG3",
           "target_name": "COG8"
          },
          "source": "COG8",
          "target": "COG3"
         },
         {
          "attributes": {
           "display_relation": "CORUM",
           "source_name": "COG3",
           "target_name": "COG8"
          },
          "source": "COG8",
          "target": "COG3"
         },
         {
          "attributes": {
           "display_relation": "REACTOMEFI",
           "source_name": "COG3",
           "target_name": "COG8"
          },
          "source": "COG8",
          "target": "COG3"
         },
         {
          "attributes": {
           "display_relation": "BIOGRID",
           "source_name": "COG2",
           "target_name": "COG8"
          },
          "source": "COG8",
          "target": "COG2"
         },
         {
          "attributes": {
           "display_relation": "CORUM",
           "source_name": "COG2",
           "target_name": "COG8"
          },
          "source": "COG8",
          "target": "COG2"
         },
         {
          "attributes": {
           "display_relation": "REACTOMEFI",
           "source_name": "COG2",
           "target_name": "COG8"
          },
          "source": "COG8",
          "target": "COG2"
         },
         {
          "attributes": {
           "display_relation": "BIOGRID",
           "source_name": "COG8",
           "target_name": "COG7"
          },
          "source": "COG8",
          "target": "COG7"
         },
         {
          "attributes": {
           "display_relation": "CORUM",
           "source_name": "COG7",
           "target_name": "COG8"
          },
          "source": "COG8",
          "target": "COG7"
         },
         {
          "attributes": {
           "display_relation": "REACTOMEFI",
           "source_name": "COG7",
           "target_name": "COG8"
          },
          "source": "COG8",
          "target": "COG7"
         },
         {
          "attributes": {
           "display_relation": "BIOGRID",
           "source_name": "COG6",
           "target_name": "COG8"
          },
          "source": "COG8",
          "target": "COG6"
         },
         {
          "attributes": {
           "display_relation": "CORUM",
           "source_name": "COG8",
           "target_name": "COG6"
          },
          "source": "COG8",
          "target": "COG6"
         },
         {
          "attributes": {
           "display_relation": "BIOGRID",
           "source_name": "COG5",
           "target_name": "COG8"
          },
          "source": "COG8",
          "target": "COG5"
         },
         {
          "attributes": {
           "display_relation": "CORUM",
           "source_name": "COG8",
           "target_name": "COG5"
          },
          "source": "COG8",
          "target": "COG5"
         },
         {
          "attributes": {
           "display_relation": "REACTOMEFI",
           "source_name": "COG5",
           "target_name": "COG8"
          },
          "source": "COG8",
          "target": "COG5"
         },
         {
          "attributes": {
           "display_relation": "BIOGRID",
           "source_name": "COG4",
           "target_name": "COG8"
          },
          "source": "COG8",
          "target": "COG4"
         },
         {
          "attributes": {
           "display_relation": "CORUM",
           "source_name": "COG8",
           "target_name": "COG4"
          },
          "source": "COG8",
          "target": "COG4"
         },
         {
          "attributes": {
           "display_relation": "REACTOMEFI",
           "source_name": "COG4",
           "target_name": "COG8"
          },
          "source": "COG8",
          "target": "COG4"
         },
         {
          "attributes": {
           "display_relation": "BIOGRID",
           "source_name": "COG8",
           "target_name": "COG8"
          },
          "source": "COG8",
          "target": "COG8"
         },
         {
          "attributes": {
           "display_relation": "crispr",
           "source_name": "COG8",
           "target_name": "IAV"
          },
          "source": "COG8",
          "target": "IAV"
         },
         {
          "attributes": {
           "display_relation": "crispr",
           "source_name": "COG8",
           "target_name": "PIV3"
          },
          "source": "COG8",
          "target": "PIV3"
         },
         {
          "attributes": {
           "display_relation": "crispr",
           "source_name": "COG8",
           "target_name": "RSV"
          },
          "source": "COG8",
          "target": "RSV"
         },
         {
          "attributes": {
           "display_relation": "BIOGRID",
           "source_name": "COG3",
           "target_name": "COG2"
          },
          "source": "COG3",
          "target": "COG2"
         },
         {
          "attributes": {
           "display_relation": "CORUM",
           "source_name": "COG2",
           "target_name": "COG3"
          },
          "source": "COG3",
          "target": "COG2"
         },
         {
          "attributes": {
           "display_relation": "REACTOMEFI",
           "source_name": "COG2",
           "target_name": "COG3"
          },
          "source": "COG3",
          "target": "COG2"
         },
         {
          "attributes": {
           "display_relation": "BIOGRID",
           "source_name": "COG3",
           "target_name": "COG6"
          },
          "source": "COG3",
          "target": "COG6"
         },
         {
          "attributes": {
           "display_relation": "CORUM",
           "source_name": "COG3",
           "target_name": "COG6"
          },
          "source": "COG3",
          "target": "COG6"
         },
         {
          "attributes": {
           "display_relation": "REACTOMEFI",
           "source_name": "COG3",
           "target_name": "COG6"
          },
          "source": "COG3",
          "target": "COG6"
         },
         {
          "attributes": {
           "display_relation": "BIOGRID",
           "source_name": "COG3",
           "target_name": "COG4"
          },
          "source": "COG3",
          "target": "COG4"
         },
         {
          "attributes": {
           "display_relation": "CORUM",
           "source_name": "COG3",
           "target_name": "COG4"
          },
          "source": "COG3",
          "target": "COG4"
         },
         {
          "attributes": {
           "display_relation": "REACTOMEFI",
           "source_name": "COG3",
           "target_name": "COG4"
          },
          "source": "COG3",
          "target": "COG4"
         },
         {
          "attributes": {
           "display_relation": "BIOGRID",
           "source_name": "COG3",
           "target_name": "COG5"
          },
          "source": "COG3",
          "target": "COG5"
         },
         {
          "attributes": {
           "display_relation": "CORUM",
           "source_name": "COG3",
           "target_name": "COG5"
          },
          "source": "COG3",
          "target": "COG5"
         },
         {
          "attributes": {
           "display_relation": "REACTOMEFI",
           "source_name": "COG3",
           "target_name": "COG5"
          },
          "source": "COG3",
          "target": "COG5"
         },
         {
          "attributes": {
           "display_relation": "BIOGRID",
           "source_name": "COG7",
           "target_name": "COG3"
          },
          "source": "COG3",
          "target": "COG7"
         },
         {
          "attributes": {
           "display_relation": "CORUM",
           "source_name": "COG7",
           "target_name": "COG3"
          },
          "source": "COG3",
          "target": "COG7"
         },
         {
          "attributes": {
           "display_relation": "REACTOMEFI",
           "source_name": "COG3",
           "target_name": "COG7"
          },
          "source": "COG3",
          "target": "COG7"
         },
         {
          "attributes": {
           "display_relation": "KimPPI",
           "source_name": "COG3",
           "target_name": "SARS-CoV-2"
          },
          "source": "COG3",
          "target": "SARS-CoV-2"
         },
         {
          "attributes": {
           "display_relation": "crispr",
           "source_name": "COG3",
           "target_name": "SARS-CoV-2"
          },
          "source": "COG3",
          "target": "SARS-CoV-2"
         },
         {
          "attributes": {
           "display_relation": "crispr",
           "source_name": "COG3",
           "target_name": "IAV"
          },
          "source": "COG3",
          "target": "IAV"
         },
         {
          "attributes": {
           "display_relation": "crispr",
           "source_name": "COG3",
           "target_name": "PIV3"
          },
          "source": "COG3",
          "target": "PIV3"
         },
         {
          "attributes": {
           "display_relation": "crispr",
           "source_name": "COG3",
           "target_name": "RSV"
          },
          "source": "COG3",
          "target": "RSV"
         },
         {
          "attributes": {
           "display_relation": "BIOGRID",
           "source_name": "COG2",
           "target_name": "COG7"
          },
          "source": "COG2",
          "target": "COG7"
         },
         {
          "attributes": {
           "display_relation": "CORUM",
           "source_name": "COG7",
           "target_name": "COG2"
          },
          "source": "COG2",
          "target": "COG7"
         },
         {
          "attributes": {
           "display_relation": "REACTOMEFI",
           "source_name": "COG2",
           "target_name": "COG7"
          },
          "source": "COG2",
          "target": "COG7"
         },
         {
          "attributes": {
           "display_relation": "BIOGRID",
           "source_name": "COG2",
           "target_name": "COG6"
          },
          "source": "COG2",
          "target": "COG6"
         },
         {
          "attributes": {
           "display_relation": "CORUM",
           "source_name": "COG2",
           "target_name": "COG6"
          },
          "source": "COG2",
          "target": "COG6"
         },
         {
          "attributes": {
           "display_relation": "REACTOMEFI",
           "source_name": "COG2",
           "target_name": "COG6"
          },
          "source": "COG2",
          "target": "COG6"
         },
         {
          "attributes": {
           "display_relation": "BIOGRID",
           "source_name": "COG2",
           "target_name": "COG5"
          },
          "source": "COG2",
          "target": "COG5"
         },
         {
          "attributes": {
           "display_relation": "CORUM",
           "source_name": "COG2",
           "target_name": "COG5"
          },
          "source": "COG2",
          "target": "COG5"
         },
         {
          "attributes": {
           "display_relation": "REACTOMEFI",
           "source_name": "COG2",
           "target_name": "COG5"
          },
          "source": "COG2",
          "target": "COG5"
         },
         {
          "attributes": {
           "display_relation": "BIOGRID",
           "source_name": "COG2",
           "target_name": "COG4"
          },
          "source": "COG2",
          "target": "COG4"
         },
         {
          "attributes": {
           "display_relation": "CORUM",
           "source_name": "COG2",
           "target_name": "COG4"
          },
          "source": "COG2",
          "target": "COG4"
         },
         {
          "attributes": {
           "display_relation": "REACTOMEFI",
           "source_name": "COG2",
           "target_name": "COG4"
          },
          "source": "COG2",
          "target": "COG4"
         },
         {
          "attributes": {
           "display_relation": "BIOGRID",
           "source_name": "COG2",
           "target_name": "COG2"
          },
          "source": "COG2",
          "target": "COG2"
         },
         {
          "attributes": {
           "display_relation": "crispr",
           "source_name": "COG2",
           "target_name": "IAV"
          },
          "source": "COG2",
          "target": "IAV"
         },
         {
          "attributes": {
           "display_relation": "crispr",
           "source_name": "COG2",
           "target_name": "PIV3"
          },
          "source": "COG2",
          "target": "PIV3"
         },
         {
          "attributes": {
           "display_relation": "crispr",
           "source_name": "COG2",
           "target_name": "RSV"
          },
          "source": "COG2",
          "target": "RSV"
         },
         {
          "attributes": {
           "display_relation": "BIOGRID",
           "source_name": "COG7",
           "target_name": "COG5"
          },
          "source": "COG7",
          "target": "COG5"
         },
         {
          "attributes": {
           "display_relation": "CORUM",
           "source_name": "COG7",
           "target_name": "COG5"
          },
          "source": "COG7",
          "target": "COG5"
         },
         {
          "attributes": {
           "display_relation": "REACTOMEFI",
           "source_name": "COG5",
           "target_name": "COG7"
          },
          "source": "COG7",
          "target": "COG5"
         },
         {
          "attributes": {
           "display_relation": "BIOGRID",
           "source_name": "COG7",
           "target_name": "COG6"
          },
          "source": "COG7",
          "target": "COG6"
         },
         {
          "attributes": {
           "display_relation": "CORUM",
           "source_name": "COG7",
           "target_name": "COG6"
          },
          "source": "COG7",
          "target": "COG6"
         },
         {
          "attributes": {
           "display_relation": "REACTOMEFI",
           "source_name": "COG6",
           "target_name": "COG7"
          },
          "source": "COG7",
          "target": "COG6"
         },
         {
          "attributes": {
           "display_relation": "BIOGRID",
           "source_name": "COG7",
           "target_name": "COG4"
          },
          "source": "COG7",
          "target": "COG4"
         },
         {
          "attributes": {
           "display_relation": "CORUM",
           "source_name": "COG7",
           "target_name": "COG4"
          },
          "source": "COG7",
          "target": "COG4"
         },
         {
          "attributes": {
           "display_relation": "REACTOMEFI",
           "source_name": "COG4",
           "target_name": "COG7"
          },
          "source": "COG7",
          "target": "COG4"
         },
         {
          "attributes": {
           "display_relation": "crispr",
           "source_name": "COG7",
           "target_name": "PIV3"
          },
          "source": "COG7",
          "target": "PIV3"
         },
         {
          "attributes": {
           "display_relation": "crispr",
           "source_name": "COG7",
           "target_name": "RSV"
          },
          "source": "COG7",
          "target": "RSV"
         },
         {
          "attributes": {
           "display_relation": "BIOGRID",
           "source_name": "COG5",
           "target_name": "COG6"
          },
          "source": "COG6",
          "target": "COG5"
         },
         {
          "attributes": {
           "display_relation": "CORUM",
           "source_name": "COG5",
           "target_name": "COG6"
          },
          "source": "COG6",
          "target": "COG5"
         },
         {
          "attributes": {
           "display_relation": "REACTOMEFI",
           "source_name": "COG5",
           "target_name": "COG6"
          },
          "source": "COG6",
          "target": "COG5"
         },
         {
          "attributes": {
           "display_relation": "BIOGRID",
           "source_name": "COG6",
           "target_name": "COG4"
          },
          "source": "COG6",
          "target": "COG4"
         },
         {
          "attributes": {
           "display_relation": "CORUM",
           "source_name": "COG4",
           "target_name": "COG6"
          },
          "source": "COG6",
          "target": "COG4"
         },
         {
          "attributes": {
           "display_relation": "REACTOMEFI",
           "source_name": "COG4",
           "target_name": "COG6"
          },
          "source": "COG6",
          "target": "COG4"
         },
         {
          "attributes": {
           "display_relation": "KimPPI",
           "source_name": "COG6",
           "target_name": "SARS-CoV-2"
          },
          "source": "COG6",
          "target": "SARS-CoV-2"
         },
         {
          "attributes": {
           "display_relation": "crispr",
           "source_name": "COG6",
           "target_name": "PIV3"
          },
          "source": "COG6",
          "target": "PIV3"
         },
         {
          "attributes": {
           "display_relation": "crispr",
           "source_name": "COG6",
           "target_name": "RSV"
          },
          "source": "COG6",
          "target": "RSV"
         },
         {
          "attributes": {
           "display_relation": "BIOGRID",
           "source_name": "COG5",
           "target_name": "COG4"
          },
          "source": "COG5",
          "target": "COG4"
         },
         {
          "attributes": {
           "display_relation": "CORUM",
           "source_name": "COG4",
           "target_name": "COG5"
          },
          "source": "COG5",
          "target": "COG4"
         },
         {
          "attributes": {
           "display_relation": "BIOGRID",
           "source_name": "COG5",
           "target_name": "COG5"
          },
          "source": "COG5",
          "target": "COG5"
         },
         {
          "attributes": {
           "display_relation": "crispr",
           "source_name": "COG5",
           "target_name": "PIV3"
          },
          "source": "COG5",
          "target": "PIV3"
         },
         {
          "attributes": {
           "display_relation": "crispr",
           "source_name": "COG5",
           "target_name": "RSV"
          },
          "source": "COG5",
          "target": "RSV"
         },
         {
          "attributes": {
           "display_relation": "crispr",
           "source_name": "COG4",
           "target_name": "PIV3"
          },
          "source": "COG4",
          "target": "PIV3"
         },
         {
          "attributes": {
           "display_relation": "crispr",
           "source_name": "COG4",
           "target_name": "RSV"
          },
          "source": "COG4",
          "target": "RSV"
         },
         {
          "attributes": {
           "display_relation": "crispr",
           "source_name": "COG4",
           "target_name": "SARS-CoV-2"
          },
          "source": "COG4",
          "target": "SARS-CoV-2"
         }
        ],
        "nodes": [
         {
          "attributes": {
           "ipysigma_kwarg_node_size": 22,
           "node_name": "COG8",
           "type": "gene/protein",
           "x": 0.15428948876230283,
           "y": 0.25273986629959766
          },
          "key": "COG8"
         },
         {
          "attributes": {
           "ipysigma_kwarg_node_size": 23,
           "node_name": "COG3",
           "type": "gene/protein",
           "x": 0.5762050567157171,
           "y": 0.8675055755423209
          },
          "key": "COG3"
         },
         {
          "attributes": {
           "ipysigma_kwarg_node_size": 23,
           "node_name": "COG2",
           "type": "gene/protein",
           "x": 0.4923045147706771,
           "y": 0.7549328770522359
          },
          "key": "COG2"
         },
         {
          "attributes": {
           "ipysigma_kwarg_node_size": 20,
           "node_name": "COG7",
           "type": "gene/protein",
           "x": 0.536310160588477,
           "y": 0.6607164922702594
          },
          "key": "COG7"
         },
         {
          "attributes": {
           "ipysigma_kwarg_node_size": 20,
           "node_name": "COG6",
           "type": "gene/protein",
           "x": 0.17898877761019927,
           "y": 0.7423470400617883
          },
          "key": "COG6"
         },
         {
          "attributes": {
           "ipysigma_kwarg_node_size": 21,
           "node_name": "COG5",
           "type": "gene/protein",
           "x": 0.7654569574501733,
           "y": 0.2409002179776765
          },
          "key": "COG5"
         },
         {
          "attributes": {
           "ipysigma_kwarg_node_size": 20,
           "node_name": "COG4",
           "type": "gene/protein",
           "x": 0.8666364121438902,
           "y": 0.3612731622048909
          },
          "key": "COG4"
         },
         {
          "attributes": {
           "ipysigma_kwarg_node_size": 4,
           "node_name": "SARS-CoV-2",
           "type": "disease",
           "x": 0.3750092524652347,
           "y": 0.43898357292952234
          },
          "key": "SARS-CoV-2"
         },
         {
          "attributes": {
           "ipysigma_kwarg_node_size": 3,
           "node_name": "IAV",
           "type": "disease",
           "x": 0.686974614630136,
           "y": 0.44860358368004677
          },
          "key": "IAV"
         },
         {
          "attributes": {
           "ipysigma_kwarg_node_size": 7,
           "node_name": "PIV3",
           "type": "disease",
           "x": 0.40559004582969205,
           "y": 0.8051142792853555
          },
          "key": "PIV3"
         },
         {
          "attributes": {
           "ipysigma_kwarg_node_size": 7,
           "node_name": "RSV",
           "type": "disease",
           "x": 0.2755987667745767,
           "y": 0.4476774839346224
          },
          "key": "RSV"
         }
        ],
        "options": {
         "multi": true,
         "type": "undirected"
        }
       },
       "edge_weight": "weight",
       "height": "500px",
       "layout": {
        "COG2": {
         "x": 0.4923045147706771,
         "y": 0.7549328770522359
        },
        "COG3": {
         "x": 0.5762050567157171,
         "y": 0.8675055755423209
        },
        "COG4": {
         "x": 0.8666364121438902,
         "y": 0.3612731622048909
        },
        "COG5": {
         "x": 0.7654569574501733,
         "y": 0.2409002179776765
        },
        "COG6": {
         "x": 0.17898877761019927,
         "y": 0.7423470400617883
        },
        "COG7": {
         "x": 0.536310160588477,
         "y": 0.6607164922702594
        },
        "COG8": {
         "x": 0.15428948876230283,
         "y": 0.25273986629959766
        },
        "IAV": {
         "x": 0.686974614630136,
         "y": 0.44860358368004677
        },
        "PIV3": {
         "x": 0.40559004582969205,
         "y": 0.8051142792853555
        },
        "RSV": {
         "x": 0.2755987667745767,
         "y": 0.4476774839346224
        },
        "SARS-CoV-2": {
         "x": 0.3750092524652347,
         "y": 0.43898357292952234
        }
       },
       "layout_settings": null,
       "max_categorical_colors": 10,
       "name": null,
       "node_metrics": {},
       "program_settings": {},
       "renderer_settings": {
        "defaultEdgeType": "rectangle",
        "defaultNodeType": "point",
        "enableEdgeClickEvents": false,
        "enableEdgeHoverEvents": false,
        "hideEdgesOnMove": false,
        "labelDensity": 1,
        "labelFont": "sans-serif",
        "labelGridCellSize": 250,
        "renderEdgeLabels": true,
        "zIndex": true
       },
       "selected_edge": null,
       "selected_edge_category_values": null,
       "selected_node": null,
       "selected_node_category_values": null,
       "start_layout_for_seconds": null,
       "sync_key": null,
       "sync_targets": [
        "layout",
        "hover",
        "camera",
        "selection"
       ],
       "ui_settings": {
        "hideInfoPanel": false,
        "hideSearch": false
       },
       "visual_variables": {
        "edgeColor": {
         "attribute": "color",
         "default": "#ccc",
         "type": "raw"
        },
        "edgeCurveness": {
         "default": 0.25,
         "type": "constant"
        },
        "edgeLabel": {
         "attribute": "label",
         "default": null,
         "type": "raw"
        },
        "edgeSize": {
         "attribute": "size",
         "default": 0.5,
         "range": [
          0.5,
          10
         ],
         "type": "continuous"
        },
        "nodeBorderColor": {
         "default": null,
         "type": "disabled"
        },
        "nodeBorderRatio": {
         "default": null,
         "type": "disabled"
        },
        "nodeBorderSize": {
         "default": 1,
         "type": "constant"
        },
        "nodeColor": {
         "attribute": "type",
         "default": "#999",
         "type": "category"
        },
        "nodeColorSaturation": {
         "default": null,
         "type": "disabled"
        },
        "nodeHaloColor": {
         "default": "red",
         "type": "constant"
        },
        "nodeHaloSize": {
         "default": null,
         "type": "disabled"
        },
        "nodeLabel": {
         "attribute": "label",
         "default": null,
         "type": "raw"
        },
        "nodeLabelColor": {
         "default": "#000",
         "type": "constant"
        },
        "nodeLabelSize": {
         "default": 12,
         "type": "constant"
        },
        "nodePictogram": {
         "default": null,
         "type": "disabled"
        },
        "nodePictogramColor": {
         "default": "#000",
         "type": "constant"
        },
        "nodeShape": {
         "default": null,
         "type": "disabled"
        },
        "nodeSize": {
         "attribute": "ipysigma_kwarg_node_size",
         "default": 3,
         "range": [
          3,
          15
         ],
         "type": "continuous"
        }
       }
      }
     },
     "c27a149bdd0b4ff1accc015d22c9ae9a": {
      "model_module": "jupyter-cytoscape",
      "model_module_version": "^1.3.3",
      "model_name": "EdgeModel",
      "state": {
       "_model_module_version": "^1.3.3",
       "_view_module_version": "^1.3.3",
       "classes": " multiple_edges ",
       "data": {
        "display_relation": "KroganCovHuPPI",
        "id": "54c2d70d-11d9-474a-ae73-aadea4873dca",
        "source": "SARS-CoV-2",
        "source_name": "OSTC",
        "target": "OSTC",
        "target_name": "SARS-CoV-2"
       },
       "selectable": false
      }
     },
     "c32533cc8c3d443d8177d73d05269642": {
      "model_module": "jupyter-cytoscape",
      "model_module_version": "^1.3.3",
      "model_name": "EdgeModel",
      "state": {
       "_model_module_version": "^1.3.3",
       "_view_module_version": "^1.3.3",
       "classes": " multiple_edges ",
       "data": {
        "display_relation": "KimPPI",
        "id": "7961e045-7c5b-49f1-83d4-470df1c74af4",
        "source": "TMEM258",
        "source_name": "TMEM258",
        "target": "SARS-CoV-2",
        "target_name": "SARS-CoV-2"
       },
       "selectable": false
      }
     },
     "c383a1b8ed8a4a1a96e98ca68f3b28e3": {
      "model_module": "jupyter-cytoscape",
      "model_module_version": "^1.3.3",
      "model_name": "EdgeModel",
      "state": {
       "_model_module_version": "^1.3.3",
       "_view_module_version": "^1.3.3",
       "classes": " multiple_edges ",
       "data": {
        "display_relation": "KroganCovHuPPI",
        "id": "d14c4584-f74c-4ace-a289-70dd1fc275cc",
        "source": "DDOST",
        "source_name": "DDOST",
        "target": "SARS-CoV-2",
        "target_name": "SARS-CoV-2"
       },
       "selectable": false
      }
     },
     "c3a6f16f002f466c94d13c8c1418639a": {
      "model_module": "jupyter-cytoscape",
      "model_module_version": "^1.3.3",
      "model_name": "EdgeModel",
      "state": {
       "_model_module_version": "^1.3.3",
       "_view_module_version": "^1.3.3",
       "classes": " multiple_edges ",
       "data": {
        "display_relation": "CORUM",
        "id": "96b38c0f-2c5b-46f0-a54c-da66e86cdc80",
        "source": "STT3A",
        "source_name": "STT3A",
        "target": "MAGT1",
        "target_name": "MAGT1"
       },
       "selectable": false
      }
     },
     "c3fa7cf3e2b94e8c97120d55f65b1413": {
      "model_module": "jupyter-cytoscape",
      "model_module_version": "^1.3.3",
      "model_name": "NodeModel",
      "state": {
       "_model_module_version": "^1.3.3",
       "_view_module_version": "^1.3.3",
       "data": {
        "id": "MERS-CoV",
        "node_name": "MERS-CoV",
        "type": "disease"
       },
       "grabbable": true,
       "grabbed": false,
       "position": {
        "x": 575.5324704645332,
        "y": 97.88954886731666
       },
       "selectable": false
      }
     },
     "c5684845e8504647b55dd1f5ce30e587": {
      "model_module": "jupyter-cytoscape",
      "model_module_version": "^1.3.3",
      "model_name": "EdgeModel",
      "state": {
       "_model_module_version": "^1.3.3",
       "_view_module_version": "^1.3.3",
       "classes": " multiple_edges ",
       "data": {
        "display_relation": "crispr",
        "id": "c6c4194f-115d-47d8-b1b9-709fe2c6e0af",
        "source": "STT3A",
        "source_name": "STT3A",
        "target": "HRV",
        "target_name": "HRV"
       },
       "selectable": false
      }
     },
     "c57407bd71524288a81cf5a682ccac34": {
      "model_module": "jupyter-cytoscape",
      "model_module_version": "^1.3.3",
      "model_name": "EdgeModel",
      "state": {
       "_model_module_version": "^1.3.3",
       "_view_module_version": "^1.3.3",
       "classes": " multiple_edges ",
       "data": {
        "display_relation": "CORUM",
        "id": "550ca4de-b4eb-4c7a-8cc2-caeed8363e9e",
        "source": "RPN2",
        "source_name": "RPN2",
        "target": "STT3A",
        "target_name": "STT3A"
       },
       "selectable": false
      }
     },
     "c70ec4bddd0f4670beacd2504cf6246c": {
      "model_module": "jupyter-cytoscape",
      "model_module_version": "^1.3.3",
      "model_name": "NodeModel",
      "state": {
       "_model_module_version": "^1.3.3",
       "_view_module_version": "^1.3.3",
       "data": {
        "id": "RPN2",
        "node_name": "RPN2",
        "type": "gene/protein"
       },
       "grabbable": true,
       "grabbed": false,
       "position": {
        "x": 434.4302350037821,
        "y": 181.3319429577626
       },
       "selectable": false
      }
     },
     "c725971ea74044faae3ba897a9d74b02": {
      "model_module": "jupyter-cytoscape",
      "model_module_version": "^1.3.3",
      "model_name": "EdgeModel",
      "state": {
       "_model_module_version": "^1.3.3",
       "_view_module_version": "^1.3.3",
       "classes": " multiple_edges ",
       "data": {
        "display_relation": "CORUM",
        "id": "7bf0b18c-9d28-49ed-a9b8-34d30fd228a0",
        "source": "STT3B",
        "source_name": "STT3B",
        "target": "MAGT1",
        "target_name": "MAGT1"
       },
       "selectable": false
      }
     },
     "c8a4d3cb61de43a0b28291866055bd38": {
      "model_module": "jupyter-cytoscape",
      "model_module_version": "^1.3.3",
      "model_name": "EdgeModel",
      "state": {
       "_model_module_version": "^1.3.3",
       "_view_module_version": "^1.3.3",
       "classes": " multiple_edges ",
       "data": {
        "display_relation": "BIOGRID",
        "id": "18a4c4fa-4271-4fe4-866f-b2936a1f84ec",
        "source": "RPN1",
        "source_name": "RPN1",
        "target": "RPN1",
        "target_name": "RPN1"
       },
       "selectable": false
      }
     },
     "c8faeac87e7449c4aa148073723add9a": {
      "model_module": "@jupyter-widgets/base",
      "model_module_version": "1.2.0",
      "model_name": "LayoutModel",
      "state": {}
     },
     "c91738d8e4804785ac373aec6db93562": {
      "model_module": "jupyter-cytoscape",
      "model_module_version": "^1.3.3",
      "model_name": "EdgeModel",
      "state": {
       "_model_module_version": "^1.3.3",
       "_view_module_version": "^1.3.3",
       "classes": " multiple_edges ",
       "data": {
        "display_relation": "REACTOMEFI",
        "id": "67f3d387-72cb-4419-8eba-9507bbad94da",
        "source": "RPN1",
        "source_name": "DAD1",
        "target": "DAD1",
        "target_name": "RPN1"
       },
       "selectable": false
      }
     },
     "c91976332c6d43368aaf99dfdcd5c5d3": {
      "model_module": "jupyter-cytoscape",
      "model_module_version": "^1.3.3",
      "model_name": "EdgeModel",
      "state": {
       "_model_module_version": "^1.3.3",
       "_view_module_version": "^1.3.3",
       "classes": " multiple_edges ",
       "data": {
        "display_relation": "crispr",
        "id": "0bd2e754-105e-45dd-a7f2-3ca015414990",
        "source": "RPN2",
        "source_name": "RPN2",
        "target": "IAV",
        "target_name": "IAV"
       },
       "selectable": false
      }
     },
     "c92d99517c534098818413dde4497fe1": {
      "model_module": "jupyter-cytoscape",
      "model_module_version": "^1.3.3",
      "model_name": "NodeModel",
      "state": {
       "_model_module_version": "^1.3.3",
       "_view_module_version": "^1.3.3",
       "data": {
        "id": "STT3A",
        "node_name": "STT3A",
        "type": "gene/protein"
       },
       "grabbable": true,
       "grabbed": false,
       "position": {
        "x": 387.19661685368715,
        "y": 303.6216287694422
       },
       "selectable": false
      }
     },
     "c9bba4796bb74e4398ac5f27362c158d": {
      "model_module": "jupyter-cytoscape",
      "model_module_version": "^1.3.3",
      "model_name": "EdgeModel",
      "state": {
       "_model_module_version": "^1.3.3",
       "_view_module_version": "^1.3.3",
       "classes": " multiple_edges ",
       "data": {
        "display_relation": "CORUM",
        "id": "82162533-0b62-4447-9f2c-0719f374efb7",
        "source": "RPN2",
        "source_name": "RPN2",
        "target": "DDOST",
        "target_name": "DDOST"
       },
       "selectable": false
      }
     },
     "ca30f63cf89a48dfb7b875f414fbbc18": {
      "model_module": "jupyter-cytoscape",
      "model_module_version": "^1.3.3",
      "model_name": "EdgeModel",
      "state": {
       "_model_module_version": "^1.3.3",
       "_view_module_version": "^1.3.3",
       "classes": " multiple_edges ",
       "data": {
        "display_relation": "CORUM",
        "id": "733f68d5-a163-4da3-b099-41e3c7795445",
        "source": "RPN2",
        "source_name": "RPN2",
        "target": "MAGT1",
        "target_name": "MAGT1"
       },
       "selectable": false
      }
     },
     "cb75cb0778834fd482060977189e08d9": {
      "model_module": "jupyter-cytoscape",
      "model_module_version": "^1.3.3",
      "model_name": "EdgeModel",
      "state": {
       "_model_module_version": "^1.3.3",
       "_view_module_version": "^1.3.3",
       "classes": " multiple_edges ",
       "data": {
        "display_relation": "CORUM",
        "id": "40d9864a-c39c-441f-9b76-63437489bae1",
        "source": "STT3B",
        "source_name": "STT3B",
        "target": "MAGT1",
        "target_name": "MAGT1"
       },
       "selectable": false
      }
     },
     "cbcf635cc7004d7ebbd3e05c4c13da56": {
      "model_module": "jupyter-cytoscape",
      "model_module_version": "^1.3.3",
      "model_name": "EdgeModel",
      "state": {
       "_model_module_version": "^1.3.3",
       "_view_module_version": "^1.3.3",
       "classes": " multiple_edges ",
       "data": {
        "display_relation": "KroganCovHuPPI",
        "id": "ac8d1dc2-65b3-4b3f-bf63-9559d7f1816f",
        "source": "MAGT1",
        "source_name": "MAGT1",
        "target": "SARS-CoV-2",
        "target_name": "SARS-CoV-2"
       },
       "selectable": false
      }
     },
     "ccd897dd66aa49e2919e710fbf781607": {
      "model_module": "jupyter-cytoscape",
      "model_module_version": "^1.3.3",
      "model_name": "EdgeModel",
      "state": {
       "_model_module_version": "^1.3.3",
       "_view_module_version": "^1.3.3",
       "classes": " multiple_edges ",
       "data": {
        "display_relation": "CORUM",
        "id": "fadd5e23-6a69-4da9-b9dc-3768fccfbe3f",
        "source": "RPN1",
        "source_name": "RPN1",
        "target": "STT3B",
        "target_name": "STT3B"
       },
       "selectable": false
      }
     },
     "cd591216e71f4b678865ab1a533972c8": {
      "model_module": "jupyter-cytoscape",
      "model_module_version": "^1.3.3",
      "model_name": "EdgeModel",
      "state": {
       "_model_module_version": "^1.3.3",
       "_view_module_version": "^1.3.3",
       "classes": " multiple_edges ",
       "data": {
        "display_relation": "BIOGRID",
        "id": "e27cb8e9-5d77-4dcd-aa27-0d44242e5c3b",
        "source": "RPN2",
        "source_name": "TMEM258",
        "target": "TMEM258",
        "target_name": "RPN2"
       },
       "selectable": false
      }
     },
     "cd87bbd503ca4046bb25cab8c41a3a3e": {
      "model_module": "ipysigma",
      "model_module_version": "^0.24.2",
      "model_name": "SigmaModel",
      "state": {
       "_model_module_version": "^0.24.2",
       "_view_module_version": "^0.24.2",
       "background_color": "white",
       "camera_state": {
        "angle": 0,
        "ratio": 1,
        "x": 0.5,
        "y": 0.5
       },
       "clickable_edges": false,
       "data": {
        "edges": [
         {
          "attributes": {
           "display_relation": "crispr",
           "source_name": "DHPS",
           "target_name": "HRV"
          },
          "source": "DHPS",
          "target": "HRV"
         },
         {
          "attributes": {
           "display_relation": "crispr",
           "source_name": "DHPS",
           "target_name": "SARS-CoV-2"
          },
          "source": "DHPS",
          "target": "SARS-CoV-2"
         },
         {
          "attributes": {
           "display_relation": "crispr",
           "source_name": "DOHH",
           "target_name": "SARS-CoV-2"
          },
          "source": "SARS-CoV-2",
          "target": "DOHH"
         },
         {
          "attributes": {
           "display_relation": "crispr",
           "source_name": "DOHH",
           "target_name": "PIV3"
          },
          "source": "DOHH",
          "target": "PIV3"
         }
        ],
        "nodes": [
         {
          "attributes": {
           "ipysigma_kwarg_node_size": 2,
           "node_name": "DHPS",
           "type": "gene/protein",
           "x": 0.15428948876230283,
           "y": 0.25273986629959766
          },
          "key": "DHPS"
         },
         {
          "attributes": {
           "ipysigma_kwarg_node_size": 1,
           "node_name": "HRV",
           "type": "disease",
           "x": 0.5762050567157171,
           "y": 0.8675055755423209
          },
          "key": "HRV"
         },
         {
          "attributes": {
           "ipysigma_kwarg_node_size": 2,
           "node_name": "SARS-CoV-2",
           "type": "disease",
           "x": 0.4923045147706771,
           "y": 0.7549328770522359
          },
          "key": "SARS-CoV-2"
         },
         {
          "attributes": {
           "ipysigma_kwarg_node_size": 2,
           "node_name": "DOHH",
           "type": "gene/protein",
           "x": 0.536310160588477,
           "y": 0.6607164922702594
          },
          "key": "DOHH"
         },
         {
          "attributes": {
           "ipysigma_kwarg_node_size": 1,
           "node_name": "PIV3",
           "type": "disease",
           "x": 0.17898877761019927,
           "y": 0.7423470400617883
          },
          "key": "PIV3"
         }
        ],
        "options": {
         "multi": true,
         "type": "undirected"
        }
       },
       "edge_weight": "weight",
       "height": "500px",
       "layout": {
        "DHPS": {
         "x": 0.15428948876230283,
         "y": 0.25273986629959766
        },
        "DOHH": {
         "x": 0.536310160588477,
         "y": 0.6607164922702594
        },
        "HRV": {
         "x": 0.5762050567157171,
         "y": 0.8675055755423209
        },
        "PIV3": {
         "x": 0.17898877761019927,
         "y": 0.7423470400617883
        },
        "SARS-CoV-2": {
         "x": 0.4923045147706771,
         "y": 0.7549328770522359
        }
       },
       "layout_settings": null,
       "max_categorical_colors": 10,
       "name": null,
       "node_metrics": {},
       "program_settings": {},
       "renderer_settings": {
        "defaultEdgeType": "rectangle",
        "defaultNodeType": "point",
        "enableEdgeClickEvents": false,
        "enableEdgeHoverEvents": false,
        "hideEdgesOnMove": false,
        "labelDensity": 1,
        "labelFont": "sans-serif",
        "labelGridCellSize": 250,
        "renderEdgeLabels": true,
        "zIndex": true
       },
       "selected_edge": null,
       "selected_edge_category_values": null,
       "selected_node": null,
       "selected_node_category_values": null,
       "start_layout_for_seconds": null,
       "sync_key": null,
       "sync_targets": [
        "layout",
        "hover",
        "camera",
        "selection"
       ],
       "ui_settings": {
        "hideInfoPanel": false,
        "hideSearch": false
       },
       "visual_variables": {
        "edgeColor": {
         "attribute": "color",
         "default": "#ccc",
         "type": "raw"
        },
        "edgeCurveness": {
         "default": 0.25,
         "type": "constant"
        },
        "edgeLabel": {
         "attribute": "label",
         "default": null,
         "type": "raw"
        },
        "edgeSize": {
         "attribute": "size",
         "default": 0.5,
         "range": [
          0.5,
          10
         ],
         "type": "continuous"
        },
        "nodeBorderColor": {
         "default": null,
         "type": "disabled"
        },
        "nodeBorderRatio": {
         "default": null,
         "type": "disabled"
        },
        "nodeBorderSize": {
         "default": 1,
         "type": "constant"
        },
        "nodeColor": {
         "attribute": "type",
         "default": "#999",
         "type": "category"
        },
        "nodeColorSaturation": {
         "default": null,
         "type": "disabled"
        },
        "nodeHaloColor": {
         "default": "red",
         "type": "constant"
        },
        "nodeHaloSize": {
         "default": null,
         "type": "disabled"
        },
        "nodeLabel": {
         "attribute": "label",
         "default": null,
         "type": "raw"
        },
        "nodeLabelColor": {
         "default": "#000",
         "type": "constant"
        },
        "nodeLabelSize": {
         "default": 12,
         "type": "constant"
        },
        "nodePictogram": {
         "default": null,
         "type": "disabled"
        },
        "nodePictogramColor": {
         "default": "#000",
         "type": "constant"
        },
        "nodeShape": {
         "default": null,
         "type": "disabled"
        },
        "nodeSize": {
         "attribute": "ipysigma_kwarg_node_size",
         "default": 3,
         "range": [
          3,
          15
         ],
         "type": "continuous"
        }
       }
      }
     },
     "cda62a84465d4271ad3421a6ba30dd77": {
      "model_module": "jupyter-cytoscape",
      "model_module_version": "^1.3.3",
      "model_name": "GraphModel",
      "state": {
       "_adj": {},
       "_model_module_version": "^1.3.3",
       "_view_module": "jupyter-cytoscape",
       "_view_module_version": "^1.3.3"
      }
     },
     "cf0a8ec6d73647a3ac4556eb1ace7e78": {
      "model_module": "jupyter-cytoscape",
      "model_module_version": "^1.3.3",
      "model_name": "EdgeModel",
      "state": {
       "_model_module_version": "^1.3.3",
       "_view_module_version": "^1.3.3",
       "classes": " multiple_edges ",
       "data": {
        "display_relation": "CORUM",
        "id": "3701b78b-dbee-4f51-ad28-3bf30f1ff12a",
        "source": "RPN1",
        "source_name": "RPN1",
        "target": "RPN2",
        "target_name": "RPN2"
       },
       "selectable": false
      }
     },
     "d0b9a2a41adb40b9aff459869e8a445d": {
      "model_module": "jupyter-cytoscape",
      "model_module_version": "^1.3.3",
      "model_name": "EdgeModel",
      "state": {
       "_model_module_version": "^1.3.3",
       "_view_module_version": "^1.3.3",
       "classes": " multiple_edges ",
       "data": {
        "display_relation": "REACTOMEFI",
        "id": "8b7dba6d-7c9a-47fd-b9a1-236955e48331",
        "source": "DAD1",
        "source_name": "DAD1",
        "target": "MAGT1",
        "target_name": "MAGT1"
       },
       "selectable": false
      }
     },
     "d0bfca0f5eaa4cd0827cf8458b79c420": {
      "model_module": "jupyter-cytoscape",
      "model_module_version": "^1.3.3",
      "model_name": "EdgeModel",
      "state": {
       "_model_module_version": "^1.3.3",
       "_view_module_version": "^1.3.3",
       "classes": " multiple_edges ",
       "data": {
        "display_relation": "crispr",
        "id": "8da63e5b-6c88-4e4f-9157-a908127fa925",
        "source": "OSTC",
        "source_name": "OSTC",
        "target": "HRV",
        "target_name": "HRV"
       },
       "selectable": false
      }
     },
     "d139a11a02db4369afab076b1104dd22": {
      "model_module": "jupyter-cytoscape",
      "model_module_version": "^1.3.3",
      "model_name": "EdgeModel",
      "state": {
       "_model_module_version": "^1.3.3",
       "_view_module_version": "^1.3.3",
       "classes": " multiple_edges ",
       "data": {
        "display_relation": "crispr",
        "id": "04a0b241-1423-4d05-997a-a9e09fe17135",
        "source": "STT3A",
        "source_name": "STT3A",
        "target": "PIV3",
        "target_name": "PIV3"
       },
       "selectable": false
      }
     },
     "d301d751764c45a883802ec068380f3c": {
      "model_module": "jupyter-cytoscape",
      "model_module_version": "^1.3.3",
      "model_name": "EdgeModel",
      "state": {
       "_model_module_version": "^1.3.3",
       "_view_module_version": "^1.3.3",
       "classes": " multiple_edges ",
       "data": {
        "display_relation": "REACTOMEFI",
        "id": "9dd033b5-7969-4c05-b80f-ae8b1e5f6e43",
        "source": "RPN2",
        "source_name": "DAD1",
        "target": "DAD1",
        "target_name": "RPN2"
       },
       "selectable": false
      }
     },
     "d400a49c2cf04b289ee43edb6c7a542a": {
      "model_module": "jupyter-cytoscape",
      "model_module_version": "^1.3.3",
      "model_name": "EdgeModel",
      "state": {
       "_model_module_version": "^1.3.3",
       "_view_module_version": "^1.3.3",
       "classes": " multiple_edges ",
       "data": {
        "display_relation": "CORUM",
        "id": "7d2f856a-3b41-4cc0-bb95-e100adbc0fe3",
        "source": "RPN1",
        "source_name": "RPN1",
        "target": "RPN2",
        "target_name": "RPN2"
       },
       "selectable": false
      }
     },
     "d60dfb09d8b74fb6b41c8bffac413c30": {
      "model_module": "jupyter-cytoscape",
      "model_module_version": "^1.3.3",
      "model_name": "EdgeModel",
      "state": {
       "_model_module_version": "^1.3.3",
       "_view_module_version": "^1.3.3",
       "classes": " multiple_edges ",
       "data": {
        "display_relation": "KroganIAV",
        "id": "03540227-945f-46bf-9b58-ff6a4ff5ee31",
        "source": "RPN2",
        "source_name": "IAV",
        "target": "IAV",
        "target_name": "RPN2"
       },
       "selectable": false
      }
     },
     "d7381c650d5b4a1489e39ede818fb62a": {
      "model_module": "jupyter-cytoscape",
      "model_module_version": "^1.3.3",
      "model_name": "EdgeModel",
      "state": {
       "_model_module_version": "^1.3.3",
       "_view_module_version": "^1.3.3",
       "classes": " multiple_edges ",
       "data": {
        "display_relation": "KroganIAV",
        "id": "d52f8ee7-174f-4c32-ac19-1d598acab7b3",
        "source": "RPN2",
        "source_name": "IAV",
        "target": "IAV",
        "target_name": "RPN2"
       },
       "selectable": false
      }
     },
     "d74b0e31fd4942b19a1b2c2c5740cbd7": {
      "model_module": "jupyter-cytoscape",
      "model_module_version": "^1.3.3",
      "model_name": "EdgeModel",
      "state": {
       "_model_module_version": "^1.3.3",
       "_view_module_version": "^1.3.3",
       "classes": " multiple_edges ",
       "data": {
        "display_relation": "REACTOMEFI",
        "id": "8a9dc600-5acc-4f8b-8dec-5a0274d98ac5",
        "source": "RPN1",
        "source_name": "RPN1",
        "target": "STT3A",
        "target_name": "STT3A"
       },
       "selectable": false
      }
     },
     "d79b27a70aa74b36a2f0665bcee6e5aa": {
      "model_module": "jupyter-cytoscape",
      "model_module_version": "^1.3.3",
      "model_name": "CytoscapeModel",
      "state": {
       "_interaction_handlers": {},
       "_model_module_version": "^1.3.3",
       "_view_module_version": "^1.3.3",
       "auto_ungrabify": false,
       "autolock": false,
       "cytoscape_layout": {
        "name": "cola"
       },
       "cytoscape_style": [
        {
         "selector": "node",
         "style": {
          "border-color": "black",
          "border-width": "3px",
          "font-family": "helvetica",
          "font-size": "15px",
          "label": "data(node_name)",
          "text-halign": "center",
          "text-valign": "top"
         }
        },
        {
         "css": {
          "background-color": "rgba(0, 0, 0, 0.25)"
         },
         "selector": "node[type = \"disease\"]"
        },
        {
         "css": {
          "background-color": "rgba(255, 255, 255, 0.5)"
         },
         "selector": "node[type = \"gene/protein\"]"
        },
        {
         "css": {
          "background-color": "orangered",
          "font-size": "10px"
         },
         "selector": "node[type = \"biological_process\"]"
        },
        {
         "css": {
          "background-color": "limegreen",
          "font-size": "10px"
         },
         "selector": "node[type = \"cellular/component\"]"
        },
        {
         "css": {
          "background-color": "tan",
          "font-size": "10px"
         },
         "selector": "node[type = \"molecular_function\"]"
        },
        {
         "css": {
          "background-color": "rgba(255, 165, 0, 0.25)",
          "font-size": "10px"
         },
         "selector": "node[type = \"drug\"]"
        },
        {
         "selector": "edge[display_relation = \"crispr\"]",
         "style": {
          "background-color": "rgba(0, 37, 47, 0.5)",
          "line-color": "rgba(0, 37, 47, 0.5)"
         }
        },
        {
         "css": {
          "background-color": "rgba(85, 128, 170, 0.5)",
          "line-color": "rgba(85, 128, 170, 0.5)"
         },
         "selector": "edge[display_relation = \"KroganCovHuPPI\"]"
        },
        {
         "css": {
          "background-color": "rgba(85, 128, 170, 0.5)",
          "line-color": "rgba(85, 128, 170, 0.5)"
         },
         "selector": "edge[display_relation = \"KroganIAV\"]"
        },
        {
         "css": {
          "background-color": "rgba(85, 128, 170, 0.5)",
          "line-color": "rgba(85, 128, 170, 0.5)"
         },
         "selector": "edge[display_relation = \"KroganIBV\"]"
        },
        {
         "css": {
          "background-color": "rgba(85, 85, 170, 0.5)",
          "line-color": "rgba(85, 85, 170, 0.5)"
         },
         "selector": "edge[display_relation = \"REACTOMEFI\"]"
        },
        {
         "css": {
          "background-color": "rgba(170, 170, 85, 0.5)",
          "line-color": "rgba(170, 170, 85, 0.5)"
         },
         "selector": "edge[display_relation = \"CORUM\"]"
        },
        {
         "css": {
          "background-color": "rgba(85, 170, 170, 0.5)",
          "line-color": "rgba(85, 170, 170, 0.5)"
         },
         "selector": "edge[display_relation = \"GEPanelAppCoV\"]"
        },
        {
         "css": {
          "background-color": "rgba(170, 106, 85, 0.5)",
          "line-color": "rgba(170, 106, 85, 0.5)"
         },
         "selector": "edge[display_relation = \"BIOGRID\"]"
        }
       ],
       "desktop_tap_threshold": 4,
       "graph": "IPY_MODEL_f46e7a21c5db47708305104fae33d059",
       "headless": false,
       "hide_edges_on_viewport": false,
       "layout": "IPY_MODEL_59f33f70a0cd4965b290e860d2d41d79",
       "max_zoom": 1e+50,
       "min_zoom": 1e-50,
       "motion_blur": false,
       "motion_blur_opacity": 0.2,
       "panning_enabled": true,
       "pixel_ratio": "auto",
       "rendered_position": {
        "renderedPosition": {
         "x": 100,
         "y": 100
        }
       },
       "selection_type": "single",
       "style_enabled": true,
       "texture_on_viewport": false,
       "tooltip_source": "tooltip",
       "touch_tap_threshold": 8,
       "user_panning_enabled": true,
       "user_zooming_enabled": true,
       "wheel_sensitivity": 1,
       "zoom": 2,
       "zooming_enabled": true
      }
     },
     "d849c1b3061f444986bd3826c33013e9": {
      "model_module": "jupyter-cytoscape",
      "model_module_version": "^1.3.3",
      "model_name": "EdgeModel",
      "state": {
       "_model_module_version": "^1.3.3",
       "_view_module_version": "^1.3.3",
       "classes": " multiple_edges ",
       "data": {
        "display_relation": "KroganIAV",
        "id": "6faa1522-56fa-43d9-a74c-09732a9e72ff",
        "source": "RPN1",
        "source_name": "RPN1",
        "target": "RPN2",
        "target_name": "RPN2"
       },
       "selectable": false
      }
     },
     "d89f233f5b3a4245a3c68054cace4aff": {
      "model_module": "jupyter-cytoscape",
      "model_module_version": "^1.3.3",
      "model_name": "NodeModel",
      "state": {
       "_model_module_version": "^1.3.3",
       "_view_module_version": "^1.3.3",
       "data": {
        "id": "PIV3",
        "node_name": "PIV3",
        "type": "disease"
       },
       "grabbable": true,
       "grabbed": false,
       "position": {
        "x": 397.6035633101864,
        "y": 366.225227481356
       },
       "selectable": false
      }
     },
     "d9f47112ea1e4e94b650c0325ddfc380": {
      "model_module": "jupyter-cytoscape",
      "model_module_version": "^1.3.3",
      "model_name": "EdgeModel",
      "state": {
       "_model_module_version": "^1.3.3",
       "_view_module_version": "^1.3.3",
       "classes": " multiple_edges ",
       "data": {
        "display_relation": "CORUM",
        "id": "71a66339-39fe-40be-a8e1-a582db27b249",
        "source": "STT3B",
        "source_name": "DDOST",
        "target": "DDOST",
        "target_name": "STT3B"
       },
       "selectable": false
      }
     },
     "da5d1aa9c6d749bb837c12fbefa3e997": {
      "model_module": "jupyter-cytoscape",
      "model_module_version": "^1.3.3",
      "model_name": "EdgeModel",
      "state": {
       "_model_module_version": "^1.3.3",
       "_view_module_version": "^1.3.3",
       "classes": " multiple_edges ",
       "data": {
        "display_relation": "KroganCovHuPPI",
        "id": "0180fd67-2690-4138-8a49-d7d003bae90c",
        "source": "DAD1",
        "source_name": "DAD1",
        "target": "SARS-CoV-2",
        "target_name": "SARS-CoV-2"
       },
       "selectable": false
      }
     },
     "da79beae962e450fbacdb33949a9fdba": {
      "model_module": "jupyter-cytoscape",
      "model_module_version": "^1.3.3",
      "model_name": "EdgeModel",
      "state": {
       "_model_module_version": "^1.3.3",
       "_view_module_version": "^1.3.3",
       "classes": " multiple_edges ",
       "data": {
        "display_relation": "crispr",
        "id": "23c5ec37-2239-44fa-b4bc-5135545e1719",
        "source": "RPN2",
        "source_name": "RPN2",
        "target": "PIV3",
        "target_name": "PIV3"
       },
       "selectable": false
      }
     },
     "db2f29acdf5147b0be1e4b1a549a016d": {
      "model_module": "jupyter-cytoscape",
      "model_module_version": "^1.3.3",
      "model_name": "EdgeModel",
      "state": {
       "_model_module_version": "^1.3.3",
       "_view_module_version": "^1.3.3",
       "classes": " multiple_edges ",
       "data": {
        "display_relation": "REACTOMEFI",
        "id": "93865604-c9c0-472d-84c6-23fdaf23f6a6",
        "source": "RPN2",
        "source_name": "RPN2",
        "target": "STT3A",
        "target_name": "STT3A"
       },
       "selectable": false
      }
     },
     "db64d12475204cfe9a861ab76e2f0587": {
      "model_module": "jupyter-cytoscape",
      "model_module_version": "^1.3.3",
      "model_name": "EdgeModel",
      "state": {
       "_model_module_version": "^1.3.3",
       "_view_module_version": "^1.3.3",
       "classes": " multiple_edges ",
       "data": {
        "display_relation": "GEPanelAppCoV",
        "id": "04111bfa-a26d-4883-a282-932e23601997",
        "source": "MAGT1",
        "source_name": "MAGT1",
        "target": "SARS-CoV-2",
        "target_name": "SARS-CoV-2"
       },
       "selectable": false
      }
     },
     "dbcf9c2fc25a4e3e9913478fd5e09733": {
      "model_module": "jupyter-cytoscape",
      "model_module_version": "^1.3.3",
      "model_name": "EdgeModel",
      "state": {
       "_model_module_version": "^1.3.3",
       "_view_module_version": "^1.3.3",
       "classes": " multiple_edges ",
       "data": {
        "display_relation": "BIOGRID",
        "id": "4ee1168b-6bdd-4f3c-a154-79bc05bd254b",
        "source": "RPN1",
        "source_name": "TMEM258",
        "target": "TMEM258",
        "target_name": "RPN1"
       },
       "selectable": false
      }
     },
     "dc417e554d5b4af3859a324f1e06591a": {
      "model_module": "jupyter-cytoscape",
      "model_module_version": "^1.3.3",
      "model_name": "EdgeModel",
      "state": {
       "_model_module_version": "^1.3.3",
       "_view_module_version": "^1.3.3",
       "classes": " multiple_edges ",
       "data": {
        "display_relation": "CORUM",
        "id": "2f9cbab0-8629-4315-9a81-c1694d4310a6",
        "source": "DAD1",
        "source_name": "DAD1",
        "target": "STT3B",
        "target_name": "STT3B"
       },
       "selectable": false
      }
     },
     "dd393de58057415d9a6eea86c5dea8b3": {
      "model_module": "jupyter-cytoscape",
      "model_module_version": "^1.3.3",
      "model_name": "EdgeModel",
      "state": {
       "_model_module_version": "^1.3.3",
       "_view_module_version": "^1.3.3",
       "classes": " multiple_edges ",
       "data": {
        "display_relation": "REACTOMEFI",
        "id": "33ce437e-d7e2-4483-905a-885ce489f5bf",
        "source": "STT3A",
        "source_name": "DDOST",
        "target": "DDOST",
        "target_name": "STT3A"
       },
       "selectable": false
      }
     },
     "dddd38ee5b674cafa1d949c09d695f2f": {
      "model_module": "jupyter-cytoscape",
      "model_module_version": "^1.3.3",
      "model_name": "EdgeModel",
      "state": {
       "_model_module_version": "^1.3.3",
       "_view_module_version": "^1.3.3",
       "classes": " multiple_edges ",
       "data": {
        "display_relation": "KroganCovHuPPI",
        "id": "d604b133-f9a8-48c2-bbb4-3ada3f01f8ba",
        "source": "STT3A",
        "source_name": "STT3A",
        "target": "SARS-CoV-2",
        "target_name": "SARS-CoV-2"
       },
       "selectable": false
      }
     },
     "de56c4833ee04f67bd29812aceb1a70f": {
      "model_module": "jupyter-cytoscape",
      "model_module_version": "^1.3.3",
      "model_name": "NodeModel",
      "state": {
       "_model_module_version": "^1.3.3",
       "_view_module_version": "^1.3.3",
       "data": {
        "id": "DAD1",
        "node_name": "DAD1",
        "type": "gene/protein"
       },
       "grabbable": true,
       "grabbed": false,
       "position": {
        "x": 212.29710722149696,
        "y": 203.26313256444396
       },
       "selectable": false
      }
     },
     "de6e050a66b4471a8d1c979a0f2bfe37": {
      "model_module": "jupyter-cytoscape",
      "model_module_version": "^1.3.3",
      "model_name": "NodeModel",
      "state": {
       "_model_module_version": "^1.3.3",
       "_view_module_version": "^1.3.3",
       "data": {
        "id": "RPN2",
        "node_name": "RPN2",
        "type": "gene/protein"
       },
       "grabbable": true,
       "grabbed": false,
       "position": {
        "x": 424.7292860149592,
        "y": 134.28731497936693
       },
       "selectable": false
      }
     },
     "df97ab5672ad446f93d7ec5a58b4317b": {
      "model_module": "@jupyter-widgets/base",
      "model_module_version": "1.2.0",
      "model_name": "LayoutModel",
      "state": {}
     },
     "e000e99d29bb48ffb2dcbb38cdc781e2": {
      "model_module": "jupyter-cytoscape",
      "model_module_version": "^1.3.3",
      "model_name": "EdgeModel",
      "state": {
       "_model_module_version": "^1.3.3",
       "_view_module_version": "^1.3.3",
       "classes": " multiple_edges ",
       "data": {
        "display_relation": "BIOGRID",
        "id": "8dab3514-b9ff-4e8c-8935-c84ecc2b99f2",
        "source": "STT3B",
        "source_name": "MAGT1",
        "target": "MAGT1",
        "target_name": "STT3B"
       },
       "selectable": false
      }
     },
     "e051f969b4a843dfb4751f2536b1c6eb": {
      "model_module": "jupyter-cytoscape",
      "model_module_version": "^1.3.3",
      "model_name": "NodeModel",
      "state": {
       "_model_module_version": "^1.3.3",
       "_view_module_version": "^1.3.3",
       "data": {
        "id": "RPN1",
        "node_name": "RPN1",
        "type": "gene/protein"
       },
       "grabbable": true,
       "grabbed": false,
       "position": {
        "x": 318.2971092214969,
        "y": 184.0033498430565
       },
       "selectable": false
      }
     },
     "e1b72a24be8a48c0bd16435c6f2f50d9": {
      "model_module": "jupyter-cytoscape",
      "model_module_version": "^1.3.3",
      "model_name": "GraphModel",
      "state": {
       "_adj": {
        "DAD1": {},
        "DDOST": {},
        "HRV": {},
        "IAV": {},
        "MAGT1": {},
        "MERS-CoV": {},
        "OSTC": {},
        "PIV3": {},
        "RPN1": {},
        "RPN2": {},
        "SARS-CoV-2": {},
        "STT3A": {},
        "STT3B": {},
        "TMEM258": {}
       },
       "_model_module_version": "^1.3.3",
       "_view_module": "jupyter-cytoscape",
       "_view_module_version": "^1.3.3",
       "edges": [
        "IPY_MODEL_1b0ed6326cbc46c4b0a21fc23e6b7306",
        "IPY_MODEL_4ac731a7874a446ea933692cde7af6ed",
        "IPY_MODEL_bebaaa3a1a2b43229fc6c3f2fc161d72",
        "IPY_MODEL_1e3d55c2542a4c15accaaa6ff3f3f70d",
        "IPY_MODEL_c8a4d3cb61de43a0b28291866055bd38",
        "IPY_MODEL_dbcf9c2fc25a4e3e9913478fd5e09733",
        "IPY_MODEL_79a2fd775dcf4c40afb0eca17c966a83",
        "IPY_MODEL_0b832e40ac3b46c1a089e61dc016d1a3",
        "IPY_MODEL_36459872a07a4e509c2d2de4f6ee6205",
        "IPY_MODEL_fdc21243381b40cab08b29c63be024ae",
        "IPY_MODEL_2447de87d4064a71b95bbe5a7104b403",
        "IPY_MODEL_a6c26d9598ff42a0ac9f4e57f4222a8f",
        "IPY_MODEL_616a36af08814e82a29fbaf4beb7436b",
        "IPY_MODEL_76a00dda309c4b748faeed661752a1f6",
        "IPY_MODEL_ccd897dd66aa49e2919e710fbf781607",
        "IPY_MODEL_fbaae7afc25443ccb4bd7d8d62e9ca08",
        "IPY_MODEL_a0fa178abbcd4a75aa79eb58ecb39548",
        "IPY_MODEL_6cf37a77f95d4201b2c28d6e92d601d6",
        "IPY_MODEL_bc7bba2b2ee245a18db72de54b23665c",
        "IPY_MODEL_9dcf9461b94543fd8c752c5dd6dc5f60",
        "IPY_MODEL_c9bba4796bb74e4398ac5f27362c158d",
        "IPY_MODEL_ab90ac29ef134a2a90a6a54112e0e767",
        "IPY_MODEL_74bff9c098ee4193872659e24e51349e",
        "IPY_MODEL_7b9a3a47e0b34dcaa65d7907856c1978",
        "IPY_MODEL_f29e61731fa0433facd50dde77d32b29",
        "IPY_MODEL_d301d751764c45a883802ec068380f3c",
        "IPY_MODEL_278e56707f3d4c9298684ed4edb0f5de",
        "IPY_MODEL_9eb4194e28e4430fb1db653b9d29d935",
        "IPY_MODEL_a3a235bb364a428cad40a62e73cc8705",
        "IPY_MODEL_d7381c650d5b4a1489e39ede818fb62a",
        "IPY_MODEL_9066be2c0a2c4e028d56d9141d228ff5",
        "IPY_MODEL_b03f83f706d147269c1231913e3a3cfa",
        "IPY_MODEL_e73c147dfccd411fabe05f30960e053d",
        "IPY_MODEL_3fc7c411db614f5cb7276bf74bef1265",
        "IPY_MODEL_fb4f4541e86e487cace6bd5fe81a96d5",
        "IPY_MODEL_8e028403191c45ceabf1839d79c24827",
        "IPY_MODEL_88af0ab649c44a3987fff82f9b6b9a57",
        "IPY_MODEL_4835a2f3b5144f6394ff2e14f1225114",
        "IPY_MODEL_137b76a0e8084a7eba13c59278289cc4",
        "IPY_MODEL_3b179561e2534210bf98fa89b6cc043d",
        "IPY_MODEL_da5d1aa9c6d749bb837c12fbefa3e997",
        "IPY_MODEL_68eb6302e46a443c9f747437a139a8a8",
        "IPY_MODEL_2d353b260346416dabc5c0e998751858",
        "IPY_MODEL_f9e455c4a7d74494b7afb5050412ab05",
        "IPY_MODEL_b9a2a43dd50349178d7374f485f2fa86",
        "IPY_MODEL_85546946c0d1444489bb35e8d1f83d6b",
        "IPY_MODEL_69aca34da7fd404f93a0685b9c92612c",
        "IPY_MODEL_3284182bc35b470e8ff8a838d87a663b",
        "IPY_MODEL_e704082e6d9449c48f56e048762831f3",
        "IPY_MODEL_6cc050fcb2e34a018be26265f45f9c2e",
        "IPY_MODEL_c3a6f16f002f466c94d13c8c1418639a",
        "IPY_MODEL_b20f8a0bddb14b81a4db5e87b27ceb6d",
        "IPY_MODEL_b6bdb3a5826c44439e3b99620cf66392",
        "IPY_MODEL_dddd38ee5b674cafa1d949c09d695f2f",
        "IPY_MODEL_843d725cc123446daf4eea222b4a4a07",
        "IPY_MODEL_c5684845e8504647b55dd1f5ce30e587",
        "IPY_MODEL_b7031b10141d431eb2129820e299edac",
        "IPY_MODEL_27ab8f91648649e8948c8dc1a33bb39b",
        "IPY_MODEL_5f21de8a89f440bcb7b94a9a9819307a",
        "IPY_MODEL_aa36bdf6166e484289e98ad24a9a140d",
        "IPY_MODEL_763304ac81644e26af7b66e199af8890",
        "IPY_MODEL_89ee5fec74904deeabf19e73ea3b3846",
        "IPY_MODEL_f31bc7b66ff84a9a8a929e2b4ec5d1e2",
        "IPY_MODEL_cb75cb0778834fd482060977189e08d9",
        "IPY_MODEL_f9e239b488894f8188957bff338f32fe",
        "IPY_MODEL_6b6b9063715b4627bf9869321f0a6e95",
        "IPY_MODEL_bf9467a1f42f430c8c955e10208a0ba8",
        "IPY_MODEL_0c9543915c9b4d4d9c84fd2dab064d48",
        "IPY_MODEL_7de0528b244341e1994489d7aa4c4c09"
       ],
       "nodes": [
        "IPY_MODEL_e051f969b4a843dfb4751f2536b1c6eb",
        "IPY_MODEL_9d3e01a51ab64abbad2c6d6f92125e24",
        "IPY_MODEL_de56c4833ee04f67bd29812aceb1a70f",
        "IPY_MODEL_38774f7f631648e9bec8ed4eff451233",
        "IPY_MODEL_587e96683bf04edf8d0c25781786659f",
        "IPY_MODEL_4a60e8b9d57a4629b9b76940d68bb558",
        "IPY_MODEL_4bbb25b4c8884a019065d5fed3d515e7",
        "IPY_MODEL_0f4d3b3fc9e94b01b1cfa3096a61ca1a",
        "IPY_MODEL_3023f1911bf1483784e668f2b272e679",
        "IPY_MODEL_f6fd3e985af9494f86bba46eff251e37",
        "IPY_MODEL_bbfc6c0207964d8bb3f32e44eb901af5",
        "IPY_MODEL_a15057a62c9f4789882bcfbbb6405d76",
        "IPY_MODEL_3d000c99a38441e19e7ca72a8c59fa21",
        "IPY_MODEL_03119782971b4ca5bbc9b8da5b2099b4"
       ]
      }
     },
     "e1b78f7bc3f948538961a243a922dbbc": {
      "model_module": "jupyter-cytoscape",
      "model_module_version": "^1.3.3",
      "model_name": "EdgeModel",
      "state": {
       "_model_module_version": "^1.3.3",
       "_view_module_version": "^1.3.3",
       "classes": " multiple_edges ",
       "data": {
        "display_relation": "CORUM",
        "id": "3f816af6-96ed-4337-8312-30e112e8bc73",
        "source": "RPN2",
        "source_name": "RPN2",
        "target": "DAD1",
        "target_name": "DAD1"
       },
       "selectable": false
      }
     },
     "e3d82a47c147453b93a33bdb09718856": {
      "model_module": "jupyter-cytoscape",
      "model_module_version": "^1.3.3",
      "model_name": "EdgeModel",
      "state": {
       "_model_module_version": "^1.3.3",
       "_view_module_version": "^1.3.3",
       "classes": " multiple_edges ",
       "data": {
        "display_relation": "CORUM",
        "id": "1952ef65-c9fb-4a0f-9cc5-e16abc959286",
        "source": "RPN1",
        "source_name": "RPN1",
        "target": "MAGT1",
        "target_name": "MAGT1"
       },
       "selectable": false
      }
     },
     "e42beb12af8046ffbaaab78d32e664ce": {
      "model_module": "jupyter-cytoscape",
      "model_module_version": "^1.3.3",
      "model_name": "EdgeModel",
      "state": {
       "_model_module_version": "^1.3.3",
       "_view_module_version": "^1.3.3",
       "classes": " multiple_edges ",
       "data": {
        "display_relation": "CORUM",
        "id": "a6a1a635-a2d0-4718-8a2c-7d821c08d242",
        "source": "RPN1",
        "source_name": "RPN1",
        "target": "STT3A",
        "target_name": "STT3A"
       },
       "selectable": false
      }
     },
     "e4d216e7500d499a8ba3b08aa844ee3c": {
      "model_module": "jupyter-cytoscape",
      "model_module_version": "^1.3.3",
      "model_name": "EdgeModel",
      "state": {
       "_model_module_version": "^1.3.3",
       "_view_module_version": "^1.3.3",
       "classes": " multiple_edges ",
       "data": {
        "display_relation": "REACTOMEFI",
        "id": "90680296-f7d3-4268-9997-31cba6133593",
        "source": "RPN2",
        "source_name": "DDOST",
        "target": "DDOST",
        "target_name": "RPN2"
       },
       "selectable": false
      }
     },
     "e4f9df6e0c4a4cb1ae272a64a392985a": {
      "model_module": "jupyter-cytoscape",
      "model_module_version": "^1.3.3",
      "model_name": "EdgeModel",
      "state": {
       "_model_module_version": "^1.3.3",
       "_view_module_version": "^1.3.3",
       "classes": " multiple_edges ",
       "data": {
        "display_relation": "crispr",
        "id": "5d0e965b-d551-4f44-9028-e932ab168571",
        "source": "STT3A",
        "source_name": "STT3A",
        "target": "HRV",
        "target_name": "HRV"
       },
       "selectable": false
      }
     },
     "e4fdf72788974a8b89dcc516b9459925": {
      "model_module": "jupyter-cytoscape",
      "model_module_version": "^1.3.3",
      "model_name": "EdgeModel",
      "state": {
       "_model_module_version": "^1.3.3",
       "_view_module_version": "^1.3.3",
       "classes": " multiple_edges ",
       "data": {
        "display_relation": "REACTOMEFI",
        "id": "6e209e94-4914-4783-be9d-d2348e21fc84",
        "source": "RPN2",
        "source_name": "DDOST",
        "target": "DDOST",
        "target_name": "RPN2"
       },
       "selectable": false
      }
     },
     "e50c2968f91b46fa87702f344dc533dd": {
      "model_module": "jupyter-cytoscape",
      "model_module_version": "^1.3.3",
      "model_name": "EdgeModel",
      "state": {
       "_model_module_version": "^1.3.3",
       "_view_module_version": "^1.3.3",
       "classes": " multiple_edges ",
       "data": {
        "display_relation": "paralogue",
        "id": "980cdc3d-880b-41b9-baa6-c98de2cd9d38",
        "source": "STT3A",
        "source_name": "STT3B",
        "target": "STT3B",
        "target_name": "STT3A"
       },
       "selectable": false
      }
     },
     "e549474882df4b3db81d4c2a589153a3": {
      "model_module": "jupyter-cytoscape",
      "model_module_version": "^1.3.3",
      "model_name": "EdgeModel",
      "state": {
       "_model_module_version": "^1.3.3",
       "_view_module_version": "^1.3.3",
       "classes": " multiple_edges ",
       "data": {
        "display_relation": "BIOGRID",
        "id": "c5d4b264-d38f-4f95-9876-0a33c7d7631f",
        "source": "DAD1",
        "source_name": "DAD1",
        "target": "DAD1",
        "target_name": "DAD1"
       },
       "selectable": false
      }
     },
     "e56393f6f12e4577a7d97d704db6c77b": {
      "model_module": "jupyter-cytoscape",
      "model_module_version": "^1.3.3",
      "model_name": "EdgeModel",
      "state": {
       "_model_module_version": "^1.3.3",
       "_view_module_version": "^1.3.3",
       "classes": " multiple_edges ",
       "data": {
        "display_relation": "CORUM",
        "id": "49d01769-09c7-40fb-86e1-9e2aea4187ff",
        "source": "RPN2",
        "source_name": "RPN2",
        "target": "DAD1",
        "target_name": "DAD1"
       },
       "selectable": false
      }
     },
     "e704082e6d9449c48f56e048762831f3": {
      "model_module": "jupyter-cytoscape",
      "model_module_version": "^1.3.3",
      "model_name": "EdgeModel",
      "state": {
       "_model_module_version": "^1.3.3",
       "_view_module_version": "^1.3.3",
       "classes": " multiple_edges ",
       "data": {
        "display_relation": "CORUM",
        "id": "7d073b04-da23-4d73-b73b-1b40a873df22",
        "source": "STT3A",
        "source_name": "DDOST",
        "target": "DDOST",
        "target_name": "STT3A"
       },
       "selectable": false
      }
     },
     "e73c147dfccd411fabe05f30960e053d": {
      "model_module": "jupyter-cytoscape",
      "model_module_version": "^1.3.3",
      "model_name": "EdgeModel",
      "state": {
       "_model_module_version": "^1.3.3",
       "_view_module_version": "^1.3.3",
       "classes": " multiple_edges ",
       "data": {
        "display_relation": "BIOGRID",
        "id": "17bc34cf-afee-44e3-8316-82eba57c378e",
        "source": "DAD1",
        "source_name": "TMEM258",
        "target": "TMEM258",
        "target_name": "DAD1"
       },
       "selectable": false
      }
     },
     "e74e0c37e28b48ae92878d7163cfa227": {
      "model_module": "jupyter-cytoscape",
      "model_module_version": "^1.3.3",
      "model_name": "EdgeModel",
      "state": {
       "_model_module_version": "^1.3.3",
       "_view_module_version": "^1.3.3",
       "classes": " multiple_edges ",
       "data": {
        "display_relation": "BIOGRID",
        "id": "5e553cd6-e052-4c81-9e6a-0f1e66eda718",
        "source": "OST4",
        "source_name": "OST4",
        "target": "STT3A",
        "target_name": "STT3A"
       },
       "selectable": false
      }
     },
     "e8a2a7105cb944928eadd2a0a02c57a9": {
      "model_module": "jupyter-cytoscape",
      "model_module_version": "^1.3.3",
      "model_name": "EdgeModel",
      "state": {
       "_model_module_version": "^1.3.3",
       "_view_module_version": "^1.3.3",
       "classes": " multiple_edges ",
       "data": {
        "display_relation": "BIOGRID",
        "id": "e4cbc2ac-b629-4a78-bbe2-5abaffc6c20b",
        "source": "STT3B",
        "source_name": "TMEM258",
        "target": "TMEM258",
        "target_name": "STT3B"
       },
       "selectable": false
      }
     },
     "e913018c0e484261bdd7b33c1847dfb2": {
      "model_module": "jupyter-cytoscape",
      "model_module_version": "^1.3.3",
      "model_name": "EdgeModel",
      "state": {
       "_model_module_version": "^1.3.3",
       "_view_module_version": "^1.3.3",
       "classes": " multiple_edges ",
       "data": {
        "display_relation": "CORUM",
        "id": "142199f6-f38f-4542-88a4-cda44ce814d3",
        "source": "STT3A",
        "source_name": "STT3A",
        "target": "MAGT1",
        "target_name": "MAGT1"
       },
       "selectable": false
      }
     },
     "e95c250ec071462c844d4f5fd2be2b3e": {
      "model_module": "jupyter-cytoscape",
      "model_module_version": "^1.3.3",
      "model_name": "EdgeModel",
      "state": {
       "_model_module_version": "^1.3.3",
       "_view_module_version": "^1.3.3",
       "classes": " multiple_edges ",
       "data": {
        "display_relation": "CORUM",
        "id": "b3f7e1f1-8a32-4e77-94b0-599f4900e565",
        "source": "RPN2",
        "source_name": "RPN2",
        "target": "DAD1",
        "target_name": "DAD1"
       },
       "selectable": false
      }
     },
     "e9c16732dbee4b708bb38e87dd2e7d7f": {
      "model_module": "jupyter-cytoscape",
      "model_module_version": "^1.3.3",
      "model_name": "NodeModel",
      "state": {
       "_model_module_version": "^1.3.3",
       "_view_module_version": "^1.3.3",
       "data": {
        "id": "DDOST",
        "node_name": "DDOST",
        "type": "gene/protein"
       },
       "grabbable": true,
       "grabbed": false,
       "position": {
        "x": 530.7292880149591,
        "y": 121.429932379248
       },
       "selectable": false
      }
     },
     "e9cf91bff9054e429c736e30f5f1ab45": {
      "model_module": "jupyter-cytoscape",
      "model_module_version": "^1.3.3",
      "model_name": "EdgeModel",
      "state": {
       "_model_module_version": "^1.3.3",
       "_view_module_version": "^1.3.3",
       "classes": " multiple_edges ",
       "data": {
        "display_relation": "CORUM",
        "id": "db8cc5cb-3d5e-4c83-bc4f-3d4e956e321b",
        "source": "RPN2",
        "source_name": "RPN2",
        "target": "STT3B",
        "target_name": "STT3B"
       },
       "selectable": false
      }
     },
     "ead160acaa2a4f70a1bcb1e47f018f88": {
      "model_module": "jupyter-cytoscape",
      "model_module_version": "^1.3.3",
      "model_name": "EdgeModel",
      "state": {
       "_model_module_version": "^1.3.3",
       "_view_module_version": "^1.3.3",
       "classes": " multiple_edges ",
       "data": {
        "display_relation": "KroganCovHuPPI",
        "id": "54ebce88-a86f-421a-8521-f18a40615041",
        "source": "STT3B",
        "source_name": "STT3B",
        "target": "SARS-CoV-2",
        "target_name": "SARS-CoV-2"
       },
       "selectable": false
      }
     },
     "eafdd2b90cb6469193ae0f49fc339468": {
      "model_module": "jupyter-cytoscape",
      "model_module_version": "^1.3.3",
      "model_name": "EdgeModel",
      "state": {
       "_model_module_version": "^1.3.3",
       "_view_module_version": "^1.3.3",
       "classes": " multiple_edges ",
       "data": {
        "display_relation": "KroganCovHuPPI",
        "id": "08c143f1-25f9-42ef-a70e-d002a5f7ebe6",
        "source": "STT3A",
        "source_name": "STT3A",
        "target": "SARS-CoV-2",
        "target_name": "SARS-CoV-2"
       },
       "selectable": false
      }
     },
     "eb87483a096a4324af75c25fef0206a2": {
      "model_module": "jupyter-cytoscape",
      "model_module_version": "^1.3.3",
      "model_name": "EdgeModel",
      "state": {
       "_model_module_version": "^1.3.3",
       "_view_module_version": "^1.3.3",
       "classes": " multiple_edges ",
       "data": {
        "display_relation": "BIOGRID",
        "id": "8f6e5a84-abaf-4575-b2a3-9206ff9c5881",
        "source": "OST4",
        "source_name": "OST4",
        "target": "STT3B",
        "target_name": "STT3B"
       },
       "selectable": false
      }
     },
     "ec5002a057fa43abab874bfbc54c6664": {
      "model_module": "jupyter-cytoscape",
      "model_module_version": "^1.3.3",
      "model_name": "EdgeModel",
      "state": {
       "_model_module_version": "^1.3.3",
       "_view_module_version": "^1.3.3",
       "classes": " multiple_edges ",
       "data": {
        "display_relation": "crispr",
        "id": "28214437-7226-4b7f-b82b-9d82092efaf9",
        "source": "STT3A",
        "source_name": "STT3A",
        "target": "SARS-CoV-2",
        "target_name": "SARS-CoV-2"
       },
       "selectable": false
      }
     },
     "ed6f9a36e6f140fe9415b5b998c716f7": {
      "model_module": "jupyter-cytoscape",
      "model_module_version": "^1.3.3",
      "model_name": "NodeModel",
      "state": {
       "_model_module_version": "^1.3.3",
       "_view_module_version": "^1.3.3",
       "data": {
        "id": "TMEM258",
        "node_name": "TMEM258",
        "type": "gene/protein"
       },
       "grabbable": true,
       "grabbed": false,
       "position": {
        "x": 169.04051129734472,
        "y": 219.68495937431067
       },
       "selectable": false
      }
     },
     "efcb933998994b0f916370a81a6f63fd": {
      "model_module": "jupyter-cytoscape",
      "model_module_version": "^1.3.3",
      "model_name": "EdgeModel",
      "state": {
       "_model_module_version": "^1.3.3",
       "_view_module_version": "^1.3.3",
       "classes": " multiple_edges ",
       "data": {
        "display_relation": "CORUM",
        "id": "ad61c0fe-d11e-4fb8-b35a-f037f19fc411",
        "source": "RPN2",
        "source_name": "RPN2",
        "target": "MAGT1",
        "target_name": "MAGT1"
       },
       "selectable": false
      }
     },
     "efec81ce82ec467aad27681e6cf3d01b": {
      "model_module": "jupyter-cytoscape",
      "model_module_version": "^1.3.3",
      "model_name": "EdgeModel",
      "state": {
       "_model_module_version": "^1.3.3",
       "_view_module_version": "^1.3.3",
       "classes": " multiple_edges ",
       "data": {
        "display_relation": "BIOGRID",
        "id": "7ee88f3c-4b5b-4841-84a5-8c05f86e52a3",
        "source": "RPN1",
        "source_name": "OST4",
        "target": "OST4",
        "target_name": "RPN1"
       },
       "selectable": false
      }
     },
     "f1351ed37e5041429f79521c13982df5": {
      "model_module": "jupyter-cytoscape",
      "model_module_version": "^1.3.3",
      "model_name": "NodeModel",
      "state": {
       "_model_module_version": "^1.3.3",
       "_view_module_version": "^1.3.3",
       "data": {
        "id": "RPN1",
        "node_name": "RPN1",
        "type": "gene/protein"
       },
       "grabbable": true,
       "grabbed": false,
       "position": {
        "x": 463.9828419248076,
        "y": 131.3319419577626
       },
       "selectable": false
      }
     },
     "f1b81d1a26a8443aba0ff48825292843": {
      "model_module": "jupyter-cytoscape",
      "model_module_version": "^1.3.3",
      "model_name": "EdgeModel",
      "state": {
       "_model_module_version": "^1.3.3",
       "_view_module_version": "^1.3.3",
       "classes": " multiple_edges ",
       "data": {
        "display_relation": "CORUM",
        "id": "46602a29-bd28-4bbe-8bd2-3089cb53944b",
        "source": "DAD1",
        "source_name": "DAD1",
        "target": "MAGT1",
        "target_name": "MAGT1"
       },
       "selectable": false
      }
     },
     "f25fd158a41c417b832807441f4eb151": {
      "model_module": "jupyter-cytoscape",
      "model_module_version": "^1.3.3",
      "model_name": "EdgeModel",
      "state": {
       "_model_module_version": "^1.3.3",
       "_view_module_version": "^1.3.3",
       "classes": " multiple_edges ",
       "data": {
        "display_relation": "CORUM",
        "id": "90435962-3f92-4085-93bc-0ab95e441746",
        "source": "DAD1",
        "source_name": "STT3A",
        "target": "STT3A",
        "target_name": "DAD1"
       },
       "selectable": false
      }
     },
     "f29e61731fa0433facd50dde77d32b29": {
      "model_module": "jupyter-cytoscape",
      "model_module_version": "^1.3.3",
      "model_name": "EdgeModel",
      "state": {
       "_model_module_version": "^1.3.3",
       "_view_module_version": "^1.3.3",
       "classes": " multiple_edges ",
       "data": {
        "display_relation": "CORUM",
        "id": "d720f2c1-7bae-487b-9e45-7052ce6f5067",
        "source": "RPN2",
        "source_name": "RPN2",
        "target": "DAD1",
        "target_name": "DAD1"
       },
       "selectable": false
      }
     },
     "f31bc7b66ff84a9a8a929e2b4ec5d1e2": {
      "model_module": "jupyter-cytoscape",
      "model_module_version": "^1.3.3",
      "model_name": "EdgeModel",
      "state": {
       "_model_module_version": "^1.3.3",
       "_view_module_version": "^1.3.3",
       "classes": " multiple_edges ",
       "data": {
        "display_relation": "BIOGRID",
        "id": "050ebc50-3236-4408-887f-d10c7d61ab14",
        "source": "STT3B",
        "source_name": "MAGT1",
        "target": "MAGT1",
        "target_name": "STT3B"
       },
       "selectable": false
      }
     },
     "f40f915b1cf843a5a83cf500067cd5d4": {
      "model_module": "ipysigma",
      "model_module_version": "^0.24.2",
      "model_name": "SigmaModel",
      "state": {
       "_model_module_version": "^0.24.2",
       "_view_module_version": "^0.24.2",
       "background_color": "white",
       "camera_state": {
        "angle": 0,
        "ratio": 1,
        "x": 0.5,
        "y": 0.5
       },
       "clickable_edges": false,
       "data": {
        "edges": [
         {
          "attributes": {
           "display_relation": "KroganIAV",
           "source_name": "RPN1",
           "target_name": "RPN2"
          },
          "source": "RPN1",
          "target": "RPN2"
         },
         {
          "attributes": {
           "display_relation": "BIOGRID",
           "source_name": "RPN1",
           "target_name": "RPN2"
          },
          "source": "RPN1",
          "target": "RPN2"
         },
         {
          "attributes": {
           "display_relation": "CORUM",
           "source_name": "RPN1",
           "target_name": "RPN2"
          },
          "source": "RPN1",
          "target": "RPN2"
         },
         {
          "attributes": {
           "display_relation": "REACTOMEFI",
           "source_name": "RPN1",
           "target_name": "RPN2"
          },
          "source": "RPN1",
          "target": "RPN2"
         },
         {
          "attributes": {
           "display_relation": "BIOGRID",
           "source_name": "RPN1",
           "target_name": "RPN1"
          },
          "source": "RPN1",
          "target": "RPN1"
         },
         {
          "attributes": {
           "display_relation": "BIOGRID",
           "source_name": "TMEM258",
           "target_name": "RPN1"
          },
          "source": "RPN1",
          "target": "TMEM258"
         },
         {
          "attributes": {
           "display_relation": "CORUM",
           "source_name": "RPN1",
           "target_name": "DDOST"
          },
          "source": "RPN1",
          "target": "DDOST"
         },
         {
          "attributes": {
           "display_relation": "REACTOMEFI",
           "source_name": "DDOST",
           "target_name": "RPN1"
          },
          "source": "RPN1",
          "target": "DDOST"
         },
         {
          "attributes": {
           "display_relation": "CORUM",
           "source_name": "RPN1",
           "target_name": "STT3A"
          },
          "source": "RPN1",
          "target": "STT3A"
         },
         {
          "attributes": {
           "display_relation": "REACTOMEFI",
           "source_name": "RPN1",
           "target_name": "STT3A"
          },
          "source": "RPN1",
          "target": "STT3A"
         },
         {
          "attributes": {
           "display_relation": "CORUM",
           "source_name": "RPN1",
           "target_name": "DAD1"
          },
          "source": "RPN1",
          "target": "DAD1"
         },
         {
          "attributes": {
           "display_relation": "REACTOMEFI",
           "source_name": "DAD1",
           "target_name": "RPN1"
          },
          "source": "RPN1",
          "target": "DAD1"
         },
         {
          "attributes": {
           "display_relation": "CORUM",
           "source_name": "RPN1",
           "target_name": "MAGT1"
          },
          "source": "RPN1",
          "target": "MAGT1"
         },
         {
          "attributes": {
           "display_relation": "REACTOMEFI",
           "source_name": "MAGT1",
           "target_name": "RPN1"
          },
          "source": "RPN1",
          "target": "MAGT1"
         },
         {
          "attributes": {
           "display_relation": "CORUM",
           "source_name": "RPN1",
           "target_name": "STT3B"
          },
          "source": "RPN1",
          "target": "STT3B"
         },
         {
          "attributes": {
           "display_relation": "KroganIAV",
           "source_name": "IAV",
           "target_name": "RPN1"
          },
          "source": "RPN1",
          "target": "IAV"
         },
         {
          "attributes": {
           "display_relation": "KroganIBV",
           "source_name": "IAV",
           "target_name": "RPN1"
          },
          "source": "RPN1",
          "target": "IAV"
         },
         {
          "attributes": {
           "display_relation": "KroganCovHuPPI",
           "source_name": "RPN1",
           "target_name": "SARS-CoV-2"
          },
          "source": "RPN1",
          "target": "SARS-CoV-2"
         },
         {
          "attributes": {
           "display_relation": "crispr",
           "source_name": "RPN1",
           "target_name": "MERS-CoV"
          },
          "source": "RPN1",
          "target": "MERS-CoV"
         },
         {
          "attributes": {
           "display_relation": "BIOGRID",
           "source_name": "TMEM258",
           "target_name": "RPN2"
          },
          "source": "RPN2",
          "target": "TMEM258"
         },
         {
          "attributes": {
           "display_relation": "CORUM",
           "source_name": "RPN2",
           "target_name": "DDOST"
          },
          "source": "RPN2",
          "target": "DDOST"
         },
         {
          "attributes": {
           "display_relation": "REACTOMEFI",
           "source_name": "DDOST",
           "target_name": "RPN2"
          },
          "source": "RPN2",
          "target": "DDOST"
         },
         {
          "attributes": {
           "display_relation": "CORUM",
           "source_name": "RPN2",
           "target_name": "STT3A"
          },
          "source": "RPN2",
          "target": "STT3A"
         },
         {
          "attributes": {
           "display_relation": "REACTOMEFI",
           "source_name": "RPN2",
           "target_name": "STT3A"
          },
          "source": "RPN2",
          "target": "STT3A"
         },
         {
          "attributes": {
           "display_relation": "CORUM",
           "source_name": "RPN2",
           "target_name": "DAD1"
          },
          "source": "RPN2",
          "target": "DAD1"
         },
         {
          "attributes": {
           "display_relation": "REACTOMEFI",
           "source_name": "DAD1",
           "target_name": "RPN2"
          },
          "source": "RPN2",
          "target": "DAD1"
         },
         {
          "attributes": {
           "display_relation": "CORUM",
           "source_name": "RPN2",
           "target_name": "MAGT1"
          },
          "source": "RPN2",
          "target": "MAGT1"
         },
         {
          "attributes": {
           "display_relation": "REACTOMEFI",
           "source_name": "MAGT1",
           "target_name": "RPN2"
          },
          "source": "RPN2",
          "target": "MAGT1"
         },
         {
          "attributes": {
           "display_relation": "CORUM",
           "source_name": "RPN2",
           "target_name": "STT3B"
          },
          "source": "RPN2",
          "target": "STT3B"
         },
         {
          "attributes": {
           "display_relation": "KroganIAV",
           "source_name": "IAV",
           "target_name": "RPN2"
          },
          "source": "RPN2",
          "target": "IAV"
         },
         {
          "attributes": {
           "display_relation": "KroganCovHuPPI",
           "source_name": "RPN2",
           "target_name": "SARS-CoV-2"
          },
          "source": "RPN2",
          "target": "SARS-CoV-2"
         },
         {
          "attributes": {
           "display_relation": "BIOGRID",
           "source_name": "DAD1",
           "target_name": "DAD1"
          },
          "source": "DAD1",
          "target": "DAD1"
         },
         {
          "attributes": {
           "display_relation": "BIOGRID",
           "source_name": "TMEM258",
           "target_name": "DAD1"
          },
          "source": "DAD1",
          "target": "TMEM258"
         },
         {
          "attributes": {
           "display_relation": "CORUM",
           "source_name": "DDOST",
           "target_name": "DAD1"
          },
          "source": "DAD1",
          "target": "DDOST"
         },
         {
          "attributes": {
           "display_relation": "REACTOMEFI",
           "source_name": "DAD1",
           "target_name": "DDOST"
          },
          "source": "DAD1",
          "target": "DDOST"
         },
         {
          "attributes": {
           "display_relation": "CORUM",
           "source_name": "STT3A",
           "target_name": "DAD1"
          },
          "source": "DAD1",
          "target": "STT3A"
         },
         {
          "attributes": {
           "display_relation": "REACTOMEFI",
           "source_name": "DAD1",
           "target_name": "STT3A"
          },
          "source": "DAD1",
          "target": "STT3A"
         },
         {
          "attributes": {
           "display_relation": "CORUM",
           "source_name": "DAD1",
           "target_name": "MAGT1"
          },
          "source": "DAD1",
          "target": "MAGT1"
         },
         {
          "attributes": {
           "display_relation": "REACTOMEFI",
           "source_name": "DAD1",
           "target_name": "MAGT1"
          },
          "source": "DAD1",
          "target": "MAGT1"
         },
         {
          "attributes": {
           "display_relation": "CORUM",
           "source_name": "DAD1",
           "target_name": "STT3B"
          },
          "source": "DAD1",
          "target": "STT3B"
         },
         {
          "attributes": {
           "display_relation": "KroganCovHuPPI",
           "source_name": "DAD1",
           "target_name": "SARS-CoV-2"
          },
          "source": "DAD1",
          "target": "SARS-CoV-2"
         },
         {
          "attributes": {
           "display_relation": "BIOGRID",
           "source_name": "TMEM258",
           "target_name": "STT3A"
          },
          "source": "TMEM258",
          "target": "STT3A"
         },
         {
          "attributes": {
           "display_relation": "BIOGRID",
           "source_name": "TMEM258",
           "target_name": "DDOST"
          },
          "source": "TMEM258",
          "target": "DDOST"
         },
         {
          "attributes": {
           "display_relation": "BIOGRID",
           "source_name": "TMEM258",
           "target_name": "STT3B"
          },
          "source": "TMEM258",
          "target": "STT3B"
         },
         {
          "attributes": {
           "display_relation": "BIOGRID",
           "source_name": "TMEM258",
           "target_name": "MAGT1"
          },
          "source": "TMEM258",
          "target": "MAGT1"
         },
         {
          "attributes": {
           "display_relation": "KroganCovHuPPI",
           "source_name": "TMEM258",
           "target_name": "SARS-CoV-2"
          },
          "source": "TMEM258",
          "target": "SARS-CoV-2"
         },
         {
          "attributes": {
           "display_relation": "KimPPI",
           "source_name": "TMEM258",
           "target_name": "SARS-CoV-2"
          },
          "source": "TMEM258",
          "target": "SARS-CoV-2"
         },
         {
          "attributes": {
           "display_relation": "crispr",
           "source_name": "TMEM258",
           "target_name": "SARS-CoV-2"
          },
          "source": "TMEM258",
          "target": "SARS-CoV-2"
         },
         {
          "attributes": {
           "display_relation": "CORUM",
           "source_name": "DDOST",
           "target_name": "STT3A"
          },
          "source": "STT3A",
          "target": "DDOST"
         },
         {
          "attributes": {
           "display_relation": "REACTOMEFI",
           "source_name": "DDOST",
           "target_name": "STT3A"
          },
          "source": "STT3A",
          "target": "DDOST"
         },
         {
          "attributes": {
           "display_relation": "CORUM",
           "source_name": "STT3A",
           "target_name": "MAGT1"
          },
          "source": "STT3A",
          "target": "MAGT1"
         },
         {
          "attributes": {
           "display_relation": "REACTOMEFI",
           "source_name": "MAGT1",
           "target_name": "STT3A"
          },
          "source": "STT3A",
          "target": "MAGT1"
         },
         {
          "attributes": {
           "display_relation": "paralogue",
           "source_name": "STT3B",
           "target_name": "STT3A"
          },
          "source": "STT3A",
          "target": "STT3B"
         },
         {
          "attributes": {
           "display_relation": "KroganCovHuPPI",
           "source_name": "STT3A",
           "target_name": "SARS-CoV-2"
          },
          "source": "STT3A",
          "target": "SARS-CoV-2"
         },
         {
          "attributes": {
           "display_relation": "crispr",
           "source_name": "STT3A",
           "target_name": "SARS-CoV-2"
          },
          "source": "STT3A",
          "target": "SARS-CoV-2"
         },
         {
          "attributes": {
           "display_relation": "crispr",
           "source_name": "STT3A",
           "target_name": "HRV"
          },
          "source": "STT3A",
          "target": "HRV"
         },
         {
          "attributes": {
           "display_relation": "crispr",
           "source_name": "STT3A",
           "target_name": "PIV3"
          },
          "source": "STT3A",
          "target": "PIV3"
         },
         {
          "attributes": {
           "display_relation": "CORUM",
           "source_name": "DDOST",
           "target_name": "MAGT1"
          },
          "source": "DDOST",
          "target": "MAGT1"
         },
         {
          "attributes": {
           "display_relation": "REACTOMEFI",
           "source_name": "DDOST",
           "target_name": "MAGT1"
          },
          "source": "DDOST",
          "target": "MAGT1"
         },
         {
          "attributes": {
           "display_relation": "CORUM",
           "source_name": "DDOST",
           "target_name": "STT3B"
          },
          "source": "DDOST",
          "target": "STT3B"
         },
         {
          "attributes": {
           "display_relation": "KroganCovHuPPI",
           "source_name": "DDOST",
           "target_name": "SARS-CoV-2"
          },
          "source": "DDOST",
          "target": "SARS-CoV-2"
         },
         {
          "attributes": {
           "display_relation": "crispr",
           "source_name": "DDOST",
           "target_name": "MERS-CoV"
          },
          "source": "DDOST",
          "target": "MERS-CoV"
         },
         {
          "attributes": {
           "display_relation": "BIOGRID",
           "source_name": "MAGT1",
           "target_name": "STT3B"
          },
          "source": "STT3B",
          "target": "MAGT1"
         },
         {
          "attributes": {
           "display_relation": "CORUM",
           "source_name": "STT3B",
           "target_name": "MAGT1"
          },
          "source": "STT3B",
          "target": "MAGT1"
         },
         {
          "attributes": {
           "display_relation": "KroganCovHuPPI",
           "source_name": "STT3B",
           "target_name": "SARS-CoV-2"
          },
          "source": "STT3B",
          "target": "SARS-CoV-2"
         },
         {
          "attributes": {
           "display_relation": "KroganCovHuPPI",
           "source_name": "MAGT1",
           "target_name": "SARS-CoV-2"
          },
          "source": "MAGT1",
          "target": "SARS-CoV-2"
         },
         {
          "attributes": {
           "display_relation": "GEPanelAppCoV",
           "source_name": "MAGT1",
           "target_name": "SARS-CoV-2"
          },
          "source": "MAGT1",
          "target": "SARS-CoV-2"
         },
         {
          "attributes": {
           "display_relation": "KroganCovHuPPI",
           "source_name": "OSTC",
           "target_name": "SARS-CoV-2"
          },
          "source": "SARS-CoV-2",
          "target": "OSTC"
         },
         {
          "attributes": {
           "display_relation": "crispr",
           "source_name": "OSTC",
           "target_name": "HRV"
          },
          "source": "OSTC",
          "target": "HRV"
         }
        ],
        "nodes": [
         {
          "attributes": {
           "ipysigma_kwarg_node_size": 20,
           "node_name": "RPN1",
           "type": "gene/protein",
           "x": 0.15428948876230283,
           "y": 0.25273986629959766
          },
          "key": "RPN1"
         },
         {
          "attributes": {
           "ipysigma_kwarg_node_size": 16,
           "node_name": "RPN2",
           "type": "gene/protein",
           "x": 0.5762050567157171,
           "y": 0.8675055755423209
          },
          "key": "RPN2"
         },
         {
          "attributes": {
           "ipysigma_kwarg_node_size": 15,
           "node_name": "DAD1",
           "type": "gene/protein",
           "x": 0.4923045147706771,
           "y": 0.7549328770522359
          },
          "key": "DAD1"
         },
         {
          "attributes": {
           "ipysigma_kwarg_node_size": 10,
           "node_name": "TMEM258",
           "type": "gene/protein",
           "x": 0.536310160588477,
           "y": 0.6607164922702594
          },
          "key": "TMEM258"
         },
         {
          "attributes": {
           "ipysigma_kwarg_node_size": 16,
           "node_name": "STT3A",
           "type": "gene/protein",
           "x": 0.17898877761019927,
           "y": 0.7423470400617883
          },
          "key": "STT3A"
         },
         {
          "attributes": {
           "ipysigma_kwarg_node_size": 14,
           "node_name": "DDOST",
           "type": "gene/protein",
           "x": 0.7654569574501733,
           "y": 0.2409002179776765
          },
          "key": "DDOST"
         },
         {
          "attributes": {
           "ipysigma_kwarg_node_size": 9,
           "node_name": "STT3B",
           "type": "gene/protein",
           "x": 0.8666364121438902,
           "y": 0.3612731622048909
          },
          "key": "STT3B"
         },
         {
          "attributes": {
           "ipysigma_kwarg_node_size": 15,
           "node_name": "MAGT1",
           "type": "gene/protein",
           "x": 0.3750092524652347,
           "y": 0.43898357292952234
          },
          "key": "MAGT1"
         },
         {
          "attributes": {
           "ipysigma_kwarg_node_size": 3,
           "node_name": "IAV",
           "type": "disease",
           "x": 0.686974614630136,
           "y": 0.44860358368004677
          },
          "key": "IAV"
         },
         {
          "attributes": {
           "ipysigma_kwarg_node_size": 13,
           "node_name": "SARS-CoV-2",
           "type": "disease",
           "x": 0.40559004582969205,
           "y": 0.8051142792853555
          },
          "key": "SARS-CoV-2"
         },
         {
          "attributes": {
           "ipysigma_kwarg_node_size": 2,
           "node_name": "OSTC",
           "type": "gene/protein",
           "x": 0.2755987667745767,
           "y": 0.4476774839346224
          },
          "key": "OSTC"
         },
         {
          "attributes": {
           "ipysigma_kwarg_node_size": 2,
           "node_name": "MERS-CoV",
           "type": "disease",
           "x": 0.692315680725632,
           "y": 0.22264914856719326
          },
          "key": "MERS-CoV"
         },
         {
          "attributes": {
           "ipysigma_kwarg_node_size": 2,
           "node_name": "HRV",
           "type": "disease",
           "x": 0.6517501069627378,
           "y": 0.3711104926111498
          },
          "key": "HRV"
         },
         {
          "attributes": {
           "ipysigma_kwarg_node_size": 1,
           "node_name": "PIV3",
           "type": "disease",
           "x": 0.2111467647774474,
           "y": 0.09947058602301147
          },
          "key": "PIV3"
         }
        ],
        "options": {
         "multi": true,
         "type": "undirected"
        }
       },
       "edge_weight": "weight",
       "height": "500px",
       "layout": {
        "DAD1": {
         "x": 0.4923045147706771,
         "y": 0.7549328770522359
        },
        "DDOST": {
         "x": 0.7654569574501733,
         "y": 0.2409002179776765
        },
        "HRV": {
         "x": 0.6517501069627378,
         "y": 0.3711104926111498
        },
        "IAV": {
         "x": 0.686974614630136,
         "y": 0.44860358368004677
        },
        "MAGT1": {
         "x": 0.3750092524652347,
         "y": 0.43898357292952234
        },
        "MERS-CoV": {
         "x": 0.692315680725632,
         "y": 0.22264914856719326
        },
        "OSTC": {
         "x": 0.2755987667745767,
         "y": 0.4476774839346224
        },
        "PIV3": {
         "x": 0.2111467647774474,
         "y": 0.09947058602301147
        },
        "RPN1": {
         "x": 0.15428948876230283,
         "y": 0.25273986629959766
        },
        "RPN2": {
         "x": 0.5762050567157171,
         "y": 0.8675055755423209
        },
        "SARS-CoV-2": {
         "x": 0.40559004582969205,
         "y": 0.8051142792853555
        },
        "STT3A": {
         "x": 0.17898877761019927,
         "y": 0.7423470400617883
        },
        "STT3B": {
         "x": 0.8666364121438902,
         "y": 0.3612731622048909
        },
        "TMEM258": {
         "x": 0.536310160588477,
         "y": 0.6607164922702594
        }
       },
       "layout_settings": null,
       "max_categorical_colors": 10,
       "name": null,
       "node_metrics": {},
       "program_settings": {},
       "renderer_settings": {
        "defaultEdgeType": "rectangle",
        "defaultNodeType": "point",
        "enableEdgeClickEvents": false,
        "enableEdgeHoverEvents": false,
        "hideEdgesOnMove": false,
        "labelDensity": 1,
        "labelFont": "sans-serif",
        "labelGridCellSize": 250,
        "renderEdgeLabels": true,
        "zIndex": true
       },
       "selected_edge": null,
       "selected_edge_category_values": null,
       "selected_node": null,
       "selected_node_category_values": null,
       "start_layout_for_seconds": null,
       "sync_key": null,
       "sync_targets": [
        "layout",
        "hover",
        "camera",
        "selection"
       ],
       "ui_settings": {
        "hideInfoPanel": false,
        "hideSearch": false
       },
       "visual_variables": {
        "edgeColor": {
         "attribute": "color",
         "default": "#ccc",
         "type": "raw"
        },
        "edgeCurveness": {
         "default": 0.25,
         "type": "constant"
        },
        "edgeLabel": {
         "attribute": "label",
         "default": null,
         "type": "raw"
        },
        "edgeSize": {
         "attribute": "size",
         "default": 0.5,
         "range": [
          0.5,
          10
         ],
         "type": "continuous"
        },
        "nodeBorderColor": {
         "default": null,
         "type": "disabled"
        },
        "nodeBorderRatio": {
         "default": null,
         "type": "disabled"
        },
        "nodeBorderSize": {
         "default": 1,
         "type": "constant"
        },
        "nodeColor": {
         "attribute": "type",
         "default": "#999",
         "type": "category"
        },
        "nodeColorSaturation": {
         "default": null,
         "type": "disabled"
        },
        "nodeHaloColor": {
         "default": "red",
         "type": "constant"
        },
        "nodeHaloSize": {
         "default": null,
         "type": "disabled"
        },
        "nodeLabel": {
         "attribute": "label",
         "default": null,
         "type": "raw"
        },
        "nodeLabelColor": {
         "default": "#000",
         "type": "constant"
        },
        "nodeLabelSize": {
         "default": 12,
         "type": "constant"
        },
        "nodePictogram": {
         "default": null,
         "type": "disabled"
        },
        "nodePictogramColor": {
         "default": "#000",
         "type": "constant"
        },
        "nodeShape": {
         "default": null,
         "type": "disabled"
        },
        "nodeSize": {
         "attribute": "ipysigma_kwarg_node_size",
         "default": 3,
         "range": [
          3,
          15
         ],
         "type": "continuous"
        }
       }
      }
     },
     "f46e7a21c5db47708305104fae33d059": {
      "model_module": "jupyter-cytoscape",
      "model_module_version": "^1.3.3",
      "model_name": "GraphModel",
      "state": {
       "_adj": {
        "DAD1": {},
        "DDOST": {},
        "HRV": {},
        "IAV": {},
        "MAGT1": {},
        "MERS-CoV": {},
        "OST4": {},
        "OSTC": {},
        "PIV3": {},
        "RPN1": {},
        "RPN2": {},
        "SARS-CoV-2": {},
        "STT3A": {},
        "STT3B": {},
        "TMEM258": {}
       },
       "_model_module_version": "^1.3.3",
       "_view_module": "jupyter-cytoscape",
       "_view_module_version": "^1.3.3",
       "edges": [
        "IPY_MODEL_3524e427a8b34c919af76898b51befb2",
        "IPY_MODEL_64b205d9c3474f75a91381a084522223",
        "IPY_MODEL_510d48cb9c8c4ccebabdf3d53b5173dd",
        "IPY_MODEL_3e40a48a74144529a77a7ea4f5996f8d",
        "IPY_MODEL_3298604f617e45a9b8b926fc4cf103be",
        "IPY_MODEL_fac1ee29a6534732a256e5495df4ae75",
        "IPY_MODEL_5ca98311c98e4432a185cab37e2c804c",
        "IPY_MODEL_b1931ce8c7024498be142141f06f2fc3",
        "IPY_MODEL_04501167cb7d4f398b1e9d193d9efa28",
        "IPY_MODEL_e42beb12af8046ffbaaab78d32e664ce",
        "IPY_MODEL_d74b0e31fd4942b19a1b2c2c5740cbd7",
        "IPY_MODEL_7e9ecd4c47e349cf8f725035f6c50a8b",
        "IPY_MODEL_5a94d04eb3bb4a13a90012533107e084",
        "IPY_MODEL_60229a815aed42c2ab6a51729778b26f",
        "IPY_MODEL_720601bbc5a747f6babe370c3268477a",
        "IPY_MODEL_0b5c7fe0a2ba4587b18f3fd4c37b7c76",
        "IPY_MODEL_9c72cd8d612e4088a009fbd76523a02a",
        "IPY_MODEL_91db256f785b428796e216dd2e962087",
        "IPY_MODEL_776d665522174566ab0294b2d30bd2d5",
        "IPY_MODEL_a4d54084a2c14fe1bcef2c5f6aeb8d91",
        "IPY_MODEL_3d2c2bee5a3f4eeb88fb7412c5157fa4",
        "IPY_MODEL_6b3c67344b1b40ceb76cea65d53f5b5d",
        "IPY_MODEL_558086cd41d94275954d6fdff621904d",
        "IPY_MODEL_046ffd5f0bfc4aeab715246f912c37fc",
        "IPY_MODEL_adf96f42ae56424aa8f8ad6f299cbe9d",
        "IPY_MODEL_e56393f6f12e4577a7d97d704db6c77b",
        "IPY_MODEL_9e8ae1a309bc458baaaa62cecfe7e098",
        "IPY_MODEL_ca30f63cf89a48dfb7b875f414fbbc18",
        "IPY_MODEL_accaf6a099834331a22e3ee2f8a503ef",
        "IPY_MODEL_bcb173d1812b4ada9a77d7a3f5593abd",
        "IPY_MODEL_3f47b93c5dcf4c32b45bd493474905d0",
        "IPY_MODEL_f5ad04f670aa43c7b5cd8e1a1f7730fb",
        "IPY_MODEL_120abca6bd3e40738c1b5d3d753e3d35",
        "IPY_MODEL_53f3e7f19a7143df94508862d5a8cfcd",
        "IPY_MODEL_07a16f4c3b6d437c841c18cfd96b56b3",
        "IPY_MODEL_8fe490d0f2e74d29a5f012b34327d458",
        "IPY_MODEL_625ac91c568d47bc84957886084736ac",
        "IPY_MODEL_24899ad8bd7d47c0863f8ff92d8f7d55",
        "IPY_MODEL_bb181bab9b3e49029493aab1bcf7bfe4",
        "IPY_MODEL_18c34ed969a6484e901cb0bdd4603f88",
        "IPY_MODEL_0bf3ddfdff1746fd810c50b8ff3a19f3",
        "IPY_MODEL_6f723116eabe42b197067647e99ab02b",
        "IPY_MODEL_1aa476127c954842bf2668435db529e5",
        "IPY_MODEL_dc417e554d5b4af3859a324f1e06591a",
        "IPY_MODEL_685d403d069a44ff80a91719f0e9d516",
        "IPY_MODEL_a77ceea7c51645548fbb2eb62284f1d1",
        "IPY_MODEL_7d1a8ec1bd5e4f75a8aff1748ec92019",
        "IPY_MODEL_6289067ac67241f7977f7e2da32304d7",
        "IPY_MODEL_0998294c3d404a54a8eac8e36cc2bd1c",
        "IPY_MODEL_23244922bbff43e98db6b0e965f95dbf",
        "IPY_MODEL_356e92c5126045b4ae4c2af38a13555c",
        "IPY_MODEL_7a9408cb7ee949c8a0c2598d0a3f3304",
        "IPY_MODEL_0d668d8e27234744860115731c214106",
        "IPY_MODEL_e4f9df6e0c4a4cb1ae272a64a392985a",
        "IPY_MODEL_7dc63c72f53e44f4b1d43e480f278f74",
        "IPY_MODEL_c0517376b8064afab53a850bf80149a5",
        "IPY_MODEL_b80d206b5e3749819b2d12ada5105eb9",
        "IPY_MODEL_3ed3322bdbf74b0db5adf4b58b20d935",
        "IPY_MODEL_b38018f6615647239826da88d690713a",
        "IPY_MODEL_08cca60e86ce453687396ca3036da47f",
        "IPY_MODEL_8171fd992fae4baeb17308185cebb8f0",
        "IPY_MODEL_1f5a24c007c3488bb1f4cda3e493e1e0",
        "IPY_MODEL_429fc108f80d457dbe96783b3787a0a8",
        "IPY_MODEL_c32533cc8c3d443d8177d73d05269642",
        "IPY_MODEL_5948c0c5259b4feda19d4b7c99965af0",
        "IPY_MODEL_c0b5b87ad59d4d5d96e32a75b410d5b8",
        "IPY_MODEL_480d7b60b6d84dae93aa4cf6428e8f4f",
        "IPY_MODEL_9622911a155d45c69d7e6e7c70049f2b",
        "IPY_MODEL_418df9347c5d4195acaf5191a1d6e531",
        "IPY_MODEL_14bc0ee30b9547daaf3c90b876a3dae7",
        "IPY_MODEL_8ceb9dfdb38e4d718ba085064587780e",
        "IPY_MODEL_aa7316535c59413fbcbdba65093c741a",
        "IPY_MODEL_d0bfca0f5eaa4cd0827cf8458b79c420"
       ],
       "nodes": [
        "IPY_MODEL_bcd33de08f694e23af2386068f3f3da5",
        "IPY_MODEL_f6d047308fa44020a8a6094d61e4a6d3",
        "IPY_MODEL_63eaa735813a4c26bf2a2c8b8b1aabc7",
        "IPY_MODEL_a6a86cfdd27041d0851e713bd3ea67b2",
        "IPY_MODEL_c92d99517c534098818413dde4497fe1",
        "IPY_MODEL_296aec7d482a437798e7449e44a7270e",
        "IPY_MODEL_ed6f9a36e6f140fe9415b5b998c716f7",
        "IPY_MODEL_7e6adf24fe8e46e183e21bf940ecac06",
        "IPY_MODEL_f653e3288faa40a3b2227b86a401b237",
        "IPY_MODEL_9a886a8738284e28ae9eb9e988313aa9",
        "IPY_MODEL_56780f36ee8b4afb82f5b2f0b02b9587",
        "IPY_MODEL_1154b7ce7f484b699c025524a607ca78",
        "IPY_MODEL_975ba6bc06744090a1dfb5ae6d8e1aee",
        "IPY_MODEL_72ad1793ae774550b1a52c6f975b6b9c",
        "IPY_MODEL_d89f233f5b3a4245a3c68054cace4aff"
       ]
      }
     },
     "f47ef65b61dd4382bcc4890a2fbd92b2": {
      "model_module": "jupyter-cytoscape",
      "model_module_version": "^1.3.3",
      "model_name": "EdgeModel",
      "state": {
       "_model_module_version": "^1.3.3",
       "_view_module_version": "^1.3.3",
       "classes": " multiple_edges ",
       "data": {
        "display_relation": "CORUM",
        "id": "6f9c95a7-534a-4234-8656-fdb94f655774",
        "source": "RPN1",
        "source_name": "RPN1",
        "target": "MAGT1",
        "target_name": "MAGT1"
       },
       "selectable": false
      }
     },
     "f4943749538e44e0af0a2774f9caf1b0": {
      "model_module": "jupyter-cytoscape",
      "model_module_version": "^1.3.3",
      "model_name": "EdgeModel",
      "state": {
       "_model_module_version": "^1.3.3",
       "_view_module_version": "^1.3.3",
       "classes": " multiple_edges ",
       "data": {
        "display_relation": "CORUM",
        "id": "1fdaf971-762d-493d-a003-cfe52d6035a3",
        "source": "RPN2",
        "source_name": "RPN2",
        "target": "STT3A",
        "target_name": "STT3A"
       },
       "selectable": false
      }
     },
     "f49d7b7289f14db8957ce1c762dc6c24": {
      "model_module": "jupyter-cytoscape",
      "model_module_version": "^1.3.3",
      "model_name": "EdgeModel",
      "state": {
       "_model_module_version": "^1.3.3",
       "_view_module_version": "^1.3.3",
       "classes": " multiple_edges ",
       "data": {
        "display_relation": "CORUM",
        "id": "9044c39b-2f19-44c6-8ae8-b067fc20ab0a",
        "source": "DAD1",
        "source_name": "STT3A",
        "target": "STT3A",
        "target_name": "DAD1"
       },
       "selectable": false
      }
     },
     "f5ad04f670aa43c7b5cd8e1a1f7730fb": {
      "model_module": "jupyter-cytoscape",
      "model_module_version": "^1.3.3",
      "model_name": "EdgeModel",
      "state": {
       "_model_module_version": "^1.3.3",
       "_view_module_version": "^1.3.3",
       "classes": " multiple_edges ",
       "data": {
        "display_relation": "KroganCovHuPPI",
        "id": "ecb7cc8d-f9cb-4f20-adaf-25600e0134ea",
        "source": "RPN2",
        "source_name": "RPN2",
        "target": "SARS-CoV-2",
        "target_name": "SARS-CoV-2"
       },
       "selectable": false
      }
     },
     "f64648ad2bfd4dfd8c45870932ab8837": {
      "model_module": "jupyter-cytoscape",
      "model_module_version": "^1.3.3",
      "model_name": "EdgeModel",
      "state": {
       "_model_module_version": "^1.3.3",
       "_view_module_version": "^1.3.3",
       "classes": " multiple_edges ",
       "data": {
        "display_relation": "KroganIAV",
        "id": "ef66f214-0bb3-42b6-9eac-7f502248bc08",
        "source": "RPN1",
        "source_name": "IAV",
        "target": "IAV",
        "target_name": "RPN1"
       },
       "selectable": false
      }
     },
     "f653e3288faa40a3b2227b86a401b237": {
      "model_module": "jupyter-cytoscape",
      "model_module_version": "^1.3.3",
      "model_name": "NodeModel",
      "state": {
       "_model_module_version": "^1.3.3",
       "_view_module_version": "^1.3.3",
       "data": {
        "id": "MAGT1",
        "node_name": "MAGT1",
        "type": "gene/protein"
       },
       "grabbable": true,
       "grabbed": false,
       "position": {
        "x": 431.72640039961874,
        "y": 114.15901531669104
       },
       "selectable": false
      }
     },
     "f6d047308fa44020a8a6094d61e4a6d3": {
      "model_module": "jupyter-cytoscape",
      "model_module_version": "^1.3.3",
      "model_name": "NodeModel",
      "state": {
       "_model_module_version": "^1.3.3",
       "_view_module_version": "^1.3.3",
       "data": {
        "id": "RPN2",
        "node_name": "RPN2",
        "type": "gene/protein"
       },
       "grabbable": true,
       "grabbed": false,
       "position": {
        "x": 252.66987999757538,
        "y": 120.62101084499075
       },
       "selectable": false
      }
     },
     "f6e31a51944d4119a484fb249cdaa3b2": {
      "model_module": "jupyter-cytoscape",
      "model_module_version": "^1.3.3",
      "model_name": "NodeModel",
      "state": {
       "_model_module_version": "^1.3.3",
       "_view_module_version": "^1.3.3",
       "data": {
        "id": "SARS-CoV-2",
        "node_name": "SARS-CoV-2",
        "type": "disease"
       },
       "grabbable": true,
       "grabbed": false,
       "position": {
        "x": 424.7292860149592,
        "y": 187.2873159793669
       },
       "selectable": false
      }
     },
     "f6f1eda5d89149a5a70a5b024ae679b8": {
      "model_module": "jupyter-cytoscape",
      "model_module_version": "^1.3.3",
      "model_name": "NodeModel",
      "state": {
       "_model_module_version": "^1.3.3",
       "_view_module_version": "^1.3.3",
       "data": {
        "id": "RPN1",
        "node_name": "RPN1",
        "type": "gene/protein"
       },
       "grabbable": true,
       "grabbed": false,
       "position": {
        "x": 418.3236909789902,
        "y": 237.30668732274182
       },
       "selectable": false
      }
     },
     "f6fd3e985af9494f86bba46eff251e37": {
      "model_module": "jupyter-cytoscape",
      "model_module_version": "^1.3.3",
      "model_name": "NodeModel",
      "state": {
       "_model_module_version": "^1.3.3",
       "_view_module_version": "^1.3.3",
       "data": {
        "id": "SARS-CoV-2",
        "node_name": "SARS-CoV-2",
        "type": "disease"
       },
       "grabbable": true,
       "grabbed": false,
       "position": {
        "x": 246.2120233586639,
        "y": 133.63349245380348
       },
       "selectable": false
      }
     },
     "f7ddba487b4f42de9609240cfb64e1f5": {
      "model_module": "jupyter-cytoscape",
      "model_module_version": "^1.3.3",
      "model_name": "NodeModel",
      "state": {
       "_model_module_version": "^1.3.3",
       "_view_module_version": "^1.3.3",
       "data": {
        "id": "IAV",
        "node_name": "IAV",
        "type": "disease"
       },
       "grabbable": true,
       "grabbed": false,
       "position": {
        "x": 443.5251224456878,
        "y": 140.4695270718748
       },
       "selectable": false
      }
     },
     "f8528f5ef05f4642a5afe20f11fed3a2": {
      "model_module": "jupyter-cytoscape",
      "model_module_version": "^1.3.3",
      "model_name": "NodeModel",
      "state": {
       "_model_module_version": "^1.3.3",
       "_view_module_version": "^1.3.3",
       "data": {
        "id": "IAV",
        "node_name": "IAV",
        "type": "disease"
       },
       "grabbable": true,
       "grabbed": false,
       "position": {
        "x": 413.9828409248076,
        "y": 82.81720645114684
       },
       "selectable": false
      }
     },
     "f9c7778af00940eda130ee7db36cfd98": {
      "model_module": "jupyter-cytoscape",
      "model_module_version": "^1.3.3",
      "model_name": "EdgeModel",
      "state": {
       "_model_module_version": "^1.3.3",
       "_view_module_version": "^1.3.3",
       "classes": " multiple_edges ",
       "data": {
        "display_relation": "CORUM",
        "id": "ca008b79-28a3-40fa-93a2-e8d86322c1d6",
        "source": "RPN2",
        "source_name": "RPN2",
        "target": "DDOST",
        "target_name": "DDOST"
       },
       "selectable": false
      }
     },
     "f9e239b488894f8188957bff338f32fe": {
      "model_module": "jupyter-cytoscape",
      "model_module_version": "^1.3.3",
      "model_name": "EdgeModel",
      "state": {
       "_model_module_version": "^1.3.3",
       "_view_module_version": "^1.3.3",
       "classes": " multiple_edges ",
       "data": {
        "display_relation": "KroganCovHuPPI",
        "id": "03c8609d-97cf-4187-bc3f-002183095c72",
        "source": "STT3B",
        "source_name": "STT3B",
        "target": "SARS-CoV-2",
        "target_name": "SARS-CoV-2"
       },
       "selectable": false
      }
     },
     "f9e455c4a7d74494b7afb5050412ab05": {
      "model_module": "jupyter-cytoscape",
      "model_module_version": "^1.3.3",
      "model_name": "EdgeModel",
      "state": {
       "_model_module_version": "^1.3.3",
       "_view_module_version": "^1.3.3",
       "classes": " multiple_edges ",
       "data": {
        "display_relation": "BIOGRID",
        "id": "58c3e90b-7a72-4d7d-b4f1-f7431dd6cabd",
        "source": "TMEM258",
        "source_name": "TMEM258",
        "target": "STT3B",
        "target_name": "STT3B"
       },
       "selectable": false
      }
     },
     "f9f1a23bc85341fd8406d6f71374b61d": {
      "model_module": "jupyter-cytoscape",
      "model_module_version": "^1.3.3",
      "model_name": "EdgeModel",
      "state": {
       "_model_module_version": "^1.3.3",
       "_view_module_version": "^1.3.3",
       "classes": " multiple_edges ",
       "data": {
        "display_relation": "REACTOMEFI",
        "id": "ce123433-8a35-455a-bad8-22c90d73cef3",
        "source": "DAD1",
        "source_name": "DAD1",
        "target": "STT3A",
        "target_name": "STT3A"
       },
       "selectable": false
      }
     },
     "fac1ee29a6534732a256e5495df4ae75": {
      "model_module": "jupyter-cytoscape",
      "model_module_version": "^1.3.3",
      "model_name": "EdgeModel",
      "state": {
       "_model_module_version": "^1.3.3",
       "_view_module_version": "^1.3.3",
       "classes": " multiple_edges ",
       "data": {
        "display_relation": "BIOGRID",
        "id": "146c1b36-3d74-4a8e-b7a7-8e78a4cdd0ba",
        "source": "RPN1",
        "source_name": "OST4",
        "target": "OST4",
        "target_name": "RPN1"
       },
       "selectable": false
      }
     },
     "fb4f4541e86e487cace6bd5fe81a96d5": {
      "model_module": "jupyter-cytoscape",
      "model_module_version": "^1.3.3",
      "model_name": "EdgeModel",
      "state": {
       "_model_module_version": "^1.3.3",
       "_view_module_version": "^1.3.3",
       "classes": " multiple_edges ",
       "data": {
        "display_relation": "REACTOMEFI",
        "id": "537efada-3125-4726-ac52-c18b9afbb0a7",
        "source": "DAD1",
        "source_name": "DAD1",
        "target": "DDOST",
        "target_name": "DDOST"
       },
       "selectable": false
      }
     },
     "fbaae7afc25443ccb4bd7d8d62e9ca08": {
      "model_module": "jupyter-cytoscape",
      "model_module_version": "^1.3.3",
      "model_name": "EdgeModel",
      "state": {
       "_model_module_version": "^1.3.3",
       "_view_module_version": "^1.3.3",
       "classes": " multiple_edges ",
       "data": {
        "display_relation": "KroganIAV",
        "id": "aa02e81e-acc3-4e8f-bf18-1f271bc49801",
        "source": "RPN1",
        "source_name": "IAV",
        "target": "IAV",
        "target_name": "RPN1"
       },
       "selectable": false
      }
     },
     "fbf80e90430548d2b71732f82f2e4cc8": {
      "model_module": "jupyter-cytoscape",
      "model_module_version": "^1.3.3",
      "model_name": "EdgeModel",
      "state": {
       "_model_module_version": "^1.3.3",
       "_view_module_version": "^1.3.3",
       "classes": " multiple_edges ",
       "data": {
        "display_relation": "REACTOMEFI",
        "id": "8ac4b7e8-1821-43fb-9c60-91caeaf5d586",
        "source": "STT3A",
        "source_name": "DDOST",
        "target": "DDOST",
        "target_name": "STT3A"
       },
       "selectable": false
      }
     },
     "fc83adf0fa004d40aea53ed0a0789456": {
      "model_module": "jupyter-cytoscape",
      "model_module_version": "^1.3.3",
      "model_name": "EdgeModel",
      "state": {
       "_model_module_version": "^1.3.3",
       "_view_module_version": "^1.3.3",
       "classes": " multiple_edges ",
       "data": {
        "display_relation": "BIOGRID",
        "id": "ca9fac22-0ba7-42bc-93c0-11b5d4d8d56d",
        "source": "RPN1",
        "source_name": "RPN1",
        "target": "RPN1",
        "target_name": "RPN1"
       },
       "selectable": false
      }
     },
     "fcfafaf709c448a9821d745b1cf77147": {
      "model_module": "jupyter-cytoscape",
      "model_module_version": "^1.3.3",
      "model_name": "NodeModel",
      "state": {
       "_model_module_version": "^1.3.3",
       "_view_module_version": "^1.3.3",
       "data": {
        "id": "TMEM258",
        "node_name": "TMEM258",
        "type": "gene/protein"
       },
       "grabbable": true,
       "grabbed": false,
       "position": {
        "x": 442.14671831748734,
        "y": 240.2873169793669
       },
       "selectable": false
      }
     },
     "fd19aadbac0346b5a5540077fa5982cf": {
      "model_module": "jupyter-cytoscape",
      "model_module_version": "^1.3.3",
      "model_name": "EdgeModel",
      "state": {
       "_model_module_version": "^1.3.3",
       "_view_module_version": "^1.3.3",
       "classes": " multiple_edges ",
       "data": {
        "display_relation": "crispr",
        "id": "8bd33a9e-ecc4-4788-aa23-2ace1da1b0a6",
        "source": "TMEM258",
        "source_name": "TMEM258",
        "target": "SARS-CoV-2",
        "target_name": "SARS-CoV-2"
       },
       "selectable": false
      }
     },
     "fdc21243381b40cab08b29c63be024ae": {
      "model_module": "jupyter-cytoscape",
      "model_module_version": "^1.3.3",
      "model_name": "EdgeModel",
      "state": {
       "_model_module_version": "^1.3.3",
       "_view_module_version": "^1.3.3",
       "classes": " multiple_edges ",
       "data": {
        "display_relation": "REACTOMEFI",
        "id": "4bea02c6-2697-4da2-be2b-dfd1b0cd4374",
        "source": "RPN1",
        "source_name": "RPN1",
        "target": "STT3A",
        "target_name": "STT3A"
       },
       "selectable": false
      }
     },
     "ff3a29fa4b164328aba54df3cfcacfaf": {
      "model_module": "jupyter-cytoscape",
      "model_module_version": "^1.3.3",
      "model_name": "EdgeModel",
      "state": {
       "_model_module_version": "^1.3.3",
       "_view_module_version": "^1.3.3",
       "classes": " multiple_edges ",
       "data": {
        "display_relation": "REACTOMEFI",
        "id": "7d07d82c-2846-46c7-9f6f-6c0eab5b3ed7",
        "source": "RPN2",
        "source_name": "MAGT1",
        "target": "MAGT1",
        "target_name": "RPN2"
       },
       "selectable": false
      }
     }
    },
    "version_major": 2,
    "version_minor": 0
   }
  }
 },
 "nbformat": 4,
 "nbformat_minor": 5
}
